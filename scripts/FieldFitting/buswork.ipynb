{
 "cells": [
  {
   "cell_type": "markdown",
   "metadata": {},
   "source": [
    "# Buswork Impact"
   ]
  },
  {
   "cell_type": "markdown",
   "metadata": {},
   "source": [
    "Looking at field due to pure cylindrical field and field due to buswork.  OPERA does *not* need completed circuits to produce fields.  The simulated buswork is imaged below.  Greyed out lines are not included in the simulation, they are just there to help the reader understand the implied current flow."
   ]
  },
  {
   "cell_type": "markdown",
   "metadata": {},
   "source": [
    "<img src=\"buswork.png\" align=\"left\" />"
   ]
  },
  {
   "cell_type": "code",
   "execution_count": null,
   "metadata": {},
   "outputs": [],
   "source": [
    "import os\n",
    "from mu2e import mu2e_ext_path\n",
    "from mu2e.dataframeprod import DataFrameMaker\n",
    "from mu2e.mu2eplots import mu2e_plot, mu2e_plot3d\n",
    "%matplotlib inline\n",
    "plt.rcParams['figure.figsize'] = (12,8)"
   ]
  },
  {
   "cell_type": "code",
   "execution_count": null,
   "metadata": {},
   "outputs": [],
   "source": [
    "df_cyl = DataFrameMaker(mu2e_ext_path+'datafiles/FieldMapsPure/DS_TS5_ideal_fullmap',use_pickle = True).data_frame\n",
    "df_cyl_bus = DataFrameMaker(mu2e_ext_path+'datafiles/FieldMapsPure/DS_buswork_only_fullmap',use_pickle = True).data_frame\n",
    "df_bus = DataFrameMaker(mu2e_ext_path+'datafiles/FieldMapsPure/DS_longbus_nocoils',use_pickle = True).data_frame\n",
    "df_GA05 = DataFrameMaker(mu2e_ext_path+'datafiles/FieldMapsGA05/DSMap',use_pickle = True).data_frame"
   ]
  },
  {
   "cell_type": "code",
   "execution_count": null,
   "metadata": {},
   "outputs": [],
   "source": [
    "df_combo = df_cyl.copy()\n",
    "for col in df_combo.columns:\n",
    "    if 'B' in col:\n",
    "        print col\n",
    "        df_combo[col] += df_bus[col]"
   ]
  },
  {
   "cell_type": "code",
   "execution_count": null,
   "metadata": {},
   "outputs": [],
   "source": [
    "df_bus['Xp'] = np.round(df_bus['X']*np.cos(np.pi/4)-df_bus['Y']*np.sin(np.pi/4), 6)\n",
    "df_bus['Yp'] = np.round(df_bus['X']*np.sin(np.pi/4)+df_bus['Y']*np.cos(np.pi/4), 6)\n"
   ]
  },
  {
   "cell_type": "code",
   "execution_count": null,
   "metadata": {},
   "outputs": [],
   "source": [
    "df_bus_rot = df_bus.copy()"
   ]
  },
  {
   "cell_type": "code",
   "execution_count": null,
   "metadata": {},
   "outputs": [],
   "source": [
    "df_bus_rot['X'] = df_bus_rot['Xp']\n",
    "df_bus_rot['Y'] = df_bus_rot['Yp']"
   ]
  },
  {
   "cell_type": "code",
   "execution_count": null,
   "metadata": {},
   "outputs": [],
   "source": [
    "import cPickle as pkl"
   ]
  },
  {
   "cell_type": "code",
   "execution_count": null,
   "metadata": {},
   "outputs": [],
   "source": [
    "df_bus"
   ]
  },
  {
   "cell_type": "code",
   "execution_count": null,
   "metadata": {},
   "outputs": [],
   "source": [
    "mu2e_plot3d(df_cyl, 'R', 'Z', 'Bz', '4500<Z<13000 and R<=800 and Phi=={}'.format(np.pi/4),\n",
    "            info = 'Cyl Only', df_fit=False, mode='plotly_nb', ptype='3d')"
   ]
  },
  {
   "cell_type": "code",
   "execution_count": null,
   "metadata": {},
   "outputs": [],
   "source": [
    "mu2e_plot3d(df_bus, 'Z', 'X', 'Bphi', '4500<Z<13200 and Y==200 and R<=10000',\n",
    "            info = 'Bus Only', df_fit=False, mode='plotly_nb', ptype='heat', save_name='bus_only_example1')"
   ]
  },
  {
   "cell_type": "code",
   "execution_count": null,
   "metadata": {},
   "outputs": [],
   "source": [
    "mu2e_plot3d(df_bus, 'Y', 'Z', 'Bz', '4500<Z<13500 and X==0 and R<800',\n",
    "            info = 'Bus Only', df_fit=False, mode='plotly_nb', ptype='3d', save_name='bus_only_example1')"
   ]
  },
  {
   "cell_type": "markdown",
   "metadata": {
    "collapsed": true
   },
   "source": [
    "$\\frac{1}{z}*z'' = -\\gamma^2$"
   ]
  },
  {
   "cell_type": "markdown",
   "metadata": {},
   "source": [
    "$sin(\\gamma*z)$"
   ]
  },
  {
   "cell_type": "markdown",
   "metadata": {},
   "source": [
    "$\\gamma = \\frac{\\pi*m+1}{L_{eff}}$"
   ]
  },
  {
   "cell_type": "markdown",
   "metadata": {},
   "source": [
    "$\\alpha^2 + \\beta^2 -\\gamma^2$ = 0"
   ]
  },
  {
   "cell_type": "markdown",
   "metadata": {},
   "source": [
    "$\\beta = \\frac{n}{L_{eff}}$"
   ]
  },
  {
   "cell_type": "markdown",
   "metadata": {},
   "source": [
    "$\\alpha = \\sqrt{\\gamma^2-\\beta^2}$"
   ]
  },
  {
   "cell_type": "code",
   "execution_count": null,
   "metadata": {},
   "outputs": [],
   "source": [
    "mu2e_plot3d(df_bus, 'Z', 'R', 'Bz', 'Y==0 and -800<=X<=800',\n",
    "            info = 'Bus Only', df_fit=False, mode='plotly_nb', ptype='3d')"
   ]
  },
  {
   "cell_type": "code",
   "execution_count": null,
   "metadata": {},
   "outputs": [],
   "source": [
    "mu2e_plot3d(df_bus, 'Z', 'X', 'Br', 'Y==0',\n",
    "            info = 'Bus Only', df_fit=False, mode='plotly_nb', ptype='3d')"
   ]
  },
  {
   "cell_type": "code",
   "execution_count": null,
   "metadata": {},
   "outputs": [],
   "source": [
    "mu2e_plot3d(df_bus, 'X', 'Y', 'Bphi', 'Z==6071',\n",
    "            info = 'Bus Only', df_fit=False, mode='plotly_nb', ptype='heat')"
   ]
  },
  {
   "cell_type": "code",
   "execution_count": null,
   "metadata": {},
   "outputs": [],
   "source": [
    "mu2e_plot3d(df_bus, 'X', 'Y', 'Bphi', 'Z==9071',\n",
    "            info = 'Bus Only', df_fit=False, mode='plotly_nb', ptype='heat')"
   ]
  },
  {
   "cell_type": "code",
   "execution_count": null,
   "metadata": {},
   "outputs": [],
   "source": []
  }
 ],
 "metadata": {
  "kernelspec": {
   "display_name": "Python 3",
   "language": "python",
   "name": "python3"
  },
  "language_info": {
   "codemirror_mode": {
    "name": "ipython",
    "version": 3
   },
   "file_extension": ".py",
   "mimetype": "text/x-python",
   "name": "python",
   "nbconvert_exporter": "python",
   "pygments_lexer": "ipython3",
   "version": "3.7.4"
  }
 },
 "nbformat": 4,
 "nbformat_minor": 1
}
