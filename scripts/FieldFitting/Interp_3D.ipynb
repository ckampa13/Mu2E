{
 "cells": [
  {
   "cell_type": "markdown",
   "metadata": {},
   "source": [
    "# 3D Interpolation with Scipy"
   ]
  },
  {
   "cell_type": "markdown",
   "metadata": {},
   "source": [
    "The hall probe measurement simulation software is hamstrung by the sparseness of the available field grid data.  The Mau10 and GA05 field grids are given in Cartesian coordinates, with 25 mm spacing on the X, Y, and Z axes.  The hall probe measurement device will work most naturally in cylindrical coordinates.  In order to sample regular cylindrically symmetric data from the field grids, one must either cherry pick values that coincide with the 25x25x25 mm spacing, or generate data through interpolation.\n",
    "\n",
    "The current interpolation method employed in the Mu2E organization for doing this is a linear 3D method.  This leads to can lead to fairly large errors in regions of large magnetic gradient, which would be unsuitable for further analysis.  We will attempt to use a more robust interpolate method and compare those results with random field data (provided in a separate file for validation purposes)."
   ]
  },
  {
   "cell_type": "code",
   "execution_count": 1,
   "metadata": {},
   "outputs": [],
   "source": [
    "from mu2e.dataframeprod import DataFrameMaker\n",
    "from mu2e import mu2e_ext_path\n",
    "import numpy as np\n",
    "from scipy.interpolate import Rbf\n",
    "from IPython.display import HTML\n",
    "import tqdm"
   ]
  },
  {
   "cell_type": "code",
   "execution_count": 2,
   "metadata": {},
   "outputs": [],
   "source": [
    "#df = DataFrameMaker(mu2e_ext_path+'datafiles/Mau10/Standard_Maps/Mu2e_DSMap',use_pickle = True).data_frame\n",
    "df = DataFrameMaker(mu2e_ext_path+'datafiles/Mau13/Mu2e_DSMap_V13',input_type = 'pkl').data_frame"
   ]
  },
  {
   "cell_type": "code",
   "execution_count": null,
   "metadata": {},
   "outputs": [],
   "source": [
    "df_rand = DataFrameMaker(mu2e_ext_path+'datafiles/Mau10/Standard_Maps/Mu2e_DSMap_rand1mil',use_pickle = True).data_frame"
   ]
  },
  {
   "cell_type": "code",
   "execution_count": null,
   "metadata": {},
   "outputs": [],
   "source": [
    "df_rand_subset = df_rand.query('-800<=X<=-700 and -10<=Y<=10 and 5000<=Z<=6000')\n",
    "#df_rand_subset = df_rand.query('-10<=X<=10 and -10<=Y<=10 and 8200<=Z<=11000')"
   ]
  },
  {
   "cell_type": "markdown",
   "metadata": {},
   "source": [
    "We have our dataframes queued up.  We will attempt to interpolate a regular grid from `df`, and test values from `df_rand` to determine our accuracy.  Let's try to use scipy.interpolate.Rbf in a simple case, first:"
   ]
  },
  {
   "cell_type": "code",
   "execution_count": null,
   "metadata": {},
   "outputs": [],
   "source": [
    "def cylindrical_norm(x1,x2):\n",
    "    return np.sqrt(\n",
    "        (x1[0,:]*np.cos(x1[1,:])-x2[0,:]*np.cos(x2[1,:]))**2 +\n",
    "        (x1[0,:]*np.sin(x1[1,:])-x2[0,:]*np.sin(x2[1,:]))**2 +\n",
    "        (x1[2,:]-x2[2,:])**2)"
   ]
  },
  {
   "cell_type": "code",
   "execution_count": null,
   "metadata": {},
   "outputs": [],
   "source": [
    "%run interp_studies.py\n",
    "header = 'Cubic&emsp;&emsp;&emsp;Lin&emsp;&emsp;&emsp;RBF'\n",
    "spaces = '&emsp;&emsp;&emsp;&emsp;&emsp;&emsp;&emsp;&emsp;&emsp;&emsp;'\n",
    "out='<p>'+header+spaces+header+spaces+header+'</p>'\n",
    "buffer = 100\n",
    "counter = 0\n",
    "print '\\tBx\\t\\t\\tBy\\t\\t\\tBz'\n",
    "samples = 100\n",
    "wins_bx = [0,0,0]\n",
    "wins_by = [0,0,0]\n",
    "wins_bz = [0,0,0]\n",
    "for i in tqdm.tqdm_notebook(xrange(samples)):\n",
    "#for i in xrange(13,14):\n",
    "    my_rand = df_rand_subset.sample(1,random_state=i+10)\n",
    "    df_subset = df.query('{0}<=X<={1} and {2}<=Y<={3} and {4}<=Z<={5}'.format(\n",
    "        my_rand.X.values-buffer, my_rand.X.values+buffer, my_rand.Y.values-buffer, my_rand.Y.values+buffer, my_rand.Z.values-buffer, my_rand.Z.values+buffer))\n",
    "    x = df_subset.X\n",
    "    y = df_subset.Y\n",
    "    z = df_subset.Z\n",
    "    r = df_subset.R\n",
    "    phi = df_subset.Phi\n",
    "    bz = df_subset.Bz\n",
    "    bx = df_subset.Bx\n",
    "    by = df_subset.By\n",
    "    b_out_true = []\n",
    "    b_out_true.append(my_rand.Bx.values)\n",
    "    b_out_true.append(my_rand.By.values)\n",
    "    b_out_true.append(my_rand.Bz.values)\n",
    "    \n",
    "    b_out_rbf = []\n",
    "    rbf_bx = Rbf(x, y, z, bx, function='linear', )#epsilon=9)\n",
    "    rbf_by = Rbf(x, y, z, by, function='linear', )#epsilon=9)\n",
    "    rbf_bz = Rbf(x, y, z, bz, function='linear', )#epsilon=9)\n",
    "    b_out_rbf.append(rbf_bx(my_rand.X, my_rand.Y, my_rand.Z))\n",
    "    b_out_rbf.append(rbf_by(my_rand.X, my_rand.Y, my_rand.Z))\n",
    "    b_out_rbf.append(rbf_bz(my_rand.X, my_rand.Y, my_rand.Z))\n",
    "    \n",
    "    res_rbf = []\n",
    "    res_rbf.append(abs(b_out_rbf[0]-b_out_true[0])[0])\n",
    "    res_rbf.append(abs(b_out_rbf[1]-b_out_true[1])[0])\n",
    "    res_rbf.append(abs(b_out_rbf[2]-b_out_true[2])[0])\n",
    "    \n",
    "    _, b_out_lin = interp_phi(df_subset, my_rand.X.values, my_rand.Y.values, my_rand.Z.values, plot=False)\n",
    "    res_lin = []\n",
    "    res_lin.append(abs(b_out_lin[0]-b_out_true[0])[0])\n",
    "    res_lin.append(abs(b_out_lin[1]-b_out_true[1])[0])\n",
    "    res_lin.append(abs(b_out_lin[2]-b_out_true[2])[0])\n",
    "    \n",
    "    _, b_out_quad = interp_phi_cubic(df_subset, my_rand.X.values, my_rand.Y.values, my_rand.Z.values, plot=False, mode='brian')\n",
    "    res_quad = []\n",
    "    res_quad.append(abs(b_out_quad[0]-b_out_true[0])[0])\n",
    "    res_quad.append(abs(b_out_quad[1]-b_out_true[1])[0])\n",
    "    res_quad.append(abs(b_out_quad[2]-b_out_true[2])[0])\n",
    "    \n",
    "    \n",
    "    #if (res_x>1e-4) or (res_y>1e-4) or (res_z>1e-4):\n",
    "    if (res_quad[0]>1e-4 or res_quad[1]>1e-4 or res_quad[2]>1e-4):\n",
    "    #    print 'bad interp:'\n",
    "    #    print '\\ttrue:'\n",
    "    #    print '\\t\\t{0:.4e} {1:.4e} {2:.4e}'.format(my_rand.Bx.values[0], my_rand.By.values[0], my_rand.Bz.values[0])\n",
    "    #    print '\\tLaceyQuad:'\n",
    "    #    print '\\t\\t{0:.4e} {1:.4e} {2:.4e}'.format(b_out[0][0], b_out[1][0], b_out[2][0])\n",
    "    #    print '\\t\\t{0:.4e} {1:.4e} {2:.4e}'.format(res_lx[0], res_ly[0], res_lz[0])\n",
    "    #    print '\\tLacey:'\n",
    "    #    print '\\t\\t{0:.4e} {1:.4e} {2:.4e}'.format(b_outl[0][0], b_outl[1][0], b_outl[2][0])\n",
    "    #    print '\\t\\t{0:.4e} {1:.4e} {2:.4e}'.format(res_x[0], res_y[0], res_z[0])\n",
    "    #    print\n",
    "\n",
    "        counter +=1\n",
    "\n",
    "    if min(res_quad[0], res_lin[0], res_rbf[0]) == res_quad[0]:\n",
    "        px = '<b>{0:.2e}</b>'.format(res_quad[0]) + ' {0:.2e}'.format(res_lin[0]) + ' {0:.2e}'.format(res_rbf[0])\n",
    "        wins_bx[0]+=1\n",
    "    elif min(res_quad[0], res_lin[0], res_rbf[0]) == res_lin[0]:\n",
    "        px = '{0:.2e}'.format(res_quad[0]) + ' <b>{0:.2e}</b>'.format(res_lin[0]) + ' {0:.2e}'.format(res_rbf[0])\n",
    "        wins_bx[1]+=1\n",
    "    else:\n",
    "        px = '{0:.2e}'.format(res_quad[0]) + ' {0:.2e}'.format(res_lin[0]) + ' <b>{0:.2e}</b>'.format(res_rbf[0])\n",
    "        wins_bx[2]+=1\n",
    "        \n",
    "    if min(res_quad[1], res_lin[1], res_rbf[1]) == res_quad[1]:\n",
    "        py = '<b>{0:.2e}</b>'.format(res_quad[1]) + ' {0:.2e}'.format(res_lin[1]) + ' {0:.2e}'.format(res_rbf[1])\n",
    "        wins_by[0]+=1\n",
    "    elif min(res_quad[1], res_lin[1], res_rbf[1]) == res_lin[1]:\n",
    "        py = '{0:.2e}'.format(res_quad[1]) + ' <b>{0:.2e}</b>'.format(res_lin[1]) + ' {0:.2e}'.format(res_rbf[1])\n",
    "        wins_by[1]+=1\n",
    "    else:\n",
    "        py = '{0:.2e}'.format(res_quad[1]) + ' {0:.2e}'.format(res_lin[1]) + ' <b>{0:.2e}</b>'.format(res_rbf[1])\n",
    "        wins_by[2]+=1\n",
    "        \n",
    "    if min(res_quad[2], res_lin[2], res_rbf[2]) == res_quad[2]:\n",
    "        pz = '<b>{0:.2e}</b>'.format(res_quad[2]) + ' {0:.2e}'.format(res_lin[2]) + ' {0:.2e}'.format(res_rbf[2])\n",
    "        wins_bz[0]+=1\n",
    "    elif min(res_quad[2], res_lin[2], res_rbf[2]) == res_lin[2]:\n",
    "        pz = '{0:.2e}'.format(res_quad[2]) + ' <b>{0:.2e}</b>'.format(res_lin[2]) + ' {0:.2e}'.format(res_rbf[2])\n",
    "        wins_bz[1]+=1\n",
    "    else:\n",
    "        pz = '{0:.2e}'.format(res_quad[2]) + ' {0:.2e}'.format(res_lin[2]) + ' <b>{0:.2e}</b>'.format(res_rbf[2])\n",
    "        wins_bz[2]+=1\n",
    "        \n",
    "    out += '<p>'+px+'&emsp;&emsp;&emsp;&emsp;&emsp;&emsp;&emsp;&emsp;'+py+'&emsp;&emsp;&emsp;&emsp;&emsp;&emsp;&emsp;&emsp;'+pz+'</p>'\n",
    "wins_bx = [float(i)/samples for i in wins_bx]\n",
    "wins_by = [float(i)/samples for i in wins_by]\n",
    "wins_bz = [float(i)/samples for i in wins_bz]\n",
    "out += '<p></p>'\n",
    "out += '<p>{0:.2f}&emsp;{1:.2f}&emsp;{2:.2f}'.format(*wins_bx)\n",
    "out += spaces+'&emsp;&emsp;&emsp;&emsp;'\n",
    "out += '{0:.2f}&emsp;{1:.2f}&emsp;{2:.2f}'.format(*wins_by)\n",
    "out += spaces+'&emsp;&emsp;&emsp;&emsp;'\n",
    "out += '{0:.2f}&emsp;{1:.2f}&emsp;{2:.2f}</p>'.format(*wins_bz)\n",
    "\n",
    "print 'bads:', counter\n",
    "HTML(out)"
   ]
  },
  {
   "cell_type": "code",
   "execution_count": null,
   "metadata": {},
   "outputs": [],
   "source": [
    "print np.asarray(res_lin)-np.asarray(res_quin)"
   ]
  },
  {
   "cell_type": "code",
   "execution_count": null,
   "metadata": {},
   "outputs": [],
   "source": [
    "rbf_br = Rbf(r, phi, z, br,function='gaussian', norm=cylindrical_norm)\n",
    "i_br = rbf_br(df_rand_subset.R, df_rand_subset.Phi, df_rand_subset.Z)\n",
    "t_br = df_rand_subset.Br\n",
    "res =abs(i_br-t_br)\n",
    "max(res)"
   ]
  },
  {
   "cell_type": "code",
   "execution_count": null,
   "metadata": {},
   "outputs": [],
   "source": [
    "rbf_bphi = Rbf(r, phi, z, bphi,function='quintic', norm=cylindrical_norm)\n",
    "i_bphi = rbf_bphi(df_rand_subset.R, df_rand_subset.Phi, df_rand_subset.Z)\n",
    "t_bphi = df_rand_subset.Bphi\n",
    "res =abs(i_bphi-t_bphi)\n",
    "max(res)"
   ]
  },
  {
   "cell_type": "code",
   "execution_count": null,
   "metadata": {},
   "outputs": [],
   "source": [
    "px"
   ]
  },
  {
   "cell_type": "code",
   "execution_count": null,
   "metadata": {},
   "outputs": [],
   "source": [
    "%run interp_studies.py\n",
    "#df_trimmed = interp_phi(df,25,25,9721)\n",
    "#df_trimmed = interp_phi(df, -59.6429, 46.756758, 10297.7840, df_alt=df_rand_subset)\n",
    "# df_trimmed, b_out = interp_phi(df, 50, 76, 10121)\n",
    "df_trimmed, bs = interp_phi_cubic(df,12.5,12.5,9721-12.5, True, shift = -1)"
   ]
  },
  {
   "cell_type": "code",
   "execution_count": null,
   "metadata": {},
   "outputs": [],
   "source": [
    "df_trimmed"
   ]
  },
  {
   "cell_type": "code",
   "execution_count": null,
   "metadata": {},
   "outputs": [],
   "source": []
  }
 ],
 "metadata": {
  "kernelspec": {
   "display_name": "Python [conda env:Mu2E]",
   "language": "python",
   "name": "conda-env-Mu2E-py"
  },
  "language_info": {
   "codemirror_mode": {
    "name": "ipython",
    "version": 3
   },
   "file_extension": ".py",
   "mimetype": "text/x-python",
   "name": "python",
   "nbconvert_exporter": "python",
   "pygments_lexer": "ipython3",
   "version": "3.7.3"
  }
 },
 "nbformat": 4,
 "nbformat_minor": 1
}
