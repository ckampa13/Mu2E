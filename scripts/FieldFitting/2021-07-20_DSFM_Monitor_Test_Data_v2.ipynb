{
 "cells": [
  {
   "cell_type": "code",
   "execution_count": 158,
   "metadata": {},
   "outputs": [],
   "source": [
    "import numpy as np\n",
    "import pandas as pd\n",
    "from datetime import datetime\n",
    "from datetime import timedelta\n",
    "from dateutil import parser\n",
    "from scipy.interpolate import NearestNDInterpolator\n",
    "import matplotlib.pyplot as plt\n",
    "%matplotlib inline"
   ]
  },
  {
   "cell_type": "code",
   "execution_count": 98,
   "metadata": {},
   "outputs": [],
   "source": [
    "from mu2e.dataframeprod import DataFrameMaker\n",
    "from mu2e.hallprober import HallProbeGenerator\n",
    "from hallprobesim_redux import *"
   ]
  },
  {
   "cell_type": "code",
   "execution_count": 3,
   "metadata": {},
   "outputs": [],
   "source": [
    "#cfg_pickle_ = cfg_pickle(use_pickle=False, save_pickle=True, load_name='test', save_name='test', recreate=True)"
   ]
  },
  {
   "cell_type": "code",
   "execution_count": 4,
   "metadata": {},
   "outputs": [],
   "source": [
    "# hmd, ff = field_map_analysis('fma_mau13', cfg_data_DS_Mau13,\n",
    "#                              cfg_geom_cyl_800mm_long, cfg_params_DS_Mau13,\n",
    "#                              cfg_pickle_, cfg_plot_mpl)"
   ]
  },
  {
   "cell_type": "code",
   "execution_count": 5,
   "metadata": {},
   "outputs": [],
   "source": [
    "input_data = DataFrameMaker(cfg_data_DS_Mau13.path, input_type='pkl').data_frame"
   ]
  },
  {
   "cell_type": "code",
   "execution_count": 6,
   "metadata": {},
   "outputs": [
    {
     "data": {
      "text/html": [
       "<div>\n",
       "<style scoped>\n",
       "    .dataframe tbody tr th:only-of-type {\n",
       "        vertical-align: middle;\n",
       "    }\n",
       "\n",
       "    .dataframe tbody tr th {\n",
       "        vertical-align: top;\n",
       "    }\n",
       "\n",
       "    .dataframe thead th {\n",
       "        text-align: right;\n",
       "    }\n",
       "</style>\n",
       "<table border=\"1\" class=\"dataframe\">\n",
       "  <thead>\n",
       "    <tr style=\"text-align: right;\">\n",
       "      <th></th>\n",
       "      <th>X</th>\n",
       "      <th>Y</th>\n",
       "      <th>Z</th>\n",
       "      <th>Bx</th>\n",
       "      <th>By</th>\n",
       "      <th>Bz</th>\n",
       "      <th>R</th>\n",
       "      <th>Phi</th>\n",
       "      <th>Bphi</th>\n",
       "      <th>Br</th>\n",
       "    </tr>\n",
       "  </thead>\n",
       "  <tbody>\n",
       "    <tr>\n",
       "      <th>0</th>\n",
       "      <td>-1.2</td>\n",
       "      <td>-1.2</td>\n",
       "      <td>3.071</td>\n",
       "      <td>1284.125788</td>\n",
       "      <td>1307.100001</td>\n",
       "      <td>442.195248</td>\n",
       "      <td>1.697056</td>\n",
       "      <td>-2.356194</td>\n",
       "      <td>-16.245222</td>\n",
       "      <td>-1832.273327</td>\n",
       "    </tr>\n",
       "    <tr>\n",
       "      <th>1</th>\n",
       "      <td>-1.2</td>\n",
       "      <td>-1.2</td>\n",
       "      <td>3.096</td>\n",
       "      <td>1312.127380</td>\n",
       "      <td>1335.143291</td>\n",
       "      <td>410.874370</td>\n",
       "      <td>1.697056</td>\n",
       "      <td>-2.356194</td>\n",
       "      <td>-16.274707</td>\n",
       "      <td>-1871.903043</td>\n",
       "    </tr>\n",
       "    <tr>\n",
       "      <th>2</th>\n",
       "      <td>-1.2</td>\n",
       "      <td>-1.2</td>\n",
       "      <td>3.121</td>\n",
       "      <td>1339.646202</td>\n",
       "      <td>1362.701661</td>\n",
       "      <td>376.958648</td>\n",
       "      <td>1.697056</td>\n",
       "      <td>-2.356194</td>\n",
       "      <td>-16.302671</td>\n",
       "      <td>-1910.848499</td>\n",
       "    </tr>\n",
       "    <tr>\n",
       "      <th>3</th>\n",
       "      <td>-1.2</td>\n",
       "      <td>-1.2</td>\n",
       "      <td>3.146</td>\n",
       "      <td>1366.531533</td>\n",
       "      <td>1389.624290</td>\n",
       "      <td>340.379319</td>\n",
       "      <td>1.697056</td>\n",
       "      <td>-2.356194</td>\n",
       "      <td>-16.329045</td>\n",
       "      <td>-1948.896473</td>\n",
       "    </tr>\n",
       "    <tr>\n",
       "      <th>4</th>\n",
       "      <td>-1.2</td>\n",
       "      <td>-1.2</td>\n",
       "      <td>3.171</td>\n",
       "      <td>1392.610688</td>\n",
       "      <td>1415.737061</td>\n",
       "      <td>301.071838</td>\n",
       "      <td>1.697056</td>\n",
       "      <td>-2.356194</td>\n",
       "      <td>-16.352815</td>\n",
       "      <td>-1985.801737</td>\n",
       "    </tr>\n",
       "    <tr>\n",
       "      <th>...</th>\n",
       "      <td>...</td>\n",
       "      <td>...</td>\n",
       "      <td>...</td>\n",
       "      <td>...</td>\n",
       "      <td>...</td>\n",
       "      <td>...</td>\n",
       "      <td>...</td>\n",
       "      <td>...</td>\n",
       "      <td>...</td>\n",
       "      <td>...</td>\n",
       "    </tr>\n",
       "    <tr>\n",
       "      <th>4902084</th>\n",
       "      <td>1.2</td>\n",
       "      <td>1.2</td>\n",
       "      <td>15.971</td>\n",
       "      <td>205.452081</td>\n",
       "      <td>204.896327</td>\n",
       "      <td>362.118995</td>\n",
       "      <td>1.697056</td>\n",
       "      <td>0.785398</td>\n",
       "      <td>-0.392978</td>\n",
       "      <td>290.160142</td>\n",
       "    </tr>\n",
       "    <tr>\n",
       "      <th>4902085</th>\n",
       "      <td>1.2</td>\n",
       "      <td>1.2</td>\n",
       "      <td>15.996</td>\n",
       "      <td>200.959435</td>\n",
       "      <td>200.443981</td>\n",
       "      <td>358.156213</td>\n",
       "      <td>1.697056</td>\n",
       "      <td>0.785398</td>\n",
       "      <td>-0.364481</td>\n",
       "      <td>283.835077</td>\n",
       "    </tr>\n",
       "    <tr>\n",
       "      <th>4902086</th>\n",
       "      <td>1.2</td>\n",
       "      <td>1.2</td>\n",
       "      <td>16.021</td>\n",
       "      <td>196.581608</td>\n",
       "      <td>196.105341</td>\n",
       "      <td>354.221831</td>\n",
       "      <td>1.697056</td>\n",
       "      <td>0.785398</td>\n",
       "      <td>-0.336772</td>\n",
       "      <td>277.671604</td>\n",
       "    </tr>\n",
       "    <tr>\n",
       "      <th>4902087</th>\n",
       "      <td>1.2</td>\n",
       "      <td>1.2</td>\n",
       "      <td>16.046</td>\n",
       "      <td>192.315417</td>\n",
       "      <td>191.877252</td>\n",
       "      <td>350.317143</td>\n",
       "      <td>1.697056</td>\n",
       "      <td>0.785398</td>\n",
       "      <td>-0.309830</td>\n",
       "      <td>271.665242</td>\n",
       "    </tr>\n",
       "    <tr>\n",
       "      <th>4902088</th>\n",
       "      <td>1.2</td>\n",
       "      <td>1.2</td>\n",
       "      <td>16.071</td>\n",
       "      <td>188.157767</td>\n",
       "      <td>187.756646</td>\n",
       "      <td>346.443323</td>\n",
       "      <td>1.697056</td>\n",
       "      <td>0.785398</td>\n",
       "      <td>-0.283635</td>\n",
       "      <td>265.811630</td>\n",
       "    </tr>\n",
       "  </tbody>\n",
       "</table>\n",
       "<p>4902089 rows × 10 columns</p>\n",
       "</div>"
      ],
      "text/plain": [
       "           X    Y       Z           Bx           By          Bz         R  \\\n",
       "0       -1.2 -1.2   3.071  1284.125788  1307.100001  442.195248  1.697056   \n",
       "1       -1.2 -1.2   3.096  1312.127380  1335.143291  410.874370  1.697056   \n",
       "2       -1.2 -1.2   3.121  1339.646202  1362.701661  376.958648  1.697056   \n",
       "3       -1.2 -1.2   3.146  1366.531533  1389.624290  340.379319  1.697056   \n",
       "4       -1.2 -1.2   3.171  1392.610688  1415.737061  301.071838  1.697056   \n",
       "...      ...  ...     ...          ...          ...         ...       ...   \n",
       "4902084  1.2  1.2  15.971   205.452081   204.896327  362.118995  1.697056   \n",
       "4902085  1.2  1.2  15.996   200.959435   200.443981  358.156213  1.697056   \n",
       "4902086  1.2  1.2  16.021   196.581608   196.105341  354.221831  1.697056   \n",
       "4902087  1.2  1.2  16.046   192.315417   191.877252  350.317143  1.697056   \n",
       "4902088  1.2  1.2  16.071   188.157767   187.756646  346.443323  1.697056   \n",
       "\n",
       "              Phi       Bphi           Br  \n",
       "0       -2.356194 -16.245222 -1832.273327  \n",
       "1       -2.356194 -16.274707 -1871.903043  \n",
       "2       -2.356194 -16.302671 -1910.848499  \n",
       "3       -2.356194 -16.329045 -1948.896473  \n",
       "4       -2.356194 -16.352815 -1985.801737  \n",
       "...           ...        ...          ...  \n",
       "4902084  0.785398  -0.392978   290.160142  \n",
       "4902085  0.785398  -0.364481   283.835077  \n",
       "4902086  0.785398  -0.336772   277.671604  \n",
       "4902087  0.785398  -0.309830   271.665242  \n",
       "4902088  0.785398  -0.283635   265.811630  \n",
       "\n",
       "[4902089 rows x 10 columns]"
      ]
     },
     "execution_count": 6,
     "metadata": {},
     "output_type": "execute_result"
    }
   ],
   "source": [
    "input_data"
   ]
  },
  {
   "cell_type": "code",
   "execution_count": 7,
   "metadata": {},
   "outputs": [
    {
     "data": {
      "text/html": [
       "<div>\n",
       "<style scoped>\n",
       "    .dataframe tbody tr th:only-of-type {\n",
       "        vertical-align: middle;\n",
       "    }\n",
       "\n",
       "    .dataframe tbody tr th {\n",
       "        vertical-align: top;\n",
       "    }\n",
       "\n",
       "    .dataframe thead th {\n",
       "        text-align: right;\n",
       "    }\n",
       "</style>\n",
       "<table border=\"1\" class=\"dataframe\">\n",
       "  <thead>\n",
       "    <tr style=\"text-align: right;\">\n",
       "      <th></th>\n",
       "      <th>X</th>\n",
       "      <th>Y</th>\n",
       "      <th>Z</th>\n",
       "      <th>Bx</th>\n",
       "      <th>By</th>\n",
       "      <th>Bz</th>\n",
       "      <th>R</th>\n",
       "      <th>Phi</th>\n",
       "      <th>Bphi</th>\n",
       "      <th>Br</th>\n",
       "    </tr>\n",
       "  </thead>\n",
       "  <tbody>\n",
       "    <tr>\n",
       "      <th>46</th>\n",
       "      <td>-1.2</td>\n",
       "      <td>-1.2</td>\n",
       "      <td>4.221</td>\n",
       "      <td>528.212859</td>\n",
       "      <td>545.865849</td>\n",
       "      <td>-1585.275548</td>\n",
       "      <td>1.697056</td>\n",
       "      <td>-2.356194</td>\n",
       "      <td>-12.482549</td>\n",
       "      <td>-759.488338</td>\n",
       "    </tr>\n",
       "    <tr>\n",
       "      <th>47</th>\n",
       "      <td>-1.2</td>\n",
       "      <td>-1.2</td>\n",
       "      <td>4.246</td>\n",
       "      <td>482.126053</td>\n",
       "      <td>499.539953</td>\n",
       "      <td>-1583.498973</td>\n",
       "      <td>1.697056</td>\n",
       "      <td>-2.356194</td>\n",
       "      <td>-12.313487</td>\n",
       "      <td>-694.142690</td>\n",
       "    </tr>\n",
       "    <tr>\n",
       "      <th>48</th>\n",
       "      <td>-1.2</td>\n",
       "      <td>-1.2</td>\n",
       "      <td>4.271</td>\n",
       "      <td>436.646625</td>\n",
       "      <td>453.822926</td>\n",
       "      <td>-1579.259121</td>\n",
       "      <td>1.697056</td>\n",
       "      <td>-2.356194</td>\n",
       "      <td>-12.145479</td>\n",
       "      <td>-629.657058</td>\n",
       "    </tr>\n",
       "    <tr>\n",
       "      <th>49</th>\n",
       "      <td>-1.2</td>\n",
       "      <td>-1.2</td>\n",
       "      <td>4.296</td>\n",
       "      <td>391.862394</td>\n",
       "      <td>408.802920</td>\n",
       "      <td>-1572.615491</td>\n",
       "      <td>1.697056</td>\n",
       "      <td>-2.356194</td>\n",
       "      <td>-11.978761</td>\n",
       "      <td>-566.155873</td>\n",
       "    </tr>\n",
       "    <tr>\n",
       "      <th>50</th>\n",
       "      <td>-1.2</td>\n",
       "      <td>-1.2</td>\n",
       "      <td>4.321</td>\n",
       "      <td>347.861152</td>\n",
       "      <td>364.568076</td>\n",
       "      <td>-1563.628461</td>\n",
       "      <td>1.697056</td>\n",
       "      <td>-2.356194</td>\n",
       "      <td>-11.813580</td>\n",
       "      <td>-503.763538</td>\n",
       "    </tr>\n",
       "    <tr>\n",
       "      <th>...</th>\n",
       "      <td>...</td>\n",
       "      <td>...</td>\n",
       "      <td>...</td>\n",
       "      <td>...</td>\n",
       "      <td>...</td>\n",
       "      <td>...</td>\n",
       "      <td>...</td>\n",
       "      <td>...</td>\n",
       "      <td>...</td>\n",
       "      <td>...</td>\n",
       "    </tr>\n",
       "    <tr>\n",
       "      <th>4901997</th>\n",
       "      <td>1.2</td>\n",
       "      <td>1.2</td>\n",
       "      <td>13.796</td>\n",
       "      <td>953.470367</td>\n",
       "      <td>947.401121</td>\n",
       "      <td>-517.307363</td>\n",
       "      <td>1.697056</td>\n",
       "      <td>0.785398</td>\n",
       "      <td>-4.291605</td>\n",
       "      <td>1344.119119</td>\n",
       "    </tr>\n",
       "    <tr>\n",
       "      <th>4901998</th>\n",
       "      <td>1.2</td>\n",
       "      <td>1.2</td>\n",
       "      <td>13.821</td>\n",
       "      <td>974.554053</td>\n",
       "      <td>968.189607</td>\n",
       "      <td>-478.885092</td>\n",
       "      <td>1.697056</td>\n",
       "      <td>0.785398</td>\n",
       "      <td>-4.500343</td>\n",
       "      <td>1373.727216</td>\n",
       "    </tr>\n",
       "    <tr>\n",
       "      <th>4901999</th>\n",
       "      <td>1.2</td>\n",
       "      <td>1.2</td>\n",
       "      <td>13.846</td>\n",
       "      <td>993.283142</td>\n",
       "      <td>986.649735</td>\n",
       "      <td>-438.672061</td>\n",
       "      <td>1.697056</td>\n",
       "      <td>0.785398</td>\n",
       "      <td>-4.690527</td>\n",
       "      <td>1400.023964</td>\n",
       "    </tr>\n",
       "    <tr>\n",
       "      <th>4902000</th>\n",
       "      <td>1.2</td>\n",
       "      <td>1.2</td>\n",
       "      <td>13.871</td>\n",
       "      <td>1009.552209</td>\n",
       "      <td>1002.677299</td>\n",
       "      <td>-397.023423</td>\n",
       "      <td>1.697056</td>\n",
       "      <td>0.785398</td>\n",
       "      <td>-4.861296</td>\n",
       "      <td>1422.861130</td>\n",
       "    </tr>\n",
       "    <tr>\n",
       "      <th>4902001</th>\n",
       "      <td>1.2</td>\n",
       "      <td>1.2</td>\n",
       "      <td>13.896</td>\n",
       "      <td>1023.294869</td>\n",
       "      <td>1016.206695</td>\n",
       "      <td>-354.301819</td>\n",
       "      <td>1.697056</td>\n",
       "      <td>0.785398</td>\n",
       "      <td>-5.012095</td>\n",
       "      <td>1442.145386</td>\n",
       "    </tr>\n",
       "  </tbody>\n",
       "</table>\n",
       "<p>3650304 rows × 10 columns</p>\n",
       "</div>"
      ],
      "text/plain": [
       "           X    Y       Z           Bx           By           Bz         R  \\\n",
       "46      -1.2 -1.2   4.221   528.212859   545.865849 -1585.275548  1.697056   \n",
       "47      -1.2 -1.2   4.246   482.126053   499.539953 -1583.498973  1.697056   \n",
       "48      -1.2 -1.2   4.271   436.646625   453.822926 -1579.259121  1.697056   \n",
       "49      -1.2 -1.2   4.296   391.862394   408.802920 -1572.615491  1.697056   \n",
       "50      -1.2 -1.2   4.321   347.861152   364.568076 -1563.628461  1.697056   \n",
       "...      ...  ...     ...          ...          ...          ...       ...   \n",
       "4901997  1.2  1.2  13.796   953.470367   947.401121  -517.307363  1.697056   \n",
       "4901998  1.2  1.2  13.821   974.554053   968.189607  -478.885092  1.697056   \n",
       "4901999  1.2  1.2  13.846   993.283142   986.649735  -438.672061  1.697056   \n",
       "4902000  1.2  1.2  13.871  1009.552209  1002.677299  -397.023423  1.697056   \n",
       "4902001  1.2  1.2  13.896  1023.294869  1016.206695  -354.301819  1.697056   \n",
       "\n",
       "              Phi       Bphi           Br  \n",
       "46      -2.356194 -12.482549  -759.488338  \n",
       "47      -2.356194 -12.313487  -694.142690  \n",
       "48      -2.356194 -12.145479  -629.657058  \n",
       "49      -2.356194 -11.978761  -566.155873  \n",
       "50      -2.356194 -11.813580  -503.763538  \n",
       "...           ...        ...          ...  \n",
       "4901997  0.785398  -4.291605  1344.119119  \n",
       "4901998  0.785398  -4.500343  1373.727216  \n",
       "4901999  0.785398  -4.690527  1400.023964  \n",
       "4902000  0.785398  -4.861296  1422.861130  \n",
       "4902001  0.785398  -5.012095  1442.145386  \n",
       "\n",
       "[3650304 rows x 10 columns]"
      ]
     },
     "execution_count": 7,
     "metadata": {},
     "output_type": "execute_result"
    }
   ],
   "source": [
    "input_data.query(' and '.join(cfg_data_DS_Mau13.conditions))"
   ]
  },
  {
   "cell_type": "code",
   "execution_count": 8,
   "metadata": {
    "scrolled": true
   },
   "outputs": [
    {
     "data": {
      "text/plain": [
       "cfg_data(datatype='Mau13', magnet='DS', path='/home/ckampa/data/Bmaps/Mu2e_DSMap_V13', conditions=('Z>4.200', 'Z<13.900', 'R!=0'))"
      ]
     },
     "execution_count": 8,
     "metadata": {},
     "output_type": "execute_result"
    }
   ],
   "source": [
    "cfg_data_DS_Mau13"
   ]
  },
  {
   "cell_type": "code",
   "execution_count": 9,
   "metadata": {},
   "outputs": [],
   "source": [
    "hpg = HallProbeGenerator(input_data, z_steps=cfg_geom_cyl_800mm_long.z_steps,\n",
    "                        r_steps=cfg_geom_cyl_800mm_long.r_steps, phi_steps=cfg_geom_cyl_800mm_long.phi_steps,\n",
    "                        x_steps=cfg_geom_cyl_800mm_long.x_steps, y_steps=cfg_geom_cyl_800mm_long.y_steps,\n",
    "                        interpolate=cfg_geom_cyl_800mm_long.interpolate, do2pi=cfg_geom_cyl_800mm_long.do2pi)"
   ]
  },
  {
   "cell_type": "code",
   "execution_count": 10,
   "metadata": {},
   "outputs": [
    {
     "data": {
      "text/plain": [
       "array([0.025     , 0.03535534, 0.0559017 , 0.1677051 , 0.175     ,\n",
       "       0.1767767 , 0.3354102 , 0.35355339, 0.375     , 0.525     ,\n",
       "       0.53033009, 0.55901699, 0.78262379, 0.8       , 0.8131728 ])"
      ]
     },
     "execution_count": 10,
     "metadata": {},
     "output_type": "execute_result"
    }
   ],
   "source": [
    "np.unique([[i] for i in cfg_geom_cyl_800mm_long.r_steps])"
   ]
  },
  {
   "cell_type": "code",
   "execution_count": 11,
   "metadata": {},
   "outputs": [
    {
     "data": {
      "text/plain": [
       "Int64Index([2450309, 2501367, 2451351, 2400293, 2399772, 2500846, 2501888,\n",
       "            2400814, 2349235, 2399251,\n",
       "            ...\n",
       "            1758286, 1043474, 2434544, 4068400, 2467888,  834032, 1276882,\n",
       "            3601584, 3625550, 1300848],\n",
       "           dtype='int64', length=15520)"
      ]
     },
     "execution_count": 11,
     "metadata": {},
     "output_type": "execute_result"
    }
   ],
   "source": [
    "hpg.sparse_field.index"
   ]
  },
  {
   "cell_type": "code",
   "execution_count": 12,
   "metadata": {},
   "outputs": [],
   "source": [
    "B_input = input_data.iloc[hpg.sparse_field.index][['Bx', 'By', 'Bz']]"
   ]
  },
  {
   "cell_type": "code",
   "execution_count": 13,
   "metadata": {},
   "outputs": [],
   "source": [
    "B_hpg = hpg.sparse_field[['Bx', 'By', 'Bz']]"
   ]
  },
  {
   "cell_type": "code",
   "execution_count": 14,
   "metadata": {},
   "outputs": [
    {
     "data": {
      "text/html": [
       "<div>\n",
       "<style scoped>\n",
       "    .dataframe tbody tr th:only-of-type {\n",
       "        vertical-align: middle;\n",
       "    }\n",
       "\n",
       "    .dataframe tbody tr th {\n",
       "        vertical-align: top;\n",
       "    }\n",
       "\n",
       "    .dataframe thead th {\n",
       "        text-align: right;\n",
       "    }\n",
       "</style>\n",
       "<table border=\"1\" class=\"dataframe\">\n",
       "  <thead>\n",
       "    <tr style=\"text-align: right;\">\n",
       "      <th></th>\n",
       "      <th>Bx</th>\n",
       "      <th>By</th>\n",
       "      <th>Bz</th>\n",
       "    </tr>\n",
       "  </thead>\n",
       "  <tbody>\n",
       "    <tr>\n",
       "      <th>count</th>\n",
       "      <td>15520.0</td>\n",
       "      <td>15520.0</td>\n",
       "      <td>15520.0</td>\n",
       "    </tr>\n",
       "    <tr>\n",
       "      <th>mean</th>\n",
       "      <td>0.0</td>\n",
       "      <td>0.0</td>\n",
       "      <td>0.0</td>\n",
       "    </tr>\n",
       "    <tr>\n",
       "      <th>std</th>\n",
       "      <td>0.0</td>\n",
       "      <td>0.0</td>\n",
       "      <td>0.0</td>\n",
       "    </tr>\n",
       "    <tr>\n",
       "      <th>min</th>\n",
       "      <td>0.0</td>\n",
       "      <td>0.0</td>\n",
       "      <td>0.0</td>\n",
       "    </tr>\n",
       "    <tr>\n",
       "      <th>25%</th>\n",
       "      <td>0.0</td>\n",
       "      <td>0.0</td>\n",
       "      <td>0.0</td>\n",
       "    </tr>\n",
       "    <tr>\n",
       "      <th>50%</th>\n",
       "      <td>0.0</td>\n",
       "      <td>0.0</td>\n",
       "      <td>0.0</td>\n",
       "    </tr>\n",
       "    <tr>\n",
       "      <th>75%</th>\n",
       "      <td>0.0</td>\n",
       "      <td>0.0</td>\n",
       "      <td>0.0</td>\n",
       "    </tr>\n",
       "    <tr>\n",
       "      <th>max</th>\n",
       "      <td>0.0</td>\n",
       "      <td>0.0</td>\n",
       "      <td>0.0</td>\n",
       "    </tr>\n",
       "  </tbody>\n",
       "</table>\n",
       "</div>"
      ],
      "text/plain": [
       "            Bx       By       Bz\n",
       "count  15520.0  15520.0  15520.0\n",
       "mean       0.0      0.0      0.0\n",
       "std        0.0      0.0      0.0\n",
       "min        0.0      0.0      0.0\n",
       "25%        0.0      0.0      0.0\n",
       "50%        0.0      0.0      0.0\n",
       "75%        0.0      0.0      0.0\n",
       "max        0.0      0.0      0.0"
      ]
     },
     "execution_count": 14,
     "metadata": {},
     "output_type": "execute_result"
    }
   ],
   "source": [
    "(B_input - B_hpg).describe()"
   ]
  },
  {
   "cell_type": "code",
   "execution_count": 15,
   "metadata": {},
   "outputs": [],
   "source": [
    "test_df = hpg.sparse_field"
   ]
  },
  {
   "cell_type": "code",
   "execution_count": 16,
   "metadata": {},
   "outputs": [
    {
     "data": {
      "text/html": [
       "<div>\n",
       "<style scoped>\n",
       "    .dataframe tbody tr th:only-of-type {\n",
       "        vertical-align: middle;\n",
       "    }\n",
       "\n",
       "    .dataframe tbody tr th {\n",
       "        vertical-align: top;\n",
       "    }\n",
       "\n",
       "    .dataframe thead th {\n",
       "        text-align: right;\n",
       "    }\n",
       "</style>\n",
       "<table border=\"1\" class=\"dataframe\">\n",
       "  <thead>\n",
       "    <tr style=\"text-align: right;\">\n",
       "      <th></th>\n",
       "      <th>X</th>\n",
       "      <th>Y</th>\n",
       "      <th>Z</th>\n",
       "      <th>Bx</th>\n",
       "      <th>By</th>\n",
       "      <th>Bz</th>\n",
       "      <th>R</th>\n",
       "      <th>Phi</th>\n",
       "      <th>Bphi</th>\n",
       "      <th>Br</th>\n",
       "    </tr>\n",
       "  </thead>\n",
       "  <tbody>\n",
       "    <tr>\n",
       "      <th>2450309</th>\n",
       "      <td>0.000</td>\n",
       "      <td>-0.025</td>\n",
       "      <td>4.221</td>\n",
       "      <td>-12.869706</td>\n",
       "      <td>-30.438903</td>\n",
       "      <td>18937.287207</td>\n",
       "      <td>0.025000</td>\n",
       "      <td>-1.570796</td>\n",
       "      <td>-12.869706</td>\n",
       "      <td>30.438903</td>\n",
       "    </tr>\n",
       "    <tr>\n",
       "      <th>2501367</th>\n",
       "      <td>0.025</td>\n",
       "      <td>0.000</td>\n",
       "      <td>4.221</td>\n",
       "      <td>14.995168</td>\n",
       "      <td>-2.232945</td>\n",
       "      <td>18937.294685</td>\n",
       "      <td>0.025000</td>\n",
       "      <td>0.000000</td>\n",
       "      <td>-2.232945</td>\n",
       "      <td>14.995168</td>\n",
       "    </tr>\n",
       "    <tr>\n",
       "      <th>2451351</th>\n",
       "      <td>0.000</td>\n",
       "      <td>0.025</td>\n",
       "      <td>4.221</td>\n",
       "      <td>-12.700502</td>\n",
       "      <td>25.487139</td>\n",
       "      <td>18937.071379</td>\n",
       "      <td>0.025000</td>\n",
       "      <td>1.570796</td>\n",
       "      <td>12.700502</td>\n",
       "      <td>25.487139</td>\n",
       "    </tr>\n",
       "    <tr>\n",
       "      <th>2400293</th>\n",
       "      <td>-0.025</td>\n",
       "      <td>0.000</td>\n",
       "      <td>4.221</td>\n",
       "      <td>-40.591427</td>\n",
       "      <td>-2.735825</td>\n",
       "      <td>18937.059659</td>\n",
       "      <td>0.025000</td>\n",
       "      <td>3.141593</td>\n",
       "      <td>2.735825</td>\n",
       "      <td>40.591427</td>\n",
       "    </tr>\n",
       "    <tr>\n",
       "      <th>2399772</th>\n",
       "      <td>-0.025</td>\n",
       "      <td>-0.025</td>\n",
       "      <td>4.221</td>\n",
       "      <td>-40.665222</td>\n",
       "      <td>-30.675983</td>\n",
       "      <td>18936.497939</td>\n",
       "      <td>0.035355</td>\n",
       "      <td>-2.356194</td>\n",
       "      <td>-7.063459</td>\n",
       "      <td>50.445850</td>\n",
       "    </tr>\n",
       "    <tr>\n",
       "      <th>...</th>\n",
       "      <td>...</td>\n",
       "      <td>...</td>\n",
       "      <td>...</td>\n",
       "      <td>...</td>\n",
       "      <td>...</td>\n",
       "      <td>...</td>\n",
       "      <td>...</td>\n",
       "      <td>...</td>\n",
       "      <td>...</td>\n",
       "      <td>...</td>\n",
       "    </tr>\n",
       "    <tr>\n",
       "      <th>834032</th>\n",
       "      <td>-0.800</td>\n",
       "      <td>0.000</td>\n",
       "      <td>13.871</td>\n",
       "      <td>-3824.384529</td>\n",
       "      <td>19.862471</td>\n",
       "      <td>7901.854134</td>\n",
       "      <td>0.800000</td>\n",
       "      <td>3.141593</td>\n",
       "      <td>-19.862471</td>\n",
       "      <td>3824.384529</td>\n",
       "    </tr>\n",
       "    <tr>\n",
       "      <th>1276882</th>\n",
       "      <td>-0.575</td>\n",
       "      <td>-0.575</td>\n",
       "      <td>13.871</td>\n",
       "      <td>-2821.634439</td>\n",
       "      <td>-2845.751260</td>\n",
       "      <td>7953.420436</td>\n",
       "      <td>0.813173</td>\n",
       "      <td>-2.356194</td>\n",
       "      <td>17.053168</td>\n",
       "      <td>4007.446859</td>\n",
       "    </tr>\n",
       "    <tr>\n",
       "      <th>3601584</th>\n",
       "      <td>0.575</td>\n",
       "      <td>-0.575</td>\n",
       "      <td>13.871</td>\n",
       "      <td>2949.936804</td>\n",
       "      <td>-2922.392199</td>\n",
       "      <td>7975.263755</td>\n",
       "      <td>0.813173</td>\n",
       "      <td>-0.785398</td>\n",
       "      <td>19.476977</td>\n",
       "      <td>4152.363659</td>\n",
       "    </tr>\n",
       "    <tr>\n",
       "      <th>3625550</th>\n",
       "      <td>0.575</td>\n",
       "      <td>0.575</td>\n",
       "      <td>13.871</td>\n",
       "      <td>2960.108844</td>\n",
       "      <td>2914.733430</td>\n",
       "      <td>7974.756117</td>\n",
       "      <td>0.813173</td>\n",
       "      <td>0.785398</td>\n",
       "      <td>-32.085263</td>\n",
       "      <td>4154.140810</td>\n",
       "    </tr>\n",
       "    <tr>\n",
       "      <th>1300848</th>\n",
       "      <td>-0.575</td>\n",
       "      <td>0.575</td>\n",
       "      <td>13.871</td>\n",
       "      <td>-2821.196563</td>\n",
       "      <td>2862.441494</td>\n",
       "      <td>7912.926402</td>\n",
       "      <td>0.813173</td>\n",
       "      <td>2.356194</td>\n",
       "      <td>-29.164571</td>\n",
       "      <td>4018.939012</td>\n",
       "    </tr>\n",
       "  </tbody>\n",
       "</table>\n",
       "<p>15520 rows × 10 columns</p>\n",
       "</div>"
      ],
      "text/plain": [
       "             X      Y       Z           Bx           By            Bz  \\\n",
       "2450309  0.000 -0.025   4.221   -12.869706   -30.438903  18937.287207   \n",
       "2501367  0.025  0.000   4.221    14.995168    -2.232945  18937.294685   \n",
       "2451351  0.000  0.025   4.221   -12.700502    25.487139  18937.071379   \n",
       "2400293 -0.025  0.000   4.221   -40.591427    -2.735825  18937.059659   \n",
       "2399772 -0.025 -0.025   4.221   -40.665222   -30.675983  18936.497939   \n",
       "...        ...    ...     ...          ...          ...           ...   \n",
       "834032  -0.800  0.000  13.871 -3824.384529    19.862471   7901.854134   \n",
       "1276882 -0.575 -0.575  13.871 -2821.634439 -2845.751260   7953.420436   \n",
       "3601584  0.575 -0.575  13.871  2949.936804 -2922.392199   7975.263755   \n",
       "3625550  0.575  0.575  13.871  2960.108844  2914.733430   7974.756117   \n",
       "1300848 -0.575  0.575  13.871 -2821.196563  2862.441494   7912.926402   \n",
       "\n",
       "                R       Phi       Bphi           Br  \n",
       "2450309  0.025000 -1.570796 -12.869706    30.438903  \n",
       "2501367  0.025000  0.000000  -2.232945    14.995168  \n",
       "2451351  0.025000  1.570796  12.700502    25.487139  \n",
       "2400293  0.025000  3.141593   2.735825    40.591427  \n",
       "2399772  0.035355 -2.356194  -7.063459    50.445850  \n",
       "...           ...       ...        ...          ...  \n",
       "834032   0.800000  3.141593 -19.862471  3824.384529  \n",
       "1276882  0.813173 -2.356194  17.053168  4007.446859  \n",
       "3601584  0.813173 -0.785398  19.476977  4152.363659  \n",
       "3625550  0.813173  0.785398 -32.085263  4154.140810  \n",
       "1300848  0.813173  2.356194 -29.164571  4018.939012  \n",
       "\n",
       "[15520 rows x 10 columns]"
      ]
     },
     "execution_count": 16,
     "metadata": {},
     "output_type": "execute_result"
    }
   ],
   "source": [
    "test_df"
   ]
  },
  {
   "cell_type": "code",
   "execution_count": 17,
   "metadata": {},
   "outputs": [
    {
     "data": {
      "text/plain": [
       "1940.0"
      ]
     },
     "execution_count": 17,
     "metadata": {},
     "output_type": "execute_result"
    }
   ],
   "source": [
    "15520 / 8"
   ]
  },
  {
   "cell_type": "code",
   "execution_count": null,
   "metadata": {},
   "outputs": [],
   "source": []
  },
  {
   "cell_type": "code",
   "execution_count": 18,
   "metadata": {},
   "outputs": [],
   "source": [
    "#test_df.to_pickle('/home/ckampa/Desktop/DSFM_test_data.pkl')"
   ]
  },
  {
   "cell_type": "code",
   "execution_count": 19,
   "metadata": {},
   "outputs": [],
   "source": [
    "#test_df.to_csv('/home/ckampa/Desktop/DSFM_test_data.csv', index=False)"
   ]
  },
  {
   "cell_type": "code",
   "execution_count": 20,
   "metadata": {},
   "outputs": [],
   "source": [
    "df = test_df"
   ]
  },
  {
   "cell_type": "code",
   "execution_count": 21,
   "metadata": {},
   "outputs": [
    {
     "data": {
      "text/html": [
       "<div>\n",
       "<style scoped>\n",
       "    .dataframe tbody tr th:only-of-type {\n",
       "        vertical-align: middle;\n",
       "    }\n",
       "\n",
       "    .dataframe tbody tr th {\n",
       "        vertical-align: top;\n",
       "    }\n",
       "\n",
       "    .dataframe thead th {\n",
       "        text-align: right;\n",
       "    }\n",
       "</style>\n",
       "<table border=\"1\" class=\"dataframe\">\n",
       "  <thead>\n",
       "    <tr style=\"text-align: right;\">\n",
       "      <th></th>\n",
       "      <th>X</th>\n",
       "      <th>Y</th>\n",
       "      <th>Z</th>\n",
       "      <th>Bx</th>\n",
       "      <th>By</th>\n",
       "      <th>Bz</th>\n",
       "      <th>R</th>\n",
       "      <th>Phi</th>\n",
       "      <th>Bphi</th>\n",
       "      <th>Br</th>\n",
       "    </tr>\n",
       "  </thead>\n",
       "  <tbody>\n",
       "    <tr>\n",
       "      <th>2450309</th>\n",
       "      <td>0.000</td>\n",
       "      <td>-0.025</td>\n",
       "      <td>4.221</td>\n",
       "      <td>-12.869706</td>\n",
       "      <td>-30.438903</td>\n",
       "      <td>18937.287207</td>\n",
       "      <td>0.025000</td>\n",
       "      <td>-1.570796</td>\n",
       "      <td>-12.869706</td>\n",
       "      <td>30.438903</td>\n",
       "    </tr>\n",
       "    <tr>\n",
       "      <th>2501367</th>\n",
       "      <td>0.025</td>\n",
       "      <td>0.000</td>\n",
       "      <td>4.221</td>\n",
       "      <td>14.995168</td>\n",
       "      <td>-2.232945</td>\n",
       "      <td>18937.294685</td>\n",
       "      <td>0.025000</td>\n",
       "      <td>0.000000</td>\n",
       "      <td>-2.232945</td>\n",
       "      <td>14.995168</td>\n",
       "    </tr>\n",
       "    <tr>\n",
       "      <th>2451351</th>\n",
       "      <td>0.000</td>\n",
       "      <td>0.025</td>\n",
       "      <td>4.221</td>\n",
       "      <td>-12.700502</td>\n",
       "      <td>25.487139</td>\n",
       "      <td>18937.071379</td>\n",
       "      <td>0.025000</td>\n",
       "      <td>1.570796</td>\n",
       "      <td>12.700502</td>\n",
       "      <td>25.487139</td>\n",
       "    </tr>\n",
       "    <tr>\n",
       "      <th>2400293</th>\n",
       "      <td>-0.025</td>\n",
       "      <td>0.000</td>\n",
       "      <td>4.221</td>\n",
       "      <td>-40.591427</td>\n",
       "      <td>-2.735825</td>\n",
       "      <td>18937.059659</td>\n",
       "      <td>0.025000</td>\n",
       "      <td>3.141593</td>\n",
       "      <td>2.735825</td>\n",
       "      <td>40.591427</td>\n",
       "    </tr>\n",
       "    <tr>\n",
       "      <th>2399772</th>\n",
       "      <td>-0.025</td>\n",
       "      <td>-0.025</td>\n",
       "      <td>4.221</td>\n",
       "      <td>-40.665222</td>\n",
       "      <td>-30.675983</td>\n",
       "      <td>18936.497939</td>\n",
       "      <td>0.035355</td>\n",
       "      <td>-2.356194</td>\n",
       "      <td>-7.063459</td>\n",
       "      <td>50.445850</td>\n",
       "    </tr>\n",
       "    <tr>\n",
       "      <th>...</th>\n",
       "      <td>...</td>\n",
       "      <td>...</td>\n",
       "      <td>...</td>\n",
       "      <td>...</td>\n",
       "      <td>...</td>\n",
       "      <td>...</td>\n",
       "      <td>...</td>\n",
       "      <td>...</td>\n",
       "      <td>...</td>\n",
       "      <td>...</td>\n",
       "    </tr>\n",
       "    <tr>\n",
       "      <th>834032</th>\n",
       "      <td>-0.800</td>\n",
       "      <td>0.000</td>\n",
       "      <td>13.871</td>\n",
       "      <td>-3824.384529</td>\n",
       "      <td>19.862471</td>\n",
       "      <td>7901.854134</td>\n",
       "      <td>0.800000</td>\n",
       "      <td>3.141593</td>\n",
       "      <td>-19.862471</td>\n",
       "      <td>3824.384529</td>\n",
       "    </tr>\n",
       "    <tr>\n",
       "      <th>1276882</th>\n",
       "      <td>-0.575</td>\n",
       "      <td>-0.575</td>\n",
       "      <td>13.871</td>\n",
       "      <td>-2821.634439</td>\n",
       "      <td>-2845.751260</td>\n",
       "      <td>7953.420436</td>\n",
       "      <td>0.813173</td>\n",
       "      <td>-2.356194</td>\n",
       "      <td>17.053168</td>\n",
       "      <td>4007.446859</td>\n",
       "    </tr>\n",
       "    <tr>\n",
       "      <th>3601584</th>\n",
       "      <td>0.575</td>\n",
       "      <td>-0.575</td>\n",
       "      <td>13.871</td>\n",
       "      <td>2949.936804</td>\n",
       "      <td>-2922.392199</td>\n",
       "      <td>7975.263755</td>\n",
       "      <td>0.813173</td>\n",
       "      <td>-0.785398</td>\n",
       "      <td>19.476977</td>\n",
       "      <td>4152.363659</td>\n",
       "    </tr>\n",
       "    <tr>\n",
       "      <th>3625550</th>\n",
       "      <td>0.575</td>\n",
       "      <td>0.575</td>\n",
       "      <td>13.871</td>\n",
       "      <td>2960.108844</td>\n",
       "      <td>2914.733430</td>\n",
       "      <td>7974.756117</td>\n",
       "      <td>0.813173</td>\n",
       "      <td>0.785398</td>\n",
       "      <td>-32.085263</td>\n",
       "      <td>4154.140810</td>\n",
       "    </tr>\n",
       "    <tr>\n",
       "      <th>1300848</th>\n",
       "      <td>-0.575</td>\n",
       "      <td>0.575</td>\n",
       "      <td>13.871</td>\n",
       "      <td>-2821.196563</td>\n",
       "      <td>2862.441494</td>\n",
       "      <td>7912.926402</td>\n",
       "      <td>0.813173</td>\n",
       "      <td>2.356194</td>\n",
       "      <td>-29.164571</td>\n",
       "      <td>4018.939012</td>\n",
       "    </tr>\n",
       "  </tbody>\n",
       "</table>\n",
       "<p>15520 rows × 10 columns</p>\n",
       "</div>"
      ],
      "text/plain": [
       "             X      Y       Z           Bx           By            Bz  \\\n",
       "2450309  0.000 -0.025   4.221   -12.869706   -30.438903  18937.287207   \n",
       "2501367  0.025  0.000   4.221    14.995168    -2.232945  18937.294685   \n",
       "2451351  0.000  0.025   4.221   -12.700502    25.487139  18937.071379   \n",
       "2400293 -0.025  0.000   4.221   -40.591427    -2.735825  18937.059659   \n",
       "2399772 -0.025 -0.025   4.221   -40.665222   -30.675983  18936.497939   \n",
       "...        ...    ...     ...          ...          ...           ...   \n",
       "834032  -0.800  0.000  13.871 -3824.384529    19.862471   7901.854134   \n",
       "1276882 -0.575 -0.575  13.871 -2821.634439 -2845.751260   7953.420436   \n",
       "3601584  0.575 -0.575  13.871  2949.936804 -2922.392199   7975.263755   \n",
       "3625550  0.575  0.575  13.871  2960.108844  2914.733430   7974.756117   \n",
       "1300848 -0.575  0.575  13.871 -2821.196563  2862.441494   7912.926402   \n",
       "\n",
       "                R       Phi       Bphi           Br  \n",
       "2450309  0.025000 -1.570796 -12.869706    30.438903  \n",
       "2501367  0.025000  0.000000  -2.232945    14.995168  \n",
       "2451351  0.025000  1.570796  12.700502    25.487139  \n",
       "2400293  0.025000  3.141593   2.735825    40.591427  \n",
       "2399772  0.035355 -2.356194  -7.063459    50.445850  \n",
       "...           ...       ...        ...          ...  \n",
       "834032   0.800000  3.141593 -19.862471  3824.384529  \n",
       "1276882  0.813173 -2.356194  17.053168  4007.446859  \n",
       "3601584  0.813173 -0.785398  19.476977  4152.363659  \n",
       "3625550  0.813173  0.785398 -32.085263  4154.140810  \n",
       "1300848  0.813173  2.356194 -29.164571  4018.939012  \n",
       "\n",
       "[15520 rows x 10 columns]"
      ]
     },
     "execution_count": 21,
     "metadata": {},
     "output_type": "execute_result"
    }
   ],
   "source": [
    "df"
   ]
  },
  {
   "cell_type": "code",
   "execution_count": 22,
   "metadata": {},
   "outputs": [
    {
     "data": {
      "image/png": "[encoded data removed]",
      "text/plain": [
       "<Figure size 432x288 with 1 Axes>"
      ]
     },
     "metadata": {
      "needs_background": "light"
     },
     "output_type": "display_data"
    }
   ],
   "source": [
    "fig, ax = plt.subplots()\n",
    "ax.hist(df.R, bins=np.linspace(0, 0.9, 91));"
   ]
  },
  {
   "cell_type": "code",
   "execution_count": 23,
   "metadata": {},
   "outputs": [
    {
     "data": {
      "text/plain": [
       "array([0.025     , 0.03535534, 0.0559017 , 0.1677051 , 0.175     ,\n",
       "       0.1767767 , 0.3354102 , 0.35355339, 0.375     , 0.525     ,\n",
       "       0.53033009, 0.55901699, 0.78262379, 0.8       , 0.8131728 ])"
      ]
     },
     "execution_count": 23,
     "metadata": {},
     "output_type": "execute_result"
    }
   ],
   "source": [
    "df.R.unique()"
   ]
  },
  {
   "cell_type": "code",
   "execution_count": 24,
   "metadata": {},
   "outputs": [
    {
     "data": {
      "text/plain": [
       "array([0.025     , 0.03535534, 0.0559017 , 0.1677051 , 0.175     ,\n",
       "       0.1767767 , 0.3354102 , 0.35355339, 0.375     , 0.525     ,\n",
       "       0.53033009, 0.55901699, 0.78262379, 0.8       , 0.8131728 ])"
      ]
     },
     "execution_count": 24,
     "metadata": {},
     "output_type": "execute_result"
    }
   ],
   "source": [
    "np.unique([[i] for i in cfg_geom_cyl_800mm_long.r_steps])"
   ]
  },
  {
   "cell_type": "code",
   "execution_count": 25,
   "metadata": {},
   "outputs": [
    {
     "data": {
      "text/plain": [
       "([0.025, 0.175, 0.375, 0.525, 0.8],\n",
       " [0.05590169944, 0.16770509831, 0.33541019663, 0.55901699437, 0.78262379213],\n",
       " [0.03535533906, 0.1767766953, 0.35355339059, 0.53033008589, 0.81317279836],\n",
       " [0.05590169944, 0.16770509831, 0.33541019663, 0.55901699437, 0.78262379213],\n",
       " [0.025, 0.175, 0.375, 0.525, 0.8],\n",
       " [0.05590169944, 0.16770509831, 0.33541019663, 0.55901699437, 0.78262379213],\n",
       " [0.03535533906, 0.1767766953, 0.35355339059, 0.53033008589, 0.81317279836],\n",
       " [0.05590169944, 0.16770509831, 0.33541019663, 0.55901699437, 0.78262379213])"
      ]
     },
     "execution_count": 25,
     "metadata": {},
     "output_type": "execute_result"
    }
   ],
   "source": [
    "cfg_geom_cyl_800mm_long.r_steps"
   ]
  },
  {
   "cell_type": "code",
   "execution_count": 26,
   "metadata": {},
   "outputs": [
    {
     "data": {
      "text/plain": [
       "array([50., 50., 50., 50., 50., 50., 50., 50., 50., 50., 50., 50., 50.,\n",
       "       50., 50., 50., 50., 50., 50., 50., 50., 50., 50., 50., 50., 50.,\n",
       "       50., 50., 50., 50., 50., 50., 50., 50., 50., 50., 50., 50., 50.,\n",
       "       50., 50., 50., 50., 50., 50., 50., 50., 50., 50., 50., 50., 50.,\n",
       "       50., 50., 50., 50., 50., 50., 50., 50., 50., 50., 50., 50., 50.,\n",
       "       50., 50., 50., 50., 50., 50., 50., 50., 50., 50., 50., 50., 50.,\n",
       "       50., 50., 50., 50., 50., 50., 50., 50., 50., 50., 50., 50., 50.,\n",
       "       50., 50., 50., 50., 50., 50., 50., 50., 50., 50., 50., 50., 50.,\n",
       "       50., 50., 50., 50., 50., 50., 50., 50., 50., 50., 50., 50., 50.,\n",
       "       50., 50., 50., 50., 50., 50., 50., 50., 50., 50., 50., 50., 50.,\n",
       "       50., 50., 50., 50., 50., 50., 50., 50., 50., 50., 50., 50., 50.,\n",
       "       50., 50., 50., 50., 50., 50., 50., 50., 50., 50., 50., 50., 50.,\n",
       "       50., 50., 50., 50., 50., 50., 50., 50., 50., 50., 50., 50., 50.,\n",
       "       50., 50., 50., 50., 50., 50., 50., 50., 50., 50., 50., 50., 50.,\n",
       "       50., 50., 50., 50., 50., 50., 50., 50., 50., 50., 50.])"
      ]
     },
     "execution_count": 26,
     "metadata": {},
     "output_type": "execute_result"
    }
   ],
   "source": [
    "np.diff(cfg_geom_cyl_800mm_long.z_steps)*1e3"
   ]
  },
  {
   "cell_type": "code",
   "execution_count": 27,
   "metadata": {},
   "outputs": [
    {
     "data": {
      "image/png": "[encoded data removed]",
      "text/plain": [
       "<Figure size 1080x1080 with 1 Axes>"
      ]
     },
     "metadata": {
      "needs_background": "light"
     },
     "output_type": "display_data"
    }
   ],
   "source": [
    "fig, ax = plt.subplots(figsize=(15,15))\n",
    "\n",
    "ax.scatter(df.X, df.Y, s=1, zorder=100)\n",
    "\n",
    "ts = np.linspace(0, 2*np.pi, 100)\n",
    "\n",
    "for r in [0., 54., 95.,]:\n",
    "    xs = 1e-3 * r * np.cos(ts)\n",
    "    ys = 1e-3 * r * np.sin(ts)\n",
    "    plt.plot(xs, ys, color='red', zorder=10)\n",
    "    \n",
    "for r in [44., 319., 488., 656., 800.]:\n",
    "    xs = 1e-3 * r * np.cos(ts)\n",
    "    ys = 1e-3 * r * np.sin(ts)\n",
    "    plt.plot(xs, ys, color='green', zorder=11)\n",
    "\n",
    "#ax.set_xlim([])\n",
    "    \n",
    "ax.axis('equal');"
   ]
  },
  {
   "cell_type": "code",
   "execution_count": 28,
   "metadata": {},
   "outputs": [
    {
     "data": {
      "text/plain": [
       "array([-1.57079633,  0.        ,  1.57079633,  3.14159265, -2.35619449,\n",
       "       -0.78539816,  0.78539816,  2.35619449, -2.67794504, -2.03444394,\n",
       "       -1.10714872, -0.46364761,  0.46364761,  1.10714872,  2.03444394,\n",
       "        2.67794504])"
      ]
     },
     "execution_count": 28,
     "metadata": {},
     "output_type": "execute_result"
    }
   ],
   "source": [
    "df.Phi.unique()"
   ]
  },
  {
   "cell_type": "code",
   "execution_count": 29,
   "metadata": {},
   "outputs": [
    {
     "data": {
      "text/html": [
       "<div>\n",
       "<style scoped>\n",
       "    .dataframe tbody tr th:only-of-type {\n",
       "        vertical-align: middle;\n",
       "    }\n",
       "\n",
       "    .dataframe tbody tr th {\n",
       "        vertical-align: top;\n",
       "    }\n",
       "\n",
       "    .dataframe thead th {\n",
       "        text-align: right;\n",
       "    }\n",
       "</style>\n",
       "<table border=\"1\" class=\"dataframe\">\n",
       "  <thead>\n",
       "    <tr style=\"text-align: right;\">\n",
       "      <th></th>\n",
       "      <th>X</th>\n",
       "      <th>Y</th>\n",
       "      <th>Z</th>\n",
       "      <th>Bx</th>\n",
       "      <th>By</th>\n",
       "      <th>Bz</th>\n",
       "      <th>R</th>\n",
       "      <th>Phi</th>\n",
       "      <th>Bphi</th>\n",
       "      <th>Br</th>\n",
       "    </tr>\n",
       "  </thead>\n",
       "  <tbody>\n",
       "    <tr>\n",
       "      <th>2450309</th>\n",
       "      <td>0.000</td>\n",
       "      <td>-0.025</td>\n",
       "      <td>4.221</td>\n",
       "      <td>-12.869706</td>\n",
       "      <td>-30.438903</td>\n",
       "      <td>18937.287207</td>\n",
       "      <td>0.025000</td>\n",
       "      <td>-1.570796</td>\n",
       "      <td>-12.869706</td>\n",
       "      <td>30.438903</td>\n",
       "    </tr>\n",
       "    <tr>\n",
       "      <th>2501367</th>\n",
       "      <td>0.025</td>\n",
       "      <td>0.000</td>\n",
       "      <td>4.221</td>\n",
       "      <td>14.995168</td>\n",
       "      <td>-2.232945</td>\n",
       "      <td>18937.294685</td>\n",
       "      <td>0.025000</td>\n",
       "      <td>0.000000</td>\n",
       "      <td>-2.232945</td>\n",
       "      <td>14.995168</td>\n",
       "    </tr>\n",
       "    <tr>\n",
       "      <th>2451351</th>\n",
       "      <td>0.000</td>\n",
       "      <td>0.025</td>\n",
       "      <td>4.221</td>\n",
       "      <td>-12.700502</td>\n",
       "      <td>25.487139</td>\n",
       "      <td>18937.071379</td>\n",
       "      <td>0.025000</td>\n",
       "      <td>1.570796</td>\n",
       "      <td>12.700502</td>\n",
       "      <td>25.487139</td>\n",
       "    </tr>\n",
       "    <tr>\n",
       "      <th>2400293</th>\n",
       "      <td>-0.025</td>\n",
       "      <td>0.000</td>\n",
       "      <td>4.221</td>\n",
       "      <td>-40.591427</td>\n",
       "      <td>-2.735825</td>\n",
       "      <td>18937.059659</td>\n",
       "      <td>0.025000</td>\n",
       "      <td>3.141593</td>\n",
       "      <td>2.735825</td>\n",
       "      <td>40.591427</td>\n",
       "    </tr>\n",
       "    <tr>\n",
       "      <th>2399772</th>\n",
       "      <td>-0.025</td>\n",
       "      <td>-0.025</td>\n",
       "      <td>4.221</td>\n",
       "      <td>-40.665222</td>\n",
       "      <td>-30.675983</td>\n",
       "      <td>18936.497939</td>\n",
       "      <td>0.035355</td>\n",
       "      <td>-2.356194</td>\n",
       "      <td>-7.063459</td>\n",
       "      <td>50.445850</td>\n",
       "    </tr>\n",
       "    <tr>\n",
       "      <th>...</th>\n",
       "      <td>...</td>\n",
       "      <td>...</td>\n",
       "      <td>...</td>\n",
       "      <td>...</td>\n",
       "      <td>...</td>\n",
       "      <td>...</td>\n",
       "      <td>...</td>\n",
       "      <td>...</td>\n",
       "      <td>...</td>\n",
       "      <td>...</td>\n",
       "    </tr>\n",
       "    <tr>\n",
       "      <th>834032</th>\n",
       "      <td>-0.800</td>\n",
       "      <td>0.000</td>\n",
       "      <td>13.871</td>\n",
       "      <td>-3824.384529</td>\n",
       "      <td>19.862471</td>\n",
       "      <td>7901.854134</td>\n",
       "      <td>0.800000</td>\n",
       "      <td>3.141593</td>\n",
       "      <td>-19.862471</td>\n",
       "      <td>3824.384529</td>\n",
       "    </tr>\n",
       "    <tr>\n",
       "      <th>1276882</th>\n",
       "      <td>-0.575</td>\n",
       "      <td>-0.575</td>\n",
       "      <td>13.871</td>\n",
       "      <td>-2821.634439</td>\n",
       "      <td>-2845.751260</td>\n",
       "      <td>7953.420436</td>\n",
       "      <td>0.813173</td>\n",
       "      <td>-2.356194</td>\n",
       "      <td>17.053168</td>\n",
       "      <td>4007.446859</td>\n",
       "    </tr>\n",
       "    <tr>\n",
       "      <th>3601584</th>\n",
       "      <td>0.575</td>\n",
       "      <td>-0.575</td>\n",
       "      <td>13.871</td>\n",
       "      <td>2949.936804</td>\n",
       "      <td>-2922.392199</td>\n",
       "      <td>7975.263755</td>\n",
       "      <td>0.813173</td>\n",
       "      <td>-0.785398</td>\n",
       "      <td>19.476977</td>\n",
       "      <td>4152.363659</td>\n",
       "    </tr>\n",
       "    <tr>\n",
       "      <th>3625550</th>\n",
       "      <td>0.575</td>\n",
       "      <td>0.575</td>\n",
       "      <td>13.871</td>\n",
       "      <td>2960.108844</td>\n",
       "      <td>2914.733430</td>\n",
       "      <td>7974.756117</td>\n",
       "      <td>0.813173</td>\n",
       "      <td>0.785398</td>\n",
       "      <td>-32.085263</td>\n",
       "      <td>4154.140810</td>\n",
       "    </tr>\n",
       "    <tr>\n",
       "      <th>1300848</th>\n",
       "      <td>-0.575</td>\n",
       "      <td>0.575</td>\n",
       "      <td>13.871</td>\n",
       "      <td>-2821.196563</td>\n",
       "      <td>2862.441494</td>\n",
       "      <td>7912.926402</td>\n",
       "      <td>0.813173</td>\n",
       "      <td>2.356194</td>\n",
       "      <td>-29.164571</td>\n",
       "      <td>4018.939012</td>\n",
       "    </tr>\n",
       "  </tbody>\n",
       "</table>\n",
       "<p>15520 rows × 10 columns</p>\n",
       "</div>"
      ],
      "text/plain": [
       "             X      Y       Z           Bx           By            Bz  \\\n",
       "2450309  0.000 -0.025   4.221   -12.869706   -30.438903  18937.287207   \n",
       "2501367  0.025  0.000   4.221    14.995168    -2.232945  18937.294685   \n",
       "2451351  0.000  0.025   4.221   -12.700502    25.487139  18937.071379   \n",
       "2400293 -0.025  0.000   4.221   -40.591427    -2.735825  18937.059659   \n",
       "2399772 -0.025 -0.025   4.221   -40.665222   -30.675983  18936.497939   \n",
       "...        ...    ...     ...          ...          ...           ...   \n",
       "834032  -0.800  0.000  13.871 -3824.384529    19.862471   7901.854134   \n",
       "1276882 -0.575 -0.575  13.871 -2821.634439 -2845.751260   7953.420436   \n",
       "3601584  0.575 -0.575  13.871  2949.936804 -2922.392199   7975.263755   \n",
       "3625550  0.575  0.575  13.871  2960.108844  2914.733430   7974.756117   \n",
       "1300848 -0.575  0.575  13.871 -2821.196563  2862.441494   7912.926402   \n",
       "\n",
       "                R       Phi       Bphi           Br  \n",
       "2450309  0.025000 -1.570796 -12.869706    30.438903  \n",
       "2501367  0.025000  0.000000  -2.232945    14.995168  \n",
       "2451351  0.025000  1.570796  12.700502    25.487139  \n",
       "2400293  0.025000  3.141593   2.735825    40.591427  \n",
       "2399772  0.035355 -2.356194  -7.063459    50.445850  \n",
       "...           ...       ...        ...          ...  \n",
       "834032   0.800000  3.141593 -19.862471  3824.384529  \n",
       "1276882  0.813173 -2.356194  17.053168  4007.446859  \n",
       "3601584  0.813173 -0.785398  19.476977  4152.363659  \n",
       "3625550  0.813173  0.785398 -32.085263  4154.140810  \n",
       "1300848  0.813173  2.356194 -29.164571  4018.939012  \n",
       "\n",
       "[15520 rows x 10 columns]"
      ]
     },
     "execution_count": 29,
     "metadata": {},
     "output_type": "execute_result"
    }
   ],
   "source": [
    "df"
   ]
  },
  {
   "cell_type": "markdown",
   "metadata": {},
   "source": [
    "# Alternative Approach: Nearest Neighbor\n",
    "- Use all locations actually used by FMS -- find nearest Mau13 point and use the field from there\n",
    "- Or interpolate to that location -- this is in particle_EM_tracks"
   ]
  },
  {
   "cell_type": "code",
   "execution_count": 30,
   "metadata": {},
   "outputs": [],
   "source": [
    "from emtracks.mapinterp import get_df_interp_func"
   ]
  },
  {
   "cell_type": "code",
   "execution_count": 31,
   "metadata": {},
   "outputs": [],
   "source": [
    "DS_cyl = get_df_interp_func(filename='/home/shared_data/Bmaps/Mu2e_DSMap_V13.p',\n",
    "                            gauss=False, mm=False, Blabels=['Br', 'Bphi', 'Bz'])\n",
    "DS_car = get_df_interp_func(filename='/home/shared_data/Bmaps/Mu2e_DSMap_V13.p',\n",
    "                            gauss=False, mm=False, Blabels=['Bx', 'By', 'Bz'])"
   ]
  },
  {
   "cell_type": "code",
   "execution_count": 169,
   "metadata": {},
   "outputs": [],
   "source": [
    "# def DS_cyl_extrap(pos):\n",
    "#     try:\n",
    "#         return DS_cyl(pos)\n",
    "#     except:\n",
    "#         Bx_interp = NearestNDInterpolator([])"
   ]
  },
  {
   "cell_type": "code",
   "execution_count": 170,
   "metadata": {},
   "outputs": [],
   "source": [
    "#DS_car([0.8, 0.8, 21.])"
   ]
  },
  {
   "cell_type": "code",
   "execution_count": 171,
   "metadata": {},
   "outputs": [],
   "source": [
    "#DS_cyl([0., 0.8, 21.])"
   ]
  },
  {
   "cell_type": "code",
   "execution_count": 32,
   "metadata": {},
   "outputs": [
    {
     "data": {
      "text/plain": [
       "array([1.65460799e-03, 1.86498212e-01, 1.73459175e+00])"
      ]
     },
     "execution_count": 32,
     "metadata": {},
     "output_type": "execute_result"
    }
   ],
   "source": [
    "DS_car([0., 0.8, 4.8])"
   ]
  },
  {
   "cell_type": "code",
   "execution_count": 33,
   "metadata": {},
   "outputs": [
    {
     "data": {
      "text/plain": [
       "array([ 1.86498212e-01, -1.65460799e-03,  1.73459175e+00])"
      ]
     },
     "execution_count": 33,
     "metadata": {},
     "output_type": "execute_result"
    }
   ],
   "source": [
    "DS_cyl([0., 0.8, 4.8])"
   ]
  },
  {
   "cell_type": "markdown",
   "metadata": {},
   "source": [
    "- Coordinates for now:\n",
    "    - Hall probe: with Hall element and electronics facing \"out of page\"\n",
    "        - Y points to top of card\n",
    "        - X points to the right\n",
    "        - Z out of page"
   ]
  },
  {
   "cell_type": "code",
   "execution_count": 249,
   "metadata": {},
   "outputs": [],
   "source": [
    "Rs_small = 1e-3*np.array([0., 54., -95.,]) # CHECK SIGNS!!\n",
    "Rs_large = 1e-3*np.array([44., -319., 488., -656., 800.])\n",
    "\n",
    "# x = 0, y = 1, z = 2 -- in HP coordinates\n",
    "# these arrays specify which HP coordinate represents Br, Bphi, Bz\n",
    "Coords_small = np.array([[1, 0, -2], [-1, -0, -2], [1, 0, -2]]) # CHECK SIGNS XY!\n",
    "Coords_large = np.array([[-1, 0, 2], [1, -0, 2], [1, -0, 2], [1, -0, 2], [1, -0, 2]])\n",
    "\n",
    "Coords_SP_dict = np.array([{'Bx': ['Bphi', 1.], 'By': ['Br', 1.], 'Bz': ['Bz', -1.]},\n",
    "                           {'Bx': ['Bphi', -1.], 'By': ['Br', -1.], 'Bz': ['Bz', -1.]},\n",
    "                           {'Bx': ['Bphi', 1.], 'By': ['Br', 1.], 'Bz': ['Bz', -1.]},\n",
    "                          ])\n",
    "Coords_BP_dict = np.array([{'Bx': ['Bphi', 1.], 'By': ['Br', -1.], 'Bz': ['Bz', 1.]},\n",
    "                           {'Bx': ['Bphi', -1.], 'By': ['Br', 1.], 'Bz': ['Bz', 1.]},\n",
    "                           {'Bx': ['Bphi', -1.], 'By': ['Br', 1.], 'Bz': ['Bz', 1.]},\n",
    "                           {'Bx': ['Bphi', -1.], 'By': ['Br', 1.], 'Bz': ['Bz', 1.]},\n",
    "                           {'Bx': ['Bphi', -1.], 'By': ['Br', 1.], 'Bz': ['Bz', 1.]},\n",
    "                          ])\n",
    "\n",
    "\n",
    "Rs = np.concatenate([Rs_small, Rs_large])\n",
    "HP_labs = np.array(['SP1', 'SP2', 'SP3', 'BP1', 'BP2', 'BP3', 'BP4', 'BP5'])\n",
    "HP_IDs = np.array(['4C0000000D55C93A', '8E0000000D51483A', '6A0000000D61333A', 'C50000000D5E473A',\n",
    "                   'DF0000000D5E803A', 'C90000000D53983A', 'FA0000000D60163A', '2F0000000D5EC73A']) # using 1-8\n",
    "HP_V_slope = np.array([2.871e6, 2.813e6, 2.940e6, 2.973e6, 2.957e6, 2.863e6, 2.875e06, 2.831e6])\n",
    "HP_V_off = np.array([-6.169e4, -6.300e4, -6.546e4, -6.136e4, -6.346e4, -6.160e4, -5.939e4, -5.737e4])\n",
    "\n",
    "HP_labs_SP = HP_labs[0:3]\n",
    "HP_labs_BP = HP_labs[3:]\n",
    "HP_IDs_SP = HP_IDs[0:3]\n",
    "HP_IDs_BP = HP_IDs[3:]\n",
    "HP_V_slope_SP = HP_V_slope[0:3]\n",
    "HP_V_slope_BP = HP_V_slope[3:]\n",
    "HP_V_off_SP = HP_V_off[0:3]\n",
    "HP_V_off_BP = HP_V_off[3:]\n",
    "\n",
    "Phis = np.linspace(0, 2*np.pi, 17)[:-1]\n",
    "Phis_SP = Phis + np.pi/4.\n",
    "\n",
    "NMR_Phi = np.pi/2. # probe on BP at -319, want it in -y direction\n",
    "NMR_R = -319. * 1e-3\n",
    "X_NMR = NMR_R * np.cos(NMR_Phi)\n",
    "Y_NMR = NMR_R * np.sin(NMR_Phi)\n",
    "\n",
    "# RR, PP = np.meshgrid(Rs, Phis)\n",
    "\n",
    "RR_BP, PP_BP = np.meshgrid(Rs_large, Phis)\n",
    "RR_SP, PP_SP = np.meshgrid(Rs_small, Phis_SP)\n",
    "\n",
    "# Z0s = \n",
    "END_MEAS_SP = 2980. * 1e-3\n",
    "START_MEAS_SP = 13685. * 1e-3\n",
    "step_Z = 0.05 # 5 cm step, for now\n",
    "Zs_SP = np.arange(START_MEAS_SP, END_MEAS_SP, -step_Z)\n",
    "delta_Z_BP_SP = -1335. * 1e-3\n",
    "Zs_BP = Zs_SP - delta_Z_BP_SP\n",
    "# 1557.87\n",
    "delta_Z_NMR_SP = -1557.87 * 1e-3\n",
    "Zs_NMR = Zs_SP - delta_Z_NMR_SP\n",
    "\n",
    "# 13685-2980"
   ]
  },
  {
   "cell_type": "code",
   "execution_count": 186,
   "metadata": {},
   "outputs": [
    {
     "data": {
      "text/plain": [
       "('BP1',\n",
       " 'C50000000D5E473A',\n",
       " {'Bx': ['Bphi', 1.0], 'By': ['Br', -1.0], 'Bz': ['Bz', 1.0]})"
      ]
     },
     "execution_count": 186,
     "metadata": {},
     "output_type": "execute_result"
    }
   ],
   "source": [
    "i = 0\n",
    "HP_labs_BP[i], HP_IDs_BP[i], Coords_BP_dict[i]"
   ]
  },
  {
   "cell_type": "code",
   "execution_count": 187,
   "metadata": {},
   "outputs": [],
   "source": [
    "# test\n",
    "i = 0\n",
    "row = df.iloc[0]\n",
    "Bx, By, Bz, Br, Bphi = [row.Bx, row.By, row.Bz, row.Br, row.Bphi]\n",
    "\n",
    "c_dict = Coords_BP_dict[i]\n",
    "Bx_Hall = c_dict['Bx'][1]*df[c_dict['Bx'][0]].iloc[0]\n",
    "By_Hall = c_dict['By'][1]*df[c_dict['By'][0]].iloc[0]\n",
    "Bz_Hall = c_dict['Bz'][1]*df[c_dict['Bz'][0]].iloc[0]"
   ]
  },
  {
   "cell_type": "code",
   "execution_count": 188,
   "metadata": {},
   "outputs": [
    {
     "data": {
      "text/plain": [
       "(-12.869706196, -30.438903014, 18937.2872073)"
      ]
     },
     "execution_count": 188,
     "metadata": {},
     "output_type": "execute_result"
    }
   ],
   "source": [
    "Bx_Hall, By_Hall, Bz_Hall"
   ]
  },
  {
   "cell_type": "code",
   "execution_count": 189,
   "metadata": {},
   "outputs": [
    {
     "data": {
      "text/plain": [
       "(30.438903014, -12.869706196, 18937.2872073)"
      ]
     },
     "execution_count": 189,
     "metadata": {},
     "output_type": "execute_result"
    }
   ],
   "source": [
    "Br, Bphi, Bz"
   ]
  },
  {
   "cell_type": "code",
   "execution_count": 190,
   "metadata": {},
   "outputs": [
    {
     "data": {
      "text/plain": [
       "X           0.000000\n",
       "Y          -0.025000\n",
       "Z           4.221000\n",
       "Bx        -12.869706\n",
       "By        -30.438903\n",
       "Bz      18937.287207\n",
       "R           0.025000\n",
       "Phi        -1.570796\n",
       "Bphi      -12.869706\n",
       "Br         30.438903\n",
       "Name: 2450309, dtype: float64"
      ]
     },
     "execution_count": 190,
     "metadata": {},
     "output_type": "execute_result"
    }
   ],
   "source": [
    "row"
   ]
  },
  {
   "cell_type": "code",
   "execution_count": 191,
   "metadata": {},
   "outputs": [],
   "source": [
    "# write to file:\n",
    "# TIMESTAMP, X_NMR, Y_NMR, Z_NMR, HP_1_#, HP_1_ID, HP_1_X, HP_1_Y, HP_1_Z, ...\n",
    "# HP_1_Bx_Meas, HP_1_Bx_Mu2e, HP_1_By_Meas, HP_1_By_Mu2e, HP_1_Bz_Meas, HP_1_Bz_Mu2e,\n",
    "# HP_1_V1, HP_1_V2, HP_1_V3, ... ALL Hall probes - 7 , 8 , 9"
   ]
  },
  {
   "cell_type": "code",
   "execution_count": 322,
   "metadata": {},
   "outputs": [],
   "source": [
    "single_HP_cols = ['ID', 'X', 'Y', 'Z', 'Vx', 'Vy', 'Vz', 'Temperature',\n",
    "                  'Bx_Meas', 'By_Meas', 'Bz_Meas', 'Br', 'Bphi', 'Bz']\n",
    "\n",
    "HP_SP_col_list = list(np.concatenate([[f'HP_SP{j}_{i}' for i in single_HP_cols] for j in [1, 2, 3]]))\n",
    "HP_BP_col_list = list(np.concatenate([[f'HP_BP{j}_{i}' for i in single_HP_cols] for j in [1, 2, 3, 4, 5]]))\n",
    "col_list = ['TIMESTAMP', 'Mapper_Angle', 'Mapper_Z', 'X_NMR', 'Y_NMR', 'Z_NMR', 'B_NMR']+HP_SP_col_list+HP_BP_col_list"
   ]
  },
  {
   "cell_type": "code",
   "execution_count": 323,
   "metadata": {},
   "outputs": [],
   "source": [
    "# define a dataframe\n",
    "df_EMMA = pd.DataFrame(columns=['TIMESTAMP', 'Mapper_Angle', 'Mapper_Z', 'X_NMR', 'Y_NMR', 'Z_NMR', 'B_NMR']+HP_SP_col_list+HP_BP_col_list)"
   ]
  },
  {
   "cell_type": "code",
   "execution_count": 279,
   "metadata": {},
   "outputs": [],
   "source": [
    "# starttime\n",
    "t0 = parser.parse('2021-07-21 12:00:00')\n",
    "dt_Phi = timedelta(seconds=120) # assume 2 minutes per step for azimuthal move\n",
    "dt_Z = timedelta(seconds=240) # 4 minutes when moving z"
   ]
  },
  {
   "cell_type": "code",
   "execution_count": 280,
   "metadata": {},
   "outputs": [
    {
     "data": {
      "text/plain": [
       "'2021-07-21 12:04:00'"
      ]
     },
     "execution_count": 280,
     "metadata": {},
     "output_type": "execute_result"
    }
   ],
   "source": [
    "str(t0+dt+dt)"
   ]
  },
  {
   "cell_type": "code",
   "execution_count": 281,
   "metadata": {},
   "outputs": [
    {
     "data": {
      "text/plain": [
       "datetime.datetime(2021, 7, 21, 12, 2)"
      ]
     },
     "execution_count": 281,
     "metadata": {},
     "output_type": "execute_result"
    }
   ],
   "source": [
    "t0 + timedelta(seconds=120) # 2 minute time steps"
   ]
  },
  {
   "cell_type": "code",
   "execution_count": 282,
   "metadata": {},
   "outputs": [
    {
     "data": {
      "text/html": [
       "<div>\n",
       "<style scoped>\n",
       "    .dataframe tbody tr th:only-of-type {\n",
       "        vertical-align: middle;\n",
       "    }\n",
       "\n",
       "    .dataframe tbody tr th {\n",
       "        vertical-align: top;\n",
       "    }\n",
       "\n",
       "    .dataframe thead th {\n",
       "        text-align: right;\n",
       "    }\n",
       "</style>\n",
       "<table border=\"1\" class=\"dataframe\">\n",
       "  <thead>\n",
       "    <tr style=\"text-align: right;\">\n",
       "      <th></th>\n",
       "      <th>TIMESTAMP</th>\n",
       "      <th>X_NMR</th>\n",
       "      <th>Y_NMR</th>\n",
       "      <th>Z_NMR</th>\n",
       "      <th>B_NMR</th>\n",
       "      <th>HP_SP1_ID</th>\n",
       "      <th>HP_SP1_X</th>\n",
       "      <th>HP_SP1_Y</th>\n",
       "      <th>HP_SP1_Z</th>\n",
       "      <th>HP_SP1_Vx</th>\n",
       "      <th>...</th>\n",
       "      <th>HP_BP5_Vx</th>\n",
       "      <th>HP_BP5_Vy</th>\n",
       "      <th>HP_BP5_Vz</th>\n",
       "      <th>HP_BP5_Temperature</th>\n",
       "      <th>HP_BP5_Bx_Meas</th>\n",
       "      <th>HP_BP5_By_Meas</th>\n",
       "      <th>HP_BP5_Bz_Meas</th>\n",
       "      <th>HP_BP5_Br</th>\n",
       "      <th>HP_BP5_Bphi</th>\n",
       "      <th>HP_BP5_Bz</th>\n",
       "    </tr>\n",
       "  </thead>\n",
       "  <tbody>\n",
       "  </tbody>\n",
       "</table>\n",
       "<p>0 rows × 117 columns</p>\n",
       "</div>"
      ],
      "text/plain": [
       "Empty DataFrame\n",
       "Columns: [TIMESTAMP, X_NMR, Y_NMR, Z_NMR, B_NMR, HP_SP1_ID, HP_SP1_X, HP_SP1_Y, HP_SP1_Z, HP_SP1_Vx, HP_SP1_Vy, HP_SP1_Vz, HP_SP1_Temperature, HP_SP1_Bx_Meas, HP_SP1_By_Meas, HP_SP1_Bz_Meas, HP_SP1_Br, HP_SP1_Bphi, HP_SP1_Bz, HP_SP2_ID, HP_SP2_X, HP_SP2_Y, HP_SP2_Z, HP_SP2_Vx, HP_SP2_Vy, HP_SP2_Vz, HP_SP2_Temperature, HP_SP2_Bx_Meas, HP_SP2_By_Meas, HP_SP2_Bz_Meas, HP_SP2_Br, HP_SP2_Bphi, HP_SP2_Bz, HP_SP3_ID, HP_SP3_X, HP_SP3_Y, HP_SP3_Z, HP_SP3_Vx, HP_SP3_Vy, HP_SP3_Vz, HP_SP3_Temperature, HP_SP3_Bx_Meas, HP_SP3_By_Meas, HP_SP3_Bz_Meas, HP_SP3_Br, HP_SP3_Bphi, HP_SP3_Bz, HP_BP1_ID, HP_BP1_X, HP_BP1_Y, HP_BP1_Z, HP_BP1_Vx, HP_BP1_Vy, HP_BP1_Vz, HP_BP1_Temperature, HP_BP1_Bx_Meas, HP_BP1_By_Meas, HP_BP1_Bz_Meas, HP_BP1_Br, HP_BP1_Bphi, HP_BP1_Bz, HP_BP2_ID, HP_BP2_X, HP_BP2_Y, HP_BP2_Z, HP_BP2_Vx, HP_BP2_Vy, HP_BP2_Vz, HP_BP2_Temperature, HP_BP2_Bx_Meas, HP_BP2_By_Meas, HP_BP2_Bz_Meas, HP_BP2_Br, HP_BP2_Bphi, HP_BP2_Bz, HP_BP3_ID, HP_BP3_X, HP_BP3_Y, HP_BP3_Z, HP_BP3_Vx, HP_BP3_Vy, HP_BP3_Vz, HP_BP3_Temperature, HP_BP3_Bx_Meas, HP_BP3_By_Meas, HP_BP3_Bz_Meas, HP_BP3_Br, HP_BP3_Bphi, HP_BP3_Bz, HP_BP4_ID, HP_BP4_X, HP_BP4_Y, HP_BP4_Z, HP_BP4_Vx, HP_BP4_Vy, HP_BP4_Vz, HP_BP4_Temperature, HP_BP4_Bx_Meas, HP_BP4_By_Meas, HP_BP4_Bz_Meas, ...]\n",
       "Index: []\n",
       "\n",
       "[0 rows x 117 columns]"
      ]
     },
     "execution_count": 282,
     "metadata": {},
     "output_type": "execute_result"
    }
   ],
   "source": [
    "df_EMMA"
   ]
  },
  {
   "cell_type": "code",
   "execution_count": 283,
   "metadata": {},
   "outputs": [
    {
     "data": {
      "text/plain": [
       "array(['TIMESTAMP', 'X_NMR', 'Y_NMR', 'Z_NMR', 'B_NMR', 'HP_SP1_ID',\n",
       "       'HP_SP1_X', 'HP_SP1_Y', 'HP_SP1_Z', 'HP_SP1_Vx', 'HP_SP1_Vy',\n",
       "       'HP_SP1_Vz', 'HP_SP1_Temperature', 'HP_SP1_Bx_Meas',\n",
       "       'HP_SP1_By_Meas', 'HP_SP1_Bz_Meas', 'HP_SP1_Br', 'HP_SP1_Bphi',\n",
       "       'HP_SP1_Bz', 'HP_SP2_ID', 'HP_SP2_X', 'HP_SP2_Y', 'HP_SP2_Z',\n",
       "       'HP_SP2_Vx', 'HP_SP2_Vy', 'HP_SP2_Vz', 'HP_SP2_Temperature',\n",
       "       'HP_SP2_Bx_Meas', 'HP_SP2_By_Meas', 'HP_SP2_Bz_Meas', 'HP_SP2_Br',\n",
       "       'HP_SP2_Bphi', 'HP_SP2_Bz', 'HP_SP3_ID', 'HP_SP3_X', 'HP_SP3_Y',\n",
       "       'HP_SP3_Z', 'HP_SP3_Vx', 'HP_SP3_Vy', 'HP_SP3_Vz',\n",
       "       'HP_SP3_Temperature', 'HP_SP3_Bx_Meas', 'HP_SP3_By_Meas',\n",
       "       'HP_SP3_Bz_Meas', 'HP_SP3_Br', 'HP_SP3_Bphi', 'HP_SP3_Bz',\n",
       "       'HP_BP1_ID', 'HP_BP1_X', 'HP_BP1_Y', 'HP_BP1_Z', 'HP_BP1_Vx',\n",
       "       'HP_BP1_Vy', 'HP_BP1_Vz', 'HP_BP1_Temperature', 'HP_BP1_Bx_Meas',\n",
       "       'HP_BP1_By_Meas', 'HP_BP1_Bz_Meas', 'HP_BP1_Br', 'HP_BP1_Bphi',\n",
       "       'HP_BP1_Bz', 'HP_BP2_ID', 'HP_BP2_X', 'HP_BP2_Y', 'HP_BP2_Z',\n",
       "       'HP_BP2_Vx', 'HP_BP2_Vy', 'HP_BP2_Vz', 'HP_BP2_Temperature',\n",
       "       'HP_BP2_Bx_Meas', 'HP_BP2_By_Meas', 'HP_BP2_Bz_Meas', 'HP_BP2_Br',\n",
       "       'HP_BP2_Bphi', 'HP_BP2_Bz', 'HP_BP3_ID', 'HP_BP3_X', 'HP_BP3_Y',\n",
       "       'HP_BP3_Z', 'HP_BP3_Vx', 'HP_BP3_Vy', 'HP_BP3_Vz',\n",
       "       'HP_BP3_Temperature', 'HP_BP3_Bx_Meas', 'HP_BP3_By_Meas',\n",
       "       'HP_BP3_Bz_Meas', 'HP_BP3_Br', 'HP_BP3_Bphi', 'HP_BP3_Bz',\n",
       "       'HP_BP4_ID', 'HP_BP4_X', 'HP_BP4_Y', 'HP_BP4_Z', 'HP_BP4_Vx',\n",
       "       'HP_BP4_Vy', 'HP_BP4_Vz', 'HP_BP4_Temperature', 'HP_BP4_Bx_Meas',\n",
       "       'HP_BP4_By_Meas', 'HP_BP4_Bz_Meas', 'HP_BP4_Br', 'HP_BP4_Bphi',\n",
       "       'HP_BP4_Bz', 'HP_BP5_ID', 'HP_BP5_X', 'HP_BP5_Y', 'HP_BP5_Z',\n",
       "       'HP_BP5_Vx', 'HP_BP5_Vy', 'HP_BP5_Vz', 'HP_BP5_Temperature',\n",
       "       'HP_BP5_Bx_Meas', 'HP_BP5_By_Meas', 'HP_BP5_Bz_Meas', 'HP_BP5_Br',\n",
       "       'HP_BP5_Bphi', 'HP_BP5_Bz'], dtype='<U18')"
      ]
     },
     "execution_count": 283,
     "metadata": {},
     "output_type": "execute_result"
    }
   ],
   "source": [
    "np.array(col_list)"
   ]
  },
  {
   "cell_type": "code",
   "execution_count": 284,
   "metadata": {},
   "outputs": [
    {
     "data": {
      "text/plain": [
       "117"
      ]
     },
     "execution_count": 284,
     "metadata": {},
     "output_type": "execute_result"
    }
   ],
   "source": [
    "len(col_list)"
   ]
  },
  {
   "cell_type": "code",
   "execution_count": 285,
   "metadata": {},
   "outputs": [],
   "source": [
    "i = 0\n",
    "B_vec_NMR = DS_car([X_NMR, Y_NMR, Zs_NMR[i]])\n",
    "B_NMR = np.linalg.norm(DS_car([X_NMR, Y_NMR, Zs_NMR[i]]))"
   ]
  },
  {
   "cell_type": "code",
   "execution_count": 286,
   "metadata": {},
   "outputs": [
    {
     "data": {
      "text/plain": [
       "(0.1421178889894176, array([ 0.00046277, -0.02488031,  0.1399223 ]))"
      ]
     },
     "execution_count": 286,
     "metadata": {},
     "output_type": "execute_result"
    }
   ],
   "source": [
    "B_NMR, B_vec_NMR"
   ]
  },
  {
   "cell_type": "code",
   "execution_count": 287,
   "metadata": {},
   "outputs": [
    {
     "data": {
      "text/plain": [
       "0.1421178889894176"
      ]
     },
     "execution_count": 287,
     "metadata": {},
     "output_type": "execute_result"
    }
   ],
   "source": [
    "np.linalg.norm(B_vec_NMR)"
   ]
  },
  {
   "cell_type": "code",
   "execution_count": 288,
   "metadata": {},
   "outputs": [
    {
     "data": {
      "text/plain": [
       "0.1421178889894176"
      ]
     },
     "execution_count": 288,
     "metadata": {},
     "output_type": "execute_result"
    }
   ],
   "source": [
    "np.linalg.norm(DS_cyl\n",
    "               \n",
    "               \n",
    "               ([X_NMR, Y_NMR, Zs_NMR[i]]))"
   ]
  },
  {
   "cell_type": "code",
   "execution_count": null,
   "metadata": {},
   "outputs": [],
   "source": []
  },
  {
   "cell_type": "code",
   "execution_count": null,
   "metadata": {},
   "outputs": [],
   "source": []
  },
  {
   "cell_type": "code",
   "execution_count": 289,
   "metadata": {
    "scrolled": true
   },
   "outputs": [
    {
     "data": {
      "text/plain": [
       "array(['BP1', 'BP2', 'BP3', 'BP4', 'BP5'], dtype='<U3')"
      ]
     },
     "execution_count": 289,
     "metadata": {},
     "output_type": "execute_result"
    }
   ],
   "source": [
    "HP_labs_BP"
   ]
  },
  {
   "cell_type": "code",
   "execution_count": null,
   "metadata": {},
   "outputs": [],
   "source": []
  },
  {
   "cell_type": "code",
   "execution_count": null,
   "metadata": {},
   "outputs": [],
   "source": []
  },
  {
   "cell_type": "code",
   "execution_count": 250,
   "metadata": {},
   "outputs": [],
   "source": [
    "def temp_DS(pos):\n",
    "    return 22. - 0.1 * (pos[2] - 4.) + 1. * (pos[1])"
   ]
  },
  {
   "cell_type": "code",
   "execution_count": 273,
   "metadata": {},
   "outputs": [
    {
     "data": {
      "text/plain": [
       "(21.1, 22.0)"
      ]
     },
     "execution_count": 273,
     "metadata": {},
     "output_type": "execute_result"
    }
   ],
   "source": [
    "temp_DS([0.,0.,13.]), temp_DS([0.,0.,4.])"
   ]
  },
  {
   "cell_type": "code",
   "execution_count": 274,
   "metadata": {},
   "outputs": [
    {
     "data": {
      "text/plain": [
       "(21.1, 22.1)"
      ]
     },
     "execution_count": 274,
     "metadata": {},
     "output_type": "execute_result"
    }
   ],
   "source": [
    "temp_DS([0.,0.,13.]), temp_DS([0.,1.,13.])"
   ]
  },
  {
   "cell_type": "code",
   "execution_count": 275,
   "metadata": {},
   "outputs": [
    {
     "data": {
      "text/plain": [
       "(21.1, 21.1)"
      ]
     },
     "execution_count": 275,
     "metadata": {},
     "output_type": "execute_result"
    }
   ],
   "source": [
    "temp_DS([0.,0.,13.]), temp_DS([1.,0.,13.])"
   ]
  },
  {
   "cell_type": "code",
   "execution_count": 337,
   "metadata": {},
   "outputs": [],
   "source": [
    "def return_row(time, Z_ind, Phi_ind, ):\n",
    "    row = {}\n",
    "    # phi\n",
    "    Phi = Phis[Phi_ind]\n",
    "    Phi_BP = Phi\n",
    "    Phi_SP = Phis_SP[Phi_ind]\n",
    "    # time\n",
    "    row['TIMESTAMP'] = str(time)\n",
    "    # mapper\n",
    "    row['Mapper_Angle'] = Phi\n",
    "    row['Mapper_Z'] = Zs_NMR[Z_ind]\n",
    "    # NMR\n",
    "    row['X_NMR'] = X_NMR\n",
    "    row['Y_NMR'] = Y_NMR\n",
    "    row['Z_NMR'] = Zs_NMR[Z_ind]\n",
    "    B_NMR = np.linalg.norm(DS_car([X_NMR, Y_NMR, Zs_NMR[Z_ind]]))\n",
    "#     if B_NMR < 0.7: # NMR cutoff\n",
    "#         B_NMR = 0.0\n",
    "    row['B_NMR'] = B_NMR\n",
    "    # Hall probes\n",
    "    # small propeller\n",
    "    #print('SP')\n",
    "    for i in range(len(HP_IDs_SP)):\n",
    "        #print(i)\n",
    "        pre = f'HP_{HP_labs_SP[i]}'\n",
    "        row[f'{pre}_ID'] = HP_IDs_SP[i]\n",
    "        # coords\n",
    "        X_ = Rs_small[i] * np.cos(Phi_SP)\n",
    "        Y_ = Rs_small[i] * np.sin(Phi_SP)\n",
    "        Z_ = Zs_SP[Z_ind]\n",
    "        row[f'{pre}_X'] = X_\n",
    "        row[f'{pre}_Y'] = Y_\n",
    "        row[f'{pre}_Z'] = Z_\n",
    "        # field\n",
    "        Br, Bphi, Bz = DS_cyl([X_, Y_, Z_])\n",
    "        B_dict = {'Br': Br, 'Bphi': Bphi, 'Bz': Bz}\n",
    "        Bx_ = Coords_SP_dict[i]['Bx'][1] * B_dict[Coords_SP_dict[i]['Bx'][0]]\n",
    "        By_ = Coords_SP_dict[i]['By'][1] * B_dict[Coords_SP_dict[i]['By'][0]]\n",
    "        Bz_ = Coords_SP_dict[i]['Bz'][1] * B_dict[Coords_SP_dict[i]['Bz'][0]]\n",
    "        # voltages\n",
    "        Vx_ = HP_V_off_SP[i] + HP_V_slope_SP[i] * Bx_\n",
    "        Vy_ = HP_V_off_SP[i] + HP_V_slope_SP[i] * By_\n",
    "        Vz_ = HP_V_off_SP[i] + HP_V_slope_SP[i] * Bz_\n",
    "        # temperature\n",
    "        Temp_ = temp_DS([X_, Y_, Z_])\n",
    "        # write to row\n",
    "        row[f'{pre}_Vx'] = Vx_\n",
    "        row[f'{pre}_Vy'] = Vy_\n",
    "        row[f'{pre}_Vz'] = Vz_\n",
    "        row[f'{pre}_Temperature'] = Temp_\n",
    "        row[f'{pre}_Bx_Meas'] = Bx_\n",
    "        row[f'{pre}_By_Meas'] = By_\n",
    "        row[f'{pre}_Bz_Meas'] = Bz_\n",
    "        row[f'{pre}_Br'] = Br\n",
    "        row[f'{pre}_Bphi'] = Bphi\n",
    "        row[f'{pre}_Bz'] = Bz\n",
    "    # big propeller\n",
    "    #print('BP')\n",
    "    for i in range(len(HP_IDs_BP)):\n",
    "        #print(i)\n",
    "        pre = f'HP_{HP_labs_BP[i]}'\n",
    "        row[f'{pre}_ID'] = HP_IDs_BP[i]\n",
    "        # coords\n",
    "        X_ = Rs_large[i] * np.cos(Phi_BP)\n",
    "        Y_ = Rs_large[i] * np.sin(Phi_BP)\n",
    "        Z_ = Zs_BP[Z_ind]\n",
    "        row[f'{pre}_X'] = X_\n",
    "        row[f'{pre}_Y'] = Y_\n",
    "        row[f'{pre}_Z'] = Z_\n",
    "        # field\n",
    "        Br, Bphi, Bz = DS_cyl([X_, Y_, Z_])\n",
    "        B_dict = {'Br': Br, 'Bphi': Bphi, 'Bz': Bz}\n",
    "        Bx_ = Coords_BP_dict[i]['Bx'][1] * B_dict[Coords_BP_dict[i]['Bx'][0]]\n",
    "        By_ = Coords_BP_dict[i]['By'][1] * B_dict[Coords_BP_dict[i]['By'][0]]\n",
    "        Bz_ = Coords_BP_dict[i]['Bz'][1] * B_dict[Coords_BP_dict[i]['Bz'][0]]\n",
    "        # voltages\n",
    "        Vx_ = HP_V_off_BP[i] + HP_V_slope_BP[i] * Bx_\n",
    "        Vy_ = HP_V_off_BP[i] + HP_V_slope_BP[i] * By_\n",
    "        Vz_ = HP_V_off_BP[i] + HP_V_slope_BP[i] * Bz_\n",
    "        # temperature\n",
    "        Temp_ = temp_DS([X_, Y_, Z_])\n",
    "        # write to row\n",
    "        row[f'{pre}_Vx'] = Vx_\n",
    "        row[f'{pre}_Vy'] = Vy_\n",
    "        row[f'{pre}_Vz'] = Vz_\n",
    "        row[f'{pre}_Temperature'] = Temp_\n",
    "        row[f'{pre}_Bx_Meas'] = Bx_\n",
    "        row[f'{pre}_By_Meas'] = By_\n",
    "        row[f'{pre}_Bz_Meas'] = Bz_\n",
    "        row[f'{pre}_Br'] = Br\n",
    "        row[f'{pre}_Bphi'] = Bphi\n",
    "        row[f'{pre}_Bz'] = Bz\n",
    "        \n",
    "    return row"
   ]
  },
  {
   "cell_type": "code",
   "execution_count": 338,
   "metadata": {},
   "outputs": [
    {
     "name": "stdout",
     "output_type": "stream",
     "text": [
      "CPU times: user 2.03 ms, sys: 0 ns, total: 2.03 ms\n",
      "Wall time: 1.57 ms\n"
     ]
    }
   ],
   "source": [
    "%time row = return_row(t0, 0, 0)"
   ]
  },
  {
   "cell_type": "code",
   "execution_count": 339,
   "metadata": {},
   "outputs": [],
   "source": [
    "row = return_row(t0, 0, 0)"
   ]
  },
  {
   "cell_type": "code",
   "execution_count": 340,
   "metadata": {},
   "outputs": [],
   "source": [
    "#row"
   ]
  },
  {
   "cell_type": "code",
   "execution_count": 357,
   "metadata": {},
   "outputs": [],
   "source": [
    "# generate dataframe\n",
    "\n",
    "rows_list = []\n",
    "\n",
    "t = t0\n",
    "# i = 0\n",
    "\n",
    "for Z_ind in range(len(Zs_NMR)):\n",
    "    #t += dt_Z\n",
    "    for Phi_ind in range(len(Phis)):\n",
    "        #t += dt_Phi\n",
    "        row = return_row(t, Z_ind, Phi_ind)\n",
    "        rows_list.append(row)\n",
    "        t += dt_Phi\n",
    "    t += dt_Z\n",
    "\n",
    "df_EMMA = pd.DataFrame(rows_list)"
   ]
  },
  {
   "cell_type": "code",
   "execution_count": 358,
   "metadata": {
    "scrolled": false
   },
   "outputs": [
    {
     "data": {
      "text/html": [
       "<div>\n",
       "<style scoped>\n",
       "    .dataframe tbody tr th:only-of-type {\n",
       "        vertical-align: middle;\n",
       "    }\n",
       "\n",
       "    .dataframe tbody tr th {\n",
       "        vertical-align: top;\n",
       "    }\n",
       "\n",
       "    .dataframe thead th {\n",
       "        text-align: right;\n",
       "    }\n",
       "</style>\n",
       "<table border=\"1\" class=\"dataframe\">\n",
       "  <thead>\n",
       "    <tr style=\"text-align: right;\">\n",
       "      <th></th>\n",
       "      <th>TIMESTAMP</th>\n",
       "      <th>Mapper_Angle</th>\n",
       "      <th>Mapper_Z</th>\n",
       "      <th>X_NMR</th>\n",
       "      <th>Y_NMR</th>\n",
       "      <th>Z_NMR</th>\n",
       "      <th>B_NMR</th>\n",
       "      <th>HP_SP1_ID</th>\n",
       "      <th>HP_SP1_X</th>\n",
       "      <th>HP_SP1_Y</th>\n",
       "      <th>...</th>\n",
       "      <th>HP_BP5_Vx</th>\n",
       "      <th>HP_BP5_Vy</th>\n",
       "      <th>HP_BP5_Vz</th>\n",
       "      <th>HP_BP5_Temperature</th>\n",
       "      <th>HP_BP5_Bx_Meas</th>\n",
       "      <th>HP_BP5_By_Meas</th>\n",
       "      <th>HP_BP5_Bz_Meas</th>\n",
       "      <th>HP_BP5_Br</th>\n",
       "      <th>HP_BP5_Bphi</th>\n",
       "      <th>HP_BP5_Bz</th>\n",
       "    </tr>\n",
       "  </thead>\n",
       "  <tbody>\n",
       "    <tr>\n",
       "      <th>0</th>\n",
       "      <td>2021-07-21 12:00:00</td>\n",
       "      <td>0.000000</td>\n",
       "      <td>15.24287</td>\n",
       "      <td>-1.953312e-17</td>\n",
       "      <td>-0.319</td>\n",
       "      <td>15.24287</td>\n",
       "      <td>0.142118</td>\n",
       "      <td>4C0000000D55C93A</td>\n",
       "      <td>0.0</td>\n",
       "      <td>0.0</td>\n",
       "      <td>...</td>\n",
       "      <td>-57063.462006</td>\n",
       "      <td>149978.713517</td>\n",
       "      <td>3.378109e+05</td>\n",
       "      <td>20.898000</td>\n",
       "      <td>0.000108</td>\n",
       "      <td>0.073242</td>\n",
       "      <td>0.139591</td>\n",
       "      <td>0.073242</td>\n",
       "      <td>-0.000108</td>\n",
       "      <td>0.139591</td>\n",
       "    </tr>\n",
       "    <tr>\n",
       "      <th>1</th>\n",
       "      <td>2021-07-21 12:02:00</td>\n",
       "      <td>0.392699</td>\n",
       "      <td>15.24287</td>\n",
       "      <td>-1.953312e-17</td>\n",
       "      <td>-0.319</td>\n",
       "      <td>15.24287</td>\n",
       "      <td>0.142118</td>\n",
       "      <td>4C0000000D55C93A</td>\n",
       "      <td>0.0</td>\n",
       "      <td>0.0</td>\n",
       "      <td>...</td>\n",
       "      <td>-56429.999375</td>\n",
       "      <td>149938.842782</td>\n",
       "      <td>3.379242e+05</td>\n",
       "      <td>21.204147</td>\n",
       "      <td>0.000332</td>\n",
       "      <td>0.073228</td>\n",
       "      <td>0.139631</td>\n",
       "      <td>0.073228</td>\n",
       "      <td>-0.000332</td>\n",
       "      <td>0.139631</td>\n",
       "    </tr>\n",
       "    <tr>\n",
       "      <th>2</th>\n",
       "      <td>2021-07-21 12:04:00</td>\n",
       "      <td>0.785398</td>\n",
       "      <td>15.24287</td>\n",
       "      <td>-1.953312e-17</td>\n",
       "      <td>-0.319</td>\n",
       "      <td>15.24287</td>\n",
       "      <td>0.142118</td>\n",
       "      <td>4C0000000D55C93A</td>\n",
       "      <td>0.0</td>\n",
       "      <td>0.0</td>\n",
       "      <td>...</td>\n",
       "      <td>-55840.321936</td>\n",
       "      <td>149806.558156</td>\n",
       "      <td>3.384032e+05</td>\n",
       "      <td>21.463685</td>\n",
       "      <td>0.000540</td>\n",
       "      <td>0.073181</td>\n",
       "      <td>0.139800</td>\n",
       "      <td>0.073181</td>\n",
       "      <td>-0.000540</td>\n",
       "      <td>0.139800</td>\n",
       "    </tr>\n",
       "    <tr>\n",
       "      <th>3</th>\n",
       "      <td>2021-07-21 12:06:00</td>\n",
       "      <td>1.178097</td>\n",
       "      <td>15.24287</td>\n",
       "      <td>-1.953312e-17</td>\n",
       "      <td>-0.319</td>\n",
       "      <td>15.24287</td>\n",
       "      <td>0.142118</td>\n",
       "      <td>4C0000000D55C93A</td>\n",
       "      <td>-0.0</td>\n",
       "      <td>0.0</td>\n",
       "      <td>...</td>\n",
       "      <td>-55371.956333</td>\n",
       "      <td>149535.744336</td>\n",
       "      <td>3.391707e+05</td>\n",
       "      <td>21.637104</td>\n",
       "      <td>0.000706</td>\n",
       "      <td>0.073086</td>\n",
       "      <td>0.140071</td>\n",
       "      <td>0.073086</td>\n",
       "      <td>-0.000706</td>\n",
       "      <td>0.140071</td>\n",
       "    </tr>\n",
       "    <tr>\n",
       "      <th>4</th>\n",
       "      <td>2021-07-21 12:08:00</td>\n",
       "      <td>1.570796</td>\n",
       "      <td>15.24287</td>\n",
       "      <td>-1.953312e-17</td>\n",
       "      <td>-0.319</td>\n",
       "      <td>15.24287</td>\n",
       "      <td>0.142118</td>\n",
       "      <td>4C0000000D55C93A</td>\n",
       "      <td>-0.0</td>\n",
       "      <td>0.0</td>\n",
       "      <td>...</td>\n",
       "      <td>-55126.697518</td>\n",
       "      <td>149148.223453</td>\n",
       "      <td>3.401593e+05</td>\n",
       "      <td>21.698000</td>\n",
       "      <td>0.000792</td>\n",
       "      <td>0.072949</td>\n",
       "      <td>0.140420</td>\n",
       "      <td>0.072949</td>\n",
       "      <td>-0.000792</td>\n",
       "      <td>0.140420</td>\n",
       "    </tr>\n",
       "    <tr>\n",
       "      <th>...</th>\n",
       "      <td>...</td>\n",
       "      <td>...</td>\n",
       "      <td>...</td>\n",
       "      <td>...</td>\n",
       "      <td>...</td>\n",
       "      <td>...</td>\n",
       "      <td>...</td>\n",
       "      <td>...</td>\n",
       "      <td>...</td>\n",
       "      <td>...</td>\n",
       "      <td>...</td>\n",
       "      <td>...</td>\n",
       "      <td>...</td>\n",
       "      <td>...</td>\n",
       "      <td>...</td>\n",
       "      <td>...</td>\n",
       "      <td>...</td>\n",
       "      <td>...</td>\n",
       "      <td>...</td>\n",
       "      <td>...</td>\n",
       "      <td>...</td>\n",
       "    </tr>\n",
       "    <tr>\n",
       "      <th>3435</th>\n",
       "      <td>2021-07-26 20:46:00</td>\n",
       "      <td>4.319690</td>\n",
       "      <td>4.54287</td>\n",
       "      <td>-1.953312e-17</td>\n",
       "      <td>-0.319</td>\n",
       "      <td>4.54287</td>\n",
       "      <td>1.837437</td>\n",
       "      <td>4C0000000D55C93A</td>\n",
       "      <td>0.0</td>\n",
       "      <td>-0.0</td>\n",
       "      <td>...</td>\n",
       "      <td>-52593.753200</td>\n",
       "      <td>-37618.415579</td>\n",
       "      <td>5.556186e+06</td>\n",
       "      <td>21.228896</td>\n",
       "      <td>0.001687</td>\n",
       "      <td>0.006977</td>\n",
       "      <td>1.982888</td>\n",
       "      <td>0.006977</td>\n",
       "      <td>-0.001687</td>\n",
       "      <td>1.982888</td>\n",
       "    </tr>\n",
       "    <tr>\n",
       "      <th>3436</th>\n",
       "      <td>2021-07-26 20:48:00</td>\n",
       "      <td>4.712389</td>\n",
       "      <td>4.54287</td>\n",
       "      <td>-1.953312e-17</td>\n",
       "      <td>-0.319</td>\n",
       "      <td>4.54287</td>\n",
       "      <td>1.837437</td>\n",
       "      <td>4C0000000D55C93A</td>\n",
       "      <td>0.0</td>\n",
       "      <td>-0.0</td>\n",
       "      <td>...</td>\n",
       "      <td>-51759.944155</td>\n",
       "      <td>-39869.775375</td>\n",
       "      <td>5.562622e+06</td>\n",
       "      <td>21.168000</td>\n",
       "      <td>0.001982</td>\n",
       "      <td>0.006182</td>\n",
       "      <td>1.985161</td>\n",
       "      <td>0.006182</td>\n",
       "      <td>-0.001982</td>\n",
       "      <td>1.985161</td>\n",
       "    </tr>\n",
       "    <tr>\n",
       "      <th>3437</th>\n",
       "      <td>2021-07-26 20:50:00</td>\n",
       "      <td>5.105088</td>\n",
       "      <td>4.54287</td>\n",
       "      <td>-1.953312e-17</td>\n",
       "      <td>-0.319</td>\n",
       "      <td>4.54287</td>\n",
       "      <td>1.837437</td>\n",
       "      <td>4C0000000D55C93A</td>\n",
       "      <td>0.0</td>\n",
       "      <td>-0.0</td>\n",
       "      <td>...</td>\n",
       "      <td>-51792.577860</td>\n",
       "      <td>-42236.528615</td>\n",
       "      <td>5.567011e+06</td>\n",
       "      <td>21.228896</td>\n",
       "      <td>0.001970</td>\n",
       "      <td>0.005346</td>\n",
       "      <td>1.986712</td>\n",
       "      <td>0.005346</td>\n",
       "      <td>-0.001970</td>\n",
       "      <td>1.986712</td>\n",
       "    </tr>\n",
       "    <tr>\n",
       "      <th>3438</th>\n",
       "      <td>2021-07-26 20:52:00</td>\n",
       "      <td>5.497787</td>\n",
       "      <td>4.54287</td>\n",
       "      <td>-1.953312e-17</td>\n",
       "      <td>-0.319</td>\n",
       "      <td>4.54287</td>\n",
       "      <td>1.837437</td>\n",
       "      <td>4C0000000D55C93A</td>\n",
       "      <td>0.0</td>\n",
       "      <td>-0.0</td>\n",
       "      <td>...</td>\n",
       "      <td>-52845.566958</td>\n",
       "      <td>-44544.026019</td>\n",
       "      <td>5.572059e+06</td>\n",
       "      <td>21.402315</td>\n",
       "      <td>0.001598</td>\n",
       "      <td>0.004531</td>\n",
       "      <td>1.988495</td>\n",
       "      <td>0.004531</td>\n",
       "      <td>-0.001598</td>\n",
       "      <td>1.988495</td>\n",
       "    </tr>\n",
       "    <tr>\n",
       "      <th>3439</th>\n",
       "      <td>2021-07-26 20:54:00</td>\n",
       "      <td>5.890486</td>\n",
       "      <td>4.54287</td>\n",
       "      <td>-1.953312e-17</td>\n",
       "      <td>-0.319</td>\n",
       "      <td>4.54287</td>\n",
       "      <td>1.837437</td>\n",
       "      <td>4C0000000D55C93A</td>\n",
       "      <td>0.0</td>\n",
       "      <td>0.0</td>\n",
       "      <td>...</td>\n",
       "      <td>-54903.347065</td>\n",
       "      <td>-46208.601483</td>\n",
       "      <td>5.575894e+06</td>\n",
       "      <td>21.661853</td>\n",
       "      <td>0.000871</td>\n",
       "      <td>0.003943</td>\n",
       "      <td>1.989849</td>\n",
       "      <td>0.003943</td>\n",
       "      <td>-0.000871</td>\n",
       "      <td>1.989849</td>\n",
       "    </tr>\n",
       "  </tbody>\n",
       "</table>\n",
       "<p>3440 rows × 119 columns</p>\n",
       "</div>"
      ],
      "text/plain": [
       "                TIMESTAMP  Mapper_Angle  Mapper_Z         X_NMR  Y_NMR  \\\n",
       "0     2021-07-21 12:00:00      0.000000  15.24287 -1.953312e-17 -0.319   \n",
       "1     2021-07-21 12:02:00      0.392699  15.24287 -1.953312e-17 -0.319   \n",
       "2     2021-07-21 12:04:00      0.785398  15.24287 -1.953312e-17 -0.319   \n",
       "3     2021-07-21 12:06:00      1.178097  15.24287 -1.953312e-17 -0.319   \n",
       "4     2021-07-21 12:08:00      1.570796  15.24287 -1.953312e-17 -0.319   \n",
       "...                   ...           ...       ...           ...    ...   \n",
       "3435  2021-07-26 20:46:00      4.319690   4.54287 -1.953312e-17 -0.319   \n",
       "3436  2021-07-26 20:48:00      4.712389   4.54287 -1.953312e-17 -0.319   \n",
       "3437  2021-07-26 20:50:00      5.105088   4.54287 -1.953312e-17 -0.319   \n",
       "3438  2021-07-26 20:52:00      5.497787   4.54287 -1.953312e-17 -0.319   \n",
       "3439  2021-07-26 20:54:00      5.890486   4.54287 -1.953312e-17 -0.319   \n",
       "\n",
       "         Z_NMR     B_NMR         HP_SP1_ID  HP_SP1_X  HP_SP1_Y  ...  \\\n",
       "0     15.24287  0.142118  4C0000000D55C93A       0.0       0.0  ...   \n",
       "1     15.24287  0.142118  4C0000000D55C93A       0.0       0.0  ...   \n",
       "2     15.24287  0.142118  4C0000000D55C93A       0.0       0.0  ...   \n",
       "3     15.24287  0.142118  4C0000000D55C93A      -0.0       0.0  ...   \n",
       "4     15.24287  0.142118  4C0000000D55C93A      -0.0       0.0  ...   \n",
       "...        ...       ...               ...       ...       ...  ...   \n",
       "3435   4.54287  1.837437  4C0000000D55C93A       0.0      -0.0  ...   \n",
       "3436   4.54287  1.837437  4C0000000D55C93A       0.0      -0.0  ...   \n",
       "3437   4.54287  1.837437  4C0000000D55C93A       0.0      -0.0  ...   \n",
       "3438   4.54287  1.837437  4C0000000D55C93A       0.0      -0.0  ...   \n",
       "3439   4.54287  1.837437  4C0000000D55C93A       0.0       0.0  ...   \n",
       "\n",
       "         HP_BP5_Vx      HP_BP5_Vy     HP_BP5_Vz  HP_BP5_Temperature  \\\n",
       "0    -57063.462006  149978.713517  3.378109e+05           20.898000   \n",
       "1    -56429.999375  149938.842782  3.379242e+05           21.204147   \n",
       "2    -55840.321936  149806.558156  3.384032e+05           21.463685   \n",
       "3    -55371.956333  149535.744336  3.391707e+05           21.637104   \n",
       "4    -55126.697518  149148.223453  3.401593e+05           21.698000   \n",
       "...            ...            ...           ...                 ...   \n",
       "3435 -52593.753200  -37618.415579  5.556186e+06           21.228896   \n",
       "3436 -51759.944155  -39869.775375  5.562622e+06           21.168000   \n",
       "3437 -51792.577860  -42236.528615  5.567011e+06           21.228896   \n",
       "3438 -52845.566958  -44544.026019  5.572059e+06           21.402315   \n",
       "3439 -54903.347065  -46208.601483  5.575894e+06           21.661853   \n",
       "\n",
       "      HP_BP5_Bx_Meas  HP_BP5_By_Meas  HP_BP5_Bz_Meas  HP_BP5_Br  HP_BP5_Bphi  \\\n",
       "0           0.000108        0.073242        0.139591   0.073242    -0.000108   \n",
       "1           0.000332        0.073228        0.139631   0.073228    -0.000332   \n",
       "2           0.000540        0.073181        0.139800   0.073181    -0.000540   \n",
       "3           0.000706        0.073086        0.140071   0.073086    -0.000706   \n",
       "4           0.000792        0.072949        0.140420   0.072949    -0.000792   \n",
       "...              ...             ...             ...        ...          ...   \n",
       "3435        0.001687        0.006977        1.982888   0.006977    -0.001687   \n",
       "3436        0.001982        0.006182        1.985161   0.006182    -0.001982   \n",
       "3437        0.001970        0.005346        1.986712   0.005346    -0.001970   \n",
       "3438        0.001598        0.004531        1.988495   0.004531    -0.001598   \n",
       "3439        0.000871        0.003943        1.989849   0.003943    -0.000871   \n",
       "\n",
       "      HP_BP5_Bz  \n",
       "0      0.139591  \n",
       "1      0.139631  \n",
       "2      0.139800  \n",
       "3      0.140071  \n",
       "4      0.140420  \n",
       "...         ...  \n",
       "3435   1.982888  \n",
       "3436   1.985161  \n",
       "3437   1.986712  \n",
       "3438   1.988495  \n",
       "3439   1.989849  \n",
       "\n",
       "[3440 rows x 119 columns]"
      ]
     },
     "execution_count": 358,
     "metadata": {},
     "output_type": "execute_result"
    }
   ],
   "source": [
    "df_EMMA"
   ]
  },
  {
   "cell_type": "code",
   "execution_count": 359,
   "metadata": {},
   "outputs": [],
   "source": [
    "for col in col_list:\n",
    "    if not col in df_EMMA.columns:\n",
    "        print(col)"
   ]
  },
  {
   "cell_type": "code",
   "execution_count": null,
   "metadata": {},
   "outputs": [],
   "source": []
  },
  {
   "cell_type": "code",
   "execution_count": 360,
   "metadata": {},
   "outputs": [],
   "source": [
    "v = 4\n",
    "# save\n",
    "df_EMMA.to_pickle(f'/home/shared_data/FMS_Monitor/DSFM_test_data_v{v}.pkl')\n",
    "# df_EMMA.to_csv('/home/shared_data/FMS_Monitor/DSFM_test_data_v2.csv', index=False)\n",
    "df_EMMA.to_csv(f'/home/shared_data/FMS_Monitor/DSFM_test_data_v{v}.csv')"
   ]
  },
  {
   "cell_type": "code",
   "execution_count": 361,
   "metadata": {},
   "outputs": [
    {
     "data": {
      "text/plain": [
       "119"
      ]
     },
     "execution_count": 361,
     "metadata": {},
     "output_type": "execute_result"
    }
   ],
   "source": [
    "len(col_list)"
   ]
  },
  {
   "cell_type": "code",
   "execution_count": null,
   "metadata": {},
   "outputs": [],
   "source": [
    "df_EMMA['']"
   ]
  },
  {
   "cell_type": "code",
   "execution_count": 300,
   "metadata": {},
   "outputs": [],
   "source": [
    "# some basic plots"
   ]
  },
  {
   "cell_type": "code",
   "execution_count": 343,
   "metadata": {},
   "outputs": [
    {
     "data": {
      "text/plain": [
       "<matplotlib.collections.PathCollection at 0x7f67b7fca190>"
      ]
     },
     "execution_count": 343,
     "metadata": {},
     "output_type": "execute_result"
    },
    {
     "data": {
      "image/png": "[encoded data removed]",
      "text/plain": [
       "<Figure size 432x288 with 1 Axes>"
      ]
     },
     "metadata": {
      "needs_background": "light"
     },
     "output_type": "display_data"
    }
   ],
   "source": [
    "fig, ax = plt.subplots()\n",
    "ax.scatter(df_EMMA.Z_NMR, df_EMMA.B_NMR, s=1)"
   ]
  },
  {
   "cell_type": "code",
   "execution_count": 345,
   "metadata": {},
   "outputs": [
    {
     "data": {
      "text/plain": [
       "(0.1421178889894176, 1.8374369582773435)"
      ]
     },
     "execution_count": 345,
     "metadata": {},
     "output_type": "execute_result"
    }
   ],
   "source": [
    "df_EMMA.B_NMR.min(), df_EMMA.B_NMR.max()"
   ]
  },
  {
   "cell_type": "code",
   "execution_count": 352,
   "metadata": {},
   "outputs": [
    {
     "data": {
      "text/plain": [
       "27.0"
      ]
     },
     "execution_count": 352,
     "metadata": {},
     "output_type": "execute_result"
    }
   ],
   "source": [
    "# out of range high field\n",
    "(df_EMMA.B_NMR < 0.7).sum() / 16"
   ]
  },
  {
   "cell_type": "code",
   "execution_count": 354,
   "metadata": {},
   "outputs": [
    {
     "data": {
      "text/plain": [
       "11.0"
      ]
     },
     "execution_count": 354,
     "metadata": {},
     "output_type": "execute_result"
    }
   ],
   "source": [
    "# out of range low field\n",
    "(df_EMMA.B_NMR < 0.26).sum() / 16"
   ]
  },
  {
   "cell_type": "code",
   "execution_count": 302,
   "metadata": {},
   "outputs": [
    {
     "data": {
      "text/plain": [
       "<matplotlib.collections.PathCollection at 0x7f67c1c270d0>"
      ]
     },
     "execution_count": 302,
     "metadata": {},
     "output_type": "execute_result"
    },
    {
     "data": {
      "image/png": "[encoded data removed]",
      "text/plain": [
       "<Figure size 432x288 with 1 Axes>"
      ]
     },
     "metadata": {
      "needs_background": "light"
     },
     "output_type": "display_data"
    }
   ],
   "source": [
    "fig, ax = plt.subplots()\n",
    "ax.scatter(df_EMMA.index, df_EMMA.B_NMR, s=1)"
   ]
  },
  {
   "cell_type": "code",
   "execution_count": 307,
   "metadata": {},
   "outputs": [
    {
     "data": {
      "text/plain": [
       "array([15.24287, 15.19287, 15.14287, 15.09287, 15.04287, 14.99287,\n",
       "       14.94287, 14.89287, 14.84287, 14.79287, 14.74287, 14.69287,\n",
       "       14.64287, 14.59287, 14.54287, 14.49287, 14.44287, 14.39287,\n",
       "       14.34287, 14.29287, 14.24287, 14.19287, 14.14287, 14.09287,\n",
       "       14.04287, 13.99287, 13.94287, 13.89287, 13.84287, 13.79287,\n",
       "       13.74287, 13.69287, 13.64287, 13.59287, 13.54287, 13.49287,\n",
       "       13.44287, 13.39287, 13.34287, 13.29287, 13.24287, 13.19287,\n",
       "       13.14287, 13.09287, 13.04287, 12.99287, 12.94287, 12.89287,\n",
       "       12.84287, 12.79287, 12.74287, 12.69287, 12.64287, 12.59287,\n",
       "       12.54287, 12.49287, 12.44287, 12.39287, 12.34287, 12.29287,\n",
       "       12.24287, 12.19287, 12.14287, 12.09287, 12.04287, 11.99287,\n",
       "       11.94287, 11.89287, 11.84287, 11.79287, 11.74287, 11.69287,\n",
       "       11.64287, 11.59287, 11.54287, 11.49287, 11.44287, 11.39287,\n",
       "       11.34287, 11.29287, 11.24287, 11.19287, 11.14287, 11.09287,\n",
       "       11.04287, 10.99287, 10.94287, 10.89287, 10.84287, 10.79287,\n",
       "       10.74287, 10.69287, 10.64287, 10.59287, 10.54287, 10.49287,\n",
       "       10.44287, 10.39287, 10.34287, 10.29287, 10.24287, 10.19287,\n",
       "       10.14287, 10.09287, 10.04287,  9.99287,  9.94287,  9.89287,\n",
       "        9.84287,  9.79287,  9.74287,  9.69287,  9.64287,  9.59287,\n",
       "        9.54287,  9.49287,  9.44287,  9.39287,  9.34287,  9.29287,\n",
       "        9.24287,  9.19287,  9.14287,  9.09287,  9.04287,  8.99287,\n",
       "        8.94287,  8.89287,  8.84287,  8.79287,  8.74287,  8.69287,\n",
       "        8.64287,  8.59287,  8.54287,  8.49287,  8.44287,  8.39287,\n",
       "        8.34287,  8.29287,  8.24287,  8.19287,  8.14287,  8.09287,\n",
       "        8.04287,  7.99287,  7.94287,  7.89287,  7.84287,  7.79287,\n",
       "        7.74287,  7.69287,  7.64287,  7.59287,  7.54287,  7.49287,\n",
       "        7.44287,  7.39287,  7.34287,  7.29287,  7.24287,  7.19287,\n",
       "        7.14287,  7.09287,  7.04287,  6.99287,  6.94287,  6.89287,\n",
       "        6.84287,  6.79287,  6.74287,  6.69287,  6.64287,  6.59287,\n",
       "        6.54287,  6.49287,  6.44287,  6.39287,  6.34287,  6.29287,\n",
       "        6.24287,  6.19287,  6.14287,  6.09287,  6.04287,  5.99287,\n",
       "        5.94287,  5.89287,  5.84287,  5.79287,  5.74287,  5.69287,\n",
       "        5.64287,  5.59287,  5.54287,  5.49287,  5.44287,  5.39287,\n",
       "        5.34287,  5.29287,  5.24287,  5.19287,  5.14287,  5.09287,\n",
       "        5.04287,  4.99287,  4.94287,  4.89287,  4.84287,  4.79287,\n",
       "        4.74287,  4.69287,  4.64287,  4.59287,  4.54287])"
      ]
     },
     "execution_count": 307,
     "metadata": {},
     "output_type": "execute_result"
    }
   ],
   "source": [
    "df_EMMA.Z_NMR.unique()"
   ]
  },
  {
   "cell_type": "code",
   "execution_count": null,
   "metadata": {},
   "outputs": [],
   "source": [
    "df_EMMA['HP_BP1_X']"
   ]
  },
  {
   "cell_type": "code",
   "execution_count": 320,
   "metadata": {},
   "outputs": [
    {
     "data": {
      "image/png": "[encoded data removed]",
      "text/plain": [
       "<Figure size 720x720 with 2 Axes>"
      ]
     },
     "metadata": {
      "needs_background": "light"
     },
     "output_type": "display_data"
    }
   ],
   "source": [
    "#df_ = df_EMMA.query('Z_NMR == 10.74287')\n",
    "df_ = df_EMMA[np.isclose(df_EMMA.Z_NMR, 10.74287)]\n",
    "fig, ax = plt.subplots(figsize=(10,10))\n",
    "Xs = []\n",
    "Ys = []\n",
    "Ts = []\n",
    "for i in [1, 2, 3, 4, 5]:\n",
    "    Xs.append(df_[f'HP_BP{i}_X'].values)\n",
    "    Ys.append(df_[f'HP_BP{i}_Y'].values)\n",
    "    Ts.append(df_[f'HP_BP{i}_Temperature'].values)\n",
    "Xs = np.concatenate(Xs)\n",
    "Ys = np.concatenate(Ys)\n",
    "Ts = np.concatenate(Ts)\n",
    "sc = ax.scatter(Xs, Ys, c=Ts)\n",
    "cb = fig.colorbar(sc, label='Temperature [deg C]')\n",
    "ax.set_xlabel('X [m]')\n",
    "ax.set_ylabel('Y [m]')\n",
    "ax.axis('equal');"
   ]
  },
  {
   "cell_type": "code",
   "execution_count": 313,
   "metadata": {},
   "outputs": [
    {
     "data": {
      "text/html": [
       "<div>\n",
       "<style scoped>\n",
       "    .dataframe tbody tr th:only-of-type {\n",
       "        vertical-align: middle;\n",
       "    }\n",
       "\n",
       "    .dataframe tbody tr th {\n",
       "        vertical-align: top;\n",
       "    }\n",
       "\n",
       "    .dataframe thead th {\n",
       "        text-align: right;\n",
       "    }\n",
       "</style>\n",
       "<table border=\"1\" class=\"dataframe\">\n",
       "  <thead>\n",
       "    <tr style=\"text-align: right;\">\n",
       "      <th></th>\n",
       "      <th>TIMESTAMP</th>\n",
       "      <th>X_NMR</th>\n",
       "      <th>Y_NMR</th>\n",
       "      <th>Z_NMR</th>\n",
       "      <th>B_NMR</th>\n",
       "      <th>HP_SP1_ID</th>\n",
       "      <th>HP_SP1_X</th>\n",
       "      <th>HP_SP1_Y</th>\n",
       "      <th>HP_SP1_Z</th>\n",
       "      <th>HP_SP1_Vx</th>\n",
       "      <th>...</th>\n",
       "      <th>HP_BP5_Vx</th>\n",
       "      <th>HP_BP5_Vy</th>\n",
       "      <th>HP_BP5_Vz</th>\n",
       "      <th>HP_BP5_Temperature</th>\n",
       "      <th>HP_BP5_Bx_Meas</th>\n",
       "      <th>HP_BP5_By_Meas</th>\n",
       "      <th>HP_BP5_Bz_Meas</th>\n",
       "      <th>HP_BP5_Br</th>\n",
       "      <th>HP_BP5_Bphi</th>\n",
       "      <th>HP_BP5_Bz</th>\n",
       "    </tr>\n",
       "  </thead>\n",
       "  <tbody>\n",
       "  </tbody>\n",
       "</table>\n",
       "<p>0 rows × 117 columns</p>\n",
       "</div>"
      ],
      "text/plain": [
       "Empty DataFrame\n",
       "Columns: [TIMESTAMP, X_NMR, Y_NMR, Z_NMR, B_NMR, HP_SP1_ID, HP_SP1_X, HP_SP1_Y, HP_SP1_Z, HP_SP1_Vx, HP_SP1_Vy, HP_SP1_Vz, HP_SP1_Temperature, HP_SP1_Bx_Meas, HP_SP1_By_Meas, HP_SP1_Bz_Meas, HP_SP1_Br, HP_SP1_Bphi, HP_SP1_Bz, HP_SP2_ID, HP_SP2_X, HP_SP2_Y, HP_SP2_Z, HP_SP2_Vx, HP_SP2_Vy, HP_SP2_Vz, HP_SP2_Temperature, HP_SP2_Bx_Meas, HP_SP2_By_Meas, HP_SP2_Bz_Meas, HP_SP2_Br, HP_SP2_Bphi, HP_SP2_Bz, HP_SP3_ID, HP_SP3_X, HP_SP3_Y, HP_SP3_Z, HP_SP3_Vx, HP_SP3_Vy, HP_SP3_Vz, HP_SP3_Temperature, HP_SP3_Bx_Meas, HP_SP3_By_Meas, HP_SP3_Bz_Meas, HP_SP3_Br, HP_SP3_Bphi, HP_SP3_Bz, HP_BP1_ID, HP_BP1_X, HP_BP1_Y, HP_BP1_Z, HP_BP1_Vx, HP_BP1_Vy, HP_BP1_Vz, HP_BP1_Temperature, HP_BP1_Bx_Meas, HP_BP1_By_Meas, HP_BP1_Bz_Meas, HP_BP1_Br, HP_BP1_Bphi, HP_BP1_Bz, HP_BP2_ID, HP_BP2_X, HP_BP2_Y, HP_BP2_Z, HP_BP2_Vx, HP_BP2_Vy, HP_BP2_Vz, HP_BP2_Temperature, HP_BP2_Bx_Meas, HP_BP2_By_Meas, HP_BP2_Bz_Meas, HP_BP2_Br, HP_BP2_Bphi, HP_BP2_Bz, HP_BP3_ID, HP_BP3_X, HP_BP3_Y, HP_BP3_Z, HP_BP3_Vx, HP_BP3_Vy, HP_BP3_Vz, HP_BP3_Temperature, HP_BP3_Bx_Meas, HP_BP3_By_Meas, HP_BP3_Bz_Meas, HP_BP3_Br, HP_BP3_Bphi, HP_BP3_Bz, HP_BP4_ID, HP_BP4_X, HP_BP4_Y, HP_BP4_Z, HP_BP4_Vx, HP_BP4_Vy, HP_BP4_Vz, HP_BP4_Temperature, HP_BP4_Bx_Meas, HP_BP4_By_Meas, HP_BP4_Bz_Meas, ...]\n",
       "Index: []\n",
       "\n",
       "[0 rows x 117 columns]"
      ]
     },
     "execution_count": 313,
     "metadata": {},
     "output_type": "execute_result"
    }
   ],
   "source": [
    "df_"
   ]
  },
  {
   "cell_type": "code",
   "execution_count": null,
   "metadata": {},
   "outputs": [],
   "source": []
  },
  {
   "cell_type": "code",
   "execution_count": 303,
   "metadata": {},
   "outputs": [
    {
     "data": {
      "text/html": [
       "<div>\n",
       "<style scoped>\n",
       "    .dataframe tbody tr th:only-of-type {\n",
       "        vertical-align: middle;\n",
       "    }\n",
       "\n",
       "    .dataframe tbody tr th {\n",
       "        vertical-align: top;\n",
       "    }\n",
       "\n",
       "    .dataframe thead th {\n",
       "        text-align: right;\n",
       "    }\n",
       "</style>\n",
       "<table border=\"1\" class=\"dataframe\">\n",
       "  <thead>\n",
       "    <tr style=\"text-align: right;\">\n",
       "      <th></th>\n",
       "      <th>TIMESTAMP</th>\n",
       "      <th>X_NMR</th>\n",
       "      <th>Y_NMR</th>\n",
       "      <th>Z_NMR</th>\n",
       "      <th>B_NMR</th>\n",
       "      <th>HP_SP1_ID</th>\n",
       "      <th>HP_SP1_X</th>\n",
       "      <th>HP_SP1_Y</th>\n",
       "      <th>HP_SP1_Z</th>\n",
       "      <th>HP_SP1_Vx</th>\n",
       "      <th>...</th>\n",
       "      <th>HP_BP5_Vx</th>\n",
       "      <th>HP_BP5_Vy</th>\n",
       "      <th>HP_BP5_Vz</th>\n",
       "      <th>HP_BP5_Temperature</th>\n",
       "      <th>HP_BP5_Bx_Meas</th>\n",
       "      <th>HP_BP5_By_Meas</th>\n",
       "      <th>HP_BP5_Bz_Meas</th>\n",
       "      <th>HP_BP5_Br</th>\n",
       "      <th>HP_BP5_Bphi</th>\n",
       "      <th>HP_BP5_Bz</th>\n",
       "    </tr>\n",
       "  </thead>\n",
       "  <tbody>\n",
       "    <tr>\n",
       "      <th>0</th>\n",
       "      <td>2021-07-21 12:04:00</td>\n",
       "      <td>-1.953312e-17</td>\n",
       "      <td>-0.319</td>\n",
       "      <td>15.24287</td>\n",
       "      <td>0.000000</td>\n",
       "      <td>4C0000000D55C93A</td>\n",
       "      <td>0.0</td>\n",
       "      <td>0.0</td>\n",
       "      <td>13.685</td>\n",
       "      <td>-60775.833581</td>\n",
       "      <td>...</td>\n",
       "      <td>-57063.462006</td>\n",
       "      <td>149978.713517</td>\n",
       "      <td>3.378109e+05</td>\n",
       "      <td>20.898000</td>\n",
       "      <td>0.000108</td>\n",
       "      <td>0.073242</td>\n",
       "      <td>0.139591</td>\n",
       "      <td>0.073242</td>\n",
       "      <td>-0.000108</td>\n",
       "      <td>0.139591</td>\n",
       "    </tr>\n",
       "    <tr>\n",
       "      <th>1</th>\n",
       "      <td>2021-07-21 12:04:00</td>\n",
       "      <td>-1.953312e-17</td>\n",
       "      <td>-0.319</td>\n",
       "      <td>15.24287</td>\n",
       "      <td>0.000000</td>\n",
       "      <td>4C0000000D55C93A</td>\n",
       "      <td>0.0</td>\n",
       "      <td>0.0</td>\n",
       "      <td>13.685</td>\n",
       "      <td>-60775.833581</td>\n",
       "      <td>...</td>\n",
       "      <td>-56429.999375</td>\n",
       "      <td>149938.842782</td>\n",
       "      <td>3.379242e+05</td>\n",
       "      <td>21.204147</td>\n",
       "      <td>0.000332</td>\n",
       "      <td>0.073228</td>\n",
       "      <td>0.139631</td>\n",
       "      <td>0.073228</td>\n",
       "      <td>-0.000332</td>\n",
       "      <td>0.139631</td>\n",
       "    </tr>\n",
       "    <tr>\n",
       "      <th>2</th>\n",
       "      <td>2021-07-21 12:04:00</td>\n",
       "      <td>-1.953312e-17</td>\n",
       "      <td>-0.319</td>\n",
       "      <td>15.24287</td>\n",
       "      <td>0.000000</td>\n",
       "      <td>4C0000000D55C93A</td>\n",
       "      <td>0.0</td>\n",
       "      <td>0.0</td>\n",
       "      <td>13.685</td>\n",
       "      <td>-60775.833581</td>\n",
       "      <td>...</td>\n",
       "      <td>-55840.321936</td>\n",
       "      <td>149806.558156</td>\n",
       "      <td>3.384032e+05</td>\n",
       "      <td>21.463685</td>\n",
       "      <td>0.000540</td>\n",
       "      <td>0.073181</td>\n",
       "      <td>0.139800</td>\n",
       "      <td>0.073181</td>\n",
       "      <td>-0.000540</td>\n",
       "      <td>0.139800</td>\n",
       "    </tr>\n",
       "    <tr>\n",
       "      <th>3</th>\n",
       "      <td>2021-07-21 12:04:00</td>\n",
       "      <td>-1.953312e-17</td>\n",
       "      <td>-0.319</td>\n",
       "      <td>15.24287</td>\n",
       "      <td>0.000000</td>\n",
       "      <td>4C0000000D55C93A</td>\n",
       "      <td>-0.0</td>\n",
       "      <td>0.0</td>\n",
       "      <td>13.685</td>\n",
       "      <td>-60775.833581</td>\n",
       "      <td>...</td>\n",
       "      <td>-55371.956333</td>\n",
       "      <td>149535.744336</td>\n",
       "      <td>3.391707e+05</td>\n",
       "      <td>21.637104</td>\n",
       "      <td>0.000706</td>\n",
       "      <td>0.073086</td>\n",
       "      <td>0.140071</td>\n",
       "      <td>0.073086</td>\n",
       "      <td>-0.000706</td>\n",
       "      <td>0.140071</td>\n",
       "    </tr>\n",
       "    <tr>\n",
       "      <th>4</th>\n",
       "      <td>2021-07-21 12:04:00</td>\n",
       "      <td>-1.953312e-17</td>\n",
       "      <td>-0.319</td>\n",
       "      <td>15.24287</td>\n",
       "      <td>0.000000</td>\n",
       "      <td>4C0000000D55C93A</td>\n",
       "      <td>-0.0</td>\n",
       "      <td>0.0</td>\n",
       "      <td>13.685</td>\n",
       "      <td>-60775.833581</td>\n",
       "      <td>...</td>\n",
       "      <td>-55126.697518</td>\n",
       "      <td>149148.223453</td>\n",
       "      <td>3.401593e+05</td>\n",
       "      <td>21.698000</td>\n",
       "      <td>0.000792</td>\n",
       "      <td>0.072949</td>\n",
       "      <td>0.140420</td>\n",
       "      <td>0.072949</td>\n",
       "      <td>-0.000792</td>\n",
       "      <td>0.140420</td>\n",
       "    </tr>\n",
       "    <tr>\n",
       "      <th>...</th>\n",
       "      <td>...</td>\n",
       "      <td>...</td>\n",
       "      <td>...</td>\n",
       "      <td>...</td>\n",
       "      <td>...</td>\n",
       "      <td>...</td>\n",
       "      <td>...</td>\n",
       "      <td>...</td>\n",
       "      <td>...</td>\n",
       "      <td>...</td>\n",
       "      <td>...</td>\n",
       "      <td>...</td>\n",
       "      <td>...</td>\n",
       "      <td>...</td>\n",
       "      <td>...</td>\n",
       "      <td>...</td>\n",
       "      <td>...</td>\n",
       "      <td>...</td>\n",
       "      <td>...</td>\n",
       "      <td>...</td>\n",
       "      <td>...</td>\n",
       "    </tr>\n",
       "    <tr>\n",
       "      <th>3435</th>\n",
       "      <td>2021-07-22 02:20:00</td>\n",
       "      <td>-1.953312e-17</td>\n",
       "      <td>-0.319</td>\n",
       "      <td>4.54287</td>\n",
       "      <td>1.837437</td>\n",
       "      <td>4C0000000D55C93A</td>\n",
       "      <td>0.0</td>\n",
       "      <td>-0.0</td>\n",
       "      <td>2.985</td>\n",
       "      <td>-62445.565434</td>\n",
       "      <td>...</td>\n",
       "      <td>-52593.753200</td>\n",
       "      <td>-37618.415579</td>\n",
       "      <td>5.556186e+06</td>\n",
       "      <td>21.228896</td>\n",
       "      <td>0.001687</td>\n",
       "      <td>0.006977</td>\n",
       "      <td>1.982888</td>\n",
       "      <td>0.006977</td>\n",
       "      <td>-0.001687</td>\n",
       "      <td>1.982888</td>\n",
       "    </tr>\n",
       "    <tr>\n",
       "      <th>3436</th>\n",
       "      <td>2021-07-22 02:20:00</td>\n",
       "      <td>-1.953312e-17</td>\n",
       "      <td>-0.319</td>\n",
       "      <td>4.54287</td>\n",
       "      <td>1.837437</td>\n",
       "      <td>4C0000000D55C93A</td>\n",
       "      <td>0.0</td>\n",
       "      <td>-0.0</td>\n",
       "      <td>2.985</td>\n",
       "      <td>-62445.565434</td>\n",
       "      <td>...</td>\n",
       "      <td>-51759.944155</td>\n",
       "      <td>-39869.775375</td>\n",
       "      <td>5.562622e+06</td>\n",
       "      <td>21.168000</td>\n",
       "      <td>0.001982</td>\n",
       "      <td>0.006182</td>\n",
       "      <td>1.985161</td>\n",
       "      <td>0.006182</td>\n",
       "      <td>-0.001982</td>\n",
       "      <td>1.985161</td>\n",
       "    </tr>\n",
       "    <tr>\n",
       "      <th>3437</th>\n",
       "      <td>2021-07-22 02:20:00</td>\n",
       "      <td>-1.953312e-17</td>\n",
       "      <td>-0.319</td>\n",
       "      <td>4.54287</td>\n",
       "      <td>1.837437</td>\n",
       "      <td>4C0000000D55C93A</td>\n",
       "      <td>0.0</td>\n",
       "      <td>-0.0</td>\n",
       "      <td>2.985</td>\n",
       "      <td>-62445.565434</td>\n",
       "      <td>...</td>\n",
       "      <td>-51792.577860</td>\n",
       "      <td>-42236.528615</td>\n",
       "      <td>5.567011e+06</td>\n",
       "      <td>21.228896</td>\n",
       "      <td>0.001970</td>\n",
       "      <td>0.005346</td>\n",
       "      <td>1.986712</td>\n",
       "      <td>0.005346</td>\n",
       "      <td>-0.001970</td>\n",
       "      <td>1.986712</td>\n",
       "    </tr>\n",
       "    <tr>\n",
       "      <th>3438</th>\n",
       "      <td>2021-07-22 02:20:00</td>\n",
       "      <td>-1.953312e-17</td>\n",
       "      <td>-0.319</td>\n",
       "      <td>4.54287</td>\n",
       "      <td>1.837437</td>\n",
       "      <td>4C0000000D55C93A</td>\n",
       "      <td>0.0</td>\n",
       "      <td>-0.0</td>\n",
       "      <td>2.985</td>\n",
       "      <td>-62445.565434</td>\n",
       "      <td>...</td>\n",
       "      <td>-52845.566958</td>\n",
       "      <td>-44544.026019</td>\n",
       "      <td>5.572059e+06</td>\n",
       "      <td>21.402315</td>\n",
       "      <td>0.001598</td>\n",
       "      <td>0.004531</td>\n",
       "      <td>1.988495</td>\n",
       "      <td>0.004531</td>\n",
       "      <td>-0.001598</td>\n",
       "      <td>1.988495</td>\n",
       "    </tr>\n",
       "    <tr>\n",
       "      <th>3439</th>\n",
       "      <td>2021-07-22 02:20:00</td>\n",
       "      <td>-1.953312e-17</td>\n",
       "      <td>-0.319</td>\n",
       "      <td>4.54287</td>\n",
       "      <td>1.837437</td>\n",
       "      <td>4C0000000D55C93A</td>\n",
       "      <td>0.0</td>\n",
       "      <td>0.0</td>\n",
       "      <td>2.985</td>\n",
       "      <td>-62445.565434</td>\n",
       "      <td>...</td>\n",
       "      <td>-54903.347065</td>\n",
       "      <td>-46208.601483</td>\n",
       "      <td>5.575894e+06</td>\n",
       "      <td>21.661853</td>\n",
       "      <td>0.000871</td>\n",
       "      <td>0.003943</td>\n",
       "      <td>1.989849</td>\n",
       "      <td>0.003943</td>\n",
       "      <td>-0.000871</td>\n",
       "      <td>1.989849</td>\n",
       "    </tr>\n",
       "  </tbody>\n",
       "</table>\n",
       "<p>3440 rows × 117 columns</p>\n",
       "</div>"
      ],
      "text/plain": [
       "                TIMESTAMP         X_NMR  Y_NMR     Z_NMR     B_NMR  \\\n",
       "0     2021-07-21 12:04:00 -1.953312e-17 -0.319  15.24287  0.000000   \n",
       "1     2021-07-21 12:04:00 -1.953312e-17 -0.319  15.24287  0.000000   \n",
       "2     2021-07-21 12:04:00 -1.953312e-17 -0.319  15.24287  0.000000   \n",
       "3     2021-07-21 12:04:00 -1.953312e-17 -0.319  15.24287  0.000000   \n",
       "4     2021-07-21 12:04:00 -1.953312e-17 -0.319  15.24287  0.000000   \n",
       "...                   ...           ...    ...       ...       ...   \n",
       "3435  2021-07-22 02:20:00 -1.953312e-17 -0.319   4.54287  1.837437   \n",
       "3436  2021-07-22 02:20:00 -1.953312e-17 -0.319   4.54287  1.837437   \n",
       "3437  2021-07-22 02:20:00 -1.953312e-17 -0.319   4.54287  1.837437   \n",
       "3438  2021-07-22 02:20:00 -1.953312e-17 -0.319   4.54287  1.837437   \n",
       "3439  2021-07-22 02:20:00 -1.953312e-17 -0.319   4.54287  1.837437   \n",
       "\n",
       "             HP_SP1_ID  HP_SP1_X  HP_SP1_Y  HP_SP1_Z     HP_SP1_Vx  ...  \\\n",
       "0     4C0000000D55C93A       0.0       0.0    13.685 -60775.833581  ...   \n",
       "1     4C0000000D55C93A       0.0       0.0    13.685 -60775.833581  ...   \n",
       "2     4C0000000D55C93A       0.0       0.0    13.685 -60775.833581  ...   \n",
       "3     4C0000000D55C93A      -0.0       0.0    13.685 -60775.833581  ...   \n",
       "4     4C0000000D55C93A      -0.0       0.0    13.685 -60775.833581  ...   \n",
       "...                ...       ...       ...       ...           ...  ...   \n",
       "3435  4C0000000D55C93A       0.0      -0.0     2.985 -62445.565434  ...   \n",
       "3436  4C0000000D55C93A       0.0      -0.0     2.985 -62445.565434  ...   \n",
       "3437  4C0000000D55C93A       0.0      -0.0     2.985 -62445.565434  ...   \n",
       "3438  4C0000000D55C93A       0.0      -0.0     2.985 -62445.565434  ...   \n",
       "3439  4C0000000D55C93A       0.0       0.0     2.985 -62445.565434  ...   \n",
       "\n",
       "         HP_BP5_Vx      HP_BP5_Vy     HP_BP5_Vz  HP_BP5_Temperature  \\\n",
       "0    -57063.462006  149978.713517  3.378109e+05           20.898000   \n",
       "1    -56429.999375  149938.842782  3.379242e+05           21.204147   \n",
       "2    -55840.321936  149806.558156  3.384032e+05           21.463685   \n",
       "3    -55371.956333  149535.744336  3.391707e+05           21.637104   \n",
       "4    -55126.697518  149148.223453  3.401593e+05           21.698000   \n",
       "...            ...            ...           ...                 ...   \n",
       "3435 -52593.753200  -37618.415579  5.556186e+06           21.228896   \n",
       "3436 -51759.944155  -39869.775375  5.562622e+06           21.168000   \n",
       "3437 -51792.577860  -42236.528615  5.567011e+06           21.228896   \n",
       "3438 -52845.566958  -44544.026019  5.572059e+06           21.402315   \n",
       "3439 -54903.347065  -46208.601483  5.575894e+06           21.661853   \n",
       "\n",
       "      HP_BP5_Bx_Meas  HP_BP5_By_Meas  HP_BP5_Bz_Meas  HP_BP5_Br  HP_BP5_Bphi  \\\n",
       "0           0.000108        0.073242        0.139591   0.073242    -0.000108   \n",
       "1           0.000332        0.073228        0.139631   0.073228    -0.000332   \n",
       "2           0.000540        0.073181        0.139800   0.073181    -0.000540   \n",
       "3           0.000706        0.073086        0.140071   0.073086    -0.000706   \n",
       "4           0.000792        0.072949        0.140420   0.072949    -0.000792   \n",
       "...              ...             ...             ...        ...          ...   \n",
       "3435        0.001687        0.006977        1.982888   0.006977    -0.001687   \n",
       "3436        0.001982        0.006182        1.985161   0.006182    -0.001982   \n",
       "3437        0.001970        0.005346        1.986712   0.005346    -0.001970   \n",
       "3438        0.001598        0.004531        1.988495   0.004531    -0.001598   \n",
       "3439        0.000871        0.003943        1.989849   0.003943    -0.000871   \n",
       "\n",
       "     HP_BP5_Bz  \n",
       "0     0.139591  \n",
       "1     0.139631  \n",
       "2     0.139800  \n",
       "3     0.140071  \n",
       "4     0.140420  \n",
       "...        ...  \n",
       "3435  1.982888  \n",
       "3436  1.985161  \n",
       "3437  1.986712  \n",
       "3438  1.988495  \n",
       "3439  1.989849  \n",
       "\n",
       "[3440 rows x 117 columns]"
      ]
     },
     "execution_count": 303,
     "metadata": {},
     "output_type": "execute_result"
    }
   ],
   "source": [
    "df_EMMA"
   ]
  },
  {
   "cell_type": "code",
   "execution_count": null,
   "metadata": {},
   "outputs": [],
   "source": []
  },
  {
   "cell_type": "code",
   "execution_count": 304,
   "metadata": {},
   "outputs": [
    {
     "data": {
      "text/plain": [
       "'hello 10 hi inf'"
      ]
     },
     "execution_count": 304,
     "metadata": {},
     "output_type": "execute_result"
    }
   ],
   "source": [
    "# variable = 'world'\n",
    "variable = 10\n",
    "'hello ' + str(variable) + '!'\n",
    "\n",
    "'hello {0} {1} {2}'.format(variable, \"hi\", np.inf)\n",
    "f'hello {variable} {\"hi\"} {np.inf}'"
   ]
  },
  {
   "cell_type": "code",
   "execution_count": 270,
   "metadata": {},
   "outputs": [
    {
     "data": {
      "text/plain": [
       "'FluxDensity:1.449221'"
      ]
     },
     "execution_count": 270,
     "metadata": {},
     "output_type": "execute_result"
    }
   ],
   "source": [
    "fluxdensity = 1.449221219458029580983509714124\n",
    "f\"FluxDensity:{fluxdensity:.6f}\""
   ]
  },
  {
   "cell_type": "code",
   "execution_count": null,
   "metadata": {},
   "outputs": [],
   "source": [
    "def write_NMR(index, dataframe):\n",
    "    # \n",
    "    fluxdensity = dataframe['B_NMR'].iloc[index]\n",
    "    NMR_array = np.array(['ProbeName:NMR', \"ProbeID:...\",\n",
    "                          f\"FluxDensity:{fluxdensity}\"])\n",
    "    \n",
    "    nptdms.write_channel([])\n",
    "    \n",
    "    \n",
    "def write_Hall():\n",
    "    #\n",
    "    \n",
    "    #\n",
    "    #\n",
    "# def\n",
    "#. .....\n",
    "\n",
    "\n",
    "def write_group(index, dataframe):\n",
    "    write_NMR(index, dataframe)\n",
    "    write_Hall()\n",
    "    ..\n",
    "    .\n",
    "    .\n",
    "    "
   ]
  },
  {
   "cell_type": "code",
   "execution_count": null,
   "metadata": {},
   "outputs": [],
   "source": []
  },
  {
   "cell_type": "code",
   "execution_count": null,
   "metadata": {},
   "outputs": [],
   "source": [
    "df = pd.read_pickle(input_file)\n",
    "\n",
    "for i in range(len(df)):\n",
    "    write_group(i, df)"
   ]
  },
  {
   "cell_type": "code",
   "execution_count": null,
   "metadata": {},
   "outputs": [],
   "source": []
  },
  {
   "cell_type": "code",
   "execution_count": 256,
   "metadata": {},
   "outputs": [
    {
     "data": {
      "text/plain": [
       "array([ 0.00000000e+00, -1.95331164e-17, -3.19000000e-01,  1.52428700e+01])"
      ]
     },
     "execution_count": 256,
     "metadata": {},
     "output_type": "execute_result"
    }
   ],
   "source": [
    "columns = ['B_NMR', 'X_NMR', 'Y_NMR', 'Z_NMR']\n",
    "\n",
    "df_EMMA[columns].iloc[0].values"
   ]
  },
  {
   "cell_type": "code",
   "execution_count": 257,
   "metadata": {},
   "outputs": [
    {
     "data": {
      "text/html": [
       "<div>\n",
       "<style scoped>\n",
       "    .dataframe tbody tr th:only-of-type {\n",
       "        vertical-align: middle;\n",
       "    }\n",
       "\n",
       "    .dataframe tbody tr th {\n",
       "        vertical-align: top;\n",
       "    }\n",
       "\n",
       "    .dataframe thead th {\n",
       "        text-align: right;\n",
       "    }\n",
       "</style>\n",
       "<table border=\"1\" class=\"dataframe\">\n",
       "  <thead>\n",
       "    <tr style=\"text-align: right;\">\n",
       "      <th></th>\n",
       "      <th>B_NMR</th>\n",
       "      <th>X_NMR</th>\n",
       "      <th>Y_NMR</th>\n",
       "      <th>Z_NMR</th>\n",
       "    </tr>\n",
       "  </thead>\n",
       "  <tbody>\n",
       "    <tr>\n",
       "      <th>0</th>\n",
       "      <td>0.000000</td>\n",
       "      <td>-1.953312e-17</td>\n",
       "      <td>-0.319</td>\n",
       "      <td>15.24287</td>\n",
       "    </tr>\n",
       "    <tr>\n",
       "      <th>1</th>\n",
       "      <td>0.000000</td>\n",
       "      <td>-1.953312e-17</td>\n",
       "      <td>-0.319</td>\n",
       "      <td>15.24287</td>\n",
       "    </tr>\n",
       "    <tr>\n",
       "      <th>2</th>\n",
       "      <td>0.000000</td>\n",
       "      <td>-1.953312e-17</td>\n",
       "      <td>-0.319</td>\n",
       "      <td>15.24287</td>\n",
       "    </tr>\n",
       "    <tr>\n",
       "      <th>3</th>\n",
       "      <td>0.000000</td>\n",
       "      <td>-1.953312e-17</td>\n",
       "      <td>-0.319</td>\n",
       "      <td>15.24287</td>\n",
       "    </tr>\n",
       "    <tr>\n",
       "      <th>4</th>\n",
       "      <td>0.000000</td>\n",
       "      <td>-1.953312e-17</td>\n",
       "      <td>-0.319</td>\n",
       "      <td>15.24287</td>\n",
       "    </tr>\n",
       "    <tr>\n",
       "      <th>...</th>\n",
       "      <td>...</td>\n",
       "      <td>...</td>\n",
       "      <td>...</td>\n",
       "      <td>...</td>\n",
       "    </tr>\n",
       "    <tr>\n",
       "      <th>3435</th>\n",
       "      <td>1.837437</td>\n",
       "      <td>-1.953312e-17</td>\n",
       "      <td>-0.319</td>\n",
       "      <td>4.54287</td>\n",
       "    </tr>\n",
       "    <tr>\n",
       "      <th>3436</th>\n",
       "      <td>1.837437</td>\n",
       "      <td>-1.953312e-17</td>\n",
       "      <td>-0.319</td>\n",
       "      <td>4.54287</td>\n",
       "    </tr>\n",
       "    <tr>\n",
       "      <th>3437</th>\n",
       "      <td>1.837437</td>\n",
       "      <td>-1.953312e-17</td>\n",
       "      <td>-0.319</td>\n",
       "      <td>4.54287</td>\n",
       "    </tr>\n",
       "    <tr>\n",
       "      <th>3438</th>\n",
       "      <td>1.837437</td>\n",
       "      <td>-1.953312e-17</td>\n",
       "      <td>-0.319</td>\n",
       "      <td>4.54287</td>\n",
       "    </tr>\n",
       "    <tr>\n",
       "      <th>3439</th>\n",
       "      <td>1.837437</td>\n",
       "      <td>-1.953312e-17</td>\n",
       "      <td>-0.319</td>\n",
       "      <td>4.54287</td>\n",
       "    </tr>\n",
       "  </tbody>\n",
       "</table>\n",
       "<p>3440 rows × 4 columns</p>\n",
       "</div>"
      ],
      "text/plain": [
       "         B_NMR         X_NMR  Y_NMR     Z_NMR\n",
       "0     0.000000 -1.953312e-17 -0.319  15.24287\n",
       "1     0.000000 -1.953312e-17 -0.319  15.24287\n",
       "2     0.000000 -1.953312e-17 -0.319  15.24287\n",
       "3     0.000000 -1.953312e-17 -0.319  15.24287\n",
       "4     0.000000 -1.953312e-17 -0.319  15.24287\n",
       "...        ...           ...    ...       ...\n",
       "3435  1.837437 -1.953312e-17 -0.319   4.54287\n",
       "3436  1.837437 -1.953312e-17 -0.319   4.54287\n",
       "3437  1.837437 -1.953312e-17 -0.319   4.54287\n",
       "3438  1.837437 -1.953312e-17 -0.319   4.54287\n",
       "3439  1.837437 -1.953312e-17 -0.319   4.54287\n",
       "\n",
       "[3440 rows x 4 columns]"
      ]
     },
     "execution_count": 257,
     "metadata": {},
     "output_type": "execute_result"
    }
   ],
   "source": [
    "df_EMMA[columns]"
   ]
  },
  {
   "cell_type": "code",
   "execution_count": null,
   "metadata": {},
   "outputs": [],
   "source": []
  },
  {
   "cell_type": "code",
   "execution_count": null,
   "metadata": {},
   "outputs": [],
   "source": []
  },
  {
   "cell_type": "code",
   "execution_count": null,
   "metadata": {},
   "outputs": [],
   "source": []
  },
  {
   "cell_type": "code",
   "execution_count": 222,
   "metadata": {
    "scrolled": true
   },
   "outputs": [
    {
     "data": {
      "text/plain": [
       "27520"
      ]
     },
     "execution_count": 222,
     "metadata": {},
     "output_type": "execute_result"
    }
   ],
   "source": [
    "len(Zs_BP)*len(Phis) * 8 # number of hall probe readings"
   ]
  },
  {
   "cell_type": "code",
   "execution_count": null,
   "metadata": {},
   "outputs": [],
   "source": []
  },
  {
   "cell_type": "code",
   "execution_count": null,
   "metadata": {},
   "outputs": [],
   "source": []
  },
  {
   "cell_type": "code",
   "execution_count": null,
   "metadata": {},
   "outputs": [],
   "source": []
  },
  {
   "cell_type": "code",
   "execution_count": 48,
   "metadata": {},
   "outputs": [
    {
     "data": {
      "text/plain": [
       "array([13.685, 13.635, 13.585, 13.535, 13.485, 13.435, 13.385, 13.335,\n",
       "       13.285, 13.235, 13.185, 13.135, 13.085, 13.035, 12.985, 12.935,\n",
       "       12.885, 12.835, 12.785, 12.735, 12.685, 12.635, 12.585, 12.535,\n",
       "       12.485, 12.435, 12.385, 12.335, 12.285, 12.235, 12.185, 12.135,\n",
       "       12.085, 12.035, 11.985, 11.935, 11.885, 11.835, 11.785, 11.735,\n",
       "       11.685, 11.635, 11.585, 11.535, 11.485, 11.435, 11.385, 11.335,\n",
       "       11.285, 11.235, 11.185, 11.135, 11.085, 11.035, 10.985, 10.935,\n",
       "       10.885, 10.835, 10.785, 10.735, 10.685, 10.635, 10.585, 10.535,\n",
       "       10.485, 10.435, 10.385, 10.335, 10.285, 10.235, 10.185, 10.135,\n",
       "       10.085, 10.035,  9.985,  9.935,  9.885,  9.835,  9.785,  9.735,\n",
       "        9.685,  9.635,  9.585,  9.535,  9.485,  9.435,  9.385,  9.335,\n",
       "        9.285,  9.235,  9.185,  9.135,  9.085,  9.035,  8.985,  8.935,\n",
       "        8.885,  8.835,  8.785,  8.735,  8.685,  8.635,  8.585,  8.535,\n",
       "        8.485,  8.435,  8.385,  8.335,  8.285,  8.235,  8.185,  8.135,\n",
       "        8.085,  8.035,  7.985,  7.935,  7.885,  7.835,  7.785,  7.735,\n",
       "        7.685,  7.635,  7.585,  7.535,  7.485,  7.435,  7.385,  7.335,\n",
       "        7.285,  7.235,  7.185,  7.135,  7.085,  7.035,  6.985,  6.935,\n",
       "        6.885,  6.835,  6.785,  6.735,  6.685,  6.635,  6.585,  6.535,\n",
       "        6.485,  6.435,  6.385,  6.335,  6.285,  6.235,  6.185,  6.135,\n",
       "        6.085,  6.035,  5.985,  5.935,  5.885,  5.835,  5.785,  5.735,\n",
       "        5.685,  5.635,  5.585,  5.535,  5.485,  5.435,  5.385,  5.335,\n",
       "        5.285,  5.235,  5.185,  5.135,  5.085,  5.035,  4.985,  4.935,\n",
       "        4.885,  4.835,  4.785,  4.735,  4.685,  4.635,  4.585,  4.535,\n",
       "        4.485,  4.435,  4.385,  4.335,  4.285,  4.235,  4.185,  4.135,\n",
       "        4.085,  4.035,  3.985,  3.935,  3.885,  3.835,  3.785,  3.735,\n",
       "        3.685,  3.635,  3.585,  3.535,  3.485,  3.435,  3.385,  3.335,\n",
       "        3.285,  3.235,  3.185,  3.135,  3.085,  3.035,  2.985])"
      ]
     },
     "execution_count": 48,
     "metadata": {},
     "output_type": "execute_result"
    }
   ],
   "source": [
    "Zs_SP"
   ]
  },
  {
   "cell_type": "code",
   "execution_count": 49,
   "metadata": {},
   "outputs": [
    {
     "data": {
      "text/plain": [
       "array([15.02, 14.97, 14.92, 14.87, 14.82, 14.77, 14.72, 14.67, 14.62,\n",
       "       14.57, 14.52, 14.47, 14.42, 14.37, 14.32, 14.27, 14.22, 14.17,\n",
       "       14.12, 14.07, 14.02, 13.97, 13.92, 13.87, 13.82, 13.77, 13.72,\n",
       "       13.67, 13.62, 13.57, 13.52, 13.47, 13.42, 13.37, 13.32, 13.27,\n",
       "       13.22, 13.17, 13.12, 13.07, 13.02, 12.97, 12.92, 12.87, 12.82,\n",
       "       12.77, 12.72, 12.67, 12.62, 12.57, 12.52, 12.47, 12.42, 12.37,\n",
       "       12.32, 12.27, 12.22, 12.17, 12.12, 12.07, 12.02, 11.97, 11.92,\n",
       "       11.87, 11.82, 11.77, 11.72, 11.67, 11.62, 11.57, 11.52, 11.47,\n",
       "       11.42, 11.37, 11.32, 11.27, 11.22, 11.17, 11.12, 11.07, 11.02,\n",
       "       10.97, 10.92, 10.87, 10.82, 10.77, 10.72, 10.67, 10.62, 10.57,\n",
       "       10.52, 10.47, 10.42, 10.37, 10.32, 10.27, 10.22, 10.17, 10.12,\n",
       "       10.07, 10.02,  9.97,  9.92,  9.87,  9.82,  9.77,  9.72,  9.67,\n",
       "        9.62,  9.57,  9.52,  9.47,  9.42,  9.37,  9.32,  9.27,  9.22,\n",
       "        9.17,  9.12,  9.07,  9.02,  8.97,  8.92,  8.87,  8.82,  8.77,\n",
       "        8.72,  8.67,  8.62,  8.57,  8.52,  8.47,  8.42,  8.37,  8.32,\n",
       "        8.27,  8.22,  8.17,  8.12,  8.07,  8.02,  7.97,  7.92,  7.87,\n",
       "        7.82,  7.77,  7.72,  7.67,  7.62,  7.57,  7.52,  7.47,  7.42,\n",
       "        7.37,  7.32,  7.27,  7.22,  7.17,  7.12,  7.07,  7.02,  6.97,\n",
       "        6.92,  6.87,  6.82,  6.77,  6.72,  6.67,  6.62,  6.57,  6.52,\n",
       "        6.47,  6.42,  6.37,  6.32,  6.27,  6.22,  6.17,  6.12,  6.07,\n",
       "        6.02,  5.97,  5.92,  5.87,  5.82,  5.77,  5.72,  5.67,  5.62,\n",
       "        5.57,  5.52,  5.47,  5.42,  5.37,  5.32,  5.27,  5.22,  5.17,\n",
       "        5.12,  5.07,  5.02,  4.97,  4.92,  4.87,  4.82,  4.77,  4.72,\n",
       "        4.67,  4.62,  4.57,  4.52,  4.47,  4.42,  4.37,  4.32])"
      ]
     },
     "execution_count": 49,
     "metadata": {},
     "output_type": "execute_result"
    }
   ],
   "source": [
    "Zs_BP"
   ]
  },
  {
   "cell_type": "code",
   "execution_count": 50,
   "metadata": {},
   "outputs": [
    {
     "data": {
      "text/plain": [
       "array([15.24287, 15.19287, 15.14287, 15.09287, 15.04287, 14.99287,\n",
       "       14.94287, 14.89287, 14.84287, 14.79287, 14.74287, 14.69287,\n",
       "       14.64287, 14.59287, 14.54287, 14.49287, 14.44287, 14.39287,\n",
       "       14.34287, 14.29287, 14.24287, 14.19287, 14.14287, 14.09287,\n",
       "       14.04287, 13.99287, 13.94287, 13.89287, 13.84287, 13.79287,\n",
       "       13.74287, 13.69287, 13.64287, 13.59287, 13.54287, 13.49287,\n",
       "       13.44287, 13.39287, 13.34287, 13.29287, 13.24287, 13.19287,\n",
       "       13.14287, 13.09287, 13.04287, 12.99287, 12.94287, 12.89287,\n",
       "       12.84287, 12.79287, 12.74287, 12.69287, 12.64287, 12.59287,\n",
       "       12.54287, 12.49287, 12.44287, 12.39287, 12.34287, 12.29287,\n",
       "       12.24287, 12.19287, 12.14287, 12.09287, 12.04287, 11.99287,\n",
       "       11.94287, 11.89287, 11.84287, 11.79287, 11.74287, 11.69287,\n",
       "       11.64287, 11.59287, 11.54287, 11.49287, 11.44287, 11.39287,\n",
       "       11.34287, 11.29287, 11.24287, 11.19287, 11.14287, 11.09287,\n",
       "       11.04287, 10.99287, 10.94287, 10.89287, 10.84287, 10.79287,\n",
       "       10.74287, 10.69287, 10.64287, 10.59287, 10.54287, 10.49287,\n",
       "       10.44287, 10.39287, 10.34287, 10.29287, 10.24287, 10.19287,\n",
       "       10.14287, 10.09287, 10.04287,  9.99287,  9.94287,  9.89287,\n",
       "        9.84287,  9.79287,  9.74287,  9.69287,  9.64287,  9.59287,\n",
       "        9.54287,  9.49287,  9.44287,  9.39287,  9.34287,  9.29287,\n",
       "        9.24287,  9.19287,  9.14287,  9.09287,  9.04287,  8.99287,\n",
       "        8.94287,  8.89287,  8.84287,  8.79287,  8.74287,  8.69287,\n",
       "        8.64287,  8.59287,  8.54287,  8.49287,  8.44287,  8.39287,\n",
       "        8.34287,  8.29287,  8.24287,  8.19287,  8.14287,  8.09287,\n",
       "        8.04287,  7.99287,  7.94287,  7.89287,  7.84287,  7.79287,\n",
       "        7.74287,  7.69287,  7.64287,  7.59287,  7.54287,  7.49287,\n",
       "        7.44287,  7.39287,  7.34287,  7.29287,  7.24287,  7.19287,\n",
       "        7.14287,  7.09287,  7.04287,  6.99287,  6.94287,  6.89287,\n",
       "        6.84287,  6.79287,  6.74287,  6.69287,  6.64287,  6.59287,\n",
       "        6.54287,  6.49287,  6.44287,  6.39287,  6.34287,  6.29287,\n",
       "        6.24287,  6.19287,  6.14287,  6.09287,  6.04287,  5.99287,\n",
       "        5.94287,  5.89287,  5.84287,  5.79287,  5.74287,  5.69287,\n",
       "        5.64287,  5.59287,  5.54287,  5.49287,  5.44287,  5.39287,\n",
       "        5.34287,  5.29287,  5.24287,  5.19287,  5.14287,  5.09287,\n",
       "        5.04287,  4.99287,  4.94287,  4.89287,  4.84287,  4.79287,\n",
       "        4.74287,  4.69287,  4.64287,  4.59287,  4.54287])"
      ]
     },
     "execution_count": 50,
     "metadata": {},
     "output_type": "execute_result"
    }
   ],
   "source": [
    "Zs_NMR"
   ]
  },
  {
   "cell_type": "code",
   "execution_count": 35,
   "metadata": {},
   "outputs": [],
   "source": [
    "# XX = RR * np.cos(PP)\n",
    "# YY = RR * np.sin(PP)"
   ]
  },
  {
   "cell_type": "code",
   "execution_count": null,
   "metadata": {},
   "outputs": [],
   "source": [
    "XX_BP = RR * np.cos(PP)\n",
    "YY_BP = RR * np.sin(PP)"
   ]
  },
  {
   "cell_type": "code",
   "execution_count": null,
   "metadata": {},
   "outputs": [],
   "source": []
  },
  {
   "cell_type": "code",
   "execution_count": null,
   "metadata": {},
   "outputs": [],
   "source": []
  },
  {
   "cell_type": "code",
   "execution_count": 36,
   "metadata": {},
   "outputs": [
    {
     "data": {
      "text/plain": [
       "16"
      ]
     },
     "execution_count": 36,
     "metadata": {},
     "output_type": "execute_result"
    }
   ],
   "source": [
    "len(Phis)"
   ]
  },
  {
   "cell_type": "code",
   "execution_count": null,
   "metadata": {},
   "outputs": [],
   "source": []
  }
 ],
 "metadata": {
  "kernelspec": {
   "display_name": "Python [conda env:mu2e]",
   "language": "python",
   "name": "conda-env-mu2e-py"
  },
  "language_info": {
   "codemirror_mode": {
    "name": "ipython",
    "version": 3
   },
   "file_extension": ".py",
   "mimetype": "text/x-python",
   "name": "python",
   "nbconvert_exporter": "python",
   "pygments_lexer": "ipython3",
   "version": "3.8.6"
  }
 },
 "nbformat": 4,
 "nbformat_minor": 4
}
