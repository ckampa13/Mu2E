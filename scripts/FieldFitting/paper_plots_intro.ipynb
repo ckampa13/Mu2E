{
 "cells": [
  {
   "cell_type": "code",
   "execution_count": 2,
   "metadata": {},
   "outputs": [
    {
     "data": {
      "application/javascript": [
       "window.genUID = function() {\n",
       "    return 'xxxxxxxx-xxxx-4xxx-yxxx-xxxxxxxxxxxx'.replace(/[xy]/g, function(c) {\n",
       "        var r = Math.random()*16|0, v = c == 'x' ? r : (r&0x3|0x8);\n",
       "        return v.toString(16);\n",
       "    });\n",
       "};\n",
       "\n",
       "\n",
       "define('graphWidget', [\"@jupyter-widgets/base\"], function (widget) {\n",
       "\n",
       "    var GraphView = widget.DOMWidgetView.extend({\n",
       "        render: function(){\n",
       "            var that = this;\n",
       "\n",
       "            var graphId = window.genUID();\n",
       "            var loadingId = 'loading-'+graphId;\n",
       "\n",
       "\n",
       "            var _graph_url = that.model.get('_graph_url');\n",
       "\n",
       "            // variable plotlyDomain in the case of enterprise\n",
       "            var url_parts = _graph_url.split('/');\n",
       "            var plotlyDomain = url_parts[0] + '//' + url_parts[2];\n",
       "\n",
       "            if(!('plotlyDomains' in window)){\n",
       "                window.plotlyDomains = {};\n",
       "            }\n",
       "            window.plotlyDomains[graphId] = plotlyDomain;\n",
       "\n",
       "            // Place IFrame in output cell div `$el`\n",
       "            that.$el.css('width', '100%');\n",
       "            that.$graph = $(['<iframe id=\"'+graphId+'\"',\n",
       "                             'src=\"'+_graph_url+'.embed\"',\n",
       "                             'seamless',\n",
       "                             'style=\"border: none;\"',\n",
       "                             'width=\"100%\"',\n",
       "                             'height=\"600\">',\n",
       "                             '</iframe>'].join(' '));\n",
       "            that.$graph.appendTo(that.$el);\n",
       "\n",
       "            that.$loading = $('<div id=\"'+loadingId+'\">Initializing...</div>')\n",
       "                            .appendTo(that.$el);\n",
       "\n",
       "            // for some reason the 'width' is being changed in IPython 3.0.0\n",
       "            // for the containing `div` element. There's a flicker here, but\n",
       "            // I was unable to fix it otherwise.\n",
       "            setTimeout(function ()  {\n",
       "                if (IPYTHON_VERSION === '3') {\n",
       "                    $('#' + graphId)[0].parentElement.style.width = '100%';\n",
       "                }\n",
       "            }, 500);\n",
       "\n",
       "            // initialize communication with the iframe\n",
       "            if(!('pingers' in window)){\n",
       "                window.pingers = {};\n",
       "            }\n",
       "\n",
       "            window.pingers[graphId] = setInterval(function() {\n",
       "                that.graphContentWindow = $('#'+graphId)[0].contentWindow;\n",
       "                that.graphContentWindow.postMessage({task: 'ping'}, plotlyDomain);\n",
       "            }, 200);\n",
       "\n",
       "            // Assign a message listener to the 'message' events\n",
       "            // from iframe's postMessage protocol.\n",
       "            // Filter the messages by iframe src so that the right message\n",
       "            // gets passed to the right widget\n",
       "            if(!('messageListeners' in window)){\n",
       "                 window.messageListeners = {};\n",
       "            }\n",
       "\n",
       "            window.messageListeners[graphId] = function(e) {\n",
       "                if(_graph_url.indexOf(e.origin)>-1) {\n",
       "                    var frame = document.getElementById(graphId);\n",
       "\n",
       "                    if(frame === null){\n",
       "                        // frame doesn't exist in the dom anymore, clean up it's old event listener\n",
       "                        window.removeEventListener('message', window.messageListeners[graphId]);\n",
       "                        clearInterval(window.pingers[graphId]);\n",
       "                    } else if(frame.contentWindow === e.source) {\n",
       "                        // TODO: Stop event propagation, so each frame doesn't listen and filter\n",
       "                        var frameContentWindow = $('#'+graphId)[0].contentWindow;\n",
       "                        var message = e.data;\n",
       "\n",
       "                        if('pong' in message && message.pong) {\n",
       "                            $('#loading-'+graphId).hide();\n",
       "                            clearInterval(window.pingers[graphId]);\n",
       "                            that.send({event: 'pong', graphId: graphId});\n",
       "                        } else if (message.type==='hover' ||\n",
       "                                   message.type==='zoom'  ||\n",
       "                                   message.type==='click' ||\n",
       "                                   message.type==='unhover') {\n",
       "\n",
       "                            // click and hover events contain all of the data in the traces,\n",
       "                            // which can be a very large object and may take a ton of time\n",
       "                            // to pass to the python backend. Strip out the data, and require\n",
       "                            // the user to call get_figure if they need trace information\n",
       "                            if(message.type !== 'zoom') {\n",
       "                                for(var i in message.points) {\n",
       "                                    delete message.points[i].data;\n",
       "                                    delete message.points[i].fullData;\n",
       "                                }\n",
       "                            }\n",
       "                            that.send({event: message.type, message: message, graphId: graphId});\n",
       "                        } else if (message.task === 'getAttributes') {\n",
       "                            that.send({event: 'getAttributes', response: message.response});\n",
       "                        }\n",
       "                    }\n",
       "                }\n",
       "            };\n",
       "\n",
       "            window.removeEventListener('message', window.messageListeners[graphId]);\n",
       "            window.addEventListener('message', window.messageListeners[graphId]);\n",
       "\n",
       "        },\n",
       "\n",
       "        update: function() {\n",
       "            // Listen for messages from the graph widget in python\n",
       "            var jmessage = this.model.get('_message');\n",
       "            var message = JSON.parse(jmessage);\n",
       "\n",
       "            // check for duplicate messages\n",
       "            if(!('messageIds' in window)){\n",
       "                window.messageIds = {};\n",
       "            }\n",
       "\n",
       "            if(!(message.uid in window.messageIds)){\n",
       "                // message hasn't been received yet, do stuff\n",
       "                window.messageIds[message.uid] = true;\n",
       "\n",
       "                if (message.fadeTo) {\n",
       "                    this.fadeTo(message);\n",
       "                } else {\n",
       "                    var plot = $('#' + message.graphId)[0].contentWindow;\n",
       "                    plot.postMessage(message, window.plotlyDomains[message.graphId]);\n",
       "                }\n",
       "            }\n",
       "\n",
       "            return GraphView.__super__.update.apply(this);\n",
       "        },\n",
       "\n",
       "        /**\n",
       "         * Wrapper for jquery's `fadeTo` function.\n",
       "         *\n",
       "         * @param message Contains the id we need to find the element.\n",
       "         */\n",
       "        fadeTo: function (message) {\n",
       "            var plot = $('#' + message.graphId);\n",
       "            plot.fadeTo(message.duration, message.opacity);\n",
       "        }\n",
       "    });\n",
       "\n",
       "    // Register the GraphView with the widget manager.\n",
       "    return {\n",
       "        GraphView: GraphView\n",
       "    }\n",
       "\n",
       "});\n",
       "\n",
       "//@ sourceURL=graphWidget.js\n"
      ],
      "text/plain": [
       "<IPython.core.display.Javascript object>"
      ]
     },
     "metadata": {},
     "output_type": "display_data"
    }
   ],
   "source": [
    "import os\n",
    "from mu2e import mu2e_ext_path\n",
    "from mu2e.dataframeprod import DataFrameMaker\n",
    "from mu2e.mu2eplots import mu2e_plot, mu2e_plot3d\n",
    "from matplotlib import gridspec\n",
    "%matplotlib inline\n",
    "plt.rcParams['figure.figsize'] = (12,8)\n",
    "import pandas as pd\n",
    "from time import sleep\n",
    "import plotly.io as pio\n",
    "from plotly.offline import init_notebook_mode\n",
    "from skhep.visual import MplPlotter as splt\n",
    "from copy import deepcopy\n",
    "from lmfit import Model, Parameters, report_fit\n",
    "from hallprobesim_redux import *\n",
    "from tqdm import tnrange, tqdm_notebook\n",
    "import pandas as pd\n",
    "import seaborn as sns"
   ]
  },
  {
   "cell_type": "code",
   "execution_count": 2,
   "metadata": {},
   "outputs": [
    {
     "name": "stderr",
     "output_type": "stream",
     "text": [
      "/usr/local/lib/python3.6/site-packages/_pytest/fixtures.py:842: DeprecationWarning:\n",
      "\n",
      "The `convert` argument is deprecated in favor of `converter`.  It will be removed after 2019/01.\n",
      "\n",
      "/usr/local/lib/python3.6/site-packages/_pytest/fixtures.py:844: DeprecationWarning:\n",
      "\n",
      "The `convert` argument is deprecated in favor of `converter`.  It will be removed after 2019/01.\n",
      "\n"
     ]
    }
   ],
   "source": [
    "df_long_250mm = DataFrameMaker(mu2e_ext_path+'datafiles/FieldMapsCole/bfield_map_r250mm_p10cm_lengthx10_1232173pts_09-07_160736',input_type = 'pkl').data_frame\n",
    "df_long_250mm_hg = DataFrameMaker(mu2e_ext_path+'datafiles/FieldMapsCole/10x_high_granularity_cylin_3846784pts_r250mm_p10cm_10-06_004607',input_type = 'pkl').data_frame\n"
   ]
  },
  {
   "cell_type": "code",
   "execution_count": null,
   "metadata": {},
   "outputs": [],
   "source": [
    "phi=np.pi/2\n",
    "fig = mu2e_plot3d(df_short_250mm, 'R', 'Z', 'Bz', f'R<0.15 and Phi=={phi} and -2<Z<2',\n",
    "            title_simp = 'Bz, Solenoid B', df_fit=False, mode='plotly_nb', ptype='3d', units='m', aspect='rect2',\n",
    "                save_dir='/Users/brianpollack/Documents/Notes_Papers/Helix/figs/')\n",
    "pio.write_image(fig, '/Users/brianpollack/Documents/Notes_Papers/Helix/figs/fig_bz_B.png')"
   ]
  },
  {
   "cell_type": "code",
   "execution_count": 3,
   "metadata": {
    "collapsed": true
   },
   "outputs": [
    {
     "data": {
      "application/vnd.jupyter.widget-view+json": {
       "model_id": "b0d752a47fac4a07a471f2172d6c3172",
       "version_major": 2,
       "version_minor": 0
      },
      "text/html": [
       "<p>Failed to display Jupyter Widget of type <code>HBox</code>.</p>\n",
       "<p>\n",
       "  If you're reading this message in the Jupyter Notebook or JupyterLab Notebook, it may mean\n",
       "  that the widgets JavaScript is still loading. If this message persists, it\n",
       "  likely means that the widgets JavaScript library is either not installed or\n",
       "  not enabled. See the <a href=\"https://ipywidgets.readthedocs.io/en/stable/user_install.html\">Jupyter\n",
       "  Widgets Documentation</a> for setup instructions.\n",
       "</p>\n",
       "<p>\n",
       "  If you're reading this message in another frontend (for example, a static\n",
       "  rendering on GitHub or <a href=\"https://nbviewer.jupyter.org/\">NBViewer</a>),\n",
       "  it may mean that your frontend doesn't currently support widgets.\n",
       "</p>\n"
      ],
      "text/plain": [
       "HBox(children=(IntProgress(value=0, description='ms', max=4), HTML(value='')))"
      ]
     },
     "metadata": {},
     "output_type": "display_data"
    },
    {
     "data": {
      "application/vnd.jupyter.widget-view+json": {
       "model_id": "3be95b5e4c194737887736b0d951c47e",
       "version_major": 2,
       "version_minor": 0
      },
      "text/html": [
       "<p>Failed to display Jupyter Widget of type <code>HBox</code>.</p>\n",
       "<p>\n",
       "  If you're reading this message in the Jupyter Notebook or JupyterLab Notebook, it may mean\n",
       "  that the widgets JavaScript is still loading. If this message persists, it\n",
       "  likely means that the widgets JavaScript library is either not installed or\n",
       "  not enabled. See the <a href=\"https://ipywidgets.readthedocs.io/en/stable/user_install.html\">Jupyter\n",
       "  Widgets Documentation</a> for setup instructions.\n",
       "</p>\n",
       "<p>\n",
       "  If you're reading this message in another frontend (for example, a static\n",
       "  rendering on GitHub or <a href=\"https://nbviewer.jupyter.org/\">NBViewer</a>),\n",
       "  it may mean that your frontend doesn't currently support widgets.\n",
       "</p>\n"
      ],
      "text/plain": [
       "HBox(children=(IntProgress(value=0, description='ns', max=4), HTML(value='')))"
      ]
     },
     "metadata": {},
     "output_type": "display_data"
    },
    {
     "name": "stdout",
     "output_type": "stream",
     "text": [
      "\n"
     ]
    },
    {
     "ename": "TypeError",
     "evalue": "__new__() missing 3 required positional arguments: 'ks_dict', 'bs_tuples', and 'bs_bounds'",
     "output_type": "error",
     "traceback": [
      "\u001b[0;31m---------------------------------------------------------------------------\u001b[0m",
      "\u001b[0;31mTypeError\u001b[0m                                 Traceback (most recent call last)",
      "\u001b[0;32m<ipython-input-3-e20cd63ff9c2>\u001b[0m in \u001b[0;36m<module>\u001b[0;34m()\u001b[0m\n\u001b[1;32m     11\u001b[0m                                          \u001b[0mlength1\u001b[0m\u001b[0;34m=\u001b[0m\u001b[0;36m0\u001b[0m\u001b[0;34m,\u001b[0m \u001b[0mms_c1\u001b[0m\u001b[0;34m=\u001b[0m\u001b[0;36m0\u001b[0m\u001b[0;34m,\u001b[0m \u001b[0mns_c1\u001b[0m\u001b[0;34m=\u001b[0m\u001b[0;36m0\u001b[0m\u001b[0;34m,\u001b[0m\u001b[0;34m\u001b[0m\u001b[0m\n\u001b[1;32m     12\u001b[0m                                          \u001b[0mlength2\u001b[0m\u001b[0;34m=\u001b[0m\u001b[0;36m0\u001b[0m\u001b[0;34m,\u001b[0m \u001b[0mms_c2\u001b[0m\u001b[0;34m=\u001b[0m\u001b[0;36m0\u001b[0m\u001b[0;34m,\u001b[0m \u001b[0mns_c2\u001b[0m\u001b[0;34m=\u001b[0m\u001b[0;36m0\u001b[0m\u001b[0;34m,\u001b[0m\u001b[0;34m\u001b[0m\u001b[0m\n\u001b[0;32m---> 13\u001b[0;31m                                          version=1000)\n\u001b[0m\u001b[1;32m     14\u001b[0m         hmd, ff = field_map_analysis('fma_opt_test', cfg_data_Cole_250mm_long_cyl,\n\u001b[1;32m     15\u001b[0m                                           \u001b[0mcfg_geom_Cole_250mm_long_cyl\u001b[0m\u001b[0;34m,\u001b[0m \u001b[0mcfg_params_Hel_Opt\u001b[0m\u001b[0;34m,\u001b[0m\u001b[0;34m\u001b[0m\u001b[0m\n",
      "\u001b[0;31mTypeError\u001b[0m: __new__() missing 3 required positional arguments: 'ks_dict', 'bs_tuples', and 'bs_bounds'"
     ]
    }
   ],
   "source": [
    "phi=0\n",
    "fig = mu2e_plot3d(df_short_250mm, 'R', 'Z', 'Br', f'R<0.15 and Phi=={phi} and -2<Z<2',\n",
    "            title_simp = 'Br, Solenoid B', df_fit=False, mode='plotly_nb', ptype='3d', units='m', aspect='rect2',)\n",
    "pio.write_image(fig, '/Users/brianpollack/Documents/Notes_Papers/Helix/figs/fig_br_B.png')"
   ]
  },
  {
   "cell_type": "code",
   "execution_count": 26,
   "metadata": {
    "collapsed": true
   },
   "outputs": [
    {
     "name": "stdout",
     "output_type": "stream",
     "text": [
      "fitting with func_version=1000,\n",
      "cfg_params(pitch1=0.1, ms_h1=2, ns_h1=3, pitch2=0, ms_h2=0, ns_h2=0, length1=0, ms_c1=0, ns_c1=0, length2=0, ms_c2=0, ns_c2=0, version=1000)\n",
      "Elapsed time was 8.19873 seconds\n",
      "[[Fit Statistics]]\n",
      "    # fitting method   = leastsq\n",
      "    # function evals   = 140\n",
      "    # data points      = 28800\n",
      "    # variables        = 25\n",
      "    chi-square         = 0.00001\n",
      "    reduced chi-square = 0.00000\n",
      "    Akaike info crit   = -631939.94904\n",
      "    Bayesian info crit = -631733.24577\n",
      "[[Variables]]\n",
      "    pitch1:    0.1 (fixed)\n",
      "    ms_h1:     2 (fixed)\n",
      "    ns_h1:     3 (fixed)\n",
      "    pitch2:    0 (fixed)\n",
      "    ms_h2:     0 (fixed)\n",
      "    ns_h2:     0 (fixed)\n",
      "    length1:   0 (fixed)\n",
      "    ms_c1:     0 (fixed)\n",
      "    ns_c1:     0 (fixed)\n",
      "    length2:   0 (fixed)\n",
      "    ms_c2:     0 (fixed)\n",
      "    ns_c2:     0 (fixed)\n",
      "    Ah1_0_0:   0 (fixed)\n",
      "    Bh1_0_0:   0 (fixed)\n",
      "    Ch1_0_0:  -5.7672e-12 +/- 0        (0.00%) (init= 0)\n",
      "    Dh1_0_0:   4.4802e-11 +/- 0        (0.00%) (init= 0)\n",
      "    Ah1_0_1:   0 (fixed)\n",
      "    Bh1_0_1:   0 (fixed)\n",
      "    Ch1_0_1:  -1.2161e-06 +/- 0        (0.00%) (init= 0)\n",
      "    Dh1_0_1:  -1.6515e-05 +/- 0        (0.00%) (init= 0)\n",
      "    Ah1_0_2:   0 (fixed)\n",
      "    Bh1_0_2:   0 (fixed)\n",
      "    Ch1_0_2:  -1.1547e-11 +/- 0        (0.00%) (init= 0)\n",
      "    Dh1_0_2:  -4.2037e-11 +/- 0        (0.00%) (init= 0)\n",
      "    Ah1_1_0:   0 (fixed)\n",
      "    Bh1_1_0:   0 (fixed)\n",
      "    Ch1_1_0:  -2.5988e-17 +/- 0        (0.00%) (init= 0)\n",
      "    Dh1_1_0:  -3.6713e-16 +/- 0        (0.00%) (init= 0)\n",
      "    Ah1_1_1:   0 (fixed)\n",
      "    Bh1_1_1:   0 (fixed)\n",
      "    Ch1_1_1:   6.1344e-16 +/- 0        (0.00%) (init= 0)\n",
      "    Dh1_1_1:  -4.4395e-17 +/- 0        (0.00%) (init= 0)\n",
      "    Ah1_1_2:   0 (fixed)\n",
      "    Bh1_1_2:   0 (fixed)\n",
      "    Ch1_1_2:  -2.2714e-13 +/- 0        (0.00%) (init= 0)\n",
      "    Dh1_1_2:  -1.5284e-12 +/- 0        (0.00%) (init= 0)\n",
      "    k1:        0 (fixed)\n",
      "    k2:        0 (fixed)\n",
      "    k3:        768.296298 +/- 0        (0.00%) (init= 768)\n",
      "    k4:        0 (fixed)\n",
      "    k5:        0 (fixed)\n",
      "    k6:        0 (fixed)\n",
      "    k7:        0 (fixed)\n",
      "    k8:        0 (fixed)\n",
      "    k9:        0 (fixed)\n",
      "    k10:       0 (fixed)\n",
      "    x1:        0.25000000 +/- 0        (0.00%) (init= 0.25)\n",
      "    y1:       -0.00632780 +/- 0        (0.00%) (init= 0)\n",
      "    z1:       -45.9425537 +/- 0        (0.00%) (init=-46)\n",
      "    vx1:      -0.01675933 +/- 0        (0.00%) (init= 0)\n",
      "    vy1:      -0.00046179 +/- 0        (0.00%) (init= 0)\n",
      "    vz1:      -3.10180820 +/- 0        (0.00%) (init= 0)\n",
      "    x2:        0.25000000 +/- 0        (0.00%) (init= 0.25)\n",
      "    y2:       -0.00846994 +/- 0        (0.00%) (init= 0)\n",
      "    z2:        45.2405176 +/- 0        (0.00%) (init= 46)\n",
      "    vx2:       0.01688236 +/- 0        (0.00%) (init= 0)\n",
      "    vy2:       0.00051186 +/- 0        (0.00%) (init= 0)\n",
      "    vz2:      -2.90622379 +/- 0        (0.00%) (init= 0)\n"
     ]
    }
   ],
   "source": [
    "phi=3*np.pi/4\n",
    "fig = mu2e_plot3d(df_short_250mm, 'R', 'Z', 'Bphi', f'R<0.15 and Phi=={phi} and -2<Z<2',\n",
    "            title_simp = 'Btheta, Solenoid B', df_fit=False, mode='plotly_nb', ptype='3d', units='m', aspect='rect2',)\n",
    "pio.write_image(fig, '/Users/brianpollack/Documents/Notes_Papers/Helix/figs/fig_bt_B.png')"
   ]
  }
 ],
 "metadata": {
  "kernelspec": {
   "display_name": "Python 3",
   "language": "python",
   "name": "python3"
  },
  "language_info": {
   "codemirror_mode": {
    "name": "ipython",
    "version": 3
   },
   "file_extension": ".py",
   "mimetype": "text/x-python",
   "name": "python",
   "nbconvert_exporter": "python",
   "pygments_lexer": "ipython3",
   "version": "3.6.5"
  }
 },
 "nbformat": 4,
 "nbformat_minor": 2
}
