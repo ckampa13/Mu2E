{
 "cells": [
  {
   "cell_type": "code",
   "execution_count": null,
   "metadata": {},
   "outputs": [],
   "source": [
    "import os\n",
    "from mu2e import mu2e_ext_path\n",
    "from mu2e.dataframeprod import DataFrameMaker\n",
    "from mu2e.mu2eplots import mu2e_plot, mu2e_plot3d\n",
    "from matplotlib import gridspec\n",
    "%matplotlib inline\n",
    "plt.rcParams['figure.figsize'] = (12,8)\n",
    "import pandas as pd\n",
    "from time import sleep\n",
    "import plotly.io as pio\n",
    "from plotly.offline import init_notebook_mode\n",
    "from skhep.visual import MplPlotter as splt\n",
    "from copy import deepcopy\n",
    "from lmfit import Model, Parameters, report_fit\n",
    "from hallprobesim_redux import *\n",
    "from tqdm import tnrange, tqdm_notebook\n",
    "import pandas as pd\n",
    "import seaborn as sns"
   ]
  },
  {
   "cell_type": "code",
   "execution_count": null,
   "metadata": {},
   "outputs": [],
   "source": [
    "df_long_250mm_hg = DataFrameMaker(mu2e_ext_path+'datafiles/FieldMapsCole/10x_high_granularity_cylin_3846784pts_r250mm_p10cm_10-06_004607',input_type = 'pkl').data_frame\n",
    "df_short_250mm_hg = DataFrameMaker(mu2e_ext_path+'datafiles/FieldMapsCole/high_granularity_bfield_map_cylin_r250mm_p10cm_3846784pts_10-09_085027',input_type = 'pkl').data_frame\n"
   ]
  },
  {
   "cell_type": "code",
   "execution_count": null,
   "metadata": {},
   "outputs": [],
   "source": [
    "phi=np.pi/2\n",
    "fig = mu2e_plot3d(df_short_250mm_hg, 'R', 'Z', 'Bz', f'R<0.15 and Phi=={phi} and -2<Z<2',\n",
    "            title_simp = r'$B_z, \\textrm{Solenoid C}$', df_fit=False, mode='plotly_nb', ptype='3d', units='m', aspect='rect2',\n",
    "                save_dir='/Users/brianpollack/Documents/Notes_Papers/Helix/figs/', do2pi=True)\n",
    "#pio.write_image(fig, '/Users/brianpollack/Documents/Notes_Papers/Helix/figs/fig_bz_B.png')"
   ]
  },
  {
   "cell_type": "code",
   "execution_count": null,
   "metadata": {},
   "outputs": [],
   "source": [
    "phi=0\n",
    "fig = mu2e_plot3d(df_short_250mm_hg, 'R', 'Z', 'Br', f'R<0.15 and Phi=={phi} and -2<Z<2',\n",
    "            title_simp = r'$B_r, \\textrm{Solenoid C}$', df_fit=False, mode='plotly_nb', ptype='3d', units='m', aspect='rect2', do2pi=True)\n",
    "#pio.write_image(fig, '/Users/brianpollack/Documents/Notes_Papers/Helix/figs/fig_br_B.png')"
   ]
  },
  {
   "cell_type": "code",
   "execution_count": null,
   "metadata": {},
   "outputs": [],
   "source": [
    "phi=3*np.pi/4\n",
    "fig = mu2e_plot3d(df_short_250mm_hg, 'R', 'Z', 'Bphi', f'R<0.15 and Phi=={phi} and -2<Z<2',\n",
    "            title_simp = r'$B_{\\theta}, \\textrm{Solenoid C}$', df_fit=False, mode='plotly_nb', ptype='3d', units='m', aspect='rect2', do2pi=True)\n",
    "#pio.write_image(fig, '/Users/brianpollack/Documents/Notes_Papers/Helix/figs/fig_bt_B.png')"
   ]
  },
  {
   "cell_type": "code",
   "execution_count": null,
   "metadata": {},
   "outputs": [],
   "source": []
  }
 ],
 "metadata": {
  "kernelspec": {
   "display_name": "Python 3",
   "language": "python",
   "name": "python3"
  },
  "language_info": {
   "codemirror_mode": {
    "name": "ipython",
    "version": 3
   },
   "file_extension": ".py",
   "mimetype": "text/x-python",
   "name": "python",
   "nbconvert_exporter": "python",
   "pygments_lexer": "ipython3",
   "version": "3.6.7"
  }
 },
 "nbformat": 4,
 "nbformat_minor": 2
}
