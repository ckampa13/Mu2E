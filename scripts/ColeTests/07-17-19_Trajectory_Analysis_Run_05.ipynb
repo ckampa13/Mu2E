{
 "cells": [
  {
   "cell_type": "markdown",
   "metadata": {},
   "source": [
    "# Signal e- Run 05 Analysis"
   ]
  },
  {
   "cell_type": "markdown",
   "metadata": {},
   "source": [
    "## Imports"
   ]
  },
  {
   "cell_type": "code",
   "execution_count": null,
   "metadata": {},
   "outputs": [],
   "source": [
    "%load_ext autoreload\n",
    "%autoreload 2"
   ]
  },
  {
   "cell_type": "code",
   "execution_count": null,
   "metadata": {},
   "outputs": [],
   "source": [
    "import numpy as np\n",
    "import pandas as pd\n",
    "import pickle as pkl\n",
    "from datetime import datetime\n",
    "from dateutil import parser\n",
    "import os\n",
    "import re\n",
    "import time\n",
    "from sys import getsizeof\n",
    "\n",
    "import ipywidgets as widgets\n",
    "from ipywidgets import interact, interact_manual\n",
    "\n",
    "import copy\n",
    "\n",
    "import matplotlib.pyplot as plt\n",
    "from mpl_toolkits.mplot3d import Axes3D\n",
    "%matplotlib inline\n",
    "plt.rcParams['figure.figsize'] = (12.0, 8.0)\n",
    "plt.rcParams['axes.axisbelow'] = True\n",
    "\n",
    "from plotly.offline import init_notebook_mode, plot, iplot\n",
    "import plotly.graph_objs as go\n",
    "import plotly.io as pio\n",
    "from plotly import tools\n",
    "init_notebook_mode(True)\n",
    "\n",
    "from hallprobecalib import hpc_ext_path\n",
    "from hallprobecalib.hpcplots import scatter2d,scatter3d,histo\n",
    "\n",
    "from mu2e import mu2e_ext_path\n",
    "from mu2e.dataframeprod import DataFrameMaker\n",
    "from mu2e.mu2eplots import mu2e_plot, mu2e_plot3d"
   ]
  },
  {
   "cell_type": "code",
   "execution_count": null,
   "metadata": {},
   "outputs": [],
   "source": [
    "data_dir = \"/home/ckampa/Coding/Mu2E_Extras/trajectory/run05/\"\n",
    "plot_dir = \"/home/ckampa/Coding/Mu2E_Extras/plots/trajectory/run05/\"\n",
    "run_name = \"trajectory_run05_\""
   ]
  },
  {
   "cell_type": "markdown",
   "metadata": {
    "heading_collapsed": true
   },
   "source": [
    "## Prepping Trajectory Run 04\n",
    "- And initial plotting."
   ]
  },
  {
   "cell_type": "markdown",
   "metadata": {
    "heading_collapsed": true,
    "hidden": true
   },
   "source": [
    "### Plot All Trajectories"
   ]
  },
  {
   "cell_type": "markdown",
   "metadata": {
    "hidden": true
   },
   "source": [
    "**NOTE: This takes a few minutes to run so don't rerun if you don't need to**"
   ]
  },
  {
   "cell_type": "code",
   "execution_count": null,
   "metadata": {
    "hidden": true
   },
   "outputs": [],
   "source": [
    "subruns = sorted([i for i in os.listdir(data_dir+'raw') if \"subrun\" in i])"
   ]
  },
  {
   "cell_type": "code",
   "execution_count": null,
   "metadata": {
    "hidden": true
   },
   "outputs": [],
   "source": [
    "subruns"
   ]
  },
  {
   "cell_type": "code",
   "execution_count": null,
   "metadata": {
    "hidden": true
   },
   "outputs": [],
   "source": [
    "df_out = pd.read_pickle(data_dir+f\"sparse/subrun02/trj.sparse.run_05.subrun_02.event_128.p\")"
   ]
  },
  {
   "cell_type": "code",
   "execution_count": null,
   "metadata": {
    "hidden": true
   },
   "outputs": [],
   "source": [
    "df_init = pkl.load(open(mu2e_ext_path+'trajectory/run05/trajectory_run05_INIT_COND.p','rb'))"
   ]
  },
  {
   "cell_type": "code",
   "execution_count": null,
   "metadata": {
    "hidden": true
   },
   "outputs": [],
   "source": [
    "df_init.describe()"
   ]
  },
  {
   "cell_type": "code",
   "execution_count": null,
   "metadata": {
    "hidden": true
   },
   "outputs": [],
   "source": [
    "figs = pkl.load(open(plot_dir+\"tracks/plotly_run05_subrun01.p\",\"rb\"))"
   ]
  },
  {
   "cell_type": "code",
   "execution_count": null,
   "metadata": {
    "hidden": true
   },
   "outputs": [],
   "source": [
    "plot(figs[5])"
   ]
  },
  {
   "cell_type": "code",
   "execution_count": null,
   "metadata": {
    "hidden": true
   },
   "outputs": [],
   "source": [
    "#plot(figs[10])"
   ]
  },
  {
   "cell_type": "code",
   "execution_count": null,
   "metadata": {
    "hidden": true
   },
   "outputs": [],
   "source": [
    "# stopping target\n",
    "stop_zs = np.linspace(5500.,6300.,34)\n",
    "r = 75.\n",
    "r_in = 25.\n",
    "phis = np.linspace(0,2*np.pi,50)\n",
    "xx = r*np.cos(phis)\n",
    "yy = r*np.sin(phis)\n",
    "x_in = r_in*np.cos(phis)\n",
    "y_in = r_in*np.sin(phis)\n",
    "\n",
    "# tracker\n",
    "trk_zs = np.linspace(8410.,11660.,18)\n",
    "r_tr = 700.\n",
    "r_tr_in = 400.\n",
    "x_tr = r_tr*np.cos(phis)\n",
    "x_tr_in = r_tr_in*np.cos(phis)\n",
    "y_tr = r_tr*np.sin(phis)\n",
    "y_tr_in = r_tr_in*np.sin(phis)\n",
    "\n",
    "# run num\n",
    "run_num = run_name[-3:-1]"
   ]
  },
  {
   "cell_type": "code",
   "execution_count": null,
   "metadata": {
    "hidden": true
   },
   "outputs": [],
   "source": [
    "## SPARSIFY!\n",
    "# Runs quite quickly\n",
    "for subrun in subruns:\n",
    "    fig_list = []\n",
    "    for particle in sorted(os.listdir(data_dir+\"raw/\"+subrun)):\n",
    "        #print(f\"Run: 05, Subrun: {subrun}, Event: {particle}\")\n",
    "        df_out = pd.read_pickle(data_dir+\"raw/\"+subrun+f\"/{particle}\")\n",
    "        df_out = pd.concat([df_out[::10],df_out.tail(1)],axis=0)\n",
    "        df_out.reset_index(drop=True,inplace=True)\n",
    "        df_out.to_pickle(data_dir+\"sparse/\"+subrun+f\"/{particle.replace('raw','sparse')}\")"
   ]
  },
  {
   "cell_type": "code",
   "execution_count": null,
   "metadata": {
    "hidden": true
   },
   "outputs": [],
   "source": [
    "from joblib import Parallel, delayed\n",
    "import multiprocessing"
   ]
  },
  {
   "cell_type": "code",
   "execution_count": null,
   "metadata": {
    "hidden": true
   },
   "outputs": [],
   "source": [
    "num_cores = multiprocessing.cpu_count()"
   ]
  },
  {
   "cell_type": "code",
   "execution_count": null,
   "metadata": {
    "hidden": true
   },
   "outputs": [],
   "source": [
    "## PLOTS!\n",
    "## Takes a long time, so running in chunks of subruns.\n",
    "#for subrun in subruns:#[2:]#[0:2]:\n",
    "def gen_plots(subrun):\n",
    "    fig_list = []\n",
    "    plots_exist = os.listdir(plot_dir+f\"tracks/{subrun}\")\n",
    "    #print(plots_exist)\n",
    "    for particle in sorted(os.listdir(data_dir+\"raw/\"+subrun)):\n",
    "        filename = f\"plot.track.{particle.replace('trj.raw.','')}\"\n",
    "        if filename+\".pdf\" in plots_exist:\n",
    "            continue\n",
    "        df_out = pd.read_pickle(data_dir+\"sparse/\"+subrun+f\"/{particle.replace('raw','sparse')}\")\n",
    "        #print(df_out.head())\n",
    "        #df_out = pd.concat([df_out[::10],df_out.tail(1)],axis=0)\n",
    "        #df_out.reset_index(drop=True,inplace=True)\n",
    "        #df_out.to_pickle(data_dir+\"sparse/\"+subrun+f\"/{particle.replace('raw','sparse')}\")\n",
    "                         \n",
    "                         \n",
    "        # plotting\n",
    "        if df_out.Z.min() > 5500.:\n",
    "            zm = 5500.\n",
    "        else:\n",
    "            zm = df_out.Z.min()\n",
    "                         \n",
    "        fig = scatter3d([df.X for df in [df_out[::2]]],\n",
    "          [df.Y for df in [df_out[::2]]],\n",
    "          [df.Z for df in [df_out[::2]]],\n",
    "          scale_list=[df.time for df in [df_out[::2]]],\n",
    "          mode_list=['markers+lines'],units_list=[('mm','mm','mm')],inline=True, \n",
    "          colors_list = [\"Viridis\"], aspect_auto=False, show_plot=False,\n",
    "          rangex=(700+700),rangey=(700+700),rangez=(12000-zm),opacity_list=[1.]\n",
    "         );\n",
    "        camera = dict(\n",
    "                up=dict(x=0, y=1, z=0),\n",
    "                center=dict(x=0, y=0, z=-0.3),\n",
    "                eye=dict(x=-3.6, y=1., z=-0.5)#(x=-5,y=1.5,z=-0.25)#(x=-1.8, y=0.2, z=-0.1)\n",
    "        )\n",
    "        for z_s in stop_zs:\n",
    "            zst = np.ones_like(phis)*z_s\n",
    "            fig.add_mesh3d(\n",
    "                    x=xx,\n",
    "                    y=yy,\n",
    "                    z=zst,\n",
    "                    opacity=0.3,\n",
    "                    color='red',\n",
    "                )\n",
    "            fig.add_mesh3d(\n",
    "                    x=x_in,\n",
    "                    y=y_in,\n",
    "                    z=zst,\n",
    "                    opacity=0.3,\n",
    "                    color='white',\n",
    "                )\n",
    "        for z_t in trk_zs:\n",
    "            ztr = np.ones_like(phis)*z_t\n",
    "            fig.add_mesh3d(\n",
    "                    x=x_tr,\n",
    "                    y=y_tr,\n",
    "                    z=ztr,\n",
    "                    opacity=0.15,\n",
    "                    color='grey',\n",
    "                )\n",
    "            fig.add_mesh3d(\n",
    "                    x=x_tr_in,\n",
    "                    y=y_tr_in,\n",
    "                    z=ztr,\n",
    "                    opacity=0.15,\n",
    "                    color='white',\n",
    "                )\n",
    "\n",
    "        fig.layout.showlegend = False\n",
    "        fig.layout.dragmode = 'orbit'\n",
    "        fig.layout.scene.camera = camera\n",
    "        fig.layout.title = f\"Run: {run_num}, Subrun: {subrun[-2:]}, Event: {particle[-5:-2]}\"\n",
    "                                         \n",
    "        pio.write_image(fig,plot_dir+\"tracks/\"+subrun+\"/\"+filename+'.pdf')\n",
    "        fig_list.append(fig)\n",
    "        #plot(fig,filename=plot_dir+\"tracks/\"+subrun+\"/\"+filename+'.html',auto_open=False)\n",
    "    pkl.dump(fig_list,open(plot_dir+f\"tracks/plotly_run05_{subrun}.p\",\"wb\"))\n",
    "    print(f\"{subrun} completed.\")"
   ]
  },
  {
   "cell_type": "code",
   "execution_count": null,
   "metadata": {
    "hidden": true
   },
   "outputs": [],
   "source": [
    "start = time.time()\n",
    "Parallel(n_jobs=num_cores)(delayed(gen_plots)(subrun) for subrun in subruns)\n",
    "stop = time.time()"
   ]
  },
  {
   "cell_type": "code",
   "execution_count": null,
   "metadata": {
    "hidden": true
   },
   "outputs": [],
   "source": [
    "(stop-start)/60"
   ]
  },
  {
   "cell_type": "code",
   "execution_count": null,
   "metadata": {
    "hidden": true
   },
   "outputs": [],
   "source": [
    "(stop-start)/60"
   ]
  },
  {
   "cell_type": "code",
   "execution_count": null,
   "metadata": {
    "hidden": true
   },
   "outputs": [],
   "source": [
    "figs = pkl.load(open(plot_dir+\"tracks/plotly_run05_subrun10.p\",\"rb\"))"
   ]
  },
  {
   "cell_type": "code",
   "execution_count": null,
   "metadata": {
    "hidden": true
   },
   "outputs": [],
   "source": [
    "fig = figs[2]"
   ]
  },
  {
   "cell_type": "markdown",
   "metadata": {
    "hidden": true
   },
   "source": [
    "### Individual Interactive Plots\n",
    "- Use general method from above to generate on the fly!\n",
    "- Quick test of the new \"Plotly Express\"\n",
    "    - Careful on this though because it seems they may be pushing to separate into different package. Should be pretty easy to fix later if necessary."
   ]
  },
  {
   "cell_type": "markdown",
   "metadata": {
    "hidden": true
   },
   "source": [
    "#### Plotly Express"
   ]
  },
  {
   "cell_type": "code",
   "execution_count": null,
   "metadata": {
    "hidden": true
   },
   "outputs": [],
   "source": [
    "import plotly.express as px"
   ]
  },
  {
   "cell_type": "code",
   "execution_count": null,
   "metadata": {
    "hidden": true
   },
   "outputs": [],
   "source": [
    "fig = px.scatter_3d(df_out, x=\"X\",y=\"Y\",z=\"Z\",color=\"time\")"
   ]
  },
  {
   "cell_type": "code",
   "execution_count": null,
   "metadata": {
    "hidden": true
   },
   "outputs": [],
   "source": [
    "fig.show()"
   ]
  },
  {
   "cell_type": "code",
   "execution_count": null,
   "metadata": {
    "hidden": true,
    "scrolled": false
   },
   "outputs": [],
   "source": [
    "px.histogram(df_out, x=\"Z\",nbins=50)"
   ]
  },
  {
   "cell_type": "code",
   "execution_count": null,
   "metadata": {
    "hidden": true,
    "scrolled": true
   },
   "outputs": [],
   "source": [
    "px.colors.sequential.swatches()"
   ]
  },
  {
   "cell_type": "markdown",
   "metadata": {
    "hidden": true
   },
   "source": [
    "Seems like a very nice API that I may have to start using!"
   ]
  },
  {
   "cell_type": "markdown",
   "metadata": {
    "hidden": true
   },
   "source": [
    "#### Single Plots"
   ]
  },
  {
   "cell_type": "code",
   "execution_count": null,
   "metadata": {
    "hidden": true
   },
   "outputs": [],
   "source": [
    "plot_dir = f\"{mu2e_ext_path}plots/trajectory/run05/\"\n",
    "# stopping target\n",
    "stop_zs = np.linspace(5500.,6300.,34)\n",
    "r = 75.\n",
    "r_in = 25.\n",
    "phis = np.linspace(0,2*np.pi,50)\n",
    "xx = r*np.cos(phis)\n",
    "yy = r*np.sin(phis)\n",
    "x_in = r_in*np.cos(phis)\n",
    "y_in = r_in*np.sin(phis)\n",
    "\n",
    "# tracker\n",
    "trk_zs = np.linspace(8410.,11660.,18)\n",
    "r_tr = 700.\n",
    "r_tr_in = 400.\n",
    "x_tr = r_tr*np.cos(phis)\n",
    "x_tr_in = r_tr_in*np.cos(phis)\n",
    "y_tr = r_tr*np.sin(phis)\n",
    "y_tr_in = r_tr_in*np.sin(phis)"
   ]
  },
  {
   "cell_type": "code",
   "execution_count": null,
   "metadata": {
    "hidden": true
   },
   "outputs": [],
   "source": [
    "fig_geom = go.Figure()\n",
    "for z_s in stop_zs:\n",
    "    zst = np.ones_like(phis)*z_s\n",
    "    fig_geom.add_mesh3d(\n",
    "            x=xx,\n",
    "            y=yy,\n",
    "            z=zst,\n",
    "            opacity=0.3,\n",
    "            color='red',\n",
    "        )\n",
    "    fig_geom.add_mesh3d(\n",
    "            x=x_in,\n",
    "            y=y_in,\n",
    "            z=zst,\n",
    "            opacity=0.3,\n",
    "            color='white',\n",
    "        )\n",
    "for z_t in trk_zs:\n",
    "    ztr = np.ones_like(phis)*z_t\n",
    "    fig_geom.add_mesh3d(\n",
    "            x=x_tr,\n",
    "            y=y_tr,\n",
    "            z=ztr,\n",
    "            opacity=0.15,\n",
    "            color='grey',\n",
    "        )\n",
    "    fig_geom.add_mesh3d(\n",
    "            x=x_tr_in,\n",
    "            y=y_tr_in,\n",
    "            z=ztr,\n",
    "            opacity=0.15,\n",
    "            color='white',\n",
    "        )"
   ]
  },
  {
   "cell_type": "code",
   "execution_count": null,
   "metadata": {
    "hidden": true
   },
   "outputs": [],
   "source": [
    "subruns = sorted([i for i in os.listdir(data_dir+'raw') if \"subrun\" in i])"
   ]
  },
  {
   "cell_type": "code",
   "execution_count": null,
   "metadata": {
    "hidden": true,
    "scrolled": false
   },
   "outputs": [],
   "source": [
    "@interact\n",
    "def gen_plot(#run=[\"run05\"],\n",
    "             subrun=subruns,\n",
    "             event=[f\"{i:03d}\" for i in range(200)]):#, \n",
    "             #new_window = False):\n",
    "    run = \"run05\"\n",
    "    data_dir = mu2e_ext_path+f\"trajectory/{run}/sparse/{subrun}/\"\n",
    "    files = os.listdir(data_dir)\n",
    "    file = [f for f in files if f\"{event}\" in f][0]\n",
    "    \n",
    "    df_out = pd.read_pickle(data_dir+file)\n",
    "    df_out = pd.concat([df_out[::2],df_out.tail(1)],axis=0)\n",
    "    if df_out.Z.min() > 5500.:\n",
    "        zm = 5500.\n",
    "    else:\n",
    "        zm = df_out.Z.min()                 \n",
    "    fig = scatter3d([df.X for df in [df_out]],\n",
    "      [df.Y for df in [df_out]],\n",
    "      [df.Z for df in [df_out]],\n",
    "      scale_list=[df.time for df in [df_out]],\n",
    "      mode_list=['markers+lines'],units_list=[('mm','mm','mm')],inline=True, \n",
    "      colors_list = [\"Viridis\"], aspect_auto=False, show_plot=False,\n",
    "      rangex=(700+700),rangey=(700+700),rangez=(12000-zm),opacity_list=[1.],\n",
    "      fig_ = fig_geom, copy_fig = True,\n",
    "     );\n",
    "    camera = dict(\n",
    "            up=dict(x=0, y=1, z=0),\n",
    "            center=dict(x=0, y=0, z=-0.3),\n",
    "            eye=dict(x=-3.6, y=1., z=-0.5)#(x=-5,y=1.5,z=-0.25)#(x=-1.8, y=0.2, z=-0.1)\n",
    "    )\n",
    "   \n",
    "    fig.layout.showlegend = False\n",
    "    fig.layout.dragmode = 'orbit'\n",
    "    fig.layout.scene.camera = camera\n",
    "    fig.layout.title = f\"Run: {run[-2:]}, Subrun: {subrun[-2:]}, Event: {event}\"\n",
    "    \n",
    "    #if new_window:\n",
    "    #    plot(fig,filename=plot_dir+\"tracks/track_interactive_temp.html\")\n",
    "    return fig"
   ]
  },
  {
   "cell_type": "code",
   "execution_count": null,
   "metadata": {
    "hidden": true
   },
   "outputs": [],
   "source": [
    "gen_plot(\"run05\",\"subrun04\",\"104\")"
   ]
  },
  {
   "cell_type": "code",
   "execution_count": null,
   "metadata": {
    "hidden": true
   },
   "outputs": [],
   "source": []
  },
  {
   "cell_type": "code",
   "execution_count": null,
   "metadata": {
    "hidden": true
   },
   "outputs": [],
   "source": [
    "%load_ext line_profiler"
   ]
  },
  {
   "cell_type": "code",
   "execution_count": null,
   "metadata": {
    "hidden": true
   },
   "outputs": [],
   "source": [
    "%lprun -f gen_plot gen_plot(\"run05\",\"subrun10\",\"063\")"
   ]
  },
  {
   "cell_type": "code",
   "execution_count": null,
   "metadata": {
    "hidden": true
   },
   "outputs": [],
   "source": [
    "%prun gen_plot(\"run05\",\"subrun10\",\"063\")"
   ]
  },
  {
   "cell_type": "markdown",
   "metadata": {
    "heading_collapsed": true,
    "hidden": true
   },
   "source": [
    "### Concat Files to one DataFrame"
   ]
  },
  {
   "cell_type": "code",
   "execution_count": null,
   "metadata": {
    "hidden": true
   },
   "outputs": [],
   "source": [
    "subruns = sorted([i for i in os.listdir(data_dir+'raw') if \"subrun\" in i])"
   ]
  },
  {
   "cell_type": "code",
   "execution_count": null,
   "metadata": {
    "hidden": true
   },
   "outputs": [],
   "source": [
    "r_init = re.compile(\"trajectory.*INIT_COND\\.p$\")\n",
    "#r_data = re.compile(\"trajectory.*\\d\\d\\d\\.p$\")\n",
    "r_data = []\n",
    "for subrun in subruns:\n",
    "    for particle in sorted(os.listdir(data_dir+\"sparse/\"+subrun)):\n",
    "        r_data.append(f\"{data_dir}sparse/{subrun}/{particle}\")   \n",
    "#r_data = [i+\"_Bshift-25mm-NONE.p\" for i in particle_ids]\n",
    "#directory04 = mu2e_ext_path+'trajectory/run04/'"
   ]
  },
  {
   "cell_type": "code",
   "execution_count": null,
   "metadata": {
    "hidden": true
   },
   "outputs": [],
   "source": [
    "len(r_data)"
   ]
  },
  {
   "cell_type": "code",
   "execution_count": null,
   "metadata": {
    "hidden": true
   },
   "outputs": [],
   "source": [
    "init_05 = [data_dir+f for f in os.listdir(data_dir) if r_init.match(f)]\n",
    "data_05 = r_data\n",
    "#data_04 = sorted([data_dir+i for i in r_data])#sorted([data_dir+f for f in os.listdir(data_dir) if r_data.match(f)])"
   ]
  },
  {
   "cell_type": "code",
   "execution_count": null,
   "metadata": {
    "hidden": true
   },
   "outputs": [],
   "source": [
    "init_05"
   ]
  },
  {
   "cell_type": "code",
   "execution_count": null,
   "metadata": {
    "hidden": true
   },
   "outputs": [],
   "source": [
    "data_05"
   ]
  },
  {
   "cell_type": "markdown",
   "metadata": {
    "hidden": true
   },
   "source": [
    "Now we have lists of files to read in and have separated them by run and type of file. Now we can load in everything and concatenate!"
   ]
  },
  {
   "cell_type": "code",
   "execution_count": null,
   "metadata": {
    "hidden": true
   },
   "outputs": [],
   "source": [
    "# run 03\n",
    "# load in all dataframes\n",
    "srun = re.compile(\"subrun\\d\\d\")\n",
    "evt = re.compile(\"\\d\\d\\d\")\n",
    "#srun.findall(f)[0]\n",
    "\n",
    "df = []\n",
    "for fname in data_05:\n",
    "    df_ = pkl.load(open(fname,'rb'))\n",
    "    df_.eval('run = 5', inplace=True)\n",
    "    df_.eval(f'subrun = {int(srun.findall(fname)[0][-2:])}',inplace=True)\n",
    "    df_.eval(f'event = {int(evt.findall(fname)[0])}',inplace=True)\n",
    "    df_.run = df_.run.astype('category')\n",
    "    df_.subrun = df_.subrun.astype('category')\n",
    "    df.append(df_)"
   ]
  },
  {
   "cell_type": "code",
   "execution_count": null,
   "metadata": {
    "hidden": true
   },
   "outputs": [],
   "source": [
    "# concat!\n",
    "df = pd.concat(df, join='outer', ignore_index=True, sort = False)"
   ]
  },
  {
   "cell_type": "code",
   "execution_count": null,
   "metadata": {
    "hidden": true
   },
   "outputs": [],
   "source": [
    "df.eval('R = (X**2+Y**2)**(1/2)',inplace=True)"
   ]
  },
  {
   "cell_type": "code",
   "execution_count": null,
   "metadata": {
    "hidden": true
   },
   "outputs": [],
   "source": [
    "df"
   ]
  },
  {
   "cell_type": "code",
   "execution_count": null,
   "metadata": {
    "hidden": true
   },
   "outputs": [],
   "source": [
    "# init conditions\n",
    "df_init = []\n",
    "# run03\n",
    "df_ = pkl.load(open(init_05[0],'rb'))\n",
    "df_.eval('run = 5', inplace=True)\n",
    "df_['subrun'] = pd.Series([i // 200 + 1 for i in range(len(df_))])\n",
    "df_['event'] = pd.Series([i % 200 for i in range(len(df_))])#df_.index.astype('category')\n",
    "df_.run = df_.run.astype('category')\n",
    "df_.subrun = df_.subrun.astype('category')\n",
    "df_init.append(df_)"
   ]
  },
  {
   "cell_type": "code",
   "execution_count": null,
   "metadata": {
    "hidden": true
   },
   "outputs": [],
   "source": [
    "df_init = pd.concat(df_init, join='outer', ignore_index=True, sort = False)"
   ]
  },
  {
   "cell_type": "code",
   "execution_count": null,
   "metadata": {
    "hidden": true
   },
   "outputs": [],
   "source": [
    "df_init.eval('particle = index',inplace=True)\n",
    "df_init.particle = df_init.particle.astype('category')\n",
    "\n",
    "nev = len(df_init.event.unique())\n",
    "\n",
    "df.eval(f'particle = (subrun-1)*{nev} + event',inplace=True)\n",
    "df.particle = df.particle.astype('category')"
   ]
  },
  {
   "cell_type": "code",
   "execution_count": null,
   "metadata": {
    "hidden": true
   },
   "outputs": [],
   "source": [
    "df.to_pickle(data_dir+\"trj.sparse.all.base.p\")"
   ]
  },
  {
   "cell_type": "code",
   "execution_count": null,
   "metadata": {
    "hidden": true
   },
   "outputs": [],
   "source": [
    "df_init.to_pickle(data_dir+\"trj.init.all.base.p\")"
   ]
  },
  {
   "cell_type": "markdown",
   "metadata": {},
   "source": [
    "## Main Analysis"
   ]
  },
  {
   "cell_type": "code",
   "execution_count": null,
   "metadata": {},
   "outputs": [],
   "source": [
    "# read in prepped df\n",
    "df = pd.read_pickle(data_dir+\"trj.sparse.all.base.p\")\n",
    "df_init = pd.read_pickle(data_dir+\"trj.init.all.base.p\")"
   ]
  },
  {
   "cell_type": "code",
   "execution_count": null,
   "metadata": {},
   "outputs": [],
   "source": [
    "# check size in MB\n",
    "getsizeof(df) / 1000 / 1000"
   ]
  },
  {
   "cell_type": "code",
   "execution_count": null,
   "metadata": {},
   "outputs": [],
   "source": [
    "getsizeof(df_init) / 1000 / 1000"
   ]
  },
  {
   "cell_type": "code",
   "execution_count": null,
   "metadata": {},
   "outputs": [],
   "source": [
    "df_init"
   ]
  },
  {
   "cell_type": "code",
   "execution_count": null,
   "metadata": {},
   "outputs": [],
   "source": [
    "df"
   ]
  },
  {
   "cell_type": "code",
   "execution_count": null,
   "metadata": {},
   "outputs": [],
   "source": [
    "#df_init[df_init.event == 0]\n",
    "df_init[df_init.particle == 0]"
   ]
  },
  {
   "cell_type": "markdown",
   "metadata": {},
   "source": [
    "Now we can get some general ideas in trends of positional data. An easy case is how conversion e- populate X and Y. The full data is overkill and a bit unwieldy, so we'll select every 10 data points (1e-10 s).\n",
    "**Already done on import of sparse sets.**"
   ]
  },
  {
   "cell_type": "code",
   "execution_count": null,
   "metadata": {},
   "outputs": [],
   "source": [
    "#df_small = df.iloc[::10,:]"
   ]
  },
  {
   "cell_type": "code",
   "execution_count": null,
   "metadata": {
    "scrolled": true
   },
   "outputs": [],
   "source": [
    "data = [\n",
    "    #go.Histogram2dContour(\n",
    "    go.Histogram2d(\n",
    "        x=df['X'],\n",
    "        y=df['Y'],\n",
    "        colorscale='Viridis',\n",
    "        colorbar=dict(\n",
    "            title=\"Count\"\n",
    "        )\n",
    "        #bins\n",
    "        #line=line(width=0.1)\n",
    "    )\n",
    "]\n",
    "\n",
    "axis_template = dict(\n",
    "    ticks='',\n",
    "    showgrid=False,\n",
    "    zeroline=False,\n",
    "    showline=True,\n",
    "    mirror=True,\n",
    "    linewidth=2,\n",
    "    linecolor='#444'\n",
    ")\n",
    "\n",
    "xax = copy.copy(axis_template)\n",
    "xax[\"title\"] = \"X (mm)\"\n",
    "yax = copy.copy(axis_template)\n",
    "yax[\"title\"] = \"Y (mm)\"\n",
    "\n",
    "layout = go.Layout(xaxis=xax,#axis_template.,\n",
    "                   yaxis=yax,#axis_template,\n",
    "                   width=800,\n",
    "                   height=750,\n",
    "                   autosize=False,\n",
    "                   hovermode='closest',\n",
    "                   title='Signal e- Trajectory 2d Histo, 1e-10 s Time Steps'\n",
    ")\n",
    "\n",
    "fig = go.Figure(data=data, layout=layout)"
   ]
  },
  {
   "cell_type": "code",
   "execution_count": null,
   "metadata": {},
   "outputs": [],
   "source": [
    "iplot(fig, filename=mu2e_ext_path+\"trajectory/xy_2d_histo_sparse2.html\")"
   ]
  },
  {
   "cell_type": "code",
   "execution_count": null,
   "metadata": {},
   "outputs": [],
   "source": [
    "fname = f\"{plot_dir}run05_xy_2d_histo_1e-10s_steps\"\n",
    "#pio.write_html(fig, fname+\".html\")\n",
    "pio.write_image(fig, fname+\".pdf\")\n",
    "pio.write_image(fig, fname+\".png\")"
   ]
  },
  {
   "cell_type": "code",
   "execution_count": null,
   "metadata": {},
   "outputs": [],
   "source": []
  },
  {
   "cell_type": "markdown",
   "metadata": {},
   "source": [
    "### Removing Low Radius, Small Z Events"
   ]
  },
  {
   "cell_type": "code",
   "execution_count": null,
   "metadata": {
    "scrolled": true
   },
   "outputs": [],
   "source": [
    "df"
   ]
  },
  {
   "cell_type": "code",
   "execution_count": null,
   "metadata": {},
   "outputs": [],
   "source": [
    "grouped = df.groupby(\"particle\")"
   ]
  },
  {
   "cell_type": "code",
   "execution_count": null,
   "metadata": {},
   "outputs": [],
   "source": [
    "#grouped.describe()"
   ]
  },
  {
   "cell_type": "code",
   "execution_count": null,
   "metadata": {},
   "outputs": [],
   "source": [
    "#grouped.R.max()[grouped.R.max()>400.]"
   ]
  },
  {
   "cell_type": "code",
   "execution_count": null,
   "metadata": {},
   "outputs": [],
   "source": [
    "zcut = grouped.R.max()[grouped.Z.max()>8410.]"
   ]
  },
  {
   "cell_type": "code",
   "execution_count": null,
   "metadata": {},
   "outputs": [],
   "source": [
    "#zcut"
   ]
  },
  {
   "cell_type": "code",
   "execution_count": null,
   "metadata": {},
   "outputs": [],
   "source": [
    "zcutrcut = zcut[zcut > 400.]"
   ]
  },
  {
   "cell_type": "code",
   "execution_count": null,
   "metadata": {},
   "outputs": [],
   "source": [
    "largeR_tracks = list(zcutrcut.index.values)"
   ]
  },
  {
   "cell_type": "code",
   "execution_count": null,
   "metadata": {},
   "outputs": [],
   "source": [
    "len(largeR_tracks)"
   ]
  },
  {
   "cell_type": "code",
   "execution_count": null,
   "metadata": {},
   "outputs": [],
   "source": [
    "largeR_cut = df.particle.isin(largeR_tracks)"
   ]
  },
  {
   "cell_type": "code",
   "execution_count": null,
   "metadata": {},
   "outputs": [],
   "source": [
    "data = [\n",
    "    #go.Histogram2dContour(\n",
    "    go.Histogram2d(\n",
    "        x=df[largeR_cut]['X'],\n",
    "        y=df[largeR_cut]['Y'],\n",
    "        colorscale='Viridis',\n",
    "        colorbar=dict(\n",
    "            title=\"Count\"\n",
    "        )\n",
    "        #bins\n",
    "        #line=line(width=0.1)\n",
    "    )\n",
    "]\n",
    "\n",
    "axis_template = dict(\n",
    "    ticks='',\n",
    "    showgrid=False,\n",
    "    zeroline=False,\n",
    "    showline=True,\n",
    "    mirror=True,\n",
    "    linewidth=2,\n",
    "    linecolor='#444'\n",
    ")\n",
    "\n",
    "xax = copy.copy(axis_template)\n",
    "xax[\"title\"] = \"X (mm)\"\n",
    "yax = copy.copy(axis_template)\n",
    "yax[\"title\"] = \"Y (mm)\"\n",
    "\n",
    "layout = go.Layout(xaxis=xax,#axis_template.,\n",
    "                   yaxis=yax,#axis_template,\n",
    "                   width=800,\n",
    "                   height=750,\n",
    "                   autosize=False,\n",
    "                   hovermode='closest',\n",
    "                   title='Signal e- Trajectory 2d Histo, 1e-10 s Time Steps <br> R_max > 400 mm, Z_max > 8410 mm'\n",
    ")\n",
    "\n",
    "fig = go.Figure(data=data, layout=layout)"
   ]
  },
  {
   "cell_type": "code",
   "execution_count": null,
   "metadata": {},
   "outputs": [],
   "source": [
    "iplot(fig, filename=mu2e_ext_path+\"trajectory/largeR_largeZ_xy_2d_histo_sparse.html\")"
   ]
  },
  {
   "cell_type": "code",
   "execution_count": null,
   "metadata": {},
   "outputs": [],
   "source": [
    "fname = f\"{plot_dir}run05_largeR_largeZ_xy_2d_histo_1e-10s_steps\"\n",
    "#pio.write_html(fig, fname+\".html\")\n",
    "pio.write_image(fig, fname+\".pdf\")\n",
    "pio.write_image(fig, fname+\".png\")"
   ]
  },
  {
   "cell_type": "code",
   "execution_count": null,
   "metadata": {},
   "outputs": [],
   "source": []
  },
  {
   "cell_type": "code",
   "execution_count": null,
   "metadata": {},
   "outputs": [],
   "source": [
    "for coord in [\"X\",\"Y\",\"Z\",\"R\"]:\n",
    "    fig = histo(df[largeR_cut][coord],xlabel=f\"{coord} (mm)\",bins=50,autobin=False,show_plot=False,inline=True);\n",
    "    fig.layout.title = (\"Signal e- Trajectory, 1e-10 Time Steps <br> R_max > 400 mm, Z_max > 8410 mm\")\n",
    "    fig.update_xaxes(ticks=\"inside\",nticks=13)\n",
    "    fig.update_yaxes(ticks=\"inside\")\n",
    "    fname = plot_dir+f\"run05_{coord}_histo_1e-10s_steps_largeR_largeZ\"\n",
    "    pio.write_image(fig,fname+\".pdf\")\n",
    "    pio.write_image(fig,fname+\".png\")"
   ]
  },
  {
   "cell_type": "code",
   "execution_count": null,
   "metadata": {},
   "outputs": [],
   "source": []
  },
  {
   "cell_type": "markdown",
   "metadata": {},
   "source": [
    "### Kind of useless plots now that code is working :)"
   ]
  },
  {
   "cell_type": "code",
   "execution_count": null,
   "metadata": {},
   "outputs": [],
   "source": [
    "grouped = df.groupby('particle')"
   ]
  },
  {
   "cell_type": "code",
   "execution_count": null,
   "metadata": {},
   "outputs": [],
   "source": [
    "#zmax = grouped['Z'].agg(np.max)\n",
    "zmax = grouped['Z'].last()"
   ]
  },
  {
   "cell_type": "code",
   "execution_count": null,
   "metadata": {
    "scrolled": true
   },
   "outputs": [],
   "source": [
    "histo(zmax,xlabel='Z_max (mm)',bins=15,inline=True);\n",
    "histo(zmax[zmax<6290],xlabel='Z_max (mm)',bins=15,inline=True);\n",
    "histo(zmax[zmax<8410],xlabel='Z_max (mm)',bins=15,inline=True);"
   ]
  },
  {
   "cell_type": "code",
   "execution_count": null,
   "metadata": {},
   "outputs": [],
   "source": [
    "start_E = grouped['E0'].first()\n",
    "end_E = grouped['EF'].last()"
   ]
  },
  {
   "cell_type": "code",
   "execution_count": null,
   "metadata": {},
   "outputs": [],
   "source": [
    "e_change = end_E - start_E"
   ]
  },
  {
   "cell_type": "code",
   "execution_count": null,
   "metadata": {},
   "outputs": [],
   "source": [
    "e_change.name = \"\""
   ]
  },
  {
   "cell_type": "code",
   "execution_count": null,
   "metadata": {},
   "outputs": [],
   "source": [
    "histo(e_change,xlabel=f'$\\Delta E (MeV)$',yscale='linear',bins=30,inline=True);\n",
    "histo(e_change,xlabel=f'$\\Delta E (MeV)$',yscale='linear',bins=30,cut=[0.,.75],inline=True);"
   ]
  },
  {
   "cell_type": "code",
   "execution_count": null,
   "metadata": {},
   "outputs": [],
   "source": [
    "data = [\n",
    "    #go.Histogram2dContour(\n",
    "    go.Scatter(\n",
    "        x=zmax,\n",
    "        y=e_change,\n",
    "        mode='markers',\n",
    "        #colorscale='Viridis',\n",
    "        #bins\n",
    "        #line=line(width=0.1)\n",
    "    )\n",
    "]\n",
    "\n",
    "axis_template = dict(\n",
    "    ticks='',\n",
    "    showgrid=False,\n",
    "    zeroline=False,\n",
    "    showline=True,\n",
    "    mirror=True,\n",
    "    linewidth=2,\n",
    "    linecolor='#444'\n",
    ")\n",
    "\n",
    "layout = go.Layout(xaxis=axis_template,\n",
    "                   yaxis=axis_template,\n",
    "                   width=800,\n",
    "                   height=750,\n",
    "                   autosize=False,\n",
    "                   hovermode='closest',\n",
    "                   title=''\n",
    ")\n",
    "\n",
    "fig = go.Figure(data=data, layout=layout)"
   ]
  },
  {
   "cell_type": "code",
   "execution_count": null,
   "metadata": {},
   "outputs": [],
   "source": [
    "iplot(fig)"
   ]
  },
  {
   "cell_type": "code",
   "execution_count": null,
   "metadata": {},
   "outputs": [],
   "source": [
    "start = grouped.first()\n",
    "end = grouped.last()"
   ]
  },
  {
   "cell_type": "code",
   "execution_count": null,
   "metadata": {
    "scrolled": true
   },
   "outputs": [],
   "source": [
    "df_init"
   ]
  },
  {
   "cell_type": "code",
   "execution_count": null,
   "metadata": {},
   "outputs": [],
   "source": [
    "start"
   ]
  },
  {
   "cell_type": "code",
   "execution_count": null,
   "metadata": {
    "scrolled": true
   },
   "outputs": [],
   "source": [
    "end"
   ]
  },
  {
   "cell_type": "markdown",
   "metadata": {},
   "source": [
    "It seems interesting to pick out a certain particle that terminated early to look at a 3d plot of the trajectory. e.g. particle 1 ends in the graded region but only terminated because of hitting the maximum time."
   ]
  },
  {
   "cell_type": "code",
   "execution_count": null,
   "metadata": {},
   "outputs": [],
   "source": [
    "p1 = grouped.get_group(19)"
   ]
  },
  {
   "cell_type": "code",
   "execution_count": null,
   "metadata": {},
   "outputs": [],
   "source": [
    "#p1 = p1.iloc[::10,:]"
   ]
  },
  {
   "cell_type": "code",
   "execution_count": null,
   "metadata": {},
   "outputs": [],
   "source": [
    "df_init.query(\"particle == 19\")"
   ]
  },
  {
   "cell_type": "markdown",
   "metadata": {},
   "source": [
    "Very large initial Pt!"
   ]
  },
  {
   "cell_type": "code",
   "execution_count": null,
   "metadata": {
    "scrolled": true
   },
   "outputs": [],
   "source": [
    "p1"
   ]
  },
  {
   "cell_type": "code",
   "execution_count": null,
   "metadata": {
    "scrolled": false
   },
   "outputs": [],
   "source": [
    "fig = scatter3d(p1.X,p1.Y,p1.Z,scale_list=[p1.time],mode_list=['markers+lines'],units_list=[('mm','mm','mm')],inline=True);"
   ]
  },
  {
   "cell_type": "code",
   "execution_count": null,
   "metadata": {},
   "outputs": [],
   "source": [
    "p1.Vx.plot(x='time')\n",
    "p1.Vy.plot(x='time')\n",
    "p1.Vz.plot(x='time')"
   ]
  },
  {
   "cell_type": "markdown",
   "metadata": {},
   "source": [
    "Let's see how the energy changes in time."
   ]
  },
  {
   "cell_type": "code",
   "execution_count": null,
   "metadata": {},
   "outputs": [],
   "source": [
    "c = 299792458000 #mm/s\n",
    "m = .511 #MeV/c^2"
   ]
  },
  {
   "cell_type": "code",
   "execution_count": null,
   "metadata": {},
   "outputs": [],
   "source": [
    "p1.eval('v = (Vx**2+Vy**2+Vz**2)**(1/2)',inplace=True)\n",
    "p1.eval(f'gamma = (1-(v/{c})**2)**(-1/2)',inplace=True)\n",
    "p1.eval(f'p = gamma*{m}*v/{c}',inplace=True)"
   ]
  },
  {
   "cell_type": "code",
   "execution_count": null,
   "metadata": {},
   "outputs": [],
   "source": [
    "p1"
   ]
  },
  {
   "cell_type": "code",
   "execution_count": null,
   "metadata": {},
   "outputs": [],
   "source": [
    "#p1.eval(f\"E = (p**2*{c}**2+{m}**2*{c}**4)**(1/2)\",inplace=True)\n",
    "p1.eval(f\"E = (p**2+{m}**2)**(1/2)\",inplace=True)"
   ]
  },
  {
   "cell_type": "code",
   "execution_count": null,
   "metadata": {},
   "outputs": [],
   "source": [
    "p1.plot(x=\"time\",y=\"E\")"
   ]
  },
  {
   "cell_type": "markdown",
   "metadata": {},
   "source": [
    "### More Useful Plots"
   ]
  },
  {
   "cell_type": "code",
   "execution_count": null,
   "metadata": {},
   "outputs": [],
   "source": [
    "plt.hist(df.X,bins=50);\n",
    "plt.title(\"Signal e- Trajectory, 1e-10 Time Steps\")\n",
    "plt.xlabel(\"X (mm)\")\n",
    "plt.ylabel('Count')\n",
    "#plt.savefig(plot_dir+\"run05_x_histo_1e-10s_steps.pdf\")"
   ]
  },
  {
   "cell_type": "code",
   "execution_count": null,
   "metadata": {},
   "outputs": [],
   "source": [
    "plt.hist(df.Y,bins=50);\n",
    "plt.title(\"Signal e- Trajectory, 1e-10 Time Steps\")\n",
    "plt.xlabel(\"Y (mm)\")\n",
    "plt.ylabel('Count')\n",
    "#plt.savefig(plot_dir+\"run05_y_histo_1e-10s_steps.pdf\")"
   ]
  },
  {
   "cell_type": "code",
   "execution_count": null,
   "metadata": {},
   "outputs": [],
   "source": [
    "plt.hist(df.Z,bins=50);\n",
    "plt.title(\"Signal e- Trajectory, 1e-10 Time Steps\")\n",
    "plt.xlabel(\"Z (mm)\")\n",
    "plt.ylabel('Count')\n",
    "#plt.savefig(plot_dir+\"run05_z_histo_1e-10s_steps.pdf\")"
   ]
  },
  {
   "cell_type": "code",
   "execution_count": null,
   "metadata": {},
   "outputs": [],
   "source": [
    "plt.hist(df.R,bins=50);\n",
    "plt.title(\"Signal e- Trajectory, 1e-10 Time Steps\")\n",
    "plt.xlabel(\"Radius (mm)\")\n",
    "plt.ylabel('Count')\n",
    "#plt.savefig(plot_dir+\"run05_r_histo_1e-10s_steps.pdf\")"
   ]
  },
  {
   "cell_type": "code",
   "execution_count": null,
   "metadata": {},
   "outputs": [],
   "source": [
    "#fig = histo(df[\"X\"],xlabel=f\"X (mm)\",bins=50,autobin=False,show_plot=True,inline=True);"
   ]
  },
  {
   "cell_type": "code",
   "execution_count": null,
   "metadata": {},
   "outputs": [],
   "source": [
    "for coord in [\"X\",\"Y\",\"Z\",\"R\"]:\n",
    "    fig = histo(df[coord],xlabel=f\"{coord} (mm)\",bins=50,autobin=False,show_plot=False,inline=True);\n",
    "    fig.layout.title = (\"Signal e- Trajectory, 1e-10 Time Steps\")\n",
    "    fig.update_xaxes(ticks=\"inside\",nticks=13)\n",
    "    fig.update_yaxes(ticks=\"inside\")\n",
    "    fname = plot_dir+f\"run05_{coord}_histo_1e-10s_steps\"\n",
    "    pio.write_image(fig,fname+\".pdf\")"
   ]
  },
  {
   "cell_type": "markdown",
   "metadata": {},
   "source": [
    "### Etc"
   ]
  },
  {
   "cell_type": "code",
   "execution_count": null,
   "metadata": {},
   "outputs": [],
   "source": [
    "df_mustops = pd.read_pickle(mu2e_ext_path+\"root/ce_OLD.pkl\")"
   ]
  },
  {
   "cell_type": "code",
   "execution_count": null,
   "metadata": {
    "scrolled": true
   },
   "outputs": [],
   "source": [
    "df_mustops.demcgen_x"
   ]
  },
  {
   "cell_type": "code",
   "execution_count": null,
   "metadata": {},
   "outputs": [],
   "source": [
    "plt.hist2d(x=df_mustops.demcgen_x,y=df_mustops.demcgen_y,bins=50);"
   ]
  },
  {
   "cell_type": "code",
   "execution_count": null,
   "metadata": {},
   "outputs": [],
   "source": [
    "#df_mustops.eval(\"demcgen_r = (demcgen_x**2 + demcgen_y**2)**(1/2)\",inplace=True)\n",
    "df_mustops[\"demcgen_r\"] = (df_mustops.demcgen_x**2 + df_mustops.demcgen_y**2)**(1/2)#,inplace=True)\n",
    "df_mustops = df_mustops[df_mustops['de._status'] != -1000]"
   ]
  },
  {
   "cell_type": "code",
   "execution_count": null,
   "metadata": {},
   "outputs": [],
   "source": [
    "plt.hist(x=df_mustops.demcgen_r,bins=50);"
   ]
  },
  {
   "cell_type": "code",
   "execution_count": null,
   "metadata": {},
   "outputs": [],
   "source": [
    "plt.hist(x=df_mustops.demcgen_y,bins=75);"
   ]
  },
  {
   "cell_type": "code",
   "execution_count": null,
   "metadata": {},
   "outputs": [],
   "source": [
    "plt.hist(x=df_mustops.demcgen_x,bins=75);"
   ]
  },
  {
   "cell_type": "markdown",
   "metadata": {},
   "source": [
    "## Explore pT"
   ]
  },
  {
   "cell_type": "code",
   "execution_count": null,
   "metadata": {},
   "outputs": [],
   "source": [
    "largeR_tracks"
   ]
  },
  {
   "cell_type": "code",
   "execution_count": null,
   "metadata": {},
   "outputs": [],
   "source": [
    "df_init2 = df_init[df_init.particle.isin(largeR_tracks)]"
   ]
  },
  {
   "cell_type": "code",
   "execution_count": null,
   "metadata": {},
   "outputs": [],
   "source": [
    "#df_init2 = df_init[df_init[\"Theta0\"] < np.pi/2]\n",
    "#df_init2 = df_init2[df_init2[\"Theta0\"] < np.pi/2]"
   ]
  },
  {
   "cell_type": "code",
   "execution_count": null,
   "metadata": {},
   "outputs": [],
   "source": [
    "tand = abs(df_init2[\"Pz0\"]/df_init2[\"Pt0\"])\n",
    "#tand = df_init2[\"Pz0\"]/df_init2[\"Pt0\"]"
   ]
  },
  {
   "cell_type": "code",
   "execution_count": null,
   "metadata": {},
   "outputs": [],
   "source": [
    "tand.name = \"tan(dip)\""
   ]
  },
  {
   "cell_type": "code",
   "execution_count": null,
   "metadata": {},
   "outputs": [],
   "source": [
    "fig = histo(tand, bins=25, show_plot=True,inline=True)"
   ]
  },
  {
   "cell_type": "code",
   "execution_count": null,
   "metadata": {},
   "outputs": [],
   "source": [
    "fig = histo(tand, bins=25, show_plot=True,inline=True)"
   ]
  },
  {
   "cell_type": "code",
   "execution_count": null,
   "metadata": {},
   "outputs": [],
   "source": [
    "fig=histo(df_init.Theta0,bins=20,inline=True)"
   ]
  },
  {
   "cell_type": "code",
   "execution_count": null,
   "metadata": {},
   "outputs": [],
   "source": [
    "#theta = np.random.uniform(0.1,np.pi/2,10000)\n",
    "costheta = np.random.uniform(0.1,1,10000)\n",
    "theta = np.arccos(costheta)"
   ]
  },
  {
   "cell_type": "code",
   "execution_count": null,
   "metadata": {},
   "outputs": [],
   "source": [
    "theta"
   ]
  },
  {
   "cell_type": "code",
   "execution_count": null,
   "metadata": {},
   "outputs": [],
   "source": [
    "dip = pd.Series(1/np.tan(theta), name=\"tan(dip)\")"
   ]
  },
  {
   "cell_type": "code",
   "execution_count": null,
   "metadata": {},
   "outputs": [],
   "source": [
    "fig = histo(dip, bins=1000, inline=True)"
   ]
  },
  {
   "cell_type": "code",
   "execution_count": null,
   "metadata": {},
   "outputs": [],
   "source": [
    "dip.describe()"
   ]
  },
  {
   "cell_type": "code",
   "execution_count": null,
   "metadata": {},
   "outputs": [],
   "source": [
    "lar"
   ]
  },
  {
   "cell_type": "code",
   "execution_count": null,
   "metadata": {},
   "outputs": [],
   "source": [
    "df.columns"
   ]
  },
  {
   "cell_type": "code",
   "execution_count": null,
   "metadata": {},
   "outputs": [],
   "source": [
    "df.head()"
   ]
  },
  {
   "cell_type": "code",
   "execution_count": null,
   "metadata": {},
   "outputs": [],
   "source": []
  },
  {
   "cell_type": "code",
   "execution_count": null,
   "metadata": {},
   "outputs": [],
   "source": []
  },
  {
   "cell_type": "code",
   "execution_count": null,
   "metadata": {},
   "outputs": [],
   "source": []
  },
  {
   "cell_type": "code",
   "execution_count": null,
   "metadata": {},
   "outputs": [],
   "source": []
  },
  {
   "cell_type": "markdown",
   "metadata": {},
   "source": [
    "## tan(dip)"
   ]
  },
  {
   "cell_type": "code",
   "execution_count": null,
   "metadata": {},
   "outputs": [],
   "source": [
    "c = 2.9979e11"
   ]
  },
  {
   "cell_type": "code",
   "execution_count": null,
   "metadata": {},
   "outputs": [],
   "source": [
    "#c"
   ]
  },
  {
   "cell_type": "code",
   "execution_count": null,
   "metadata": {},
   "outputs": [],
   "source": [
    "zmax = df.Z < 11740.\n",
    "df = df[zmax]"
   ]
  },
  {
   "cell_type": "code",
   "execution_count": null,
   "metadata": {},
   "outputs": [],
   "source": [
    "df.eval(\"V = (Vx**2+Vy**2+Vz**2)**(1/2)\", inplace=True)\n",
    "df.eval(\"Vt = (Vx**2+Vy**2)**(1/2)\", inplace=True)\n",
    "df.eval(f\"gamma = (1 - (V/{c})**2)**(1/2)\", inplace=True)\n",
    "df.eval(\"Pt = gamma*0.511*Vt\",inplace=True)\n",
    "df.eval(\"Pz = gamma*0.511*Vz\",inplace=True)\n",
    "df.eval(\"P = gamma*0.511*V\",inplace=True)"
   ]
  },
  {
   "cell_type": "code",
   "execution_count": null,
   "metadata": {},
   "outputs": [],
   "source": [
    "#df.P"
   ]
  },
  {
   "cell_type": "code",
   "execution_count": null,
   "metadata": {},
   "outputs": [],
   "source": [
    "zcut = grouped.R.max()[grouped.Z.max()>8410.]\n",
    "zcutrcut = zcut[zcut > 450.]\n",
    "largeR_tracks = list(zcutrcut.index.values)"
   ]
  },
  {
   "cell_type": "code",
   "execution_count": null,
   "metadata": {},
   "outputs": [],
   "source": [
    "largeR_cut = df.particle.isin(largeR_tracks)"
   ]
  },
  {
   "cell_type": "code",
   "execution_count": null,
   "metadata": {},
   "outputs": [],
   "source": [
    "grouped_largeR = df[largeR_cut].groupby(\"particle\")"
   ]
  },
  {
   "cell_type": "code",
   "execution_count": null,
   "metadata": {},
   "outputs": [],
   "source": [
    "last_largeR = grouped_largeR.tail(1)"
   ]
  },
  {
   "cell_type": "code",
   "execution_count": null,
   "metadata": {},
   "outputs": [],
   "source": [
    "#last_largeR"
   ]
  },
  {
   "cell_type": "code",
   "execution_count": null,
   "metadata": {},
   "outputs": [],
   "source": [
    "last_largeR.eval(\"tand = Pz / Pt\",inplace=True)"
   ]
  },
  {
   "cell_type": "code",
   "execution_count": null,
   "metadata": {},
   "outputs": [],
   "source": [
    "fig = histo(last_largeR.tand, bins=40, inline=True)"
   ]
  },
  {
   "cell_type": "code",
   "execution_count": null,
   "metadata": {},
   "outputs": [],
   "source": [
    "fig.update_xaxes(range=[0.4,1.5])"
   ]
  },
  {
   "cell_type": "code",
   "execution_count": null,
   "metadata": {},
   "outputs": [],
   "source": [
    "12/31847"
   ]
  },
  {
   "cell_type": "code",
   "execution_count": null,
   "metadata": {},
   "outputs": [],
   "source": [
    "10/1264"
   ]
  },
  {
   "cell_type": "code",
   "execution_count": null,
   "metadata": {},
   "outputs": [],
   "source": []
  }
 ],
 "metadata": {
  "kernelspec": {
   "display_name": "Python [conda env:Mu2E]",
   "language": "python",
   "name": "conda-env-Mu2E-py"
  },
  "language_info": {
   "codemirror_mode": {
    "name": "ipython",
    "version": 3
   },
   "file_extension": ".py",
   "mimetype": "text/x-python",
   "name": "python",
   "nbconvert_exporter": "python",
   "pygments_lexer": "ipython3",
   "version": "3.7.4"
  }
 },
 "nbformat": 4,
 "nbformat_minor": 2
}
