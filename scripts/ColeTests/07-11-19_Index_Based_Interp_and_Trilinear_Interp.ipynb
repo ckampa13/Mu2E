{
 "cells": [
  {
   "cell_type": "markdown",
   "metadata": {},
   "source": [
    "# Interpolation\n",
    "- Already have a tool in mu2e.tools.mapinterp (a factory function to get an interpolator for a given map file).\n",
    "- Uses scipy.interpolate griddata function (can do nearest or linear interp).\n",
    "- Gathers 8 nearest points in a stupid way...query is pretty slow.\n",
    "- Note that trajectory code currently uses actual model evaluation...I'm not sure that any practical applications do it this way (check!). Seems that everyone just interpolates a map!\n",
    "    - This calculation is definitely the bottleneck so a quick interpolation might fix things.\n",
    "    - (Though eventually will want a quick model evaluation for comparing good vs. bad)\n",
    "\n",
    "- The goal of this notebook is to work through details of index based data selection to quickly pull the 8 nearest points, then to do a linear or trilinear interpolation. It will be a useful tool in general, but may be very useful for getting the trajectory code running."
   ]
  },
  {
   "cell_type": "markdown",
   "metadata": {},
   "source": [
    "## Imports"
   ]
  },
  {
   "cell_type": "code",
   "execution_count": 1,
   "metadata": {},
   "outputs": [],
   "source": [
    "%load_ext autoreload\n",
    "%autoreload 2"
   ]
  },
  {
   "cell_type": "code",
   "execution_count": 5,
   "metadata": {},
   "outputs": [
    {
     "data": {
      "text/html": [
       "<script type=\"text/javascript\">window.PlotlyConfig = {MathJaxConfig: 'local'};</script><script type=\"text/javascript\">if (window.MathJax) {MathJax.Hub.Config({SVG: {font: \"STIX-Web\"}});}</script><script>requirejs.config({paths: { 'plotly': ['https://cdn.plot.ly/plotly-latest.min']},});if(!window._Plotly) {require(['plotly'],function(plotly) {window._Plotly=plotly;});}</script>"
      ],
      "text/vnd.plotly.v1+html": [
       "<script type=\"text/javascript\">window.PlotlyConfig = {MathJaxConfig: 'local'};</script><script type=\"text/javascript\">if (window.MathJax) {MathJax.Hub.Config({SVG: {font: \"STIX-Web\"}});}</script><script>requirejs.config({paths: { 'plotly': ['https://cdn.plot.ly/plotly-latest.min']},});if(!window._Plotly) {require(['plotly'],function(plotly) {window._Plotly=plotly;});}</script>"
      ]
     },
     "metadata": {},
     "output_type": "display_data"
    }
   ],
   "source": [
    "import numpy as np\n",
    "import pandas as pd\n",
    "import pickle as pkl\n",
    "from datetime import datetime\n",
    "from dateutil import parser\n",
    "\n",
    "import matplotlib.pyplot as plt\n",
    "from mpl_toolkits.mplot3d import Axes3D\n",
    "%matplotlib inline\n",
    "plt.rcParams['figure.figsize'] = (12.0, 8.0)\n",
    "plt.rcParams['axes.axisbelow'] = True\n",
    "\n",
    "from plotly.offline import init_notebook_mode, plot, iplot\n",
    "import plotly.graph_objs as go\n",
    "import plotly.io as pio\n",
    "from plotly import tools\n",
    "init_notebook_mode(True)\n",
    "\n",
    "from hallprobecalib import hpc_ext_path\n",
    "from hallprobecalib.hpcplots import scatter2d,scatter3d,histo\n",
    "\n",
    "from mu2e import mu2e_ext_path\n",
    "from mu2e.dataframeprod import DataFrameMaker\n",
    "from mu2e.mu2eplots import mu2e_plot, mu2e_plot3d"
   ]
  },
  {
   "cell_type": "code",
   "execution_count": 6,
   "metadata": {},
   "outputs": [],
   "source": [
    "from hallprobecalib.hallrawdataframe import gradient_calc"
   ]
  },
  {
   "cell_type": "code",
   "execution_count": 5,
   "metadata": {},
   "outputs": [],
   "source": [
    "plotdir = mu2e_ext_path + 'plots/interp_test/'"
   ]
  },
  {
   "cell_type": "code",
   "execution_count": 7,
   "metadata": {},
   "outputs": [],
   "source": [
    "df = DataFrameMaker(mu2e_ext_path+\"datafiles/Mau13/Mu2e_DSMap_V13\",input_type='pkl').data_frame"
   ]
  },
  {
   "cell_type": "markdown",
   "metadata": {},
   "source": [
    "## Current Interpolation Factory Function"
   ]
  },
  {
   "cell_type": "code",
   "execution_count": 21,
   "metadata": {},
   "outputs": [],
   "source": [
    "from mu2e.tools.mapinterp import get_ds_interp_func"
   ]
  },
  {
   "cell_type": "code",
   "execution_count": 22,
   "metadata": {},
   "outputs": [],
   "source": [
    "mau13_nearest = get_ds_interp_func(df,method='nearest')\n",
    "mau13_interp = get_ds_interp_func(df,method='linear')"
   ]
  },
  {
   "cell_type": "markdown",
   "metadata": {},
   "source": [
    "## Index Based Selection"
   ]
  },
  {
   "cell_type": "code",
   "execution_count": 13,
   "metadata": {},
   "outputs": [
    {
     "name": "stdout",
     "output_type": "stream",
     "text": [
      "38.6 ms ± 261 µs per loop (mean ± std. dev. of 7 runs, 10 loops each)\n"
     ]
    }
   ],
   "source": [
    "%timeit mau13_interp(0.156,-.699,7.001)"
   ]
  },
  {
   "cell_type": "code",
   "execution_count": 12,
   "metadata": {},
   "outputs": [
    {
     "name": "stdout",
     "output_type": "stream",
     "text": [
      "38.5 ms ± 615 µs per loop (mean ± std. dev. of 7 runs, 10 loops each)\n"
     ]
    }
   ],
   "source": [
    "%timeit mau13_nearest(0.156,-.699,7.001)"
   ]
  },
  {
   "cell_type": "code",
   "execution_count": 23,
   "metadata": {},
   "outputs": [
    {
     "data": {
      "text/plain": [
       "(94.57883452204001, -446.1719677802401, 11347.763332736002)"
      ]
     },
     "execution_count": 23,
     "metadata": {},
     "output_type": "execute_result"
    }
   ],
   "source": [
    "mau13_interp(0.156,-.699,7.001)"
   ]
  },
  {
   "cell_type": "code",
   "execution_count": 24,
   "metadata": {},
   "outputs": [
    {
     "data": {
      "text/plain": [
       "(96.407603304, -472.752239114, 11351.8362832)"
      ]
     },
     "execution_count": 24,
     "metadata": {},
     "output_type": "execute_result"
    }
   ],
   "source": [
    "mau13_nearest(0.156,-.699,7.001)"
   ]
  },
  {
   "cell_type": "markdown",
   "metadata": {},
   "source": [
    "- Both nearest and linear are about the same speed, but I think most of this time is spent selecting the data.\n",
    "\n",
    "- Let's also see the current speed of model evaluation."
   ]
  },
  {
   "cell_type": "code",
   "execution_count": 106,
   "metadata": {},
   "outputs": [],
   "source": [
    "from mu2e.tools.modeleval import get_mag_field_function"
   ]
  },
  {
   "cell_type": "code",
   "execution_count": 108,
   "metadata": {
    "collapsed": true
   },
   "outputs": [
    {
     "name": "stdout",
     "output_type": "stream",
     "text": [
      "recreating fit with func_version=1000,\n",
      "cfg_params(pitch1=0, ms_h1=0, ns_h1=0, pitch2=0, ms_h2=0, ns_h2=0, length1=10, ms_c1=50, ns_c1=4, length2=0, ms_c2=0, ns_c2=0, ks_dict={'k3': 10000}, bs_tuples=((1.0, 0, 7.873), (1.0, 0, 13.389)), bs_bounds=(0.1, 0.1, 5), version=1000)\n",
      "Elapsed time was 1.83963 seconds\n",
      "[[Fit Statistics]]\n",
      "    # fitting method   = leastsq\n",
      "    # function evals   = 0\n",
      "    # data points      = 46560\n",
      "    # variables        = 0\n",
      "    chi-square         = 764307.395\n",
      "    reduced chi-square = 16.4155368\n",
      "    Akaike info crit   = 130285.508\n",
      "    Bayesian info crit = 130285.508\n",
      "[[Variables]]\n",
      "    pitch1:    0 (fixed)\n",
      "    ms_h1:     0 (fixed)\n",
      "    ns_h1:     0 (fixed)\n",
      "    pitch2:    0 (fixed)\n",
      "    ms_h2:     0 (fixed)\n",
      "    ns_h2:     0 (fixed)\n",
      "    length1:   10 (fixed)\n",
      "    ms_c1:     50 (fixed)\n",
      "    ns_c1:     4 (fixed)\n",
      "    length2:   0 (fixed)\n",
      "    ms_c2:     0 (fixed)\n",
      "    ns_c2:     0 (fixed)\n",
      "    Ac1_0_0:  -74613.8 (fixed)\n",
      "    Bc1_0_0:   13334 (fixed)\n",
      "    Dc1_0:     0.9452835 (fixed)\n",
      "    Ac1_0_1:  -439.0484 (fixed)\n",
      "    Bc1_0_1:  -82.34782 (fixed)\n",
      "    Dc1_1:     0.04189441 (fixed)\n",
      "    Ac1_0_2:  -441.7614 (fixed)\n",
      "    Bc1_0_2:  -46.1499 (fixed)\n",
      "    Dc1_2:     1 (fixed)\n",
      "    Ac1_0_3:   59.75584 (fixed)\n",
      "    Bc1_0_3:   156.7698 (fixed)\n",
      "    Dc1_3:     0.7254637 (fixed)\n",
      "    Ac1_1_0:   41433 (fixed)\n",
      "    Bc1_1_0:  -39340.28 (fixed)\n",
      "    Ac1_1_1:  -540.7486 (fixed)\n",
      "    Bc1_1_1:  -57.54204 (fixed)\n",
      "    Ac1_1_2:  -128.1746 (fixed)\n",
      "    Bc1_1_2:  -352.5191 (fixed)\n",
      "    Ac1_1_3:   570.0771 (fixed)\n",
      "    Bc1_1_3:   5.861506 (fixed)\n",
      "    Ac1_2_0:   20956.25 (fixed)\n",
      "    Bc1_2_0:  -6030.079 (fixed)\n",
      "    Ac1_2_1:  -0.2982235 (fixed)\n",
      "    Bc1_2_1:  -26.31245 (fixed)\n",
      "    Ac1_2_2:  -396.928 (fixed)\n",
      "    Bc1_2_2:  -12.38236 (fixed)\n",
      "    Ac1_2_3:   535.3341 (fixed)\n",
      "    Bc1_2_3:   258.7544 (fixed)\n",
      "    Ac1_3_0:  -27305.76 (fixed)\n",
      "    Bc1_3_0:   14947.16 (fixed)\n",
      "    Ac1_3_1:   440.4049 (fixed)\n",
      "    Bc1_3_1:  -158.1585 (fixed)\n",
      "    Ac1_3_2:  -893.8597 (fixed)\n",
      "    Bc1_3_2:   910.0054 (fixed)\n",
      "    Ac1_3_3:   726.8587 (fixed)\n",
      "    Bc1_3_3:   479.6044 (fixed)\n",
      "    Ac1_4_0:  -25181.09 (fixed)\n",
      "    Bc1_4_0:   12427.36 (fixed)\n",
      "    Ac1_4_1:   41.85533 (fixed)\n",
      "    Bc1_4_1:  -295.5141 (fixed)\n",
      "    Ac1_4_2:  -737.3542 (fixed)\n",
      "    Bc1_4_2:   1377.008 (fixed)\n",
      "    Ac1_4_3:   250.85 (fixed)\n",
      "    Bc1_4_3:   292.501 (fixed)\n",
      "    Ac1_5_0:  -5713.682 (fixed)\n",
      "    Bc1_5_0:  -94.45055 (fixed)\n",
      "    Ac1_5_1:  -1137.962 (fixed)\n",
      "    Bc1_5_1:  -165.8746 (fixed)\n",
      "    Ac1_5_2:  -281.3037 (fixed)\n",
      "    Bc1_5_2:   513.9406 (fixed)\n",
      "    Ac1_5_3:  -227.9177 (fixed)\n",
      "    Bc1_5_3:   179.3489 (fixed)\n",
      "    Ac1_6_0:   1523.051 (fixed)\n",
      "    Bc1_6_0:   28.93177 (fixed)\n",
      "    Ac1_6_1:  -2234.626 (fixed)\n",
      "    Bc1_6_1:   0.3894569 (fixed)\n",
      "    Ac1_6_2:  -183.4149 (fixed)\n",
      "    Bc1_6_2:  -783.48 (fixed)\n",
      "    Ac1_6_3:  -186.6533 (fixed)\n",
      "    Bc1_6_3:   176.6442 (fixed)\n",
      "    Ac1_7_0:   2621.329 (fixed)\n",
      "    Bc1_7_0:   12253.66 (fixed)\n",
      "    Ac1_7_1:  -2715.164 (fixed)\n",
      "    Bc1_7_1:  -273.5787 (fixed)\n",
      "    Ac1_7_2:  -12.48606 (fixed)\n",
      "    Bc1_7_2:  -954.2592 (fixed)\n",
      "    Ac1_7_3:   90.21641 (fixed)\n",
      "    Bc1_7_3:  -0.8815453 (fixed)\n",
      "    Ac1_8_0:  -19.82069 (fixed)\n",
      "    Bc1_8_0:   12373.96 (fixed)\n",
      "    Ac1_8_1:  -2801.668 (fixed)\n",
      "    Bc1_8_1:  -815.8448 (fixed)\n",
      "    Ac1_8_2:   1002.033 (fixed)\n",
      "    Bc1_8_2:  -41.09216 (fixed)\n",
      "    Ac1_8_3:   44.40445 (fixed)\n",
      "    Bc1_8_3:  -96.26247 (fixed)\n",
      "    Ac1_9_0:  -10667.15 (fixed)\n",
      "    Bc1_9_0:  -50.90625 (fixed)\n",
      "    Ac1_9_1:  -2691.98 (fixed)\n",
      "    Bc1_9_1:  -812.3973 (fixed)\n",
      "    Ac1_9_2:   2236.388 (fixed)\n",
      "    Bc1_9_2:   622.6064 (fixed)\n",
      "    Ac1_9_3:  -140.1843 (fixed)\n",
      "    Bc1_9_3:   170.3033 (fixed)\n",
      "    Ac1_10_0: -19206.38 (fixed)\n",
      "    Bc1_10_0: -6131.47 (fixed)\n",
      "    Ac1_10_1: -2188.461 (fixed)\n",
      "    Bc1_10_1:  2.349589 (fixed)\n",
      "    Ac1_10_2:  2251.72 (fixed)\n",
      "    Bc1_10_2:  506.786 (fixed)\n",
      "    Ac1_10_3: -29.70398 (fixed)\n",
      "    Bc1_10_3:  359.3148 (fixed)\n",
      "    Ac1_11_0: -12792.67 (fixed)\n",
      "    Bc1_11_0: -2831.994 (fixed)\n",
      "    Ac1_11_1: -1369.769 (fixed)\n",
      "    Bc1_11_1:  964.5976 (fixed)\n",
      "    Ac1_11_2:  940.9654 (fixed)\n",
      "    Bc1_11_2:  278.9975 (fixed)\n",
      "    Ac1_11_3:  64.44957 (fixed)\n",
      "    Bc1_11_3: -37.68151 (fixed)\n",
      "    Ac1_12_0: -37.92638 (fixed)\n",
      "    Bc1_12_0: -375.3179 (fixed)\n",
      "    Ac1_12_1: -750.9121 (fixed)\n",
      "    Bc1_12_1:  1557.363 (fixed)\n",
      "    Ac1_12_2: -249.5638 (fixed)\n",
      "    Bc1_12_2:  266.4729 (fixed)\n",
      "    Ac1_12_3: -401.3655 (fixed)\n",
      "    Bc1_12_3: -541.2597 (fixed)\n",
      "    Ac1_13_0:  1709.012 (fixed)\n",
      "    Bc1_13_0: -1305.709 (fixed)\n",
      "    Ac1_13_1: -389.4137 (fixed)\n",
      "    Bc1_13_1:  1965.719 (fixed)\n",
      "    Ac1_13_2: -315.9302 (fixed)\n",
      "    Bc1_13_2: -78.65179 (fixed)\n",
      "    Ac1_13_3: -1022.532 (fixed)\n",
      "    Bc1_13_3: -295.4353 (fixed)\n",
      "    Ac1_14_0: -7306.052 (fixed)\n",
      "    Bc1_14_0:  137.7393 (fixed)\n",
      "    Ac1_14_1:  252.238 (fixed)\n",
      "    Bc1_14_1:  2244.379 (fixed)\n",
      "    Ac1_14_2:  201.6056 (fixed)\n",
      "    Bc1_14_2: -933.652 (fixed)\n",
      "    Ac1_14_3: -863.2443 (fixed)\n",
      "    Bc1_14_3:  456.7265 (fixed)\n",
      "    Ac1_15_0: -13027.66 (fixed)\n",
      "    Bc1_15_0:  3421.535 (fixed)\n",
      "    Ac1_15_1:  1150.413 (fixed)\n",
      "    Bc1_15_1:  1931.893 (fixed)\n",
      "    Ac1_15_2:  374.9236 (fixed)\n",
      "    Bc1_15_2: -1455.392 (fixed)\n",
      "    Ac1_15_3: -8.208087 (fixed)\n",
      "    Bc1_15_3:  618.5231 (fixed)\n",
      "    Ac1_16_0: -8656.967 (fixed)\n",
      "    Bc1_16_0:  2234.906 (fixed)\n",
      "    Ac1_16_1:  1376.227 (fixed)\n",
      "    Bc1_16_1:  998.5264 (fixed)\n",
      "    Ac1_16_2:  155.2959 (fixed)\n",
      "    Bc1_16_2: -918.1109 (fixed)\n",
      "    Ac1_16_3:  451.11 (fixed)\n",
      "    Bc1_16_3: -12.78591 (fixed)\n",
      "    Ac1_17_0: -1142.547 (fixed)\n",
      "    Bc1_17_0: -2982.12 (fixed)\n",
      "    Ac1_17_1:  454.0449 (fixed)\n",
      "    Bc1_17_1:  250.2133 (fixed)\n",
      "    Ac1_17_2: -3.230381 (fixed)\n",
      "    Bc1_17_2:  217.3583 (fixed)\n",
      "    Ac1_17_3:  143.8639 (fixed)\n",
      "    Bc1_17_3: -406.2516 (fixed)\n",
      "    Ac1_18_0:  1768.781 (fixed)\n",
      "    Bc1_18_0: -4751.208 (fixed)\n",
      "    Ac1_18_1: -806.4554 (fixed)\n",
      "    Bc1_18_1:  151.9931 (fixed)\n",
      "    Ac1_18_2: -65.67379 (fixed)\n",
      "    Bc1_18_2:  919.0997 (fixed)\n",
      "    Ac1_18_3: -0.7262619 (fixed)\n",
      "    Bc1_18_3:  9.99028 (fixed)\n",
      "    Ac1_19_0:  870.8076 (fixed)\n",
      "    Bc1_19_0: -110.8998 (fixed)\n",
      "    Ac1_19_1: -1482.984 (fixed)\n",
      "    Bc1_19_1:  83.75079 (fixed)\n",
      "    Ac1_19_2: -308.9159 (fixed)\n",
      "    Bc1_19_2:  827.2852 (fixed)\n",
      "    Ac1_19_3:  666.7925 (fixed)\n",
      "    Bc1_19_3:  417.3738 (fixed)\n",
      "    Ac1_20_0: -8.887362 (fixed)\n",
      "    Bc1_20_0:  5036.248 (fixed)\n",
      "    Ac1_20_1: -1739.618 (fixed)\n",
      "    Bc1_20_1: -506.0992 (fixed)\n",
      "    Ac1_20_2: -634.7692 (fixed)\n",
      "    Bc1_20_2:  381.7053 (fixed)\n",
      "    Ac1_20_3:  1366.629 (fixed)\n",
      "    Bc1_20_3: -39.3605 (fixed)\n",
      "    Ac1_21_0: -283.3632 (fixed)\n",
      "    Bc1_21_0:  4699.298 (fixed)\n",
      "    Ac1_21_1: -2074.261 (fixed)\n",
      "    Bc1_21_1: -971.2119 (fixed)\n",
      "    Ac1_21_2: -607.0788 (fixed)\n",
      "    Bc1_21_2: -3.244388 (fixed)\n",
      "    Ac1_21_3:  1047.818 (fixed)\n",
      "    Bc1_21_3: -839.5497 (fixed)\n",
      "    Ac1_22_0: -759.865 (fixed)\n",
      "    Bc1_22_0:  279.0836 (fixed)\n",
      "    Ac1_22_1: -2099.948 (fixed)\n",
      "    Bc1_22_1: -424.6635 (fixed)\n",
      "    Ac1_22_2: -143.6092 (fixed)\n",
      "    Bc1_22_2: -337.7443 (fixed)\n",
      "    Ac1_22_3:  7.959662 (fixed)\n",
      "    Bc1_22_3: -849.0886 (fixed)\n",
      "    Ac1_23_0: -799.5623 (fixed)\n",
      "    Bc1_23_0: -3188.142 (fixed)\n",
      "    Ac1_23_1: -1130.279 (fixed)\n",
      "    Bc1_23_1:  683.8674 (fixed)\n",
      "    Ac1_23_2:  282.2968 (fixed)\n",
      "    Bc1_23_2: -654.4211 (fixed)\n",
      "    Ac1_23_3: -503.4781 (fixed)\n",
      "    Bc1_23_3:  3.254537 (fixed)\n",
      "    Ac1_24_0:  118.5628 (fixed)\n",
      "    Bc1_24_0: -3516.771 (fixed)\n",
      "    Ac1_24_1:  370.5216 (fixed)\n",
      "    Bc1_24_1:  992.8889 (fixed)\n",
      "    Ac1_24_2:  263.9828 (fixed)\n",
      "    Bc1_24_2: -695.1564 (fixed)\n",
      "    Ac1_24_3:  3.622241 (fixed)\n",
      "    Bc1_24_3:  666.8681 (fixed)\n",
      "    Ac1_25_0:  711.643 (fixed)\n",
      "    Bc1_25_0: -1830.987 (fixed)\n",
      "    Ac1_25_1:  1011.404 (fixed)\n",
      "    Bc1_25_1:  90.34649 (fixed)\n",
      "    Ac1_25_2: -3.147685 (fixed)\n",
      "    Bc1_25_2: -254.4175 (fixed)\n",
      "    Ac1_25_3:  739.6294 (fixed)\n",
      "    Bc1_25_3:  450.3077 (fixed)\n",
      "    Ac1_26_0: -159.6774 (fixed)\n",
      "    Bc1_26_0:  119.3818 (fixed)\n",
      "    Ac1_26_1:  231.9966 (fixed)\n",
      "    Bc1_26_1: -977.1536 (fixed)\n",
      "    Ac1_26_2: -21.31639 (fixed)\n",
      "    Bc1_26_2:  388.1928 (fixed)\n",
      "    Ac1_26_3:  821.9225 (fixed)\n",
      "    Bc1_26_3: -170.8189 (fixed)\n",
      "    Ac1_27_0: -1656.238 (fixed)\n",
      "    Bc1_27_0:  1135.529 (fixed)\n",
      "    Ac1_27_1: -981.6956 (fixed)\n",
      "    Bc1_27_1: -1157.785 (fixed)\n",
      "    Ac1_27_2:  324.9914 (fixed)\n",
      "    Bc1_27_2:  686.863 (fixed)\n",
      "    Ac1_27_3:  338.2871 (fixed)\n",
      "    Bc1_27_3: -360.0185 (fixed)\n",
      "    Ac1_28_0: -2362.702 (fixed)\n",
      "    Bc1_28_0:  773.3658 (fixed)\n",
      "    Ac1_28_1: -1376.738 (fixed)\n",
      "    Bc1_28_1: -580.2107 (fixed)\n",
      "    Ac1_28_2:  647.4717 (fixed)\n",
      "    Bc1_28_2:  479.9179 (fixed)\n",
      "    Ac1_28_3: -0.1272736 (fixed)\n",
      "    Bc1_28_3: -7.011207 (fixed)\n",
      "    Ac1_29_0: -2028.623 (fixed)\n",
      "    Bc1_29_0: -136.3332 (fixed)\n",
      "    Ac1_29_1: -806.198 (fixed)\n",
      "    Bc1_29_1: -0.3418271 (fixed)\n",
      "    Ac1_29_2:  625.2333 (fixed)\n",
      "    Bc1_29_2:  190.9275 (fixed)\n",
      "    Ac1_29_3:  147.1041 (fixed)\n",
      "    Bc1_29_3:  290.5332 (fixed)\n",
      "    Ac1_30_0: -1099.228 (fixed)\n",
      "    Bc1_30_0: -0.3332009 (fixed)\n",
      "    Ac1_30_1: -0.5471873 (fixed)\n",
      "    Bc1_30_1:  312.8642 (fixed)\n",
      "    Ac1_30_2:  453.2586 (fixed)\n",
      "    Bc1_30_2:  274.0162 (fixed)\n",
      "    Ac1_30_3:  443.164 (fixed)\n",
      "    Bc1_30_3:  62.7526 (fixed)\n",
      "    Ac1_31_0:  187.4348 (fixed)\n",
      "    Bc1_31_0:  1602.923 (fixed)\n",
      "    Ac1_31_1:  528.3321 (fixed)\n",
      "    Bc1_31_1:  639.4293 (fixed)\n",
      "    Ac1_31_2:  552.8349 (fixed)\n",
      "    Bc1_31_2:  608.3371 (fixed)\n",
      "    Ac1_31_3:  411.3546 (fixed)\n",
      "    Bc1_31_3: -533.7962 (fixed)\n",
      "    Ac1_32_0:  1392.452 (fixed)\n",
      "    Bc1_32_0:  3182.685 (fixed)\n",
      "    Ac1_32_1:  848.2559 (fixed)\n",
      "    Bc1_32_1:  1073.245 (fixed)\n",
      "    Ac1_32_2:  943.9925 (fixed)\n",
      "    Bc1_32_2:  623.5613 (fixed)\n",
      "    Ac1_32_3: -16.15395 (fixed)\n",
      "    Bc1_32_3: -996.6016 (fixed)\n",
      "    Ac1_33_0:  1511.436 (fixed)\n",
      "    Bc1_33_0:  3132.134 (fixed)\n",
      "    Ac1_33_1:  1080.646 (fixed)\n",
      "    Bc1_33_1:  1270.818 (fixed)\n",
      "    Ac1_33_2:  1121.343 (fixed)\n",
      "    Bc1_33_2: -0.4984908 (fixed)\n",
      "    Ac1_33_3: -513.7818 (fixed)\n",
      "    Bc1_33_3: -1018.714 (fixed)\n",
      "    Ac1_34_0:  19.73994 (fixed)\n",
      "    Bc1_34_0:  1604.113 (fixed)\n",
      "    Ac1_34_1:  1037.538 (fixed)\n",
      "    Bc1_34_1:  962.3863 (fixed)\n",
      "    Ac1_34_2:  603.8518 (fixed)\n",
      "    Bc1_34_2: -917.8747 (fixed)\n",
      "    Ac1_34_3: -747.2575 (fixed)\n",
      "    Bc1_34_3: -690.5821 (fixed)\n",
      "    Ac1_35_0: -2083.811 (fixed)\n",
      "    Bc1_35_0:  10.77468 (fixed)\n",
      "    Ac1_35_1:  515.2465 (fixed)\n",
      "    Bc1_35_1:  370.3657 (fixed)\n",
      "    Ac1_35_2: -510.006 (fixed)\n",
      "    Bc1_35_2: -1448.413 (fixed)\n",
      "    Ac1_35_3: -647.0986 (fixed)\n",
      "    Bc1_35_3: -301.9902 (fixed)\n",
      "    Ac1_36_0: -3049.161 (fixed)\n",
      "    Bc1_36_0: -814.1782 (fixed)\n",
      "    Ac1_36_1: -314.915 (fixed)\n",
      "    Bc1_36_1: -28.08883 (fixed)\n",
      "    Ac1_36_2: -1604.972 (fixed)\n",
      "    Bc1_36_2: -1230.447 (fixed)\n",
      "    Ac1_36_3: -374.5105 (fixed)\n",
      "    Bc1_36_3: -63.25826 (fixed)\n",
      "    Ac1_37_0: -2151.518 (fixed)\n",
      "    Bc1_37_0: -1253.786 (fixed)\n",
      "    Ac1_37_1: -997.5279 (fixed)\n",
      "    Bc1_37_1: -3.527597 (fixed)\n",
      "    Ac1_37_2: -2100.109 (fixed)\n",
      "    Bc1_37_2: -488.8673 (fixed)\n",
      "    Ac1_37_3: -126.6126 (fixed)\n",
      "    Bc1_37_3: -0.2008865 (fixed)\n",
      "    Ac1_38_0: -285.6345 (fixed)\n",
      "    Bc1_38_0: -1930.028 (fixed)\n",
      "    Ac1_38_1: -1207.511 (fixed)\n",
      "    Bc1_38_1:  275.2702 (fixed)\n",
      "    Ac1_38_2: -1880.608 (fixed)\n",
      "    Bc1_38_2:  257.2015 (fixed)\n",
      "    Ac1_38_3:  2.921547 (fixed)\n",
      "    Bc1_38_3: -26.00505 (fixed)\n",
      "    Ac1_39_0:  1125.643 (fixed)\n",
      "    Bc1_39_0: -2768.402 (fixed)\n",
      "    Ac1_39_1: -980.2366 (fixed)\n",
      "    Bc1_39_1:  502.2707 (fixed)\n",
      "    Ac1_39_2: -1257.478 (fixed)\n",
      "    Bc1_39_2:  643.5026 (fixed)\n",
      "    Ac1_39_3:  30.43732 (fixed)\n",
      "    Bc1_39_3: -54.69847 (fixed)\n",
      "    Ac1_40_0:  1428.017 (fixed)\n",
      "    Bc1_40_0: -3193.776 (fixed)\n",
      "    Ac1_40_1: -581.289 (fixed)\n",
      "    Bc1_40_1:  523.6793 (fixed)\n",
      "    Ac1_40_2: -630.106 (fixed)\n",
      "    Bc1_40_2:  643.951 (fixed)\n",
      "    Ac1_40_3:  14.42836 (fixed)\n",
      "    Bc1_40_3: -54.58422 (fixed)\n",
      "    Ac1_41_0:  950.9564 (fixed)\n",
      "    Bc1_41_0: -2877.387 (fixed)\n",
      "    Ac1_41_1: -248.9131 (fixed)\n",
      "    Bc1_41_1:  387.8347 (fixed)\n",
      "    Ac1_41_2: -219.2231 (fixed)\n",
      "    Bc1_41_2:  444.1691 (fixed)\n",
      "    Ac1_41_3: -2.433814 (fixed)\n",
      "    Bc1_41_3: -35.58207 (fixed)\n",
      "    Ac1_42_0:  348.6097 (fixed)\n",
      "    Bc1_42_0: -2038.792 (fixed)\n",
      "    Ac1_42_1: -66.91373 (fixed)\n",
      "    Bc1_42_1:  218.0629 (fixed)\n",
      "    Ac1_42_2: -34.1577 (fixed)\n",
      "    Bc1_42_2:  232.1405 (fixed)\n",
      "    Ac1_42_3: -7.693913 (fixed)\n",
      "    Bc1_42_3: -16.10464 (fixed)\n",
      "    Ac1_43_0: -3.068613 (fixed)\n",
      "    Bc1_43_0: -1143.849 (fixed)\n",
      "    Ac1_43_1: -1.806784 (fixed)\n",
      "    Bc1_43_1:  94.93438 (fixed)\n",
      "    Ac1_43_2:  15.61361 (fixed)\n",
      "    Bc1_43_2:  93.90974 (fixed)\n",
      "    Ac1_43_3: -5.692197 (fixed)\n",
      "    Bc1_43_3: -4.737376 (fixed)\n",
      "    Ac1_44_0: -95.46042 (fixed)\n",
      "    Bc1_44_0: -506.8966 (fixed)\n",
      "    Ac1_44_1:  8.669678 (fixed)\n",
      "    Bc1_44_1:  31.79791 (fixed)\n",
      "    Ac1_44_2:  14.95959 (fixed)\n",
      "    Bc1_44_2:  29.05409 (fixed)\n",
      "    Ac1_44_3: -2.566432 (fixed)\n",
      "    Bc1_44_3: -0.536832 (fixed)\n",
      "    Ac1_45_0: -68.91743 (fixed)\n",
      "    Bc1_45_0: -174.7844 (fixed)\n",
      "    Ac1_45_1:  4.969371 (fixed)\n",
      "    Bc1_45_1:  7.937696 (fixed)\n",
      "    Ac1_45_2:  6.586998 (fixed)\n",
      "    Bc1_45_2:  6.563539 (fixed)\n",
      "    Ac1_45_3: -0.7659265 (fixed)\n",
      "    Bc1_45_3:  0.2579823 (fixed)\n",
      "    Ac1_46_0: -28.9463 (fixed)\n",
      "    Bc1_46_0: -45.39349 (fixed)\n",
      "    Ac1_46_1:  1.602687 (fixed)\n",
      "    Bc1_46_1:  1.371478 (fixed)\n",
      "    Ac1_46_2:  1.891432 (fixed)\n",
      "    Bc1_46_2:  0.9607547 (fixed)\n",
      "    Ac1_46_3: -0.1399153 (fixed)\n",
      "    Bc1_46_3:  0.1629446 (fixed)\n",
      "    Ac1_47_0: -7.932717 (fixed)\n",
      "    Bc1_47_0: -8.347652 (fixed)\n",
      "    Ac1_47_1:  0.3295433 (fixed)\n",
      "    Bc1_47_1:  0.1353756 (fixed)\n",
      "    Ac1_47_2:  0.3623298 (fixed)\n",
      "    Bc1_47_2:  0.0560192 (fixed)\n",
      "    Ac1_47_3: -0.009493129 (fixed)\n",
      "    Bc1_47_3:  0.04503545 (fixed)\n",
      "    Ac1_48_0: -1.34413 (fixed)\n",
      "    Bc1_48_0: -0.961079 (fixed)\n",
      "    Ac1_48_1:  0.04048596 (fixed)\n",
      "    Bc1_48_1:  0.002079632 (fixed)\n",
      "    Ac1_48_2:  0.04243363 (fixed)\n",
      "    Bc1_48_2: -0.007175143 (fixed)\n",
      "    Ac1_48_3:  0.001666739 (fixed)\n",
      "    Bc1_48_3:  0.006733828 (fixed)\n",
      "    Ac1_49_0: -0.1092726 (fixed)\n",
      "    Bc1_49_0: -0.05093401 (fixed)\n",
      "    Ac1_49_1:  0.002250652 (fixed)\n",
      "    Bc1_49_1: -0.0007365232 (fixed)\n",
      "    Ac1_49_2:  0.002288454 (fixed)\n",
      "    Bc1_49_2: -0.001234462 (fixed)\n",
      "    Ac1_49_3:  0.0003279504 (fixed)\n",
      "    Bc1_49_3:  0.0004359375 (fixed)\n",
      "    k1:        0 (fixed)\n",
      "    k2:        0 (fixed)\n",
      "    k3:        11104.14 (fixed)\n",
      "    k4:        0 (fixed)\n",
      "    k5:        0 (fixed)\n",
      "    k6:        0 (fixed)\n",
      "    k7:        0 (fixed)\n",
      "    k8:        0 (fixed)\n",
      "    k9:        0 (fixed)\n",
      "    k10:       0 (fixed)\n",
      "    x1:        1 (fixed)\n",
      "    y1:        0 (fixed)\n",
      "    z1:        7.873 (fixed)\n",
      "    vx1:       0 (fixed)\n",
      "    vy1:       0 (fixed)\n",
      "    vz1:       0 (fixed)\n",
      "    x2:        1 (fixed)\n",
      "    y2:        0 (fixed)\n",
      "    z2:        13.389 (fixed)\n",
      "    vx2:       0 (fixed)\n",
      "    vy2:       0 (fixed)\n",
      "    vz2:       0 (fixed)\n"
     ]
    }
   ],
   "source": [
    "mag_field_func = get_mag_field_function('Mau13traj',units=('m','G'),fastcart=True)"
   ]
  },
  {
   "cell_type": "code",
   "execution_count": 109,
   "metadata": {},
   "outputs": [
    {
     "data": {
      "text/plain": [
       "(4.929430190673969, -21.534389481737904, 12223.661351884144)"
      ]
     },
     "execution_count": 109,
     "metadata": {},
     "output_type": "execute_result"
    }
   ],
   "source": [
    "mag_field_func(0.156,-.699,7.001)"
   ]
  },
  {
   "cell_type": "code",
   "execution_count": 110,
   "metadata": {},
   "outputs": [
    {
     "name": "stdout",
     "output_type": "stream",
     "text": [
      "2.2 ms ± 34.1 µs per loop (mean ± std. dev. of 7 runs, 100 loops each)\n"
     ]
    }
   ],
   "source": [
    "%timeit mag_field_func(0.156,-.699,7.001)"
   ]
  },
  {
   "cell_type": "code",
   "execution_count": 16,
   "metadata": {},
   "outputs": [
    {
     "data": {
      "text/plain": [
       "array([-1.2  , -1.175, -1.15 , -1.125, -1.1  , -1.075, -1.05 , -1.025,\n",
       "       -1.   , -0.975, -0.95 , -0.925, -0.9  , -0.875, -0.85 , -0.825,\n",
       "       -0.8  , -0.775, -0.75 , -0.725, -0.7  , -0.675, -0.65 , -0.625,\n",
       "       -0.6  , -0.575, -0.55 , -0.525, -0.5  , -0.475, -0.45 , -0.425,\n",
       "       -0.4  , -0.375, -0.35 , -0.325, -0.3  , -0.275, -0.25 , -0.225,\n",
       "       -0.2  , -0.175, -0.15 , -0.125, -0.1  , -0.075, -0.05 , -0.025,\n",
       "        0.   ,  0.025,  0.05 ,  0.075,  0.1  ,  0.125,  0.15 ,  0.175,\n",
       "        0.2  ,  0.225,  0.25 ,  0.275,  0.3  ,  0.325,  0.35 ,  0.375,\n",
       "        0.4  ,  0.425,  0.45 ,  0.475,  0.5  ,  0.525,  0.55 ,  0.575,\n",
       "        0.6  ,  0.625,  0.65 ,  0.675,  0.7  ,  0.725,  0.75 ,  0.775,\n",
       "        0.8  ,  0.825,  0.85 ,  0.875,  0.9  ,  0.925,  0.95 ,  0.975,\n",
       "        1.   ,  1.025,  1.05 ,  1.075,  1.1  ,  1.125,  1.15 ,  1.175,\n",
       "        1.2  ])"
      ]
     },
     "execution_count": 16,
     "metadata": {},
     "output_type": "execute_result"
    }
   ],
   "source": [
    "df.X.unique()"
   ]
  },
  {
   "cell_type": "code",
   "execution_count": 17,
   "metadata": {},
   "outputs": [
    {
     "data": {
      "text/plain": [
       "array([-1.2  , -1.175, -1.15 , -1.125, -1.1  , -1.075, -1.05 , -1.025,\n",
       "       -1.   , -0.975, -0.95 , -0.925, -0.9  , -0.875, -0.85 , -0.825,\n",
       "       -0.8  , -0.775, -0.75 , -0.725, -0.7  , -0.675, -0.65 , -0.625,\n",
       "       -0.6  , -0.575, -0.55 , -0.525, -0.5  , -0.475, -0.45 , -0.425,\n",
       "       -0.4  , -0.375, -0.35 , -0.325, -0.3  , -0.275, -0.25 , -0.225,\n",
       "       -0.2  , -0.175, -0.15 , -0.125, -0.1  , -0.075, -0.05 , -0.025,\n",
       "        0.   ,  0.025,  0.05 ,  0.075,  0.1  ,  0.125,  0.15 ,  0.175,\n",
       "        0.2  ,  0.225,  0.25 ,  0.275,  0.3  ,  0.325,  0.35 ,  0.375,\n",
       "        0.4  ,  0.425,  0.45 ,  0.475,  0.5  ,  0.525,  0.55 ,  0.575,\n",
       "        0.6  ,  0.625,  0.65 ,  0.675,  0.7  ,  0.725,  0.75 ,  0.775,\n",
       "        0.8  ,  0.825,  0.85 ,  0.875,  0.9  ,  0.925,  0.95 ,  0.975,\n",
       "        1.   ,  1.025,  1.05 ,  1.075,  1.1  ,  1.125,  1.15 ,  1.175,\n",
       "        1.2  ])"
      ]
     },
     "execution_count": 17,
     "metadata": {},
     "output_type": "execute_result"
    }
   ],
   "source": [
    "df.Y.unique()"
   ]
  },
  {
   "cell_type": "code",
   "execution_count": 34,
   "metadata": {},
   "outputs": [
    {
     "data": {
      "text/plain": [
       "array([ 3.071,  3.096,  3.121,  3.146,  3.171,  3.196,  3.221,  3.246,\n",
       "        3.271,  3.296,  3.321,  3.346,  3.371,  3.396,  3.421,  3.446,\n",
       "        3.471,  3.496,  3.521,  3.546,  3.571,  3.596,  3.621,  3.646,\n",
       "        3.671,  3.696,  3.721,  3.746,  3.771,  3.796,  3.821,  3.846,\n",
       "        3.871,  3.896,  3.921,  3.946,  3.971,  3.996,  4.021,  4.046,\n",
       "        4.071,  4.096,  4.121,  4.146,  4.171,  4.196,  4.221,  4.246,\n",
       "        4.271,  4.296,  4.321,  4.346,  4.371,  4.396,  4.421,  4.446,\n",
       "        4.471,  4.496,  4.521,  4.546,  4.571,  4.596,  4.621,  4.646,\n",
       "        4.671,  4.696,  4.721,  4.746,  4.771,  4.796,  4.821,  4.846,\n",
       "        4.871,  4.896,  4.921,  4.946,  4.971,  4.996,  5.021,  5.046,\n",
       "        5.071,  5.096,  5.121,  5.146,  5.171,  5.196,  5.221,  5.246,\n",
       "        5.271,  5.296,  5.321,  5.346,  5.371,  5.396,  5.421,  5.446,\n",
       "        5.471,  5.496,  5.521,  5.546,  5.571,  5.596,  5.621,  5.646,\n",
       "        5.671,  5.696,  5.721,  5.746,  5.771,  5.796,  5.821,  5.846,\n",
       "        5.871,  5.896,  5.921,  5.946,  5.971,  5.996,  6.021,  6.046,\n",
       "        6.071,  6.096,  6.121,  6.146,  6.171,  6.196,  6.221,  6.246,\n",
       "        6.271,  6.296,  6.321,  6.346,  6.371,  6.396,  6.421,  6.446,\n",
       "        6.471,  6.496,  6.521,  6.546,  6.571,  6.596,  6.621,  6.646,\n",
       "        6.671,  6.696,  6.721,  6.746,  6.771,  6.796,  6.821,  6.846,\n",
       "        6.871,  6.896,  6.921,  6.946,  6.971,  6.996,  7.021,  7.046,\n",
       "        7.071,  7.096,  7.121,  7.146,  7.171,  7.196,  7.221,  7.246,\n",
       "        7.271,  7.296,  7.321,  7.346,  7.371,  7.396,  7.421,  7.446,\n",
       "        7.471,  7.496,  7.521,  7.546,  7.571,  7.596,  7.621,  7.646,\n",
       "        7.671,  7.696,  7.721,  7.746,  7.771,  7.796,  7.821,  7.846,\n",
       "        7.871,  7.896,  7.921,  7.946,  7.971,  7.996,  8.021,  8.046,\n",
       "        8.071,  8.096,  8.121,  8.146,  8.171,  8.196,  8.221,  8.246,\n",
       "        8.271,  8.296,  8.321,  8.346,  8.371,  8.396,  8.421,  8.446,\n",
       "        8.471,  8.496,  8.521,  8.546,  8.571,  8.596,  8.621,  8.646,\n",
       "        8.671,  8.696,  8.721,  8.746,  8.771,  8.796,  8.821,  8.846,\n",
       "        8.871,  8.896,  8.921,  8.946,  8.971,  8.996,  9.021,  9.046,\n",
       "        9.071,  9.096,  9.121,  9.146,  9.171,  9.196,  9.221,  9.246,\n",
       "        9.271,  9.296,  9.321,  9.346,  9.371,  9.396,  9.421,  9.446,\n",
       "        9.471,  9.496,  9.521,  9.546,  9.571,  9.596,  9.621,  9.646,\n",
       "        9.671,  9.696,  9.721,  9.746,  9.771,  9.796,  9.821,  9.846,\n",
       "        9.871,  9.896,  9.921,  9.946,  9.971,  9.996, 10.021, 10.046,\n",
       "       10.071, 10.096, 10.121, 10.146, 10.171, 10.196, 10.221, 10.246,\n",
       "       10.271, 10.296, 10.321, 10.346, 10.371, 10.396, 10.421, 10.446,\n",
       "       10.471, 10.496, 10.521, 10.546, 10.571, 10.596, 10.621, 10.646,\n",
       "       10.671, 10.696, 10.721, 10.746, 10.771, 10.796, 10.821, 10.846,\n",
       "       10.871, 10.896, 10.921, 10.946, 10.971, 10.996, 11.021, 11.046,\n",
       "       11.071, 11.096, 11.121, 11.146, 11.171, 11.196, 11.221, 11.246,\n",
       "       11.271, 11.296, 11.321, 11.346, 11.371, 11.396, 11.421, 11.446,\n",
       "       11.471, 11.496, 11.521, 11.546, 11.571, 11.596, 11.621, 11.646,\n",
       "       11.671, 11.696, 11.721, 11.746, 11.771, 11.796, 11.821, 11.846,\n",
       "       11.871, 11.896, 11.921, 11.946, 11.971, 11.996, 12.021, 12.046,\n",
       "       12.071, 12.096, 12.121, 12.146, 12.171, 12.196, 12.221, 12.246,\n",
       "       12.271, 12.296, 12.321, 12.346, 12.371, 12.396, 12.421, 12.446,\n",
       "       12.471, 12.496, 12.521, 12.546, 12.571, 12.596, 12.621, 12.646,\n",
       "       12.671, 12.696, 12.721, 12.746, 12.771, 12.796, 12.821, 12.846,\n",
       "       12.871, 12.896, 12.921, 12.946, 12.971, 12.996, 13.021, 13.046,\n",
       "       13.071, 13.096, 13.121, 13.146, 13.171, 13.196, 13.221, 13.246,\n",
       "       13.271, 13.296, 13.321, 13.346, 13.371, 13.396, 13.421, 13.446,\n",
       "       13.471, 13.496, 13.521, 13.546, 13.571, 13.596, 13.621, 13.646,\n",
       "       13.671, 13.696, 13.721, 13.746, 13.771, 13.796, 13.821, 13.846,\n",
       "       13.871, 13.896, 13.921, 13.946, 13.971, 13.996, 14.021, 14.046,\n",
       "       14.071, 14.096, 14.121, 14.146, 14.171, 14.196, 14.221, 14.246,\n",
       "       14.271, 14.296, 14.321, 14.346, 14.371, 14.396, 14.421, 14.446,\n",
       "       14.471, 14.496, 14.521, 14.546, 14.571, 14.596, 14.621, 14.646,\n",
       "       14.671, 14.696, 14.721, 14.746, 14.771, 14.796, 14.821, 14.846,\n",
       "       14.871, 14.896, 14.921, 14.946, 14.971, 14.996, 15.021, 15.046,\n",
       "       15.071, 15.096, 15.121, 15.146, 15.171, 15.196, 15.221, 15.246,\n",
       "       15.271, 15.296, 15.321, 15.346, 15.371, 15.396, 15.421, 15.446,\n",
       "       15.471, 15.496, 15.521, 15.546, 15.571, 15.596, 15.621, 15.646,\n",
       "       15.671, 15.696, 15.721, 15.746, 15.771, 15.796, 15.821, 15.846,\n",
       "       15.871, 15.896, 15.921, 15.946, 15.971, 15.996, 16.021, 16.046,\n",
       "       16.071])"
      ]
     },
     "execution_count": 34,
     "metadata": {},
     "output_type": "execute_result"
    }
   ],
   "source": [
    "df.Z.unique()"
   ]
  },
  {
   "cell_type": "markdown",
   "metadata": {},
   "source": [
    "Index selection works as follow: Mau13 data is organized as first increasing in z, then increasing in y, then increasing in x. One can determine index by adding up steps to get to correct x value, then to y value, then to z value. See below. Makes sense to make a factory fcn as the selection will depend on the length of X,Y,Z unique."
   ]
  },
  {
   "cell_type": "code",
   "execution_count": 33,
   "metadata": {},
   "outputs": [],
   "source": [
    "xs = df.X.unique()\n",
    "ys = df.Y.unique()\n",
    "zs = df.Z.unique()\n",
    "\n",
    "dx = xs[1]-xs[0]\n",
    "dy = ys[1]-ys[0]\n",
    "dz = zs[1]-zs[0]\n",
    "\n",
    "lx = len(xs)\n",
    "ly = len(ys)\n",
    "lz = len(zs)"
   ]
  },
  {
   "cell_type": "code",
   "execution_count": 30,
   "metadata": {},
   "outputs": [],
   "source": [
    "x_in, y_in, z_in = 0.156,-.699,7.001"
   ]
  },
  {
   "cell_type": "code",
   "execution_count": 32,
   "metadata": {},
   "outputs": [
    {
     "data": {
      "text/plain": [
       "False"
      ]
     },
     "execution_count": 32,
     "metadata": {},
     "output_type": "execute_result"
    }
   ],
   "source": [
    "n"
   ]
  },
  {
   "cell_type": "code",
   "execution_count": 28,
   "metadata": {},
   "outputs": [
    {
     "data": {
      "text/plain": [
       "97"
      ]
     },
     "execution_count": 28,
     "metadata": {},
     "output_type": "execute_result"
    }
   ],
   "source": [
    "lx"
   ]
  },
  {
   "cell_type": "code",
   "execution_count": 55,
   "metadata": {},
   "outputs": [],
   "source": [
    "x_m, y_m, z_m = -1.1, 0.4, 7.096"
   ]
  },
  {
   "cell_type": "code",
   "execution_count": 56,
   "metadata": {},
   "outputs": [],
   "source": [
    "ind_correct = df.query(f\"X == {x_m} and Y == {y_m} and Z == {z_m}\").index[0]"
   ]
  },
  {
   "cell_type": "code",
   "execution_count": 57,
   "metadata": {},
   "outputs": [
    {
     "data": {
      "text/plain": [
       "235653"
      ]
     },
     "execution_count": 57,
     "metadata": {},
     "output_type": "execute_result"
    }
   ],
   "source": [
    "ind_correct"
   ]
  },
  {
   "cell_type": "code",
   "execution_count": 58,
   "metadata": {},
   "outputs": [],
   "source": [
    "x_ind = np.where(xs == x_m)[0][0]\n",
    "y_ind = np.where(ys == y_m)[0][0]\n",
    "z_ind = np.where(zs == z_m)[0][0]"
   ]
  },
  {
   "cell_type": "code",
   "execution_count": 59,
   "metadata": {},
   "outputs": [
    {
     "data": {
      "text/plain": [
       "(4, 64, 161)"
      ]
     },
     "execution_count": 59,
     "metadata": {},
     "output_type": "execute_result"
    }
   ],
   "source": [
    "x_ind, y_ind, z_ind"
   ]
  },
  {
   "cell_type": "code",
   "execution_count": 60,
   "metadata": {},
   "outputs": [],
   "source": [
    "ind = (lz * ly) * x_ind + (lz) * y_ind + z_ind"
   ]
  },
  {
   "cell_type": "code",
   "execution_count": 61,
   "metadata": {},
   "outputs": [
    {
     "data": {
      "text/plain": [
       "235653"
      ]
     },
     "execution_count": 61,
     "metadata": {},
     "output_type": "execute_result"
    }
   ],
   "source": [
    "ind"
   ]
  },
  {
   "cell_type": "markdown",
   "metadata": {},
   "source": [
    "Great, we got it right! Check a few more times--good!\n",
    "\n",
    "Now we need to find 4 points (a square) immediately lower than the point, then the top of the square is just each index + 1. Really, if we can find the point with smallest x,y,z then all other 8 points can be calculated quickly."
   ]
  },
  {
   "cell_type": "code",
   "execution_count": null,
   "metadata": {},
   "outputs": [],
   "source": [
    "corner_a = "
   ]
  },
  {
   "cell_type": "code",
   "execution_count": 51,
   "metadata": {},
   "outputs": [
    {
     "data": {
      "text/plain": [
       "(97, 97, 521)"
      ]
     },
     "execution_count": 51,
     "metadata": {},
     "output_type": "execute_result"
    }
   ],
   "source": [
    "lx,ly,lz"
   ]
  },
  {
   "cell_type": "code",
   "execution_count": 62,
   "metadata": {},
   "outputs": [
    {
     "data": {
      "text/plain": [
       "array([-1.2  , -1.175, -1.15 , -1.125, -1.1  , -1.075, -1.05 , -1.025,\n",
       "       -1.   , -0.975, -0.95 , -0.925, -0.9  , -0.875, -0.85 , -0.825,\n",
       "       -0.8  , -0.775, -0.75 , -0.725, -0.7  , -0.675, -0.65 , -0.625,\n",
       "       -0.6  , -0.575, -0.55 , -0.525, -0.5  , -0.475, -0.45 , -0.425,\n",
       "       -0.4  , -0.375, -0.35 , -0.325, -0.3  , -0.275, -0.25 , -0.225,\n",
       "       -0.2  , -0.175, -0.15 , -0.125, -0.1  , -0.075, -0.05 , -0.025,\n",
       "        0.   ,  0.025,  0.05 ,  0.075,  0.1  ,  0.125,  0.15 ,  0.175,\n",
       "        0.2  ,  0.225,  0.25 ,  0.275,  0.3  ,  0.325,  0.35 ,  0.375,\n",
       "        0.4  ,  0.425,  0.45 ,  0.475,  0.5  ,  0.525,  0.55 ,  0.575,\n",
       "        0.6  ,  0.625,  0.65 ,  0.675,  0.7  ,  0.725,  0.75 ,  0.775,\n",
       "        0.8  ,  0.825,  0.85 ,  0.875,  0.9  ,  0.925,  0.95 ,  0.975,\n",
       "        1.   ,  1.025,  1.05 ,  1.075,  1.1  ,  1.125,  1.15 ,  1.175,\n",
       "        1.2  ])"
      ]
     },
     "execution_count": 62,
     "metadata": {},
     "output_type": "execute_result"
    }
   ],
   "source": [
    "xs"
   ]
  },
  {
   "cell_type": "code",
   "execution_count": 66,
   "metadata": {},
   "outputs": [
    {
     "data": {
      "text/plain": [
       "0.156"
      ]
     },
     "execution_count": 66,
     "metadata": {},
     "output_type": "execute_result"
    }
   ],
   "source": [
    "x_in"
   ]
  },
  {
   "cell_type": "code",
   "execution_count": 68,
   "metadata": {},
   "outputs": [
    {
     "name": "stdout",
     "output_type": "stream",
     "text": [
      "1.23 µs ± 8.45 ns per loop (mean ± std. dev. of 7 runs, 1000000 loops each)\n"
     ]
    }
   ],
   "source": [
    "%timeit xs[xs < x_in][-1]"
   ]
  },
  {
   "cell_type": "code",
   "execution_count": 89,
   "metadata": {},
   "outputs": [
    {
     "name": "stdout",
     "output_type": "stream",
     "text": [
      "4.38 µs ± 84.5 ns per loop (mean ± std. dev. of 7 runs, 100000 loops each)\n"
     ]
    }
   ],
   "source": [
    "%timeit a_x, a_y, a_z = len(xs[xs <= x_in]) - 1, len(ys[ys <= y_in]) - 1, len(zs[zs <= z_in]) - 1"
   ]
  },
  {
   "cell_type": "code",
   "execution_count": 87,
   "metadata": {},
   "outputs": [],
   "source": [
    "a_x, a_y, a_z = len(xs[xs <= x_in]) - 1, len(ys[ys <= y_in]) - 1, len(zs[zs <= z_in]) - 1"
   ]
  },
  {
   "cell_type": "code",
   "execution_count": 88,
   "metadata": {},
   "outputs": [
    {
     "data": {
      "text/plain": [
       "(54, 20, 157)"
      ]
     },
     "execution_count": 88,
     "metadata": {},
     "output_type": "execute_result"
    }
   ],
   "source": [
    "a_x, a_y, a_z"
   ]
  },
  {
   "cell_type": "code",
   "execution_count": 74,
   "metadata": {},
   "outputs": [
    {
     "name": "stdout",
     "output_type": "stream",
     "text": [
      "656 ns ± 6.91 ns per loop (mean ± std. dev. of 7 runs, 1000000 loops each)\n"
     ]
    }
   ],
   "source": [
    "%timeit corner_a = (ly * lz) * a_x + (lz) * a_y + a_z"
   ]
  },
  {
   "cell_type": "code",
   "execution_count": 91,
   "metadata": {},
   "outputs": [],
   "source": [
    "corner_a = (ly * lz) * a_x + (lz) * a_y + a_z"
   ]
  },
  {
   "cell_type": "code",
   "execution_count": 92,
   "metadata": {},
   "outputs": [],
   "source": [
    "corner_b = corner_a + lz\n",
    "corner_c = corner_a + ly * lz\n",
    "corner_d = corner_a + ly * lz + lz"
   ]
  },
  {
   "cell_type": "code",
   "execution_count": 93,
   "metadata": {},
   "outputs": [],
   "source": [
    "index_list = [corner_a,corner_a+1,corner_b,corner_b+1,\n",
    "              corner_c,corner_c+1,corner_d,corner_d+1]"
   ]
  },
  {
   "cell_type": "code",
   "execution_count": 94,
   "metadata": {},
   "outputs": [
    {
     "data": {
      "text/plain": [
       "[2739575, 2739576, 2740096, 2740097, 2790112, 2790113, 2790633, 2790634]"
      ]
     },
     "execution_count": 94,
     "metadata": {},
     "output_type": "execute_result"
    }
   ],
   "source": [
    "index_list"
   ]
  },
  {
   "cell_type": "code",
   "execution_count": 98,
   "metadata": {},
   "outputs": [],
   "source": [
    "df2 = df.drop([\"X\",\"Y\",\"Z\",\"R\",\"Phi\",\"Br\",\"Bphi\"],axis=1)"
   ]
  },
  {
   "cell_type": "code",
   "execution_count": 99,
   "metadata": {},
   "outputs": [
    {
     "name": "stdout",
     "output_type": "stream",
     "text": [
      "141 µs ± 983 ns per loop (mean ± std. dev. of 7 runs, 10000 loops each)\n"
     ]
    }
   ],
   "source": [
    "%timeit df_cube = df2.iloc[index_list]"
   ]
  },
  {
   "cell_type": "code",
   "execution_count": 97,
   "metadata": {},
   "outputs": [
    {
     "name": "stdout",
     "output_type": "stream",
     "text": [
      "147 µs ± 6.02 µs per loop (mean ± std. dev. of 7 runs, 10000 loops each)\n"
     ]
    }
   ],
   "source": [
    "%timeit df_cube = df.iloc[index_list]"
   ]
  },
  {
   "cell_type": "markdown",
   "metadata": {},
   "source": [
    "Once we have a list of indexes for the 8 points, we can feed them in to get a smaller dataframe as follows:"
   ]
  },
  {
   "cell_type": "code",
   "execution_count": 102,
   "metadata": {},
   "outputs": [],
   "source": [
    "df_cube = df.iloc[index_list]"
   ]
  },
  {
   "cell_type": "code",
   "execution_count": 103,
   "metadata": {},
   "outputs": [
    {
     "data": {
      "text/html": [
       "<div>\n",
       "<style scoped>\n",
       "    .dataframe tbody tr th:only-of-type {\n",
       "        vertical-align: middle;\n",
       "    }\n",
       "\n",
       "    .dataframe tbody tr th {\n",
       "        vertical-align: top;\n",
       "    }\n",
       "\n",
       "    .dataframe thead th {\n",
       "        text-align: right;\n",
       "    }\n",
       "</style>\n",
       "<table border=\"1\" class=\"dataframe\">\n",
       "  <thead>\n",
       "    <tr style=\"text-align: right;\">\n",
       "      <th></th>\n",
       "      <th>X</th>\n",
       "      <th>Y</th>\n",
       "      <th>Z</th>\n",
       "      <th>Bx</th>\n",
       "      <th>By</th>\n",
       "      <th>Bz</th>\n",
       "      <th>R</th>\n",
       "      <th>Phi</th>\n",
       "      <th>Bphi</th>\n",
       "      <th>Br</th>\n",
       "    </tr>\n",
       "  </thead>\n",
       "  <tbody>\n",
       "    <tr>\n",
       "      <th>2739575</th>\n",
       "      <td>0.150</td>\n",
       "      <td>-0.700</td>\n",
       "      <td>6.996</td>\n",
       "      <td>96.407603</td>\n",
       "      <td>-472.752239</td>\n",
       "      <td>11351.836283</td>\n",
       "      <td>0.715891</td>\n",
       "      <td>-1.359703</td>\n",
       "      <td>-4.787759</td>\n",
       "      <td>482.458478</td>\n",
       "    </tr>\n",
       "    <tr>\n",
       "      <th>2739576</th>\n",
       "      <td>0.150</td>\n",
       "      <td>-0.700</td>\n",
       "      <td>7.021</td>\n",
       "      <td>66.997243</td>\n",
       "      <td>-341.088893</td>\n",
       "      <td>11347.308917</td>\n",
       "      <td>0.715891</td>\n",
       "      <td>-1.359703</td>\n",
       "      <td>-5.957979</td>\n",
       "      <td>347.555415</td>\n",
       "    </tr>\n",
       "    <tr>\n",
       "      <th>2740096</th>\n",
       "      <td>0.150</td>\n",
       "      <td>-0.675</td>\n",
       "      <td>6.996</td>\n",
       "      <td>99.734601</td>\n",
       "      <td>-469.852881</td>\n",
       "      <td>11475.801077</td>\n",
       "      <td>0.691466</td>\n",
       "      <td>-1.352127</td>\n",
       "      <td>-4.565774</td>\n",
       "      <td>480.299775</td>\n",
       "    </tr>\n",
       "    <tr>\n",
       "      <th>2740097</th>\n",
       "      <td>0.150</td>\n",
       "      <td>-0.675</td>\n",
       "      <td>7.021</td>\n",
       "      <td>73.640047</td>\n",
       "      <td>-357.231036</td>\n",
       "      <td>11466.469056</td>\n",
       "      <td>0.691466</td>\n",
       "      <td>-1.352127</td>\n",
       "      <td>-5.607831</td>\n",
       "      <td>364.699084</td>\n",
       "    </tr>\n",
       "    <tr>\n",
       "      <th>2790112</th>\n",
       "      <td>0.175</td>\n",
       "      <td>-0.700</td>\n",
       "      <td>6.996</td>\n",
       "      <td>112.189233</td>\n",
       "      <td>-469.030206</td>\n",
       "      <td>11318.778439</td>\n",
       "      <td>0.721543</td>\n",
       "      <td>-1.325818</td>\n",
       "      <td>-4.916991</td>\n",
       "      <td>482.236023</td>\n",
       "    </tr>\n",
       "    <tr>\n",
       "      <th>2790113</th>\n",
       "      <td>0.175</td>\n",
       "      <td>-0.700</td>\n",
       "      <td>7.021</td>\n",
       "      <td>77.059626</td>\n",
       "      <td>-333.451222</td>\n",
       "      <td>11315.505317</td>\n",
       "      <td>0.721543</td>\n",
       "      <td>-1.325818</td>\n",
       "      <td>-6.114982</td>\n",
       "      <td>342.184907</td>\n",
       "    </tr>\n",
       "    <tr>\n",
       "      <th>2790633</th>\n",
       "      <td>0.175</td>\n",
       "      <td>-0.675</td>\n",
       "      <td>6.996</td>\n",
       "      <td>116.085160</td>\n",
       "      <td>-466.478112</td>\n",
       "      <td>11446.457588</td>\n",
       "      <td>0.697316</td>\n",
       "      <td>-1.317122</td>\n",
       "      <td>-4.698279</td>\n",
       "      <td>480.682347</td>\n",
       "    </tr>\n",
       "    <tr>\n",
       "      <th>2790634</th>\n",
       "      <td>0.175</td>\n",
       "      <td>-0.675</td>\n",
       "      <td>7.021</td>\n",
       "      <td>84.896775</td>\n",
       "      <td>-350.428549</td>\n",
       "      <td>11438.276190</td>\n",
       "      <td>0.697316</td>\n",
       "      <td>-1.317122</td>\n",
       "      <td>-5.764490</td>\n",
       "      <td>360.519627</td>\n",
       "    </tr>\n",
       "  </tbody>\n",
       "</table>\n",
       "</div>"
      ],
      "text/plain": [
       "             X      Y      Z          Bx          By            Bz         R  \\\n",
       "2739575  0.150 -0.700  6.996   96.407603 -472.752239  11351.836283  0.715891   \n",
       "2739576  0.150 -0.700  7.021   66.997243 -341.088893  11347.308917  0.715891   \n",
       "2740096  0.150 -0.675  6.996   99.734601 -469.852881  11475.801077  0.691466   \n",
       "2740097  0.150 -0.675  7.021   73.640047 -357.231036  11466.469056  0.691466   \n",
       "2790112  0.175 -0.700  6.996  112.189233 -469.030206  11318.778439  0.721543   \n",
       "2790113  0.175 -0.700  7.021   77.059626 -333.451222  11315.505317  0.721543   \n",
       "2790633  0.175 -0.675  6.996  116.085160 -466.478112  11446.457588  0.697316   \n",
       "2790634  0.175 -0.675  7.021   84.896775 -350.428549  11438.276190  0.697316   \n",
       "\n",
       "              Phi      Bphi          Br  \n",
       "2739575 -1.359703 -4.787759  482.458478  \n",
       "2739576 -1.359703 -5.957979  347.555415  \n",
       "2740096 -1.352127 -4.565774  480.299775  \n",
       "2740097 -1.352127 -5.607831  364.699084  \n",
       "2790112 -1.325818 -4.916991  482.236023  \n",
       "2790113 -1.325818 -6.114982  342.184907  \n",
       "2790633 -1.317122 -4.698279  480.682347  \n",
       "2790634 -1.317122 -5.764490  360.519627  "
      ]
     },
     "execution_count": 103,
     "metadata": {},
     "output_type": "execute_result"
    }
   ],
   "source": [
    "df_cube"
   ]
  },
  {
   "cell_type": "markdown",
   "metadata": {},
   "source": [
    "This is just the format we need to run the griddata command, (and hopefully the trilinear interpolation too!).\n",
    "Let's gather these steps into a function to see where we're at for timing."
   ]
  },
  {
   "cell_type": "code",
   "execution_count": 111,
   "metadata": {},
   "outputs": [],
   "source": [
    "xs = df.X.unique()\n",
    "ys = df.Y.unique()\n",
    "zs = df.Z.unique()\n",
    "\n",
    "dx = xs[1]-xs[0]\n",
    "dy = ys[1]-ys[0]\n",
    "dz = zs[1]-zs[0]\n",
    "\n",
    "lx = len(xs)\n",
    "ly = len(ys)\n",
    "lz = len(zs)\n",
    "\n",
    "def get_cube(x,y,z):\n",
    "    a_x, a_y, a_z = len(xs[xs <= x]) - 1, len(ys[ys <= y]) - 1, len(zs[zs <= z]) - 1\n",
    "    corner_a = (ly * lz) * a_x + (lz) * a_y + a_z\n",
    "    corner_b = corner_a + lz\n",
    "    corner_c = corner_a + ly * lz\n",
    "    corner_d = corner_a + ly * lz + lz\n",
    "    index_list = [corner_a,corner_a+1,corner_b,corner_b+1,\n",
    "                  corner_c,corner_c+1,corner_d,corner_d+1]\n",
    "    return df.iloc[index_list]"
   ]
  },
  {
   "cell_type": "code",
   "execution_count": 115,
   "metadata": {},
   "outputs": [
    {
     "data": {
      "text/html": [
       "<div>\n",
       "<style scoped>\n",
       "    .dataframe tbody tr th:only-of-type {\n",
       "        vertical-align: middle;\n",
       "    }\n",
       "\n",
       "    .dataframe tbody tr th {\n",
       "        vertical-align: top;\n",
       "    }\n",
       "\n",
       "    .dataframe thead th {\n",
       "        text-align: right;\n",
       "    }\n",
       "</style>\n",
       "<table border=\"1\" class=\"dataframe\">\n",
       "  <thead>\n",
       "    <tr style=\"text-align: right;\">\n",
       "      <th></th>\n",
       "      <th>X</th>\n",
       "      <th>Y</th>\n",
       "      <th>Z</th>\n",
       "      <th>Bx</th>\n",
       "      <th>By</th>\n",
       "      <th>Bz</th>\n",
       "      <th>R</th>\n",
       "      <th>Phi</th>\n",
       "      <th>Bphi</th>\n",
       "      <th>Br</th>\n",
       "    </tr>\n",
       "  </thead>\n",
       "  <tbody>\n",
       "    <tr>\n",
       "      <th>4493221</th>\n",
       "      <td>1.000</td>\n",
       "      <td>1.000</td>\n",
       "      <td>5.996</td>\n",
       "      <td>803.117989</td>\n",
       "      <td>808.375168</td>\n",
       "      <td>-421.964785</td>\n",
       "      <td>1.414214</td>\n",
       "      <td>0.785398</td>\n",
       "      <td>3.717387</td>\n",
       "      <td>1139.497739</td>\n",
       "    </tr>\n",
       "    <tr>\n",
       "      <th>4493222</th>\n",
       "      <td>1.000</td>\n",
       "      <td>1.000</td>\n",
       "      <td>6.021</td>\n",
       "      <td>814.317279</td>\n",
       "      <td>819.308683</td>\n",
       "      <td>-354.092045</td>\n",
       "      <td>1.414214</td>\n",
       "      <td>0.785398</td>\n",
       "      <td>3.529455</td>\n",
       "      <td>1155.147996</td>\n",
       "    </tr>\n",
       "    <tr>\n",
       "      <th>4493742</th>\n",
       "      <td>1.000</td>\n",
       "      <td>1.025</td>\n",
       "      <td>5.996</td>\n",
       "      <td>752.897610</td>\n",
       "      <td>777.774796</td>\n",
       "      <td>-407.541777</td>\n",
       "      <td>1.432000</td>\n",
       "      <td>0.797743</td>\n",
       "      <td>4.228174</td>\n",
       "      <td>1082.483518</td>\n",
       "    </tr>\n",
       "    <tr>\n",
       "      <th>4493743</th>\n",
       "      <td>1.000</td>\n",
       "      <td>1.025</td>\n",
       "      <td>6.021</td>\n",
       "      <td>761.765729</td>\n",
       "      <td>786.623548</td>\n",
       "      <td>-348.430264</td>\n",
       "      <td>1.432000</td>\n",
       "      <td>0.797743</td>\n",
       "      <td>4.059828</td>\n",
       "      <td>1095.010114</td>\n",
       "    </tr>\n",
       "    <tr>\n",
       "      <th>4543758</th>\n",
       "      <td>1.025</td>\n",
       "      <td>1.000</td>\n",
       "      <td>5.996</td>\n",
       "      <td>771.438167</td>\n",
       "      <td>758.391541</td>\n",
       "      <td>-407.791397</td>\n",
       "      <td>1.432000</td>\n",
       "      <td>0.773053</td>\n",
       "      <td>4.129302</td>\n",
       "      <td>1081.784416</td>\n",
       "    </tr>\n",
       "    <tr>\n",
       "      <th>4543759</th>\n",
       "      <td>1.025</td>\n",
       "      <td>1.000</td>\n",
       "      <td>6.021</td>\n",
       "      <td>780.510716</td>\n",
       "      <td>767.012055</td>\n",
       "      <td>-348.713291</td>\n",
       "      <td>1.432000</td>\n",
       "      <td>0.773053</td>\n",
       "      <td>3.964133</td>\n",
       "      <td>1094.298294</td>\n",
       "    </tr>\n",
       "    <tr>\n",
       "      <th>4544279</th>\n",
       "      <td>1.025</td>\n",
       "      <td>1.025</td>\n",
       "      <td>5.996</td>\n",
       "      <td>726.232899</td>\n",
       "      <td>732.721952</td>\n",
       "      <td>-396.167319</td>\n",
       "      <td>1.449569</td>\n",
       "      <td>0.785398</td>\n",
       "      <td>4.588453</td>\n",
       "      <td>1031.636869</td>\n",
       "    </tr>\n",
       "    <tr>\n",
       "      <th>4544280</th>\n",
       "      <td>1.025</td>\n",
       "      <td>1.025</td>\n",
       "      <td>6.021</td>\n",
       "      <td>733.422256</td>\n",
       "      <td>739.699079</td>\n",
       "      <td>-344.411626</td>\n",
       "      <td>1.449569</td>\n",
       "      <td>0.785398</td>\n",
       "      <td>4.438384</td>\n",
       "      <td>1041.654085</td>\n",
       "    </tr>\n",
       "  </tbody>\n",
       "</table>\n",
       "</div>"
      ],
      "text/plain": [
       "             X      Y      Z          Bx          By          Bz         R  \\\n",
       "4493221  1.000  1.000  5.996  803.117989  808.375168 -421.964785  1.414214   \n",
       "4493222  1.000  1.000  6.021  814.317279  819.308683 -354.092045  1.414214   \n",
       "4493742  1.000  1.025  5.996  752.897610  777.774796 -407.541777  1.432000   \n",
       "4493743  1.000  1.025  6.021  761.765729  786.623548 -348.430264  1.432000   \n",
       "4543758  1.025  1.000  5.996  771.438167  758.391541 -407.791397  1.432000   \n",
       "4543759  1.025  1.000  6.021  780.510716  767.012055 -348.713291  1.432000   \n",
       "4544279  1.025  1.025  5.996  726.232899  732.721952 -396.167319  1.449569   \n",
       "4544280  1.025  1.025  6.021  733.422256  739.699079 -344.411626  1.449569   \n",
       "\n",
       "              Phi      Bphi           Br  \n",
       "4493221  0.785398  3.717387  1139.497739  \n",
       "4493222  0.785398  3.529455  1155.147996  \n",
       "4493742  0.797743  4.228174  1082.483518  \n",
       "4493743  0.797743  4.059828  1095.010114  \n",
       "4543758  0.773053  4.129302  1081.784416  \n",
       "4543759  0.773053  3.964133  1094.298294  \n",
       "4544279  0.785398  4.588453  1031.636869  \n",
       "4544280  0.785398  4.438384  1041.654085  "
      ]
     },
     "execution_count": 115,
     "metadata": {},
     "output_type": "execute_result"
    }
   ],
   "source": [
    "get_cube(1,1,6)"
   ]
  },
  {
   "cell_type": "code",
   "execution_count": 114,
   "metadata": {
    "scrolled": true
   },
   "outputs": [
    {
     "name": "stdout",
     "output_type": "stream",
     "text": [
      "161 µs ± 2.87 µs per loop (mean ± std. dev. of 7 runs, 10000 loops each)\n"
     ]
    }
   ],
   "source": [
    "%timeit get_cube(1,1,6)"
   ]
  },
  {
   "cell_type": "code",
   "execution_count": 116,
   "metadata": {},
   "outputs": [],
   "source": [
    "test_cube = get_cube(0.3,0.7,6.)"
   ]
  },
  {
   "cell_type": "code",
   "execution_count": 121,
   "metadata": {},
   "outputs": [
    {
     "data": {
      "text/html": [
       "<div>\n",
       "<style scoped>\n",
       "    .dataframe tbody tr th:only-of-type {\n",
       "        vertical-align: middle;\n",
       "    }\n",
       "\n",
       "    .dataframe tbody tr th {\n",
       "        vertical-align: top;\n",
       "    }\n",
       "\n",
       "    .dataframe thead th {\n",
       "        text-align: right;\n",
       "    }\n",
       "</style>\n",
       "<table border=\"1\" class=\"dataframe\">\n",
       "  <thead>\n",
       "    <tr style=\"text-align: right;\">\n",
       "      <th></th>\n",
       "      <th>X</th>\n",
       "      <th>Y</th>\n",
       "      <th>Z</th>\n",
       "      <th>Bx</th>\n",
       "      <th>By</th>\n",
       "      <th>Bz</th>\n",
       "      <th>R</th>\n",
       "      <th>Phi</th>\n",
       "      <th>Bphi</th>\n",
       "      <th>Br</th>\n",
       "    </tr>\n",
       "  </thead>\n",
       "  <tbody>\n",
       "    <tr>\n",
       "      <th>3071933</th>\n",
       "      <td>0.300</td>\n",
       "      <td>0.700</td>\n",
       "      <td>5.996</td>\n",
       "      <td>606.750687</td>\n",
       "      <td>1387.768884</td>\n",
       "      <td>14689.461393</td>\n",
       "      <td>0.761577</td>\n",
       "      <td>1.165905</td>\n",
       "      <td>-11.022933</td>\n",
       "      <td>1514.571678</td>\n",
       "    </tr>\n",
       "    <tr>\n",
       "      <th>3071934</th>\n",
       "      <td>0.300</td>\n",
       "      <td>0.700</td>\n",
       "      <td>6.021</td>\n",
       "      <td>621.542007</td>\n",
       "      <td>1420.865136</td>\n",
       "      <td>14491.907756</td>\n",
       "      <td>0.761577</td>\n",
       "      <td>1.165905</td>\n",
       "      <td>-11.581049</td>\n",
       "      <td>1550.818520</td>\n",
       "    </tr>\n",
       "    <tr>\n",
       "      <th>3072454</th>\n",
       "      <td>0.300</td>\n",
       "      <td>0.725</td>\n",
       "      <td>5.996</td>\n",
       "      <td>644.054087</td>\n",
       "      <td>1524.945714</td>\n",
       "      <td>14741.128184</td>\n",
       "      <td>0.784618</td>\n",
       "      <td>1.178456</td>\n",
       "      <td>-12.051089</td>\n",
       "      <td>1655.330743</td>\n",
       "    </tr>\n",
       "    <tr>\n",
       "      <th>3072455</th>\n",
       "      <td>0.300</td>\n",
       "      <td>0.725</td>\n",
       "      <td>6.021</td>\n",
       "      <td>662.761117</td>\n",
       "      <td>1568.378528</td>\n",
       "      <td>14515.159227</td>\n",
       "      <td>0.784618</td>\n",
       "      <td>1.178456</td>\n",
       "      <td>-12.730086</td>\n",
       "      <td>1702.616060</td>\n",
       "    </tr>\n",
       "    <tr>\n",
       "      <th>3122470</th>\n",
       "      <td>0.325</td>\n",
       "      <td>0.700</td>\n",
       "      <td>5.996</td>\n",
       "      <td>673.386331</td>\n",
       "      <td>1424.128368</td>\n",
       "      <td>14711.884665</td>\n",
       "      <td>0.771767</td>\n",
       "      <td>1.136126</td>\n",
       "      <td>-11.050883</td>\n",
       "      <td>1575.267798</td>\n",
       "    </tr>\n",
       "    <tr>\n",
       "      <th>3122471</th>\n",
       "      <td>0.325</td>\n",
       "      <td>0.700</td>\n",
       "      <td>6.021</td>\n",
       "      <td>691.174252</td>\n",
       "      <td>1461.007069</td>\n",
       "      <td>14502.099405</td>\n",
       "      <td>0.771767</td>\n",
       "      <td>1.136126</td>\n",
       "      <td>-11.654649</td>\n",
       "      <td>1616.207806</td>\n",
       "    </tr>\n",
       "    <tr>\n",
       "      <th>3122991</th>\n",
       "      <td>0.325</td>\n",
       "      <td>0.725</td>\n",
       "      <td>5.996</td>\n",
       "      <td>716.389323</td>\n",
       "      <td>1568.364912</td>\n",
       "      <td>14768.911133</td>\n",
       "      <td>0.794512</td>\n",
       "      <td>1.149377</td>\n",
       "      <td>-12.163010</td>\n",
       "      <td>1724.190889</td>\n",
       "    </tr>\n",
       "    <tr>\n",
       "      <th>3122992</th>\n",
       "      <td>0.325</td>\n",
       "      <td>0.725</td>\n",
       "      <td>6.021</td>\n",
       "      <td>738.785185</td>\n",
       "      <td>1616.527557</td>\n",
       "      <td>14528.472062</td>\n",
       "      <td>0.794512</td>\n",
       "      <td>1.149377</td>\n",
       "      <td>-12.898228</td>\n",
       "      <td>1777.300911</td>\n",
       "    </tr>\n",
       "  </tbody>\n",
       "</table>\n",
       "</div>"
      ],
      "text/plain": [
       "             X      Y      Z          Bx           By            Bz         R  \\\n",
       "3071933  0.300  0.700  5.996  606.750687  1387.768884  14689.461393  0.761577   \n",
       "3071934  0.300  0.700  6.021  621.542007  1420.865136  14491.907756  0.761577   \n",
       "3072454  0.300  0.725  5.996  644.054087  1524.945714  14741.128184  0.784618   \n",
       "3072455  0.300  0.725  6.021  662.761117  1568.378528  14515.159227  0.784618   \n",
       "3122470  0.325  0.700  5.996  673.386331  1424.128368  14711.884665  0.771767   \n",
       "3122471  0.325  0.700  6.021  691.174252  1461.007069  14502.099405  0.771767   \n",
       "3122991  0.325  0.725  5.996  716.389323  1568.364912  14768.911133  0.794512   \n",
       "3122992  0.325  0.725  6.021  738.785185  1616.527557  14528.472062  0.794512   \n",
       "\n",
       "              Phi       Bphi           Br  \n",
       "3071933  1.165905 -11.022933  1514.571678  \n",
       "3071934  1.165905 -11.581049  1550.818520  \n",
       "3072454  1.178456 -12.051089  1655.330743  \n",
       "3072455  1.178456 -12.730086  1702.616060  \n",
       "3122470  1.136126 -11.050883  1575.267798  \n",
       "3122471  1.136126 -11.654649  1616.207806  \n",
       "3122991  1.149377 -12.163010  1724.190889  \n",
       "3122992  1.149377 -12.898228  1777.300911  "
      ]
     },
     "execution_count": 121,
     "metadata": {},
     "output_type": "execute_result"
    }
   ],
   "source": [
    "test_cube"
   ]
  },
  {
   "cell_type": "code",
   "execution_count": 118,
   "metadata": {},
   "outputs": [],
   "source": [
    "from scipy.interpolate import griddata"
   ]
  },
  {
   "cell_type": "code",
   "execution_count": 119,
   "metadata": {},
   "outputs": [],
   "source": [
    "bx = griddata((test_cube.X.values,test_cube.Y.values,test_cube.Z.values),test_cube.Bx.values, (0.3,0.7,6.), method='linear')"
   ]
  },
  {
   "cell_type": "code",
   "execution_count": 120,
   "metadata": {},
   "outputs": [
    {
     "data": {
      "text/plain": [
       "array(609.11729831)"
      ]
     },
     "execution_count": 120,
     "metadata": {},
     "output_type": "execute_result"
    }
   ],
   "source": [
    "bx"
   ]
  },
  {
   "cell_type": "code",
   "execution_count": 122,
   "metadata": {},
   "outputs": [
    {
     "name": "stdout",
     "output_type": "stream",
     "text": [
      "266 µs ± 4.48 µs per loop (mean ± std. dev. of 7 runs, 1000 loops each)\n"
     ]
    }
   ],
   "source": [
    "%timeit bx = griddata((test_cube.X.values,test_cube.Y.values,test_cube.Z.values),test_cube.Bx.values, (0.3,0.7,6.), method='linear')"
   ]
  },
  {
   "cell_type": "code",
   "execution_count": 124,
   "metadata": {},
   "outputs": [],
   "source": [
    "xvs = test_cube.X.values\n",
    "yvs = test_cube.Y.values\n",
    "zvs = test_cube.Z.values"
   ]
  },
  {
   "cell_type": "code",
   "execution_count": 127,
   "metadata": {},
   "outputs": [],
   "source": [
    "bxs = test_cube.Bx.values"
   ]
  },
  {
   "cell_type": "code",
   "execution_count": 130,
   "metadata": {},
   "outputs": [
    {
     "data": {
      "text/plain": [
       "(13.828397663404894, 31.93655140762153, 14532.908168464091)"
      ]
     },
     "execution_count": 130,
     "metadata": {},
     "output_type": "execute_result"
    }
   ],
   "source": [
    "mag_field_func(0.3,0.7,6.)"
   ]
  },
  {
   "cell_type": "code",
   "execution_count": 129,
   "metadata": {},
   "outputs": [
    {
     "name": "stdout",
     "output_type": "stream",
     "text": [
      "231 µs ± 3.55 µs per loop (mean ± std. dev. of 7 runs, 1000 loops each)\n"
     ]
    }
   ],
   "source": [
    "%timeit bx = griddata((xvs,yvs,zvs),bxs, (0.3,0.7,6.), method='linear')"
   ]
  },
  {
   "cell_type": "code",
   "execution_count": 126,
   "metadata": {},
   "outputs": [
    {
     "name": "stdout",
     "output_type": "stream",
     "text": [
      "249 µs ± 4.18 µs per loop (mean ± std. dev. of 7 runs, 1000 loops each)\n"
     ]
    }
   ],
   "source": [
    "%timeit bx = griddata((xvs,yvs,zvs),test_cube.Bx.values, (0.3,0.7,6.), method='linear')"
   ]
  },
  {
   "cell_type": "code",
   "execution_count": 162,
   "metadata": {},
   "outputs": [],
   "source": [
    "xs = df.X.unique()\n",
    "ys = df.Y.unique()\n",
    "zs = df.Z.unique()\n",
    "\n",
    "dx = xs[1]-xs[0]\n",
    "dy = ys[1]-ys[0]\n",
    "dz = zs[1]-zs[0]\n",
    "\n",
    "lx = len(xs)\n",
    "ly = len(ys)\n",
    "lz = len(zs)\n",
    "\n",
    "def get_cube(x,y,z):\n",
    "    a_x, a_y, a_z = len(xs[xs <= x]) - 1, len(ys[ys <= y]) - 1, len(zs[zs <= z]) - 1\n",
    "    corner_a = (ly * lz) * a_x + (lz) * a_y + a_z\n",
    "    corner_b = corner_a + lz\n",
    "    corner_c = corner_a + ly * lz\n",
    "    corner_d = corner_a + ly * lz + lz\n",
    "    index_list = [corner_a,corner_a+1,corner_b,corner_b+1,\n",
    "                  corner_c,corner_c+1,corner_d,corner_d+1]\n",
    "    return df.iloc[index_list]"
   ]
  },
  {
   "cell_type": "code",
   "execution_count": 163,
   "metadata": {},
   "outputs": [],
   "source": [
    "def ds_interp(x,y,z,method=\"linear\"):\n",
    "    cube = get_cube(x,y,z)\n",
    "    xs = cube.X.values\n",
    "    ys = cube.Y.values\n",
    "    zs = cube.Z.values\n",
    "    bx = griddata((xs,ys,zs),test_cube.Bx.values, (x,y,z), method=method).item()\n",
    "    by = griddata((xs,ys,zs),test_cube.By.values, (x,y,z), method=method).item()\n",
    "    bz = griddata((xs,ys,zs),test_cube.Bz.values, (x,y,z), method=method).item()\n",
    "    return bx,by,bz"
   ]
  },
  {
   "cell_type": "code",
   "execution_count": 136,
   "metadata": {},
   "outputs": [
    {
     "data": {
      "text/plain": [
       "(609.1172983136797, 1393.0642843639996, 14657.852810748002)"
      ]
     },
     "execution_count": 136,
     "metadata": {},
     "output_type": "execute_result"
    }
   ],
   "source": [
    "ds_interp(.3,.7,6.)"
   ]
  },
  {
   "cell_type": "code",
   "execution_count": 137,
   "metadata": {},
   "outputs": [
    {
     "name": "stdout",
     "output_type": "stream",
     "text": [
      "1.13 ms ± 19.7 µs per loop (mean ± std. dev. of 7 runs, 1000 loops each)\n"
     ]
    }
   ],
   "source": [
    "%timeit ds_interp(.3,.7,6.)"
   ]
  },
  {
   "cell_type": "code",
   "execution_count": 138,
   "metadata": {},
   "outputs": [
    {
     "data": {
      "text/plain": [
       "(651.3194290775997, 1464.1326597159991, 14682.942385180002)"
      ]
     },
     "execution_count": 138,
     "metadata": {},
     "output_type": "execute_result"
    }
   ],
   "source": [
    "ds_interp(.31,.71,6.)"
   ]
  },
  {
   "cell_type": "code",
   "execution_count": 140,
   "metadata": {},
   "outputs": [
    {
     "name": "stdout",
     "output_type": "stream",
     "text": [
      "1.1 ms ± 6.42 µs per loop (mean ± std. dev. of 7 runs, 1000 loops each)\n"
     ]
    }
   ],
   "source": [
    "%timeit ds_interp(.31,.71,6.)"
   ]
  },
  {
   "cell_type": "markdown",
   "metadata": {},
   "source": [
    "- So, this is the best timing so far for getting a magnetic field at an arbitrary point. Also it does not really on a potentially questionable field map.\n",
    "- **Idea for Offline once field is measured:** Model measured points on a dense grid (25 mm, 10mm, 1mm?? Can be a long job...it only needs to run one time! Will likely depend on what doesn't slow down interpolation), then use dense grid as input for interpolation.\n",
    "- **Brian's Idea:** Write a nice speedy field calculation function, use that for Geant (is this possible?)\n",
    "    - Will definitely need to discuss this with Offline experts to see implementation and if it's possible / worthwhile."
   ]
  },
  {
   "cell_type": "code",
   "execution_count": 134,
   "metadata": {},
   "outputs": [
    {
     "data": {
      "text/html": [
       "<div>\n",
       "<style scoped>\n",
       "    .dataframe tbody tr th:only-of-type {\n",
       "        vertical-align: middle;\n",
       "    }\n",
       "\n",
       "    .dataframe tbody tr th {\n",
       "        vertical-align: top;\n",
       "    }\n",
       "\n",
       "    .dataframe thead th {\n",
       "        text-align: right;\n",
       "    }\n",
       "</style>\n",
       "<table border=\"1\" class=\"dataframe\">\n",
       "  <thead>\n",
       "    <tr style=\"text-align: right;\">\n",
       "      <th></th>\n",
       "      <th>X</th>\n",
       "      <th>Y</th>\n",
       "      <th>Z</th>\n",
       "      <th>Bx</th>\n",
       "      <th>By</th>\n",
       "      <th>Bz</th>\n",
       "      <th>R</th>\n",
       "      <th>Phi</th>\n",
       "      <th>Bphi</th>\n",
       "      <th>Br</th>\n",
       "    </tr>\n",
       "  </thead>\n",
       "  <tbody>\n",
       "    <tr>\n",
       "      <th>3071933</th>\n",
       "      <td>0.300</td>\n",
       "      <td>0.700</td>\n",
       "      <td>5.996</td>\n",
       "      <td>606.750687</td>\n",
       "      <td>1387.768884</td>\n",
       "      <td>14689.461393</td>\n",
       "      <td>0.761577</td>\n",
       "      <td>1.165905</td>\n",
       "      <td>-11.022933</td>\n",
       "      <td>1514.571678</td>\n",
       "    </tr>\n",
       "    <tr>\n",
       "      <th>3071934</th>\n",
       "      <td>0.300</td>\n",
       "      <td>0.700</td>\n",
       "      <td>6.021</td>\n",
       "      <td>621.542007</td>\n",
       "      <td>1420.865136</td>\n",
       "      <td>14491.907756</td>\n",
       "      <td>0.761577</td>\n",
       "      <td>1.165905</td>\n",
       "      <td>-11.581049</td>\n",
       "      <td>1550.818520</td>\n",
       "    </tr>\n",
       "    <tr>\n",
       "      <th>3072454</th>\n",
       "      <td>0.300</td>\n",
       "      <td>0.725</td>\n",
       "      <td>5.996</td>\n",
       "      <td>644.054087</td>\n",
       "      <td>1524.945714</td>\n",
       "      <td>14741.128184</td>\n",
       "      <td>0.784618</td>\n",
       "      <td>1.178456</td>\n",
       "      <td>-12.051089</td>\n",
       "      <td>1655.330743</td>\n",
       "    </tr>\n",
       "    <tr>\n",
       "      <th>3072455</th>\n",
       "      <td>0.300</td>\n",
       "      <td>0.725</td>\n",
       "      <td>6.021</td>\n",
       "      <td>662.761117</td>\n",
       "      <td>1568.378528</td>\n",
       "      <td>14515.159227</td>\n",
       "      <td>0.784618</td>\n",
       "      <td>1.178456</td>\n",
       "      <td>-12.730086</td>\n",
       "      <td>1702.616060</td>\n",
       "    </tr>\n",
       "    <tr>\n",
       "      <th>3122470</th>\n",
       "      <td>0.325</td>\n",
       "      <td>0.700</td>\n",
       "      <td>5.996</td>\n",
       "      <td>673.386331</td>\n",
       "      <td>1424.128368</td>\n",
       "      <td>14711.884665</td>\n",
       "      <td>0.771767</td>\n",
       "      <td>1.136126</td>\n",
       "      <td>-11.050883</td>\n",
       "      <td>1575.267798</td>\n",
       "    </tr>\n",
       "    <tr>\n",
       "      <th>3122471</th>\n",
       "      <td>0.325</td>\n",
       "      <td>0.700</td>\n",
       "      <td>6.021</td>\n",
       "      <td>691.174252</td>\n",
       "      <td>1461.007069</td>\n",
       "      <td>14502.099405</td>\n",
       "      <td>0.771767</td>\n",
       "      <td>1.136126</td>\n",
       "      <td>-11.654649</td>\n",
       "      <td>1616.207806</td>\n",
       "    </tr>\n",
       "    <tr>\n",
       "      <th>3122991</th>\n",
       "      <td>0.325</td>\n",
       "      <td>0.725</td>\n",
       "      <td>5.996</td>\n",
       "      <td>716.389323</td>\n",
       "      <td>1568.364912</td>\n",
       "      <td>14768.911133</td>\n",
       "      <td>0.794512</td>\n",
       "      <td>1.149377</td>\n",
       "      <td>-12.163010</td>\n",
       "      <td>1724.190889</td>\n",
       "    </tr>\n",
       "    <tr>\n",
       "      <th>3122992</th>\n",
       "      <td>0.325</td>\n",
       "      <td>0.725</td>\n",
       "      <td>6.021</td>\n",
       "      <td>738.785185</td>\n",
       "      <td>1616.527557</td>\n",
       "      <td>14528.472062</td>\n",
       "      <td>0.794512</td>\n",
       "      <td>1.149377</td>\n",
       "      <td>-12.898228</td>\n",
       "      <td>1777.300911</td>\n",
       "    </tr>\n",
       "  </tbody>\n",
       "</table>\n",
       "</div>"
      ],
      "text/plain": [
       "             X      Y      Z          Bx           By            Bz         R  \\\n",
       "3071933  0.300  0.700  5.996  606.750687  1387.768884  14689.461393  0.761577   \n",
       "3071934  0.300  0.700  6.021  621.542007  1420.865136  14491.907756  0.761577   \n",
       "3072454  0.300  0.725  5.996  644.054087  1524.945714  14741.128184  0.784618   \n",
       "3072455  0.300  0.725  6.021  662.761117  1568.378528  14515.159227  0.784618   \n",
       "3122470  0.325  0.700  5.996  673.386331  1424.128368  14711.884665  0.771767   \n",
       "3122471  0.325  0.700  6.021  691.174252  1461.007069  14502.099405  0.771767   \n",
       "3122991  0.325  0.725  5.996  716.389323  1568.364912  14768.911133  0.794512   \n",
       "3122992  0.325  0.725  6.021  738.785185  1616.527557  14528.472062  0.794512   \n",
       "\n",
       "              Phi       Bphi           Br  \n",
       "3071933  1.165905 -11.022933  1514.571678  \n",
       "3071934  1.165905 -11.581049  1550.818520  \n",
       "3072454  1.178456 -12.051089  1655.330743  \n",
       "3072455  1.178456 -12.730086  1702.616060  \n",
       "3122470  1.136126 -11.050883  1575.267798  \n",
       "3122471  1.136126 -11.654649  1616.207806  \n",
       "3122991  1.149377 -12.163010  1724.190889  \n",
       "3122992  1.149377 -12.898228  1777.300911  "
      ]
     },
     "execution_count": 134,
     "metadata": {},
     "output_type": "execute_result"
    }
   ],
   "source": [
    "test_cube"
   ]
  },
  {
   "cell_type": "code",
   "execution_count": 142,
   "metadata": {},
   "outputs": [],
   "source": [
    "%load_ext line_profiler"
   ]
  },
  {
   "cell_type": "code",
   "execution_count": 143,
   "metadata": {},
   "outputs": [],
   "source": [
    "%lprun -f ds_interp ds_interp(.31,.71,6.)"
   ]
  },
  {
   "cell_type": "code",
   "execution_count": 164,
   "metadata": {},
   "outputs": [],
   "source": [
    "%lprun -f get_cube get_cube(.31,.71,6.)"
   ]
  },
  {
   "cell_type": "markdown",
   "metadata": {},
   "source": [
    "## Interpolator Quick #1"
   ]
  },
  {
   "cell_type": "code",
   "execution_count": 172,
   "metadata": {},
   "outputs": [],
   "source": [
    "xs = df.X.unique()\n",
    "ys = df.Y.unique()\n",
    "zs = df.Z.unique()\n",
    "\n",
    "dx = xs[1]-xs[0]\n",
    "dy = ys[1]-ys[0]\n",
    "dz = zs[1]-zs[0]\n",
    "\n",
    "lx = len(xs)\n",
    "ly = len(ys)\n",
    "lz = len(zs)\n",
    "\n",
    "df_np = df[[\"X\",\"Y\",\"Z\",\"Bx\",\"By\",\"Bz\"]].values\n",
    "\n",
    "def get_cube(x,y,z):\n",
    "    a_x, a_y, a_z = len(xs[xs <= x]) - 1, len(ys[ys <= y]) - 1, len(zs[zs <= z]) - 1\n",
    "    corner_a = (ly * lz) * a_x + (lz) * a_y + a_z\n",
    "    corner_b = corner_a + lz\n",
    "    corner_c = corner_a + ly * lz\n",
    "    corner_d = corner_a + ly * lz + lz\n",
    "    index_list = [corner_a,corner_a+1,corner_b,corner_b+1,\n",
    "                  corner_c,corner_c+1,corner_d,corner_d+1]\n",
    "    return df_np[index_list]\n",
    "\n",
    "def ds_interp(x,y,z,method=\"linear\"):\n",
    "    cube = get_cube(x,y,z)\n",
    "    bx = griddata((cube[:,0],cube[:,1],cube[:,2]),cube[:,3], (x,y,z), method=method).item()\n",
    "    by = griddata((cube[:,0],cube[:,1],cube[:,2]),cube[:,4], (x,y,z), method=method).item()\n",
    "    bz = griddata((cube[:,0],cube[:,1],cube[:,2]),cube[:,5], (x,y,z), method=method).item()\n",
    "    return bx,by,bz"
   ]
  },
  {
   "cell_type": "code",
   "execution_count": 181,
   "metadata": {},
   "outputs": [],
   "source": [
    "%lprun -f ds_interp ds_interp(.31,.71,6.)"
   ]
  },
  {
   "cell_type": "code",
   "execution_count": 183,
   "metadata": {},
   "outputs": [
    {
     "name": "stdout",
     "output_type": "stream",
     "text": [
      "733 µs ± 5.47 µs per loop (mean ± std. dev. of 7 runs, 1000 loops each)\n"
     ]
    }
   ],
   "source": [
    "%timeit ds_interp(.31,.71,6.)"
   ]
  },
  {
   "cell_type": "markdown",
   "metadata": {},
   "source": [
    "- **WORKING, and fast:** Now the bottleneck is the call to griddata. Try scipy.interpolate.RegularGridInterpolator\n",
    "- Current Speed Improvement: **50x faster than past interpolator**, 3x faster than model eval"
   ]
  },
  {
   "cell_type": "markdown",
   "metadata": {},
   "source": [
    "## Test of hard code\n",
    "- replaced old \"mapinterp.py\" code with this newer, faster function\n",
    "- testing it here!"
   ]
  },
  {
   "cell_type": "code",
   "execution_count": 225,
   "metadata": {},
   "outputs": [],
   "source": [
    "from mu2e.tools.mapinterp import get_df_interp_func"
   ]
  },
  {
   "cell_type": "code",
   "execution_count": null,
   "metadata": {},
   "outputs": [],
   "source": [
    "#mau13_nearest = get_ds_interp_func(df,method='nearest')\n",
    "#mau13_interp = get_ds_interp_func(df,method='linear')"
   ]
  },
  {
   "cell_type": "code",
   "execution_count": 226,
   "metadata": {},
   "outputs": [],
   "source": [
    "mau13_nearest_fast = get_df_interp_func(df,method='nearest')\n",
    "mau13_interp_fast = get_df_interp_func(df,method='linear')"
   ]
  },
  {
   "cell_type": "code",
   "execution_count": 190,
   "metadata": {},
   "outputs": [
    {
     "name": "stdout",
     "output_type": "stream",
     "text": [
      "33.4 ms ± 2.92 ms per loop (mean ± std. dev. of 7 runs, 10 loops each)\n"
     ]
    }
   ],
   "source": [
    "%timeit mau13_interp(0.156,-.699,7.001)"
   ]
  },
  {
   "cell_type": "code",
   "execution_count": 191,
   "metadata": {},
   "outputs": [
    {
     "name": "stdout",
     "output_type": "stream",
     "text": [
      "31.2 ms ± 950 µs per loop (mean ± std. dev. of 7 runs, 10 loops each)\n"
     ]
    }
   ],
   "source": [
    "%timeit mau13_nearest(0.156,-.699,7.001)"
   ]
  },
  {
   "cell_type": "code",
   "execution_count": 192,
   "metadata": {},
   "outputs": [
    {
     "name": "stdout",
     "output_type": "stream",
     "text": [
      "737 µs ± 5.93 µs per loop (mean ± std. dev. of 7 runs, 1000 loops each)\n"
     ]
    }
   ],
   "source": [
    "%timeit mau13_interp_fast(0.156,-.699,7.001)"
   ]
  },
  {
   "cell_type": "code",
   "execution_count": 227,
   "metadata": {
    "collapsed": true
   },
   "outputs": [
    {
     "ename": "TypeError",
     "evalue": "tuple indices must be integers or slices, not tuple",
     "output_type": "error",
     "traceback": [
      "\u001b[0;31m---------------------------------------------------------------------------\u001b[0m",
      "\u001b[0;31mTypeError\u001b[0m                                 Traceback (most recent call last)",
      "\u001b[0;32m<ipython-input-227-ce44637171a2>\u001b[0m in \u001b[0;36m<module>\u001b[0;34m\u001b[0m\n\u001b[0;32m----> 1\u001b[0;31m \u001b[0mds_interp\u001b[0m\u001b[0;34m(\u001b[0m\u001b[0;36m0.156\u001b[0m\u001b[0;34m,\u001b[0m\u001b[0;34m-\u001b[0m\u001b[0;36m.699\u001b[0m\u001b[0;34m,\u001b[0m\u001b[0;36m7.001\u001b[0m\u001b[0;34m)\u001b[0m\u001b[0;34m\u001b[0m\u001b[0;34m\u001b[0m\u001b[0m\n\u001b[0m",
      "\u001b[0;32m<ipython-input-172-23bc78b1948e>\u001b[0m in \u001b[0;36mds_interp\u001b[0;34m(x, y, z, method)\u001b[0m\n\u001b[1;32m     31\u001b[0m     \u001b[0;31m#by = griddata((xs,ys,zs),cube[:,4], (x,y,z), method=method).item()\u001b[0m\u001b[0;34m\u001b[0m\u001b[0;34m\u001b[0m\u001b[0;34m\u001b[0m\u001b[0m\n\u001b[1;32m     32\u001b[0m     \u001b[0;31m#bz = griddata((xs,ys,zs),cube[:,5], (x,y,z), method=method).item()\u001b[0m\u001b[0;34m\u001b[0m\u001b[0;34m\u001b[0m\u001b[0;34m\u001b[0m\u001b[0m\n\u001b[0;32m---> 33\u001b[0;31m     \u001b[0mbx\u001b[0m \u001b[0;34m=\u001b[0m \u001b[0mgriddata\u001b[0m\u001b[0;34m(\u001b[0m\u001b[0;34m(\u001b[0m\u001b[0mcube\u001b[0m\u001b[0;34m[\u001b[0m\u001b[0;34m:\u001b[0m\u001b[0;34m,\u001b[0m\u001b[0;36m0\u001b[0m\u001b[0;34m]\u001b[0m\u001b[0;34m,\u001b[0m\u001b[0mcube\u001b[0m\u001b[0;34m[\u001b[0m\u001b[0;34m:\u001b[0m\u001b[0;34m,\u001b[0m\u001b[0;36m1\u001b[0m\u001b[0;34m]\u001b[0m\u001b[0;34m,\u001b[0m\u001b[0mcube\u001b[0m\u001b[0;34m[\u001b[0m\u001b[0;34m:\u001b[0m\u001b[0;34m,\u001b[0m\u001b[0;36m2\u001b[0m\u001b[0;34m]\u001b[0m\u001b[0;34m)\u001b[0m\u001b[0;34m,\u001b[0m\u001b[0mcube\u001b[0m\u001b[0;34m[\u001b[0m\u001b[0;34m:\u001b[0m\u001b[0;34m,\u001b[0m\u001b[0;36m3\u001b[0m\u001b[0;34m]\u001b[0m\u001b[0;34m,\u001b[0m \u001b[0;34m(\u001b[0m\u001b[0mx\u001b[0m\u001b[0;34m,\u001b[0m\u001b[0my\u001b[0m\u001b[0;34m,\u001b[0m\u001b[0mz\u001b[0m\u001b[0;34m)\u001b[0m\u001b[0;34m,\u001b[0m \u001b[0mmethod\u001b[0m\u001b[0;34m=\u001b[0m\u001b[0mmethod\u001b[0m\u001b[0;34m)\u001b[0m\u001b[0;34m.\u001b[0m\u001b[0mitem\u001b[0m\u001b[0;34m(\u001b[0m\u001b[0;34m)\u001b[0m\u001b[0;34m\u001b[0m\u001b[0;34m\u001b[0m\u001b[0m\n\u001b[0m\u001b[1;32m     34\u001b[0m     \u001b[0mby\u001b[0m \u001b[0;34m=\u001b[0m \u001b[0mgriddata\u001b[0m\u001b[0;34m(\u001b[0m\u001b[0;34m(\u001b[0m\u001b[0mcube\u001b[0m\u001b[0;34m[\u001b[0m\u001b[0;34m:\u001b[0m\u001b[0;34m,\u001b[0m\u001b[0;36m0\u001b[0m\u001b[0;34m]\u001b[0m\u001b[0;34m,\u001b[0m\u001b[0mcube\u001b[0m\u001b[0;34m[\u001b[0m\u001b[0;34m:\u001b[0m\u001b[0;34m,\u001b[0m\u001b[0;36m1\u001b[0m\u001b[0;34m]\u001b[0m\u001b[0;34m,\u001b[0m\u001b[0mcube\u001b[0m\u001b[0;34m[\u001b[0m\u001b[0;34m:\u001b[0m\u001b[0;34m,\u001b[0m\u001b[0;36m2\u001b[0m\u001b[0;34m]\u001b[0m\u001b[0;34m)\u001b[0m\u001b[0;34m,\u001b[0m\u001b[0mcube\u001b[0m\u001b[0;34m[\u001b[0m\u001b[0;34m:\u001b[0m\u001b[0;34m,\u001b[0m\u001b[0;36m4\u001b[0m\u001b[0;34m]\u001b[0m\u001b[0;34m,\u001b[0m \u001b[0;34m(\u001b[0m\u001b[0mx\u001b[0m\u001b[0;34m,\u001b[0m\u001b[0my\u001b[0m\u001b[0;34m,\u001b[0m\u001b[0mz\u001b[0m\u001b[0;34m)\u001b[0m\u001b[0;34m,\u001b[0m \u001b[0mmethod\u001b[0m\u001b[0;34m=\u001b[0m\u001b[0mmethod\u001b[0m\u001b[0;34m)\u001b[0m\u001b[0;34m.\u001b[0m\u001b[0mitem\u001b[0m\u001b[0;34m(\u001b[0m\u001b[0;34m)\u001b[0m\u001b[0;34m\u001b[0m\u001b[0;34m\u001b[0m\u001b[0m\n\u001b[1;32m     35\u001b[0m     \u001b[0mbz\u001b[0m \u001b[0;34m=\u001b[0m \u001b[0mgriddata\u001b[0m\u001b[0;34m(\u001b[0m\u001b[0;34m(\u001b[0m\u001b[0mcube\u001b[0m\u001b[0;34m[\u001b[0m\u001b[0;34m:\u001b[0m\u001b[0;34m,\u001b[0m\u001b[0;36m0\u001b[0m\u001b[0;34m]\u001b[0m\u001b[0;34m,\u001b[0m\u001b[0mcube\u001b[0m\u001b[0;34m[\u001b[0m\u001b[0;34m:\u001b[0m\u001b[0;34m,\u001b[0m\u001b[0;36m1\u001b[0m\u001b[0;34m]\u001b[0m\u001b[0;34m,\u001b[0m\u001b[0mcube\u001b[0m\u001b[0;34m[\u001b[0m\u001b[0;34m:\u001b[0m\u001b[0;34m,\u001b[0m\u001b[0;36m2\u001b[0m\u001b[0;34m]\u001b[0m\u001b[0;34m)\u001b[0m\u001b[0;34m,\u001b[0m\u001b[0mcube\u001b[0m\u001b[0;34m[\u001b[0m\u001b[0;34m:\u001b[0m\u001b[0;34m,\u001b[0m\u001b[0;36m5\u001b[0m\u001b[0;34m]\u001b[0m\u001b[0;34m,\u001b[0m \u001b[0;34m(\u001b[0m\u001b[0mx\u001b[0m\u001b[0;34m,\u001b[0m\u001b[0my\u001b[0m\u001b[0;34m,\u001b[0m\u001b[0mz\u001b[0m\u001b[0;34m)\u001b[0m\u001b[0;34m,\u001b[0m \u001b[0mmethod\u001b[0m\u001b[0;34m=\u001b[0m\u001b[0mmethod\u001b[0m\u001b[0;34m)\u001b[0m\u001b[0;34m.\u001b[0m\u001b[0mitem\u001b[0m\u001b[0;34m(\u001b[0m\u001b[0;34m)\u001b[0m\u001b[0;34m\u001b[0m\u001b[0;34m\u001b[0m\u001b[0m\n",
      "\u001b[0;31mTypeError\u001b[0m: tuple indices must be integers or slices, not tuple"
     ]
    }
   ],
   "source": [
    "ds_interp(0.156,-.699,7.001)"
   ]
  },
  {
   "cell_type": "code",
   "execution_count": 228,
   "metadata": {},
   "outputs": [
    {
     "data": {
      "text/plain": [
       "(94.57883452204001, -446.1719677802401, 11347.763332736002)"
      ]
     },
     "execution_count": 228,
     "metadata": {},
     "output_type": "execute_result"
    }
   ],
   "source": [
    "mau13_interp_fast(0.156,-.699,7.001)"
   ]
  },
  {
   "cell_type": "code",
   "execution_count": 193,
   "metadata": {},
   "outputs": [
    {
     "name": "stdout",
     "output_type": "stream",
     "text": [
      "275 µs ± 6.95 µs per loop (mean ± std. dev. of 7 runs, 1000 loops each)\n"
     ]
    }
   ],
   "source": [
    "%timeit mau13_nearest_fast(0.156,-.699,7.001)"
   ]
  },
  {
   "cell_type": "code",
   "execution_count": 195,
   "metadata": {},
   "outputs": [
    {
     "data": {
      "text/plain": [
       "(96.407603304, -472.752239114, 11351.8362832)"
      ]
     },
     "execution_count": 195,
     "metadata": {},
     "output_type": "execute_result"
    }
   ],
   "source": [
    "mau13_nearest_fast(0.156,-.699,7.001)"
   ]
  },
  {
   "cell_type": "markdown",
   "metadata": {},
   "source": [
    "It works!"
   ]
  },
  {
   "cell_type": "markdown",
   "metadata": {},
   "source": [
    "## Trilinear Interpolation Hand Code\n",
    "- See if this is quicker than the less specialized functions in scipy.interpolate.\n",
    "- First switching to testing trajectory code again."
   ]
  },
  {
   "cell_type": "code",
   "execution_count": 230,
   "metadata": {},
   "outputs": [
    {
     "data": {
      "text/html": [
       "<div>\n",
       "<style scoped>\n",
       "    .dataframe tbody tr th:only-of-type {\n",
       "        vertical-align: middle;\n",
       "    }\n",
       "\n",
       "    .dataframe tbody tr th {\n",
       "        vertical-align: top;\n",
       "    }\n",
       "\n",
       "    .dataframe thead th {\n",
       "        text-align: right;\n",
       "    }\n",
       "</style>\n",
       "<table border=\"1\" class=\"dataframe\">\n",
       "  <thead>\n",
       "    <tr style=\"text-align: right;\">\n",
       "      <th></th>\n",
       "      <th>X</th>\n",
       "      <th>Y</th>\n",
       "      <th>Z</th>\n",
       "      <th>Bx</th>\n",
       "      <th>By</th>\n",
       "      <th>Bz</th>\n",
       "      <th>R</th>\n",
       "      <th>Phi</th>\n",
       "      <th>Bphi</th>\n",
       "      <th>Br</th>\n",
       "    </tr>\n",
       "  </thead>\n",
       "  <tbody>\n",
       "    <tr>\n",
       "      <th>3071933</th>\n",
       "      <td>0.300</td>\n",
       "      <td>0.700</td>\n",
       "      <td>5.996</td>\n",
       "      <td>606.750687</td>\n",
       "      <td>1387.768884</td>\n",
       "      <td>14689.461393</td>\n",
       "      <td>0.761577</td>\n",
       "      <td>1.165905</td>\n",
       "      <td>-11.022933</td>\n",
       "      <td>1514.571678</td>\n",
       "    </tr>\n",
       "    <tr>\n",
       "      <th>3071934</th>\n",
       "      <td>0.300</td>\n",
       "      <td>0.700</td>\n",
       "      <td>6.021</td>\n",
       "      <td>621.542007</td>\n",
       "      <td>1420.865136</td>\n",
       "      <td>14491.907756</td>\n",
       "      <td>0.761577</td>\n",
       "      <td>1.165905</td>\n",
       "      <td>-11.581049</td>\n",
       "      <td>1550.818520</td>\n",
       "    </tr>\n",
       "    <tr>\n",
       "      <th>3072454</th>\n",
       "      <td>0.300</td>\n",
       "      <td>0.725</td>\n",
       "      <td>5.996</td>\n",
       "      <td>644.054087</td>\n",
       "      <td>1524.945714</td>\n",
       "      <td>14741.128184</td>\n",
       "      <td>0.784618</td>\n",
       "      <td>1.178456</td>\n",
       "      <td>-12.051089</td>\n",
       "      <td>1655.330743</td>\n",
       "    </tr>\n",
       "    <tr>\n",
       "      <th>3072455</th>\n",
       "      <td>0.300</td>\n",
       "      <td>0.725</td>\n",
       "      <td>6.021</td>\n",
       "      <td>662.761117</td>\n",
       "      <td>1568.378528</td>\n",
       "      <td>14515.159227</td>\n",
       "      <td>0.784618</td>\n",
       "      <td>1.178456</td>\n",
       "      <td>-12.730086</td>\n",
       "      <td>1702.616060</td>\n",
       "    </tr>\n",
       "    <tr>\n",
       "      <th>3122470</th>\n",
       "      <td>0.325</td>\n",
       "      <td>0.700</td>\n",
       "      <td>5.996</td>\n",
       "      <td>673.386331</td>\n",
       "      <td>1424.128368</td>\n",
       "      <td>14711.884665</td>\n",
       "      <td>0.771767</td>\n",
       "      <td>1.136126</td>\n",
       "      <td>-11.050883</td>\n",
       "      <td>1575.267798</td>\n",
       "    </tr>\n",
       "    <tr>\n",
       "      <th>3122471</th>\n",
       "      <td>0.325</td>\n",
       "      <td>0.700</td>\n",
       "      <td>6.021</td>\n",
       "      <td>691.174252</td>\n",
       "      <td>1461.007069</td>\n",
       "      <td>14502.099405</td>\n",
       "      <td>0.771767</td>\n",
       "      <td>1.136126</td>\n",
       "      <td>-11.654649</td>\n",
       "      <td>1616.207806</td>\n",
       "    </tr>\n",
       "    <tr>\n",
       "      <th>3122991</th>\n",
       "      <td>0.325</td>\n",
       "      <td>0.725</td>\n",
       "      <td>5.996</td>\n",
       "      <td>716.389323</td>\n",
       "      <td>1568.364912</td>\n",
       "      <td>14768.911133</td>\n",
       "      <td>0.794512</td>\n",
       "      <td>1.149377</td>\n",
       "      <td>-12.163010</td>\n",
       "      <td>1724.190889</td>\n",
       "    </tr>\n",
       "    <tr>\n",
       "      <th>3122992</th>\n",
       "      <td>0.325</td>\n",
       "      <td>0.725</td>\n",
       "      <td>6.021</td>\n",
       "      <td>738.785185</td>\n",
       "      <td>1616.527557</td>\n",
       "      <td>14528.472062</td>\n",
       "      <td>0.794512</td>\n",
       "      <td>1.149377</td>\n",
       "      <td>-12.898228</td>\n",
       "      <td>1777.300911</td>\n",
       "    </tr>\n",
       "  </tbody>\n",
       "</table>\n",
       "</div>"
      ],
      "text/plain": [
       "             X      Y      Z          Bx           By            Bz         R  \\\n",
       "3071933  0.300  0.700  5.996  606.750687  1387.768884  14689.461393  0.761577   \n",
       "3071934  0.300  0.700  6.021  621.542007  1420.865136  14491.907756  0.761577   \n",
       "3072454  0.300  0.725  5.996  644.054087  1524.945714  14741.128184  0.784618   \n",
       "3072455  0.300  0.725  6.021  662.761117  1568.378528  14515.159227  0.784618   \n",
       "3122470  0.325  0.700  5.996  673.386331  1424.128368  14711.884665  0.771767   \n",
       "3122471  0.325  0.700  6.021  691.174252  1461.007069  14502.099405  0.771767   \n",
       "3122991  0.325  0.725  5.996  716.389323  1568.364912  14768.911133  0.794512   \n",
       "3122992  0.325  0.725  6.021  738.785185  1616.527557  14528.472062  0.794512   \n",
       "\n",
       "              Phi       Bphi           Br  \n",
       "3071933  1.165905 -11.022933  1514.571678  \n",
       "3071934  1.165905 -11.581049  1550.818520  \n",
       "3072454  1.178456 -12.051089  1655.330743  \n",
       "3072455  1.178456 -12.730086  1702.616060  \n",
       "3122470  1.136126 -11.050883  1575.267798  \n",
       "3122471  1.136126 -11.654649  1616.207806  \n",
       "3122991  1.149377 -12.163010  1724.190889  \n",
       "3122992  1.149377 -12.898228  1777.300911  "
      ]
     },
     "execution_count": 230,
     "metadata": {},
     "output_type": "execute_result"
    }
   ],
   "source": [
    "test_cube"
   ]
  },
  {
   "cell_type": "code",
   "execution_count": 236,
   "metadata": {},
   "outputs": [],
   "source": [
    "xs = df.X.unique()\n",
    "ys = df.Y.unique()\n",
    "zs = df.Z.unique()\n",
    "\n",
    "dx = xs[1]-xs[0]\n",
    "dy = ys[1]-ys[0]\n",
    "dz = zs[1]-zs[0]\n",
    "\n",
    "lx = len(xs)\n",
    "ly = len(ys)\n",
    "lz = len(zs)\n",
    "\n",
    "df_np = df[[\"X\",\"Y\",\"Z\",\"Bx\",\"By\",\"Bz\"]].values\n",
    "\n",
    "def get_cube(x,y,z):\n",
    "    a_x, a_y, a_z = len(xs[xs <= x]) - 1, len(ys[ys <= y]) - 1, len(zs[zs <= z]) - 1\n",
    "    corner_a = (ly * lz) * a_x + (lz) * a_y + a_z\n",
    "    corner_b = corner_a + lz\n",
    "    corner_c = corner_a + ly * lz\n",
    "    corner_d = corner_a + ly * lz + lz\n",
    "    index_list = [corner_a,corner_a+1,corner_b,corner_b+1,\n",
    "                  corner_c,corner_c+1,corner_d,corner_d+1]\n",
    "    return df_np[index_list]\n",
    "\n",
    "def ck_interp(xd,yd,zd,ff):\n",
    "    c00 = ff[0,0,0]*(1 - xd) + ff[1,0,0] * xd \n",
    "    c01 = ff[0,0,1]*(1 - xd) + ff[1,0,1] * xd \n",
    "    c10 = ff[0,1,0]*(1 - xd) + ff[1,1,0] * xd \n",
    "    c11 = ff[0,1,1]*(1 - xd) + ff[1,1,1] * xd \n",
    "    \n",
    "    c0 = c00 * (1 - yd) + c10 * yd\n",
    "    c1 = c01 * (1 - yd) + c11 * yd\n",
    "    return c0 * (1 - zd) + c1 * zd\n",
    "\n",
    "def ck_interp2(x,y,z,f):\n",
    "    a0 = (f[0,0,0]*x[1]*y[1]*z[1]/((x[0]-x[1])*(y[0]-y[1])*(z[1]-z[0])) +\n",
    "          f[0,0,0]*x[1]*y[1]*z[1]/((x[0]-x[1])*(y[0]-y[1])*(z[1]-z[0])) +\n",
    "          f[0,0,0]*x[1]*y[1]*z[1]/((x[0]-x[1])*(y[0]-y[1])*(z[1]-z[0])) +\n",
    "          f[0,0,0]*x[1]*y[1]*z[1]/((x[0]-x[1])*(y[0]-y[1])*(z[1]-z[0])) +\n",
    "          f[0,0,0]*x[1]*y[1]*z[1]/((x[0]-x[1])*(y[0]-y[1])*(z[1]-z[0])) +\n",
    "          f[0,0,0]*x[1]*y[1]*z[1]/((x[0]-x[1])*(y[0]-y[1])*(z[1]-z[0]))\n",
    "    a1 = \n",
    "    a2 = \n",
    "    a3 = \n",
    "    a4 = \n",
    "    a5 =\n",
    "    a6 = \n",
    "    a7 = \n",
    "    return a0 + a1 * x + a2 * y + a3 * z + a4 * x * y + a5 * x * z + a6 * y * z + a7 * x * y * z\n",
    "\n",
    "def ds_interp_ck(x,y,z,method=1):\n",
    "    cube = get_cube(x,y,z)\n",
    "    \n",
    "    xx = np.unique(cube[:,0])\n",
    "    yy = np.unique(cube[:,1])\n",
    "    zz = np.unique(cube[:,2])\n",
    "    \n",
    "    #xx = cube[:,0].reshape((2,2,2))\n",
    "    #yy = cube[:,1].reshape((2,2,2))\n",
    "    #zz = cube[:,2].reshape((2,2,2))\n",
    "    bxs = cube[:,3].reshape((2,2,2))\n",
    "    bys = cube[:,4].reshape((2,2,2))\n",
    "    bzs = cube[:,5].reshape((2,2,2))\n",
    "    \n",
    "    if method == 1:\n",
    "        xd = (x-xx[0])/(xx[1]-xx[0])\n",
    "        yd = (y-yy[0])/(yy[1]-yy[0])\n",
    "        zd = (z-zz[0])/(zz[1]-zz[0])\n",
    "\n",
    "        bx = ck_interp(xd,yd,zd, bxs)\n",
    "        by = ck_interp(xd,yd,zd, bys)\n",
    "        bz = ck_interp(xd,yd,zd, bzs)\n",
    "    elif method == 2:\n",
    "        bx = ck_interp2(xx,yy,zz, bxs)\n",
    "        by = ck_interp2(xx,yy,zz, bys)\n",
    "        bz = ck_interp2(xx,yy,zz, bzs)\n",
    "    \n",
    "    return bx,by,bz"
   ]
  },
  {
   "cell_type": "code",
   "execution_count": 237,
   "metadata": {},
   "outputs": [
    {
     "data": {
      "text/plain": [
       "(94.20486739607203, -445.37895963504906, 11348.012744296258)"
      ]
     },
     "execution_count": 237,
     "metadata": {},
     "output_type": "execute_result"
    }
   ],
   "source": [
    "ds_interp_ck(0.156,-.699,7.001)"
   ]
  },
  {
   "cell_type": "code",
   "execution_count": 241,
   "metadata": {},
   "outputs": [
    {
     "data": {
      "text/plain": [
       "(94.57883452204001, -446.1719677802401, 11347.763332736002)"
      ]
     },
     "execution_count": 241,
     "metadata": {},
     "output_type": "execute_result"
    }
   ],
   "source": [
    "mau13_interp_fast(0.156,-.699,7.001)"
   ]
  },
  {
   "cell_type": "code",
   "execution_count": 242,
   "metadata": {},
   "outputs": [
    {
     "name": "stdout",
     "output_type": "stream",
     "text": [
      "46.8 µs ± 764 ns per loop (mean ± std. dev. of 7 runs, 10000 loops each)\n"
     ]
    }
   ],
   "source": [
    "%timeit ds_interp_ck(0.156,-.699,7.001)"
   ]
  },
  {
   "cell_type": "code",
   "execution_count": 244,
   "metadata": {},
   "outputs": [
    {
     "name": "stdout",
     "output_type": "stream",
     "text": [
      "733 µs ± 14.3 µs per loop (mean ± std. dev. of 7 runs, 1000 loops each)\n"
     ]
    }
   ],
   "source": [
    "%timeit mau13_interp_fast(0.156,-.699,7.001)"
   ]
  },
  {
   "cell_type": "markdown",
   "metadata": {},
   "source": [
    "Wow! Another x15 improvement! It's interesting that griddata is so much slower. Note that the values do not exactly agree, but are very close."
   ]
  },
  {
   "cell_type": "code",
   "execution_count": 246,
   "metadata": {},
   "outputs": [
    {
     "data": {
      "text/plain": [
       "822.6495726495727"
      ]
     },
     "execution_count": 246,
     "metadata": {},
     "output_type": "execute_result"
    }
   ],
   "source": [
    "38500 / 46.8"
   ]
  },
  {
   "cell_type": "markdown",
   "metadata": {},
   "source": [
    "**Overall speedup of x822 faster than original interp function**"
   ]
  },
  {
   "cell_type": "markdown",
   "metadata": {},
   "source": [
    "## RegularGridInterpolator Test\n",
    "- need to restructure Bx,By,Bz as 3d grids with 'ijk' indexing. i.e. bx[x,y,z]"
   ]
  },
  {
   "cell_type": "code",
   "execution_count": 187,
   "metadata": {},
   "outputs": [],
   "source": [
    "from scipy.interpolate import RegularGridInterpolator"
   ]
  },
  {
   "cell_type": "code",
   "execution_count": 202,
   "metadata": {},
   "outputs": [],
   "source": [
    "X = test_cube.X\n",
    "Bx = test_cube.Bx"
   ]
  },
  {
   "cell_type": "code",
   "execution_count": 205,
   "metadata": {},
   "outputs": [],
   "source": [
    "Bxx = Bx.values.reshape((2,2,2))"
   ]
  },
  {
   "cell_type": "code",
   "execution_count": 204,
   "metadata": {},
   "outputs": [
    {
     "data": {
      "text/plain": [
       "array([[[0.3  , 0.3  ],\n",
       "        [0.3  , 0.3  ]],\n",
       "\n",
       "       [[0.325, 0.325],\n",
       "        [0.325, 0.325]]])"
      ]
     },
     "execution_count": 204,
     "metadata": {},
     "output_type": "execute_result"
    }
   ],
   "source": [
    "X.values.reshape((2,2,2))"
   ]
  },
  {
   "cell_type": "code",
   "execution_count": 203,
   "metadata": {},
   "outputs": [
    {
     "data": {
      "text/plain": [
       "(3071933    0.300\n",
       " 3071934    0.300\n",
       " 3072454    0.300\n",
       " 3072455    0.300\n",
       " 3122470    0.325\n",
       " 3122471    0.325\n",
       " 3122991    0.325\n",
       " 3122992    0.325\n",
       " Name: X, dtype: float64, 3071933    606.750687\n",
       " 3071934    621.542007\n",
       " 3072454    644.054087\n",
       " 3072455    662.761117\n",
       " 3122470    673.386331\n",
       " 3122471    691.174252\n",
       " 3122991    716.389323\n",
       " 3122992    738.785185\n",
       " Name: Bx, dtype: float64)"
      ]
     },
     "execution_count": 203,
     "metadata": {},
     "output_type": "execute_result"
    }
   ],
   "source": [
    "X,Bx"
   ]
  },
  {
   "cell_type": "code",
   "execution_count": 206,
   "metadata": {},
   "outputs": [
    {
     "data": {
      "text/plain": [
       "array([[[606.75068713, 621.54200703],\n",
       "        [644.05408653, 662.76111671]],\n",
       "\n",
       "       [[673.38633052, 691.17425191],\n",
       "        [716.3893231 , 738.78518477]]])"
      ]
     },
     "execution_count": 206,
     "metadata": {},
     "output_type": "execute_result"
    }
   ],
   "source": [
    "Bxx"
   ]
  },
  {
   "cell_type": "code",
   "execution_count": 208,
   "metadata": {},
   "outputs": [
    {
     "data": {
      "text/plain": [
       "662.761116712"
      ]
     },
     "execution_count": 208,
     "metadata": {},
     "output_type": "execute_result"
    }
   ],
   "source": [
    "Bxx[0,1,1]"
   ]
  },
  {
   "cell_type": "code",
   "execution_count": 209,
   "metadata": {},
   "outputs": [
    {
     "data": {
      "text/html": [
       "<div>\n",
       "<style scoped>\n",
       "    .dataframe tbody tr th:only-of-type {\n",
       "        vertical-align: middle;\n",
       "    }\n",
       "\n",
       "    .dataframe tbody tr th {\n",
       "        vertical-align: top;\n",
       "    }\n",
       "\n",
       "    .dataframe thead th {\n",
       "        text-align: right;\n",
       "    }\n",
       "</style>\n",
       "<table border=\"1\" class=\"dataframe\">\n",
       "  <thead>\n",
       "    <tr style=\"text-align: right;\">\n",
       "      <th></th>\n",
       "      <th>X</th>\n",
       "      <th>Y</th>\n",
       "      <th>Z</th>\n",
       "      <th>Bx</th>\n",
       "      <th>By</th>\n",
       "      <th>Bz</th>\n",
       "      <th>R</th>\n",
       "      <th>Phi</th>\n",
       "      <th>Bphi</th>\n",
       "      <th>Br</th>\n",
       "    </tr>\n",
       "  </thead>\n",
       "  <tbody>\n",
       "    <tr>\n",
       "      <th>3071933</th>\n",
       "      <td>0.300</td>\n",
       "      <td>0.700</td>\n",
       "      <td>5.996</td>\n",
       "      <td>606.750687</td>\n",
       "      <td>1387.768884</td>\n",
       "      <td>14689.461393</td>\n",
       "      <td>0.761577</td>\n",
       "      <td>1.165905</td>\n",
       "      <td>-11.022933</td>\n",
       "      <td>1514.571678</td>\n",
       "    </tr>\n",
       "    <tr>\n",
       "      <th>3071934</th>\n",
       "      <td>0.300</td>\n",
       "      <td>0.700</td>\n",
       "      <td>6.021</td>\n",
       "      <td>621.542007</td>\n",
       "      <td>1420.865136</td>\n",
       "      <td>14491.907756</td>\n",
       "      <td>0.761577</td>\n",
       "      <td>1.165905</td>\n",
       "      <td>-11.581049</td>\n",
       "      <td>1550.818520</td>\n",
       "    </tr>\n",
       "    <tr>\n",
       "      <th>3072454</th>\n",
       "      <td>0.300</td>\n",
       "      <td>0.725</td>\n",
       "      <td>5.996</td>\n",
       "      <td>644.054087</td>\n",
       "      <td>1524.945714</td>\n",
       "      <td>14741.128184</td>\n",
       "      <td>0.784618</td>\n",
       "      <td>1.178456</td>\n",
       "      <td>-12.051089</td>\n",
       "      <td>1655.330743</td>\n",
       "    </tr>\n",
       "    <tr>\n",
       "      <th>3072455</th>\n",
       "      <td>0.300</td>\n",
       "      <td>0.725</td>\n",
       "      <td>6.021</td>\n",
       "      <td>662.761117</td>\n",
       "      <td>1568.378528</td>\n",
       "      <td>14515.159227</td>\n",
       "      <td>0.784618</td>\n",
       "      <td>1.178456</td>\n",
       "      <td>-12.730086</td>\n",
       "      <td>1702.616060</td>\n",
       "    </tr>\n",
       "    <tr>\n",
       "      <th>3122470</th>\n",
       "      <td>0.325</td>\n",
       "      <td>0.700</td>\n",
       "      <td>5.996</td>\n",
       "      <td>673.386331</td>\n",
       "      <td>1424.128368</td>\n",
       "      <td>14711.884665</td>\n",
       "      <td>0.771767</td>\n",
       "      <td>1.136126</td>\n",
       "      <td>-11.050883</td>\n",
       "      <td>1575.267798</td>\n",
       "    </tr>\n",
       "    <tr>\n",
       "      <th>3122471</th>\n",
       "      <td>0.325</td>\n",
       "      <td>0.700</td>\n",
       "      <td>6.021</td>\n",
       "      <td>691.174252</td>\n",
       "      <td>1461.007069</td>\n",
       "      <td>14502.099405</td>\n",
       "      <td>0.771767</td>\n",
       "      <td>1.136126</td>\n",
       "      <td>-11.654649</td>\n",
       "      <td>1616.207806</td>\n",
       "    </tr>\n",
       "    <tr>\n",
       "      <th>3122991</th>\n",
       "      <td>0.325</td>\n",
       "      <td>0.725</td>\n",
       "      <td>5.996</td>\n",
       "      <td>716.389323</td>\n",
       "      <td>1568.364912</td>\n",
       "      <td>14768.911133</td>\n",
       "      <td>0.794512</td>\n",
       "      <td>1.149377</td>\n",
       "      <td>-12.163010</td>\n",
       "      <td>1724.190889</td>\n",
       "    </tr>\n",
       "    <tr>\n",
       "      <th>3122992</th>\n",
       "      <td>0.325</td>\n",
       "      <td>0.725</td>\n",
       "      <td>6.021</td>\n",
       "      <td>738.785185</td>\n",
       "      <td>1616.527557</td>\n",
       "      <td>14528.472062</td>\n",
       "      <td>0.794512</td>\n",
       "      <td>1.149377</td>\n",
       "      <td>-12.898228</td>\n",
       "      <td>1777.300911</td>\n",
       "    </tr>\n",
       "  </tbody>\n",
       "</table>\n",
       "</div>"
      ],
      "text/plain": [
       "             X      Y      Z          Bx           By            Bz         R  \\\n",
       "3071933  0.300  0.700  5.996  606.750687  1387.768884  14689.461393  0.761577   \n",
       "3071934  0.300  0.700  6.021  621.542007  1420.865136  14491.907756  0.761577   \n",
       "3072454  0.300  0.725  5.996  644.054087  1524.945714  14741.128184  0.784618   \n",
       "3072455  0.300  0.725  6.021  662.761117  1568.378528  14515.159227  0.784618   \n",
       "3122470  0.325  0.700  5.996  673.386331  1424.128368  14711.884665  0.771767   \n",
       "3122471  0.325  0.700  6.021  691.174252  1461.007069  14502.099405  0.771767   \n",
       "3122991  0.325  0.725  5.996  716.389323  1568.364912  14768.911133  0.794512   \n",
       "3122992  0.325  0.725  6.021  738.785185  1616.527557  14528.472062  0.794512   \n",
       "\n",
       "              Phi       Bphi           Br  \n",
       "3071933  1.165905 -11.022933  1514.571678  \n",
       "3071934  1.165905 -11.581049  1550.818520  \n",
       "3072454  1.178456 -12.051089  1655.330743  \n",
       "3072455  1.178456 -12.730086  1702.616060  \n",
       "3122470  1.136126 -11.050883  1575.267798  \n",
       "3122471  1.136126 -11.654649  1616.207806  \n",
       "3122991  1.149377 -12.163010  1724.190889  \n",
       "3122992  1.149377 -12.898228  1777.300911  "
      ]
     },
     "execution_count": 209,
     "metadata": {},
     "output_type": "execute_result"
    }
   ],
   "source": [
    "test_cube"
   ]
  },
  {
   "cell_type": "code",
   "execution_count": 218,
   "metadata": {},
   "outputs": [],
   "source": [
    "xs = df.X.unique()\n",
    "ys = df.Y.unique()\n",
    "zs = df.Z.unique()\n",
    "\n",
    "dx = xs[1]-xs[0]\n",
    "dy = ys[1]-ys[0]\n",
    "dz = zs[1]-zs[0]\n",
    "\n",
    "lx = len(xs)\n",
    "ly = len(ys)\n",
    "lz = len(zs)\n",
    "\n",
    "df_np = df[[\"X\",\"Y\",\"Z\",\"Bx\",\"By\",\"Bz\"]].values\n",
    "\n",
    "def get_cube(x,y,z):\n",
    "    a_x, a_y, a_z = len(xs[xs <= x]) - 1, len(ys[ys <= y]) - 1, len(zs[zs <= z]) - 1\n",
    "    corner_a = (ly * lz) * a_x + (lz) * a_y + a_z\n",
    "    corner_b = corner_a + lz\n",
    "    corner_c = corner_a + ly * lz\n",
    "    corner_d = corner_a + ly * lz + lz\n",
    "    index_list = [corner_a,corner_a+1,corner_b,corner_b+1,\n",
    "                  corner_c,corner_c+1,corner_d,corner_d+1]\n",
    "    return df_np[index_list], a_x, a_y, a_z\n",
    "\n",
    "def ds_interp_reg(x,y,z,method=\"linear\"):\n",
    "    cube, a_x, a_y, a_z = get_cube(x,y,z)\n",
    "    bxs = cube[:,3].reshape((2,2,2))\n",
    "    bys = cube[:,4].reshape((2,2,2))\n",
    "    bzs = cube[:,5].reshape((2,2,2))\n",
    "    \n",
    "    #print(f\"Bxs = {bxs}\")\n",
    "    #print(f\"Bys = {bys}\")\n",
    "    #print(f\"Bzs = {bzs}\")\n",
    "    \n",
    "    xss = np.array([xs[a_x],xs[a_x+1]])\n",
    "    yss = np.array([ys[a_y],ys[a_y+1]])\n",
    "    zss = np.array([zs[a_z],zs[a_z+1]])\n",
    "    \n",
    "    bx_interp = RegularGridInterpolator((xss,yss,zss), bxs)\n",
    "    by_interp = RegularGridInterpolator((xss,yss,zss), bys)\n",
    "    bz_interp = RegularGridInterpolator((xss,yss,zss), bzs)\n",
    "    \n",
    "    bx = bx_interp([x,y,z]).item()\n",
    "    by = by_interp([x,y,z]).item()\n",
    "    bz = bz_interp([x,y,z]).item()\n",
    "    \n",
    "    #bx = griddata((cube[:,0],cube[:,1],cube[:,2]),cube[:,3], (x,y,z), method=method).item()\n",
    "    #by = griddata((cube[:,0],cube[:,1],cube[:,2]),cube[:,4], (x,y,z), method=method).item()\n",
    "    #bz = griddata((cube[:,0],cube[:,1],cube[:,2]),cube[:,5], (x,y,z), method=method).item()\n",
    "    return bx,by,bz"
   ]
  },
  {
   "cell_type": "code",
   "execution_count": 219,
   "metadata": {},
   "outputs": [
    {
     "data": {
      "text/plain": [
       "(4.347280929439999, -5.188215101999999, 14532.959472028)"
      ]
     },
     "execution_count": 219,
     "metadata": {},
     "output_type": "execute_result"
    }
   ],
   "source": [
    "ds_interp_reg(0,0,6)"
   ]
  },
  {
   "cell_type": "code",
   "execution_count": 223,
   "metadata": {},
   "outputs": [
    {
     "data": {
      "text/plain": [
       "(94.57883452204001, -446.1719677802401, 11347.763332736002)"
      ]
     },
     "execution_count": 223,
     "metadata": {},
     "output_type": "execute_result"
    }
   ],
   "source": [
    "mau13_interp_fast(0.156,-.699,7.001)"
   ]
  },
  {
   "cell_type": "code",
   "execution_count": 229,
   "metadata": {},
   "outputs": [
    {
     "data": {
      "text/plain": [
       "(94.57883452204001, -446.1719677802401, 11347.763332736002)"
      ]
     },
     "execution_count": 229,
     "metadata": {},
     "output_type": "execute_result"
    }
   ],
   "source": [
    "mau13_interp_fast(0.156,-.699,7.001,True)"
   ]
  },
  {
   "cell_type": "code",
   "execution_count": 221,
   "metadata": {},
   "outputs": [
    {
     "data": {
      "text/plain": [
       "(94.20486739607202, -445.378959635049, 11348.012744296257)"
      ]
     },
     "execution_count": 221,
     "metadata": {},
     "output_type": "execute_result"
    }
   ],
   "source": [
    "ds_interp_reg(0.156,-.699,7.001)"
   ]
  },
  {
   "cell_type": "code",
   "execution_count": 222,
   "metadata": {},
   "outputs": [
    {
     "name": "stdout",
     "output_type": "stream",
     "text": [
      "767 µs ± 28 µs per loop (mean ± std. dev. of 7 runs, 1000 loops each)\n"
     ]
    }
   ],
   "source": [
    "%timeit ds_interp_reg(0.156,-.699,7.001)"
   ]
  },
  {
   "cell_type": "markdown",
   "metadata": {},
   "source": [
    "- Results vary just slightly, and this method is not any quicker."
   ]
  }
 ],
 "metadata": {
  "kernelspec": {
   "display_name": "Python [conda env:Mu2E]",
   "language": "python",
   "name": "conda-env-Mu2E-py"
  },
  "language_info": {
   "codemirror_mode": {
    "name": "ipython",
    "version": 3
   },
   "file_extension": ".py",
   "mimetype": "text/x-python",
   "name": "python",
   "nbconvert_exporter": "python",
   "pygments_lexer": "ipython3",
   "version": "3.7.3"
  }
 },
 "nbformat": 4,
 "nbformat_minor": 2
}
